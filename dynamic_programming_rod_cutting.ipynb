{
 "cells": [
  {
   "cell_type": "code",
   "execution_count": 51,
   "metadata": {},
   "outputs": [],
   "source": [
    "p = [0, 1, 5, 8, 9, 10, 17, 17, 20, 21, 23, 24, 26, 27, 27, 28, 30, 33, 36, 39, 40] # add a 0 ro match the index, for simplicity"
   ]
  },
  {
   "cell_type": "code",
   "execution_count": 22,
   "metadata": {},
   "outputs": [],
   "source": [
    "def cut_rod_recursion_1(p, n):\n",
    "    if n == 0:\n",
    "        return 0\n",
    "    else:\n",
    "        res = p[n]\n",
    "        for i in range(1, n):\n",
    "            res = max(res, cut_rod_recursion_1(p, i) + cut_rod_recursion_1(p, n-i))\n",
    "        return res"
   ]
  },
  {
   "cell_type": "code",
   "execution_count": 35,
   "metadata": {},
   "outputs": [],
   "source": [
    "def cut_rod_recursion_2(p, n):\n",
    "    if n == 0:\n",
    "        return 0\n",
    "    else:\n",
    "        res = p[n]\n",
    "        for i in range(1, n+1):\n",
    "            res = max(res, p[i]+cut_rod_recursion_2(p, n-i))\n",
    "        return res"
   ]
  },
  {
   "cell_type": "code",
   "execution_count": 46,
   "metadata": {},
   "outputs": [],
   "source": [
    "# max of optimal solution of two sub-ploblems\n",
    "def cut_rod_dp(p, n):\n",
    "    r = [0]\n",
    "    for i in range(1, n+1):\n",
    "        res = 0 # max value\n",
    "        for j in range(1, i+1):\n",
    "            res = max(res, p[j]+r[i-j])\n",
    "        r.append(res)\n",
    "    return r[n]"
   ]
  },
  {
   "cell_type": "code",
   "execution_count": 50,
   "metadata": {},
   "outputs": [],
   "source": [
    "# cutting plans: 1 cut when dividing into 2 sub-problmes\n",
    "def cut_rod_extend(p, n):\n",
    "    r = [0] # max value\n",
    "    s = [0] # max length without cutting for the segment on the left\n",
    "    for i in range(1, n+1):\n",
    "        res_r = 0\n",
    "        res_s = 0\n",
    "        for j in range(1, i+1):\n",
    "            if p[j]+r[i-j] > res_r:\n",
    "                res_r = p[j] + r[i-j]\n",
    "                res_s = j\n",
    "        r.append(res_r)\n",
    "        s.append(res_s)\n",
    "    return r, s"
   ]
  },
  {
   "cell_type": "code",
   "execution_count": 47,
   "metadata": {},
   "outputs": [],
   "source": [
    "def cut_rod_solution(p, n):\n",
    "    r, s = cut_rod_extend(p, n)\n",
    "    plan = []\n",
    "    while n > 0:\n",
    "        plan.append(s[n])\n",
    "        n -= s[n]\n",
    "    return plan"
   ]
  },
  {
   "cell_type": "code",
   "execution_count": 52,
   "metadata": {},
   "outputs": [
    {
     "data": {
      "text/plain": [
       "56"
      ]
     },
     "execution_count": 52,
     "metadata": {},
     "output_type": "execute_result"
    }
   ],
   "source": [
    "cut_rod_recursion_2(p, 20)"
   ]
  },
  {
   "cell_type": "code",
   "execution_count": 53,
   "metadata": {},
   "outputs": [
    {
     "data": {
      "text/plain": [
       "56"
      ]
     },
     "execution_count": 53,
     "metadata": {},
     "output_type": "execute_result"
    }
   ],
   "source": [
    "cut_rod_dp(p, 20)"
   ]
  },
  {
   "cell_type": "code",
   "execution_count": 54,
   "metadata": {},
   "outputs": [
    {
     "name": "stdout",
     "output_type": "stream",
     "text": [
      "[0, 1, 5, 8, 10, 13, 17, 18, 22, 25, 27, 30, 34, 35, 39, 42, 44, 47, 51, 52, 56]\n",
      "[0, 1, 2, 3, 2, 2, 6, 1, 2, 3, 2, 2, 6, 1, 2, 3, 2, 2, 6, 1, 2]\n"
     ]
    }
   ],
   "source": [
    "r, s = cut_rod_extend(p, 20)\n",
    "print(r)\n",
    "print(s)"
   ]
  },
  {
   "cell_type": "code",
   "execution_count": 55,
   "metadata": {},
   "outputs": [
    {
     "data": {
      "text/plain": [
       "[2, 6, 6, 6]"
      ]
     },
     "execution_count": 55,
     "metadata": {},
     "output_type": "execute_result"
    }
   ],
   "source": [
    "cut_rod_solution(p, 20)"
   ]
  }
 ],
 "metadata": {
  "kernelspec": {
   "display_name": "Python 3",
   "language": "python",
   "name": "python3"
  },
  "language_info": {
   "codemirror_mode": {
    "name": "ipython",
    "version": 3
   },
   "file_extension": ".py",
   "mimetype": "text/x-python",
   "name": "python",
   "nbconvert_exporter": "python",
   "pygments_lexer": "ipython3",
   "version": "3.8.3"
  }
 },
 "nbformat": 4,
 "nbformat_minor": 4
}
