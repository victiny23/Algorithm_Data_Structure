{
 "cells": [
  {
   "cell_type": "code",
   "execution_count": 7,
   "metadata": {},
   "outputs": [],
   "source": [
    "def hanoi(num, a, b, c): # move from a to c throug b\n",
    "    if num > 0:\n",
    "        hanoi(num-1, a, c, b)\n",
    "        print(\"Moving from %s to %s\" % (a, c))\n",
    "        hanoi(num-1, b, a, c)"
   ]
  },
  {
   "cell_type": "code",
   "execution_count": 9,
   "metadata": {},
   "outputs": [
    {
     "name": "stdout",
     "output_type": "stream",
     "text": [
      "Moving from A to B\n",
      "Moving from A to C\n",
      "Moving from B to C\n",
      "Moving from A to B\n",
      "Moving from C to A\n",
      "Moving from C to B\n",
      "Moving from A to B\n",
      "Moving from A to C\n",
      "Moving from B to C\n",
      "Moving from B to A\n",
      "Moving from C to A\n",
      "Moving from B to C\n",
      "Moving from A to B\n",
      "Moving from A to C\n",
      "Moving from B to C\n"
     ]
    }
   ],
   "source": [
    "hanoi(4, 'A', 'B', 'C')"
   ]
  }
 ],
 "metadata": {
  "kernelspec": {
   "display_name": "Python 3",
   "language": "python",
   "name": "python3"
  },
  "language_info": {
   "codemirror_mode": {
    "name": "ipython",
    "version": 3
   },
   "file_extension": ".py",
   "mimetype": "text/x-python",
   "name": "python",
   "nbconvert_exporter": "python",
   "pygments_lexer": "ipython3",
   "version": "3.8.3"
  }
 },
 "nbformat": 4,
 "nbformat_minor": 4
}
