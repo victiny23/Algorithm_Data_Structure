{
 "cells": [
  {
   "cell_type": "code",
   "execution_count": null,
   "metadata": {},
   "outputs": [],
   "source": [
    "class LinkList"
   ]
  },
  {
   "cell_type": "code",
   "execution_count": 5,
   "metadata": {},
   "outputs": [],
   "source": [
    "def freqQuery(queries):\n",
    "    results = []\n",
    "    lookup = dict()\n",
    "    freqs = defaultdict(set)\n",
    "    for command, value in queries:\n",
    "        freq = lookup.get(value, 0)\n",
    "        if command == 1:\n",
    "            lookup[value] = freq + 1\n",
    "            freqs[freq].discard(value)\n",
    "            freqs[freq + 1].add(value)\n",
    "        elif command == 2:\n",
    "            lookup[value] = max(0, freq - 1)\n",
    "            freqs[freq].discard(value)\n",
    "            freqs[freq - 1].add(value)\n",
    "        elif command == 3:\n",
    "            results.append(1 if freqs[value] else 0)\n",
    "    return results "
   ]
  },
  {
   "cell_type": "code",
   "execution_count": 1,
   "metadata": {},
   "outputs": [],
   "source": [
    "def freqQuery(queries):\n",
    "    type3 = []\n",
    "    dic_num = {}\n",
    "    dic_freq = {}\n",
    "    for row in queries:\n",
    "        comm = row[0]\n",
    "        val = row[1]\n",
    "        freq = dic_num.get(val, 0)\n",
    "        if comm == 1:\n",
    "            dic_num[val] = freq + 1\n",
    "            dic_freq[freq] = dic_freq.get(freq, 0) -1         \n",
    "            dic_freq[freq+1] = dic_freq.get(freq+1, 0) + 1          \n",
    "        elif comm == 2:\n",
    "            dic_num[val] = max(0, freq-1)\n",
    "            dic_freq[freq] = dic_freq.get(freq, 0) -1    \n",
    "            dic_freq[freq-1] = dic_freq.get(freq-1, 0) + 1\n",
    "        else:\n",
    "            if val in dic_freq:\n",
    "                type3.append(1)\n",
    "            else:\n",
    "                type3.append(0)\n",
    "            \n",
    "    return type3"
   ]
  },
  {
   "cell_type": "code",
   "execution_count": 3,
   "metadata": {},
   "outputs": [],
   "source": [
    "if __name__ == '__main__':\n",
    "    fptr = open(os.environ['OUTPUT_PATH'], 'w')\n",
    "\n",
    "    q = int(input().strip())\n",
    "\n",
    "    queries = []\n",
    "\n",
    "    for _ in range(q):\n",
    "        queries.append(list(map(int, input().rstrip().split())))\n",
    "\n",
    "    ans = freqQuery(queries)"
   ]
  }
 ],
 "metadata": {
  "kernelspec": {
   "display_name": "Python 3",
   "language": "python",
   "name": "python3"
  },
  "language_info": {
   "codemirror_mode": {
    "name": "ipython",
    "version": 3
   },
   "file_extension": ".py",
   "mimetype": "text/x-python",
   "name": "python",
   "nbconvert_exporter": "python",
   "pygments_lexer": "ipython3",
   "version": "3.8.3"
  }
 },
 "nbformat": 4,
 "nbformat_minor": 4
}
