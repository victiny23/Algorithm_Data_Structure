{
 "cells": [
  {
   "cell_type": "code",
   "execution_count": 63,
   "metadata": {},
   "outputs": [],
   "source": [
    "def bubble_sort_1(list):\n",
    "    for i in range(len(list)-1): # ith round of bubble float\n",
    "        for j in range(len(list)-i-1):\n",
    "            if list[j] > list[j+1]:\n",
    "                list[j], list[j+1] = list[j+1], list[j]\n",
    "        print(list)\n",
    "    return "
   ]
  },
  {
   "cell_type": "code",
   "execution_count": 64,
   "metadata": {},
   "outputs": [],
   "source": [
    "# exit sorting if no bubble floats in a round\n",
    "def bubble_sort_2(list):\n",
    "    for i in range(len(list)-1): # ith round of bubble float\n",
    "        exchange = False\n",
    "        for j in range(len(list)-i-1):\n",
    "            if list[j] > list[j+1]:\n",
    "                list[j], list[j+1] = list[j+1], list[j]\n",
    "                exchange = True\n",
    "        print(list)\n",
    "        if not exchange:\n",
    "            return \n",
    "    return "
   ]
  },
  {
   "cell_type": "code",
   "execution_count": 65,
   "metadata": {},
   "outputs": [],
   "source": [
    "# options for order\n",
    "def bubble_sort_3(list, order='acs'):\n",
    "    for i in range(len(list)-1): # ith round of bubble float\n",
    "        exchange = False\n",
    "        for j in range(len(list)-i-1):\n",
    "            if order.lower() == 'acs':\n",
    "                if list[j] > list[j+1]:\n",
    "                    list[j], list[j+1] = list[j+1], list[j]\n",
    "                    exchange = True\n",
    "            elif order.lower() == 'desc':\n",
    "                if list[j] < list[j+1]:\n",
    "                    list[j], list[j+1] = list[j+1], list[j]\n",
    "                    exchange = True              \n",
    "        print(list)\n",
    "        if not exchange:\n",
    "            return \n",
    "    return "
   ]
  },
  {
   "cell_type": "code",
   "execution_count": 39,
   "metadata": {},
   "outputs": [
    {
     "name": "stdout",
     "output_type": "stream",
     "text": [
      "[13, 16, 1, 4, 4, 8, 10, 19, 5, 7]\n",
      "[13, 1, 4, 4, 8, 10, 16, 5, 7, 19]\n",
      "[1, 4, 4, 8, 10, 13, 5, 7, 16, 19]\n",
      "[1, 4, 4, 8, 10, 5, 7, 13, 16, 19]\n",
      "[1, 4, 4, 8, 5, 7, 10, 13, 16, 19]\n",
      "[1, 4, 4, 5, 7, 8, 10, 13, 16, 19]\n",
      "[1, 4, 4, 5, 7, 8, 10, 13, 16, 19]\n",
      "[1, 4, 4, 5, 7, 8, 10, 13, 16, 19]\n",
      "[1, 4, 4, 5, 7, 8, 10, 13, 16, 19]\n",
      "[1, 4, 4, 5, 7, 8, 10, 13, 16, 19]\n"
     ]
    },
    {
     "data": {
      "text/plain": [
       "[1, 4, 4, 5, 7, 8, 10, 13, 16, 19]"
      ]
     },
     "execution_count": 39,
     "metadata": {},
     "output_type": "execute_result"
    }
   ],
   "source": [
    "import numpy as np\n",
    "np.random.seed(0)\n",
    "la = list(np.random.randint(1, 20, 10))\n",
    "print(la)\n",
    "bubble_sort_1(la)"
   ]
  },
  {
   "cell_type": "code",
   "execution_count": 40,
   "metadata": {},
   "outputs": [
    {
     "name": "stdout",
     "output_type": "stream",
     "text": [
      "[9, 8, 7, 1, 2, 3, 4, 6]\n",
      "[8, 7, 1, 2, 3, 4, 6, 9]\n",
      "[7, 1, 2, 3, 4, 6, 8, 9]\n",
      "[1, 2, 3, 4, 6, 7, 8, 9]\n",
      "[1, 2, 3, 4, 6, 7, 8, 9]\n",
      "[1, 2, 3, 4, 6, 7, 8, 9]\n",
      "[1, 2, 3, 4, 6, 7, 8, 9]\n",
      "[1, 2, 3, 4, 6, 7, 8, 9]\n"
     ]
    },
    {
     "data": {
      "text/plain": [
       "[1, 2, 3, 4, 6, 7, 8, 9]"
      ]
     },
     "execution_count": 40,
     "metadata": {},
     "output_type": "execute_result"
    }
   ],
   "source": [
    "print(lb)\n",
    "bubble_sort_1(lb)"
   ]
  },
  {
   "cell_type": "code",
   "execution_count": 50,
   "metadata": {},
   "outputs": [
    {
     "name": "stdout",
     "output_type": "stream",
     "text": [
      "[13, 1, 4, 4, 8, 10, 16, 5, 7, 19]\n",
      "[1, 4, 4, 8, 10, 13, 5, 7, 16, 19]\n",
      "[1, 4, 4, 8, 10, 5, 7, 13, 16, 19]\n",
      "[1, 4, 4, 8, 5, 7, 10, 13, 16, 19]\n",
      "[1, 4, 4, 5, 7, 8, 10, 13, 16, 19]\n",
      "[1, 4, 4, 5, 7, 8, 10, 13, 16, 19]\n"
     ]
    },
    {
     "data": {
      "text/plain": [
       "[1, 4, 4, 5, 7, 8, 10, 13, 16, 19]"
      ]
     },
     "execution_count": 50,
     "metadata": {},
     "output_type": "execute_result"
    }
   ],
   "source": [
    "np.random.seed(0)\n",
    "la = list(np.random.randint(1, 20, 10))\n",
    "bubble_sort_2(la)"
   ]
  },
  {
   "cell_type": "code",
   "execution_count": 49,
   "metadata": {},
   "outputs": [
    {
     "name": "stdout",
     "output_type": "stream",
     "text": [
      "[9, 8, 7, 1, 2, 3, 4, 6]\n",
      "[8, 7, 1, 2, 3, 4, 6, 9]\n",
      "[7, 1, 2, 3, 4, 6, 8, 9]\n",
      "[1, 2, 3, 4, 6, 7, 8, 9]\n",
      "[1, 2, 3, 4, 6, 7, 8, 9]\n"
     ]
    },
    {
     "data": {
      "text/plain": [
       "[1, 2, 3, 4, 6, 7, 8, 9]"
      ]
     },
     "execution_count": 49,
     "metadata": {},
     "output_type": "execute_result"
    }
   ],
   "source": [
    "lb = [9, 8, 7, 1, 2, 3, 4, 6]\n",
    "print(lb)\n",
    "bubble_sort_2(lb)"
   ]
  },
  {
   "cell_type": "code",
   "execution_count": 54,
   "metadata": {},
   "outputs": [
    {
     "name": "stdout",
     "output_type": "stream",
     "text": [
      "[13, 16, 1, 4, 4, 8, 10, 19, 5, 7]\n",
      "[13, 1, 4, 4, 8, 10, 16, 5, 7, 19]\n",
      "[1, 4, 4, 8, 10, 13, 5, 7, 16, 19]\n",
      "[1, 4, 4, 8, 10, 5, 7, 13, 16, 19]\n",
      "[1, 4, 4, 8, 5, 7, 10, 13, 16, 19]\n",
      "[1, 4, 4, 5, 7, 8, 10, 13, 16, 19]\n",
      "[1, 4, 4, 5, 7, 8, 10, 13, 16, 19]\n"
     ]
    },
    {
     "data": {
      "text/plain": [
       "[1, 4, 4, 5, 7, 8, 10, 13, 16, 19]"
      ]
     },
     "execution_count": 54,
     "metadata": {},
     "output_type": "execute_result"
    }
   ],
   "source": [
    "np.random.seed(0)\n",
    "la = list(np.random.randint(1, 20, 10))\n",
    "print(la)\n",
    "bubble_sort_3(la)"
   ]
  },
  {
   "cell_type": "code",
   "execution_count": 56,
   "metadata": {},
   "outputs": [
    {
     "name": "stdout",
     "output_type": "stream",
     "text": [
      "[13, 16, 1, 4, 4, 8, 10, 19, 5, 7]\n",
      "[13, 1, 4, 4, 8, 10, 16, 5, 7, 19]\n",
      "[1, 4, 4, 8, 10, 13, 5, 7, 16, 19]\n",
      "[1, 4, 4, 8, 10, 5, 7, 13, 16, 19]\n",
      "[1, 4, 4, 8, 5, 7, 10, 13, 16, 19]\n",
      "[1, 4, 4, 5, 7, 8, 10, 13, 16, 19]\n",
      "[1, 4, 4, 5, 7, 8, 10, 13, 16, 19]\n"
     ]
    },
    {
     "data": {
      "text/plain": [
       "[1, 4, 4, 5, 7, 8, 10, 13, 16, 19]"
      ]
     },
     "execution_count": 56,
     "metadata": {},
     "output_type": "execute_result"
    }
   ],
   "source": [
    "np.random.seed(0)\n",
    "la = list(np.random.randint(1, 20, 10))\n",
    "print(la)\n",
    "bubble_sort_3(la, 'acs')"
   ]
  },
  {
   "cell_type": "code",
   "execution_count": 57,
   "metadata": {},
   "outputs": [
    {
     "name": "stdout",
     "output_type": "stream",
     "text": [
      "[13, 16, 1, 4, 4, 8, 10, 19, 5, 7]\n",
      "[16, 13, 4, 4, 8, 10, 19, 5, 7, 1]\n",
      "[16, 13, 4, 8, 10, 19, 5, 7, 4, 1]\n",
      "[16, 13, 8, 10, 19, 5, 7, 4, 4, 1]\n",
      "[16, 13, 10, 19, 8, 7, 5, 4, 4, 1]\n",
      "[16, 13, 19, 10, 8, 7, 5, 4, 4, 1]\n",
      "[16, 19, 13, 10, 8, 7, 5, 4, 4, 1]\n",
      "[19, 16, 13, 10, 8, 7, 5, 4, 4, 1]\n",
      "[19, 16, 13, 10, 8, 7, 5, 4, 4, 1]\n"
     ]
    },
    {
     "data": {
      "text/plain": [
       "[19, 16, 13, 10, 8, 7, 5, 4, 4, 1]"
      ]
     },
     "execution_count": 57,
     "metadata": {},
     "output_type": "execute_result"
    }
   ],
   "source": [
    "np.random.seed(0)\n",
    "la = list(np.random.randint(1, 20, 10))\n",
    "print(la)\n",
    "bubble_sort_3(la, 'Desc')"
   ]
  },
  {
   "cell_type": "code",
   "execution_count": 66,
   "metadata": {},
   "outputs": [
    {
     "name": "stdout",
     "output_type": "stream",
     "text": [
      "[13, 16, 1, 4, 4, 8, 10, 19, 5, 7]\n",
      "[16, 13, 4, 4, 8, 10, 19, 5, 7, 1]\n",
      "[16, 13, 4, 8, 10, 19, 5, 7, 4, 1]\n",
      "[16, 13, 8, 10, 19, 5, 7, 4, 4, 1]\n",
      "[16, 13, 10, 19, 8, 7, 5, 4, 4, 1]\n",
      "[16, 13, 19, 10, 8, 7, 5, 4, 4, 1]\n",
      "[16, 19, 13, 10, 8, 7, 5, 4, 4, 1]\n",
      "[19, 16, 13, 10, 8, 7, 5, 4, 4, 1]\n",
      "[19, 16, 13, 10, 8, 7, 5, 4, 4, 1]\n"
     ]
    }
   ],
   "source": [
    "np.random.seed(0)\n",
    "la = list(np.random.randint(1, 20, 10))\n",
    "print(la)\n",
    "bubble_sort_3(la, 'deSc')"
   ]
  }
 ],
 "metadata": {
  "kernelspec": {
   "display_name": "Python 3",
   "language": "python",
   "name": "python3"
  },
  "language_info": {
   "codemirror_mode": {
    "name": "ipython",
    "version": 3
   },
   "file_extension": ".py",
   "mimetype": "text/x-python",
   "name": "python",
   "nbconvert_exporter": "python",
   "pygments_lexer": "ipython3",
   "version": "3.8.3"
  }
 },
 "nbformat": 4,
 "nbformat_minor": 4
}
