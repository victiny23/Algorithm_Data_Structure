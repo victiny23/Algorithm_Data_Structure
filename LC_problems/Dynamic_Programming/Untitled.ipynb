{
 "cells": [
  {
   "cell_type": "code",
   "execution_count": null,
   "metadata": {},
   "outputs": [],
   "source": []
  },
  {
   "cell_type": "code",
   "execution_count": null,
   "metadata": {},
   "outputs": [],
   "source": [
    "class Solution:\n",
    "    def minimumDeleteSum(self, s1: str, s2: str) -> int:\n",
    "        \"\"\"i.e. find the Longest Common Subsequence\"\"\"\n",
    "        m, n = len(s1), len(s2)\n",
    "        dp = [[0 for _ in range(n+1)] for _ in range(m+1)]\n",
    "        # direction\n",
    "        dr = [['0' for _ in range(n+1)] for _ in range(m+1)] \n",
    "        for i in range(1, m+1):\n",
    "            for j in range(1, n+1):\n",
    "                if s1[i-1] == s2[j-1]:\n",
    "                    dp[i][j] = dp[i-1][j-1] + 1\n",
    "                    dr[i][j] = 'd' # diagnonal\n",
    "                elif dp[i-1][j] > dp[i][j-1]:\n",
    "                    dp[i][j] = dp[i-1][j]\n",
    "                    dr[i][j] = 't' # top\n",
    "                else:\n",
    "                    dp[i][j] = dp[i][j-1]\n",
    "                    dr[i][j] = 'l' # left\n",
    "        comm = 0\n",
    "        res = []\n",
    "        while m > 0 and n > 0:\n",
    "            if dr[m][n] == 'd':\n",
    "                comm += ord(s1[m-1])\n",
    "                res.append(s1[m-1])\n",
    "                m -= 1\n",
    "                n -= 1\n",
    "            elif dr[m][n] == 't':\n",
    "                m -= 1\n",
    "            else:\n",
    "                n -= 1\n",
    "        print(res)\n",
    "        for _ in dp:\n",
    "            print(dp)\n",
    "        print(sum(ord(c) for c in s1))\n",
    "        print(sum(ord(c) for c in s2))\n",
    "        print(comm)\n",
    "        return sum(ord(c) for c in s1) + sum(ord(c) for c in s2) - 2*comm"
   ]
  },
  {
   "cell_type": "code",
   "execution_count": 31,
   "metadata": {},
   "outputs": [
    {
     "name": "stdout",
     "output_type": "stream",
     "text": [
      "[['e', 'e', 'l', 'e', 'e', 't', 'e', 'e']]\n",
      "['0', '0', '0', '0', '0']\n",
      "['0', 'l', 'l', 'l', 'l']\n",
      "['0', 'l', 'd', 'd', 'l']\n",
      "['0', 'd', 't', 't', 'l']\n",
      "['0', 't', 'd', 'd', 'l']\n",
      "['0', 't', 't', 't', 'd']\n",
      "['0', 't', 'd', 'd', 'l']\n",
      "[0, 0, 0, 0, 0]\n",
      "[0, 0, 0, 0, 0]\n",
      "[0, 0, 1, 1, 1]\n",
      "[0, 1, 1, 1, 1]\n",
      "[0, 1, 2, 2, 2]\n",
      "[0, 1, 2, 2, 3]\n",
      "[0, 1, 2, 3, 3]\n",
      "['0', '0', '0', '0', '0']\n",
      "['0', 'l', 'l', 'l', 'l']\n",
      "['0', 'l', 'd', 'd', 'l']\n",
      "['0', 'd', 't', 't', 'l']\n",
      "['0', 't', 'd', 'd', 'l']\n",
      "['0', 't', 't', 't', 'd']\n",
      "['0', 't', 'd', 'd', 'l']\n",
      "627\n",
      "426\n",
      "0\n"
     ]
    },
    {
     "data": {
      "text/plain": [
       "1053"
      ]
     },
     "execution_count": 31,
     "metadata": {},
     "output_type": "execute_result"
    }
   ],
   "source": [
    "def minimumDeleteSum(s1: str, s2: str) -> int:\n",
    "    \"\"\"i.e. find the Longest Common Subsequence\"\"\"\n",
    "    m, n = len(s1), len(s2)\n",
    "    dp = [[0 for _ in range(n+1)] for _ in range(m+1)]\n",
    "    # direction\n",
    "    dr = [['0' for _ in range(n+1)] for _ in range(m+1)] \n",
    "    for i in range(1, m+1):\n",
    "        for j in range(1, n+1):\n",
    "            if s1[i-1] == s2[j-1]:\n",
    "                dp[i][j] = dp[i-1][j-1] + 1\n",
    "                dr[i][j] = 'd' # diagnonal\n",
    "            elif dp[i-1][j] > dp[i][j-1]:\n",
    "                dp[i][j] = dp[i-1][j]\n",
    "                dr[i][j] = 't' # top\n",
    "            elif dp[i-1][j] < dp[i][j-1]:\n",
    "                dp[i][j] = dp[i][j-1]\n",
    "                dr[i][j] = 'l' # left\n",
    "            else: # dp[i-1][j] == dp[i][j-1]:\n",
    "                if s1[i-1] < s2[j-1]:\n",
    "                    dp[i][j] = dp[i][j-1]\n",
    "                    dr[i][j] = 'l'\n",
    "                else:\n",
    "                    dp[i][j] = dp[i-1][j]\n",
    "                    dr[i][j] = 't'\n",
    "    comm = 0\n",
    "    res = [[]]\n",
    "    for m in range(1, len(s1)+1):\n",
    "        for n in range(1, len(s2)+1):\n",
    "            if dr[m][n] == 'd':\n",
    "                res = [r + [s1[m-1]] for r in res]\n",
    "    print(res)\n",
    "    \n",
    "    for _ in dr:\n",
    "        print(_)\n",
    "\n",
    "    \n",
    "    for _ in dp:\n",
    "        print(_)\n",
    "    for _ in dr:\n",
    "        print(_)\n",
    "    print(sum(ord(c) for c in s1))\n",
    "    print(sum(ord(c) for c in s2))\n",
    "    print(comm)\n",
    "    return sum(ord(c) for c in s1) + sum(ord(c) for c in s2) - 2*comm\n",
    "\n",
    "s1, s2 = 'delete', 'leet'\n",
    "minimumDeleteSum(s1, s2)"
   ]
  }
 ],
 "metadata": {
  "kernelspec": {
   "display_name": "Python 3",
   "language": "python",
   "name": "python3"
  },
  "language_info": {
   "codemirror_mode": {
    "name": "ipython",
    "version": 3
   },
   "file_extension": ".py",
   "mimetype": "text/x-python",
   "name": "python",
   "nbconvert_exporter": "python",
   "pygments_lexer": "ipython3",
   "version": "3.8.3"
  }
 },
 "nbformat": 4,
 "nbformat_minor": 4
}
