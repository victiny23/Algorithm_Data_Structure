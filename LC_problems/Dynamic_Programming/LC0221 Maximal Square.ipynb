{
 "cells": [
  {
   "cell_type": "markdown",
   "metadata": {},
   "source": [
    "221. Maximal Square\n",
    "Medium\n",
    "\n",
    "5645\n",
    "\n",
    "124\n",
    "\n",
    "Add to List\n",
    "\n",
    "Share\n",
    "Given an m x n binary matrix filled with 0's and 1's, find the largest square containing only 1's and return its area.\n",
    "\n",
    " \n",
    "\n",
    "Example 1:\n",
    "\n",
    "\n",
    "Input: matrix = [[\"1\",\"0\",\"1\",\"0\",\"0\"],[\"1\",\"0\",\"1\",\"1\",\"1\"],[\"1\",\"1\",\"1\",\"1\",\"1\"],[\"1\",\"0\",\"0\",\"1\",\"0\"]]\n",
    "Output: 4\n",
    "Example 2:\n",
    "\n",
    "\n",
    "Input: matrix = [[\"0\",\"1\"],[\"1\",\"0\"]]\n",
    "Output: 1\n",
    "Example 3:\n",
    "\n",
    "Input: matrix = [[\"0\"]]\n",
    "Output: 0\n",
    " \n",
    "\n",
    "Constraints:\n",
    "\n",
    "m == matrix.length\n",
    "n == matrix[i].length\n",
    "1 <= m, n <= 300\n",
    "matrix[i][j] is '0' or '1'."
   ]
  },
  {
   "cell_type": "code",
   "execution_count": null,
   "metadata": {},
   "outputs": [],
   "source": [
    "class Solution:\n",
    "    def maximalSquare(self, matrix: List[List[str]]) -> int:\n",
    "        \"\"\"DP\"\"\"\n",
    "        if not matrix:\n",
    "            return 0\n",
    "        res, m, n = 0, len(matrix), len(matrix[0])\n",
    "        # dp[i][j] represents the max length of square of all '1's with matrix[i-1][j-1] being the bottom right\n",
    "        # if matrix[i-1][j-1] == '0': dp[i][j] = 0\n",
    "        # if matrix[i-1][j-1] == '1': assuming the max length is k with matrix[i-1][k-1] being the bottom right\n",
    "        # then the max length with matrix[i-2][j-2], matrix[i-2][j-1], matrix[i-1][j-2] \n",
    "        # being the bottom right must be >= k-1\n",
    "        # i.e., dp[i-1][j-1], dp[i-1][j], dp[i][j-1] must be >= k-1\n",
    "        # so if we find the min length from dp[i-1][j-1], dp[i-1][j], dp[i][j-1] being x\n",
    "        # then dp[i][j] = x + 1\n",
    "        dp = [[0 for _ in range(n+1)] for _ in range(m+1)]\n",
    "        for i in range(1, m+1):\n",
    "            for j in range(1, n+1):\n",
    "                if matrix[i-1][j-1] == '0':\n",
    "                    dp[i][j] = 0\n",
    "                else:\n",
    "                    dp[i][j] = min(dp[i-1][j-1], dp[i-1][j], dp[i][j-1]) + 1\n",
    "                    res = max(res, dp[i][j])\n",
    "        return res**2"
   ]
  }
 ],
 "metadata": {
  "kernelspec": {
   "display_name": "Python 3",
   "language": "python",
   "name": "python3"
  },
  "language_info": {
   "codemirror_mode": {
    "name": "ipython",
    "version": 3
   },
   "file_extension": ".py",
   "mimetype": "text/x-python",
   "name": "python",
   "nbconvert_exporter": "python",
   "pygments_lexer": "ipython3",
   "version": "3.8.3"
  }
 },
 "nbformat": 4,
 "nbformat_minor": 4
}
