{
 "cells": [
  {
   "cell_type": "markdown",
   "metadata": {},
   "source": [
    "746. Min Cost Climbing Stairs\n",
    "Easy\n",
    "\n",
    "3911\n",
    "\n",
    "794\n",
    "\n",
    "Add to List\n",
    "\n",
    "Share\n",
    "You are given an integer array cost where cost[i] is the cost of ith step on a staircase. Once you pay the cost, you can either climb one or two steps.\n",
    "\n",
    "You can either start from the step with index 0, or the step with index 1.\n",
    "\n",
    "Return the minimum cost to reach the top of the floor.\n",
    "\n",
    " \n",
    "\n",
    "Example 1:\n",
    "\n",
    "Input: cost = [10,15,20]\n",
    "Output: 15\n",
    "Explanation: Cheapest is: start on cost[1], pay that cost, and go to the top.\n",
    "Example 2:\n",
    "\n",
    "Input: cost = [1,100,1,1,1,100,1,1,100,1]\n",
    "Output: 6\n",
    "Explanation: Cheapest is: start on cost[0], and only step on 1s, skipping cost[3].\n",
    " \n",
    "\n",
    "Constraints:\n",
    "\n",
    "2 <= cost.length <= 1000\n",
    "0 <= cost[i] <= 999\n"
   ]
  },
  {
   "cell_type": "code",
   "execution_count": null,
   "metadata": {},
   "outputs": [],
   "source": [
    "class Solution:\n",
    "    def minCostClimbingStairs(self, cost: List[int]) -> int:\n",
    "        # pattern: total_cost[i] = cost[i] + min(total_cost[i-1], total_cost[i-2]) \n",
    "        \"\"\"dynamic programming: O(n) space\"\"\"\n",
    "        if len(cost) == 2:\n",
    "            return min(cost)\n",
    "        n = len(cost)\n",
    "        pay = [0] * n\n",
    "        pay[0], pay[1] = cost[0], cost[1]\n",
    "        for i in range(2, n):\n",
    "            pay[i] = cost[i] + min(pay[i-1], pay[i-2])\n",
    "        return min(pay[-1], pay[-2])\n",
    "        \n",
    "        \n",
    "        \"\"\"dynamic programming: O(1) space\"\"\"\n",
    "        if len(cost) == 2:\n",
    "            return min(cost)\n",
    "        p1, p2 = cost[0], cost[1]\n",
    "        for i in range(2, len(cost)):\n",
    "            p1, p2 = p2, cost[i] + min(p1, p2)\n",
    "        return min(p1, p2)"
   ]
  }
 ],
 "metadata": {
  "kernelspec": {
   "display_name": "Python 3",
   "language": "python",
   "name": "python3"
  },
  "language_info": {
   "codemirror_mode": {
    "name": "ipython",
    "version": 3
   },
   "file_extension": ".py",
   "mimetype": "text/x-python",
   "name": "python",
   "nbconvert_exporter": "python",
   "pygments_lexer": "ipython3",
   "version": "3.8.3"
  }
 },
 "nbformat": 4,
 "nbformat_minor": 4
}
