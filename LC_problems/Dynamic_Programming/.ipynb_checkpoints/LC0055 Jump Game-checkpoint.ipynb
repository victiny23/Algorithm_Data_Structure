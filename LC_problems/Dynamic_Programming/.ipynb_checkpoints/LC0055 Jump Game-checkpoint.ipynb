{
 "cells": [
  {
   "cell_type": "markdown",
   "metadata": {},
   "source": [
    "55. Jump Game\n",
    "Medium\n",
    "\n",
    "7798\n",
    "\n",
    "477\n",
    "\n",
    "Add to List\n",
    "\n",
    "Share\n",
    "You are given an integer array nums. You are initially positioned at the array's first index, and each element in the array represents your maximum jump length at that position.\n",
    "\n",
    "Return true if you can reach the last index, or false otherwise.\n",
    "\n",
    " \n",
    "\n",
    "Example 1:\n",
    "\n",
    "Input: nums = [2,3,1,1,4]\n",
    "Output: true\n",
    "Explanation: Jump 1 step from index 0 to 1, then 3 steps to the last index.\n",
    "Example 2:\n",
    "\n",
    "Input: nums = [3,2,1,0,4]\n",
    "Output: false\n",
    "Explanation: You will always arrive at index 3 no matter what. Its maximum jump length is 0, which makes it impossible to reach the last index.\n",
    " \n",
    "\n",
    "Constraints:\n",
    "\n",
    "1 <= nums.length <= 104\n",
    "0 <= nums[i] <= 105"
   ]
  },
  {
   "cell_type": "code",
   "execution_count": null,
   "metadata": {},
   "outputs": [],
   "source": [
    "class Solution:\n",
    "    def canJump(self, nums: List[int]) -> bool:\n",
    "        \"\"\"\n",
    "        [0]\n",
    "        [1,0,1,0]\n",
    "        [2,0,1,0]\n",
    "        [2,5,0,0]\n",
    "        [0,2,3]\n",
    "        \"\"\"\n",
    "        \n",
    "        \"\"\"Greedy: jump forward with a edge case: starting at the last position - 683 ms\"\"\"\n",
    "        n = len(nums)\n",
    "        # starting at the last position\n",
    "        if n == 1: \n",
    "            return True\n",
    "        max_jump = nums[0]\n",
    "        for i in range(n-1): # ignore the last length\n",
    "            if i <= max_jump: # i is reachable\n",
    "                # may extend max_jump from position i\n",
    "                max_jump = max(max_jump, i +nums[i])\n",
    "                if max_jump >= n - 1:\n",
    "                    return True\n",
    "        return False\n",
    "          \n",
    "        \"\"\"Greedy: jump forward, no edge case - 528 ms\"\"\"    \n",
    "        max_jump = 0\n",
    "        for i, jump in enumerate(nums):\n",
    "            if i > max_jump: # position i cannot be reached\n",
    "                return False\n",
    "            max_jump = max(max_jump, i + jump) # may jump further\n",
    "        return True"
   ]
  },
  {
   "cell_type": "code",
   "execution_count": null,
   "metadata": {},
   "outputs": [],
   "source": [
    "class Solution:\n",
    "    def canJump(self, nums: List[int]) -> bool:\n",
    "        \"\"\"jump backward, finding the smallest reachable position - 517 ms\"\"\"\n",
    "        n = len(nums)\n",
    "        goal = n - 1\n",
    "        for i in range(n-1, -1, -1):\n",
    "            # can jump from position i to goal\n",
    "            # then update position as goal in the next round\n",
    "            if i + nums[i] >= goal:\n",
    "                goal = i\n",
    "        # goal becomes 0 when reaching the starting point\n",
    "        return not goal"
   ]
  },
  {
   "cell_type": "code",
   "execution_count": null,
   "metadata": {},
   "outputs": [],
   "source": [
    "class Solution:\n",
    "    def canJump(self, nums: List[int]) -> bool: \n",
    "        \"\"\"DP - 520 ms\"\"\"\n",
    "        n = len(nums)\n",
    "        dp = [0] * n # dp tracks the max_jump\n",
    "        dp[0] = nums[0]\n",
    "        for i in range(1, n-1):\n",
    "            if dp[i - 1] < i: # cannot reach position i\n",
    "                return False\n",
    "            dp[i] = max(dp[i-1], i + nums[i]) # update max-jump if possible\n",
    "            if dp[i] >= n - 1: # reach the last position\n",
    "                return True \n",
    "        # position n - 1 is the target\n",
    "        # dp[n-2] is the max_jump at the second to the last position\n",
    "        return dp[n-2] >= n - 1"
   ]
  }
 ],
 "metadata": {
  "kernelspec": {
   "display_name": "Python 3",
   "language": "python",
   "name": "python3"
  },
  "language_info": {
   "codemirror_mode": {
    "name": "ipython",
    "version": 3
   },
   "file_extension": ".py",
   "mimetype": "text/x-python",
   "name": "python",
   "nbconvert_exporter": "python",
   "pygments_lexer": "ipython3",
   "version": "3.8.3"
  }
 },
 "nbformat": 4,
 "nbformat_minor": 4
}
