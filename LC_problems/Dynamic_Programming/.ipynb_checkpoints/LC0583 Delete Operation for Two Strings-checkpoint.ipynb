{
 "cells": [
  {
   "cell_type": "markdown",
   "metadata": {},
   "source": [
    "583. Delete Operation for Two Strings\n",
    "Medium\n",
    "\n",
    "2228\n",
    "\n",
    "39\n",
    "\n",
    "Add to List\n",
    "\n",
    "Share\n",
    "Given two strings word1 and word2, return the minimum number of steps required to make word1 and word2 the same.\n",
    "\n",
    "In one step, you can delete exactly one character in either string.\n",
    "\n",
    " \n",
    "\n",
    "Example 1:\n",
    "\n",
    "Input: word1 = \"sea\", word2 = \"eat\"\n",
    "Output: 2\n",
    "Explanation: You need one step to make \"sea\" to \"ea\" and another step to make \"eat\" to \"ea\".\n",
    "Example 2:\n",
    "\n",
    "Input: word1 = \"leetcode\", word2 = \"etco\"\n",
    "Output: 4\n",
    " \n",
    "\n",
    "Constraints:\n",
    "\n",
    "1 <= word1.length, word2.length <= 500\n",
    "word1 and word2 consist of only lowercase English letters."
   ]
  },
  {
   "cell_type": "code",
   "execution_count": null,
   "metadata": {},
   "outputs": [],
   "source": [
    "class Solution:\n",
    "    def minDistance(self, word1: str, word2: str) -> int:\n",
    "        \"\"\"i.e. find the Longest Common Subsequence\"\"\"\n",
    "        m, n = len(word1), len(word2)\n",
    "        dp = [[0 for _ in range(n+1)] for _ in range(m+1)]\n",
    "        for i in range(1, m+1):\n",
    "            for j in range(1, n+1):\n",
    "                if word1[i-1] == word2[j-1]:\n",
    "                    dp[i][j] = dp[i-1][j-1] + 1\n",
    "                else:\n",
    "                    dp[i][j] = max(dp[i-1][j], dp[i][j-1])\n",
    "        return m + n - 2*dp[-1][-1]"
   ]
  }
 ],
 "metadata": {
  "kernelspec": {
   "display_name": "Python 3",
   "language": "python",
   "name": "python3"
  },
  "language_info": {
   "codemirror_mode": {
    "name": "ipython",
    "version": 3
   },
   "file_extension": ".py",
   "mimetype": "text/x-python",
   "name": "python",
   "nbconvert_exporter": "python",
   "pygments_lexer": "ipython3",
   "version": "3.8.3"
  }
 },
 "nbformat": 4,
 "nbformat_minor": 4
}
