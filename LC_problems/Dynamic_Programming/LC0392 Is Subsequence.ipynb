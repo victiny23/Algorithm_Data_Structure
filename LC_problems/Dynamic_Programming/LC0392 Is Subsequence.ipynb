{
 "cells": [
  {
   "cell_type": "markdown",
   "metadata": {},
   "source": [
    "392. Is Subsequence\n",
    "Easy\n",
    "\n",
    "2969\n",
    "\n",
    "251\n",
    "\n",
    "Add to List\n",
    "\n",
    "Share\n",
    "Given two strings s and t, return true if s is a subsequence of t, or false otherwise.\n",
    "\n",
    "A subsequence of a string is a new string that is formed from the original string by deleting some (can be none) of the characters without disturbing the relative positions of the remaining characters. (i.e., \"ace\" is a subsequence of \"abcde\" while \"aec\" is not).\n",
    "\n",
    " \n",
    "\n",
    "Example 1:\n",
    "\n",
    "Input: s = \"abc\", t = \"ahbgdc\"\n",
    "Output: true\n",
    "Example 2:\n",
    "\n",
    "Input: s = \"axc\", t = \"ahbgdc\"\n",
    "Output: false\n",
    " \n",
    "\n",
    "Constraints:\n",
    "\n",
    "0 <= s.length <= 100\n",
    "0 <= t.length <= 104\n",
    "s and t consist only of lowercase English letters."
   ]
  },
  {
   "cell_type": "code",
   "execution_count": null,
   "metadata": {},
   "outputs": [],
   "source": [
    "class Solution:\n",
    "    def isSubsequence(self, s: str, t: str) -> bool:\n",
    "        \"\"\"two pointers\"\"\"\n",
    "        i = j = 0\n",
    "        while i < len(s) and j < len(t):\n",
    "            if s[i] == t[j]:\n",
    "                i += 1\n",
    "            j += 1\n",
    "        if i < len(s):\n",
    "            return False\n",
    "        return True"
   ]
  },
  {
   "cell_type": "code",
   "execution_count": null,
   "metadata": {},
   "outputs": [],
   "source": [
    "class Solution:\n",
    "    def isSubsequence(self, s: str, t: str) -> bool:\n",
    "        \"\"\"\n",
    "        be aware of the edge case:\n",
    "        \"\" is a subsequence of \"axsfafa\"\n",
    "        \"\" is a sibsequence of \"\"\n",
    "        \"\"\"\n",
    "        if not s:\n",
    "            return True\n",
    "        i = 0\n",
    "        n = len(s)\n",
    "        for c in t:\n",
    "            if c == s[i]:\n",
    "                i += 1\n",
    "                if i == n:\n",
    "                    return True\n",
    "        return False"
   ]
  },
  {
   "cell_type": "code",
   "execution_count": null,
   "metadata": {},
   "outputs": [],
   "source": [
    "class Solution:\n",
    "    def isSubsequence(self, s: str, t: str) -> bool:\n",
    "        \"\"\"\n",
    "        dynamic programming\n",
    "        dp[i][j] = 1 if s[:j] is substring of t[:i]. \n",
    "\n",
    "        If s[j] == t[i], then we need to search string s[:j-1] in t[:i-1]\n",
    "        If s[j] != t[i], then we need to search string s[:j] in t[:i-1]\n",
    "        \"\"\"\n",
    "        # use s = \"!\" + s trick to handle border cases with empty strings\n",
    "        s, t = \"!\" + s, \"!\" + t\n",
    "        m, n = len(s), len(t)\n",
    "        dp = [[0] * m for _ in range(n)]\n",
    "        # empty string is a subsequence of anything\n",
    "        for i in range(n):\n",
    "            dp[i][0] = 1\n",
    "        for i in range(1, n):\n",
    "            for j in range(1, m):\n",
    "                if s[j] == t[i]:\n",
    "                    dp[i][j] = dp[i-1][j-1]\n",
    "                else:\n",
    "                    dp[i][j] = dp[i-1][j]\n",
    "        return dp[-1][-1]"
   ]
  }
 ],
 "metadata": {
  "kernelspec": {
   "display_name": "Python 3",
   "language": "python",
   "name": "python3"
  },
  "language_info": {
   "codemirror_mode": {
    "name": "ipython",
    "version": 3
   },
   "file_extension": ".py",
   "mimetype": "text/x-python",
   "name": "python",
   "nbconvert_exporter": "python",
   "pygments_lexer": "ipython3",
   "version": "3.8.3"
  }
 },
 "nbformat": 4,
 "nbformat_minor": 4
}
