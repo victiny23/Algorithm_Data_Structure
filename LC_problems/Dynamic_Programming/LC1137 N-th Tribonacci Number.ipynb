{
 "cells": [
  {
   "cell_type": "markdown",
   "metadata": {},
   "source": [
    "1137. N-th Tribonacci Number\n",
    "Easy\n",
    "\n",
    "735\n",
    "\n",
    "61\n",
    "\n",
    "Add to List\n",
    "\n",
    "Share\n",
    "The Tribonacci sequence Tn is defined as follows: \n",
    "\n",
    "T0 = 0, T1 = 1, T2 = 1, and Tn+3 = Tn + Tn+1 + Tn+2 for n >= 0.\n",
    "\n",
    "Given n, return the value of Tn.\n",
    "\n",
    " \n",
    "\n",
    "Example 1:\n",
    "\n",
    "Input: n = 4\n",
    "Output: 4\n",
    "Explanation:\n",
    "T_3 = 0 + 1 + 1 = 2\n",
    "T_4 = 1 + 1 + 2 = 4\n",
    "Example 2:\n",
    "\n",
    "Input: n = 25\n",
    "Output: 1389537\n",
    " \n",
    "\n",
    "Constraints:\n",
    "\n",
    "0 <= n <= 37\n",
    "The answer is guaranteed to fit within a 32-bit integer, ie. answer <= 2^31 - 1."
   ]
  },
  {
   "cell_type": "code",
   "execution_count": null,
   "metadata": {},
   "outputs": [],
   "source": [
    "class Solution:\n",
    "    def tribonacci(self, n: int) -> int:\n",
    "        \"\"\"dp: space O(n)\"\"\"\n",
    "        if n == 0:\n",
    "            return 0\n",
    "        if n == 1 or n == 2:\n",
    "            return 1\n",
    "        tb = [0] * (n + 1)\n",
    "        tb[1] = tb[2] = 1\n",
    "        for i in range(3, n+1):\n",
    "            tb[i] = tb[i-3] + tb[i-2] + tb[i-1]\n",
    "        return tb[-1]\n",
    "        \n",
    "        \"\"\"dp: space O(1)\"\"\"\n",
    "        if n == 0:\n",
    "            return 0\n",
    "        if n == 1 or n == 2:\n",
    "            return 1\n",
    "        tb1, tb2, tb3 = 0, 1, 1\n",
    "        for i in range(3, n+1):\n",
    "            tb1, tb2, tb3 = tb2, tb3, tb1 + tb2 + tb3\n",
    "        return tb3"
   ]
  }
 ],
 "metadata": {
  "kernelspec": {
   "display_name": "Python 3",
   "language": "python",
   "name": "python3"
  },
  "language_info": {
   "codemirror_mode": {
    "name": "ipython",
    "version": 3
   },
   "file_extension": ".py",
   "mimetype": "text/x-python",
   "name": "python",
   "nbconvert_exporter": "python",
   "pygments_lexer": "ipython3",
   "version": "3.8.3"
  }
 },
 "nbformat": 4,
 "nbformat_minor": 4
}
