{
 "cells": [
  {
   "cell_type": "markdown",
   "metadata": {},
   "source": [
    "78. Subsets\n",
    "Medium\n",
    "\n",
    "7037\n",
    "\n",
    "124\n",
    "\n",
    "Add to List\n",
    "\n",
    "Share\n",
    "Given an integer array nums of unique elements, return all possible subsets (the power set).\n",
    "\n",
    "The solution set must not contain duplicate subsets. Return the solution in any order.\n",
    "\n",
    " \n",
    "\n",
    "Example 1:\n",
    "\n",
    "Input: nums = [1,2,3]\n",
    "Output: [[],[1],[2],[1,2],[3],[1,3],[2,3],[1,2,3]]\n",
    "Example 2:\n",
    "\n",
    "Input: nums = [0]\n",
    "Output: [[],[0]]\n",
    " \n",
    "\n",
    "Constraints:\n",
    "\n",
    "1 <= nums.length <= 10\n",
    "-10 <= nums[i] <= 10\n",
    "All the numbers of nums are unique."
   ]
  },
  {
   "cell_type": "code",
   "execution_count": null,
   "metadata": {},
   "outputs": [],
   "source": [
    "class Solution:\n",
    "    def subsets(self, nums: List[int]) -> List[List[int]]:\n",
    "        \"\"\"itertools.combinations - 61 ms\"\"\"\n",
    "        from itertools import combinations\n",
    "        res = []\n",
    "        for i in range(len(nums) + 1):\n",
    "            res += list(combinations(nums, i))\n",
    "        return res"
   ]
  },
  {
   "cell_type": "code",
   "execution_count": null,
   "metadata": {},
   "outputs": [],
   "source": [
    "class Solution:\n",
    "    def subsets(self, nums: List[int]) -> List[List[int]]:\n",
    "        \"\"\"Recursion - 52 ms\"\"\"\n",
    "        if len(nums) == 1:\n",
    "            return [[], nums]\n",
    "        res = self.subsets(nums[1:])\n",
    "        res += [[nums[0]] + subset for subset in res]\n",
    "        return res"
   ]
  },
  {
   "cell_type": "code",
   "execution_count": null,
   "metadata": {},
   "outputs": [],
   "source": [
    "class Solution:\n",
    "    def subsets(self, nums: List[int]) -> List[List[int]]:\n",
    "        \"\"\"Iteration - 28 ms, \n",
    "        the difference between iteration and dp is that we keep updating dp[0] in iteration\"\"\"\n",
    "        res = [[]]\n",
    "        for num in nums:\n",
    "            res += [[num] + subset for subset in res]\n",
    "        return res"
   ]
  },
  {
   "cell_type": "code",
   "execution_count": null,
   "metadata": {},
   "outputs": [],
   "source": [
    "class Solution:\n",
    "    def subsets(self, nums: List[int]) -> List[List[int]]:\n",
    "        \"\"\"DP - 37 ms\"\"\"\n",
    "        dp = [[] for _ in range(len(nums) + 1)]\n",
    "        # initialize\n",
    "        dp[0].append([])\n",
    "        # when extending nums from left to right, a new number is added each time\n",
    "        # inculde all previous subsets, + new subsets when the new number is added\n",
    "        for i in range(1, len(nums) + 1):\n",
    "            dp[i] += dp[i-1]\n",
    "            dp[i] += [subset + [nums[i-1]] for subset in dp[i-1]]\n",
    "        return dp[-1]"
   ]
  },
  {
   "cell_type": "code",
   "execution_count": null,
   "metadata": {},
   "outputs": [],
   "source": [
    "class Solution:\n",
    "    def subsets(self, nums: List[int]) -> List[List[int]]:\n",
    "        \"\"\"Backtracking - 52 ms\"\"\"\n",
    "        def dfs(li, path):\n",
    "            res.append(path)\n",
    "            for i in range(len(li)):\n",
    "                dfs(li[i+1:], path + [li[i]])\n",
    "        res = []\n",
    "        dfs(nums, [])\n",
    "        return res"
   ]
  }
 ],
 "metadata": {
  "kernelspec": {
   "display_name": "Python 3",
   "language": "python",
   "name": "python3"
  },
  "language_info": {
   "codemirror_mode": {
    "name": "ipython",
    "version": 3
   },
   "file_extension": ".py",
   "mimetype": "text/x-python",
   "name": "python",
   "nbconvert_exporter": "python",
   "pygments_lexer": "ipython3",
   "version": "3.8.3"
  }
 },
 "nbformat": 4,
 "nbformat_minor": 4
}
