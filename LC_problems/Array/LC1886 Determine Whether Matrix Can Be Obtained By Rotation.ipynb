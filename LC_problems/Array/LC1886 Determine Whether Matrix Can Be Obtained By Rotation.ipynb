{
 "cells": [
  {
   "cell_type": "markdown",
   "metadata": {},
   "source": [
    "1886. Determine Whether Matrix Can Be Obtained By Rotation\n",
    "Easy\n",
    "\n",
    "321\n",
    "\n",
    "35\n",
    "\n",
    "Add to List\n",
    "\n",
    "Share\n",
    "Given two n x n binary matrices mat and target, return true if it is possible to make mat equal to target by rotating mat in 90-degree increments, or false otherwise.\n",
    "\n",
    " \n",
    "\n",
    "Example 1:\n",
    "\n",
    "\n",
    "Input: mat = [[0,1],[1,0]], target = [[1,0],[0,1]]\n",
    "Output: true\n",
    "Explanation: We can rotate mat 90 degrees clockwise to make mat equal target.\n",
    "Example 2:\n",
    "\n",
    "\n",
    "Input: mat = [[0,1],[1,1]], target = [[1,0],[0,1]]\n",
    "Output: false\n",
    "Explanation: It is impossible to make mat equal to target by rotating mat.\n",
    "Example 3:\n",
    "\n",
    "\n",
    "Input: mat = [[0,0,0],[0,1,0],[1,1,1]], target = [[1,1,1],[0,1,0],[0,0,0]]\n",
    "Output: true\n",
    "Explanation: We can rotate mat 90 degrees clockwise two times to make mat equal target.\n",
    " \n",
    "\n",
    "Constraints:\n",
    "\n",
    "n == mat.length == target.length\n",
    "n == mat[i].length == target[i].length\n",
    "1 <= n <= 10\n",
    "mat[i][j] and target[i][j] are either 0 or 1"
   ]
  },
  {
   "cell_type": "code",
   "execution_count": null,
   "metadata": {},
   "outputs": [],
   "source": [
    "class Solution:\n",
    "    def findRotation(self, mat: List[List[int]], target: List[List[int]]) -> bool:\n",
    "        def rot_cw(mat, n):\n",
    "            for i in range(n):\n",
    "                for j in range(i, n):\n",
    "                    mat[i][j], mat[j][i] = mat[j][i], mat[i][j]\n",
    "            for i in range(n):\n",
    "                mat[i] = mat[i][::-1]\n",
    "        def rot_ccw(mat, n):\n",
    "            for i in range(n):\n",
    "                for j in range(n-i):\n",
    "                    mat[i][j], mat[n-1-j][n-1-i] = mat[n-1-j][n-1-i], mat[i][j]\n",
    "            # for _ in mat:\n",
    "            #     print(_)\n",
    "            for i in range(n):\n",
    "                mat[i] = mat[i][::-1]   \n",
    "            # for _ in mat:\n",
    "            #     print(_)\n",
    "        n = len(mat)\n",
    "        for i in range(4):\n",
    "            rot_cw(mat, n)\n",
    "            # print(mat, target)\n",
    "            if mat == target:\n",
    "                return True\n",
    "        for i in range(3):\n",
    "            rot_ccw(mat, n)\n",
    "            # print(mat, target)\n",
    "            if mat == target:\n",
    "                return True\n",
    "        return False"
   ]
  }
 ],
 "metadata": {
  "kernelspec": {
   "display_name": "Python 3",
   "language": "python",
   "name": "python3"
  },
  "language_info": {
   "codemirror_mode": {
    "name": "ipython",
    "version": 3
   },
   "file_extension": ".py",
   "mimetype": "text/x-python",
   "name": "python",
   "nbconvert_exporter": "python",
   "pygments_lexer": "ipython3",
   "version": "3.8.3"
  }
 },
 "nbformat": 4,
 "nbformat_minor": 4
}
