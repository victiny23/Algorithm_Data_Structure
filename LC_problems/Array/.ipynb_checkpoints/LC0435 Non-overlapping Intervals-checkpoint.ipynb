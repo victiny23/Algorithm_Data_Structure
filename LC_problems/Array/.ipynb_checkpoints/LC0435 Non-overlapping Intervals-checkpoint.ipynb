{
 "cells": [
  {
   "cell_type": "markdown",
   "metadata": {},
   "source": [
    "435. Non-overlapping Intervals\n",
    "Medium\n",
    "\n",
    "2476\n",
    "\n",
    "71\n",
    "\n",
    "Add to List\n",
    "\n",
    "Share\n",
    "Given an array of intervals intervals where intervals[i] = [starti, endi], return the minimum number of intervals you need to remove to make the rest of the intervals non-overlapping.\n",
    "\n",
    " \n",
    "\n",
    "Example 1:\n",
    "\n",
    "Input: intervals = [[1,2],[2,3],[3,4],[1,3]]\n",
    "Output: 1\n",
    "Explanation: [1,3] can be removed and the rest of the intervals are non-overlapping.\n",
    "Example 2:\n",
    "\n",
    "Input: intervals = [[1,2],[1,2],[1,2]]\n",
    "Output: 2\n",
    "Explanation: You need to remove two [1,2] to make the rest of the intervals non-overlapping.\n",
    "Example 3:\n",
    "\n",
    "Input: intervals = [[1,2],[2,3]]\n",
    "Output: 0\n",
    "Explanation: You don't need to remove any of the intervals since they're already non-overlapping.\n",
    " \n",
    "\n",
    "Constraints:\n",
    "\n",
    "1 <= intervals.length <= 105\n",
    "intervals[i].length == 2\n",
    "-5 * 104 <= starti < endi <= 5 * 104"
   ]
  },
  {
   "cell_type": "code",
   "execution_count": null,
   "metadata": {},
   "outputs": [],
   "source": [
    "class Solution:\n",
    "    def eraseOverlapIntervals(self, intervals: List[List[int]]) -> int:\n",
    "        \"\"\"\n",
    "        Greedy: Sort the intervals by their start time. \n",
    "        If two intervals overlap, the interval with larger end time will be removed \n",
    "        so as to have as little impact on subsequent intervals as possible\n",
    "        \"\"\"\n",
    "        if len(intervals) <= 1:\n",
    "            return 0\n",
    "        intervals.sort(key=lambda x: x[0])\n",
    "        res = 0\n",
    "        e = intervals[0][1]\n",
    "        for interval in intervals[1:]:\n",
    "            # find overlapping interval\n",
    "            if interval[0] < e:\n",
    "                res += 1\n",
    "                # remove the one with larger end\n",
    "                e = min(e, interval[1])\n",
    "            else:\n",
    "                # update the curr_end\n",
    "                e = interval[1]\n",
    "        return res      "
   ]
  },
  {
   "cell_type": "markdown",
   "metadata": {},
   "source": [
    "Ff we sort them by end time and if overlap occurs, the interval that comes later must be the one to remove as it has larger end time. Take a look at the following example.\n",
    "\n",
    "Example:\n",
    "\n",
    "1) sort by start time\n",
    "   Extra procedure: after comparing [1,10] and [2,3], we have to choose which one to remove by comparing the end time\n",
    "\n",
    "   [[1,10], [2,3], [3,4], [5,6]]\n",
    "        \n",
    "2) sort by end time\n",
    "   Saved procedure: after comparing [5, 6] and [1,10], we immediately can remove the later one which is [1,10] as it must produce more overlaps in the following, i.e. with [6,11] and [9,12]\n",
    "\n",
    "    [[2,3], [3,4], [5,6], [1,10], [6, 11], [9, 12]]"
   ]
  },
  {
   "cell_type": "code",
   "execution_count": null,
   "metadata": {},
   "outputs": [],
   "source": [
    "class Solution:\n",
    "    def eraseOverlapIntervals(self, intervals: List[List[int]]) -> int:\n",
    "        \"\"\"Greedy: Sort by end time\"\"\"\n",
    "        if len(intervals) <= 1:\n",
    "            return 0\n",
    "        intervals.sort(key=lambda x: x[1])\n",
    "        res = 0\n",
    "        prev = float('-inf')\n",
    "        for s, e in intervals:\n",
    "            if s < prev:\n",
    "                res += 1\n",
    "            else:\n",
    "                prev = e\n",
    "        return res"
   ]
  }
 ],
 "metadata": {
  "kernelspec": {
   "display_name": "Python 3",
   "language": "python",
   "name": "python3"
  },
  "language_info": {
   "codemirror_mode": {
    "name": "ipython",
    "version": 3
   },
   "file_extension": ".py",
   "mimetype": "text/x-python",
   "name": "python",
   "nbconvert_exporter": "python",
   "pygments_lexer": "ipython3",
   "version": "3.8.3"
  }
 },
 "nbformat": 4,
 "nbformat_minor": 4
}
