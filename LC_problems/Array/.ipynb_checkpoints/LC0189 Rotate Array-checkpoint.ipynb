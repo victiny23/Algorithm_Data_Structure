{
 "cells": [
  {
   "cell_type": "markdown",
   "metadata": {},
   "source": [
    "189. Rotate Array\n",
    "Medium\n",
    "\n",
    "6412\n",
    "\n",
    "1071\n",
    "\n",
    "Add to List\n",
    "\n",
    "Share\n",
    "Given an array, rotate the array to the right by k steps, where k is non-negative.\n",
    "\n",
    " \n",
    "\n",
    "Example 1:\n",
    "\n",
    "Input: nums = [1,2,3,4,5,6,7], k = 3\n",
    "Output: [5,6,7,1,2,3,4]\n",
    "Explanation:\n",
    "rotate 1 steps to the right: [7,1,2,3,4,5,6]\n",
    "rotate 2 steps to the right: [6,7,1,2,3,4,5]\n",
    "rotate 3 steps to the right: [5,6,7,1,2,3,4]\n",
    "Example 2:\n",
    "\n",
    "Input: nums = [-1,-100,3,99], k = 2\n",
    "Output: [3,99,-1,-100]\n",
    "Explanation: \n",
    "rotate 1 steps to the right: [99,-1,-100,3]\n",
    "rotate 2 steps to the right: [3,99,-1,-100]\n",
    " \n",
    "\n",
    "Constraints:\n",
    "\n",
    "1 <= nums.length <= 105\n",
    "-231 <= nums[i] <= 231 - 1\n",
    "0 <= k <= 105\n",
    " \n",
    "\n",
    "Follow up:\n",
    "\n",
    "Try to come up with as many solutions as you can. There are at least three different ways to solve this problem.\n",
    "Could you do it in-place with O(1) extra space"
   ]
  },
  {
   "cell_type": "code",
   "execution_count": null,
   "metadata": {},
   "outputs": [],
   "source": [
    "class Solution:\n",
    "    def rotate(self, nums: List[int], k: int) -> None:\n",
    "        \"\"\"\n",
    "        Do not return anything, modify nums in-place instead.\n",
    "        \"\"\"\n",
    "        \"\"\"O(n) space\"\"\"\n",
    "        n = len(nums)\n",
    "        k %=  n\n",
    "        arr = nums[-k:] + nums[:-k]\n",
    "        nums[:] = arr[:]\n",
    "        \n",
    "        \"\"\"O(1) space, reverse!\"\"\"\n",
    "        n = len(nums)\n",
    "        k %= n\n",
    "        if k:\n",
    "            nums[-k:] = nums[-k:][::-1]\n",
    "            #print(nums)\n",
    "            # nums[:] = nums[::-1]\n",
    "            nums.reverse()\n",
    "            nums[k-n:] = nums[k-n:][::-1]\n",
    "            #print(nums)\n",
    "        \n",
    "        \"\"\"O(n) space?\"\"\"\n",
    "        n = len(nums)\n",
    "        k %=  n\n",
    "        nums[:] = nums[-k:] + nums[:-k]"
   ]
  }
 ],
 "metadata": {
  "kernelspec": {
   "display_name": "Python 3",
   "language": "python",
   "name": "python3"
  },
  "language_info": {
   "codemirror_mode": {
    "name": "ipython",
    "version": 3
   },
   "file_extension": ".py",
   "mimetype": "text/x-python",
   "name": "python",
   "nbconvert_exporter": "python",
   "pygments_lexer": "ipython3",
   "version": "3.8.3"
  }
 },
 "nbformat": 4,
 "nbformat_minor": 4
}
