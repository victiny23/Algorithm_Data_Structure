{
 "cells": [
  {
   "cell_type": "markdown",
   "metadata": {},
   "source": [
    "274. H-Index\n",
    "Medium\n",
    "\n",
    "993\n",
    "\n",
    "1589\n",
    "\n",
    "Add to List\n",
    "\n",
    "Share\n",
    "Given an array of integers citations where citations[i] is the number of citations a researcher received for their ith paper, return compute the researcher's h-index.\n",
    "\n",
    "According to the definition of h-index on Wikipedia: A scientist has an index h if h of their n papers have at least h citations each, and the other n − h papers have no more than h citations each.\n",
    "\n",
    "If there are several possible values for h, the maximum one is taken as the h-index.\n",
    "\n",
    " \n",
    "\n",
    "Example 1:\n",
    "\n",
    "Input: citations = [3,0,6,1,5]\n",
    "Output: 3\n",
    "Explanation: [3,0,6,1,5] means the researcher has 5 papers in total and each of them had received 3, 0, 6, 1, 5 citations respectively.\n",
    "Since the researcher has 3 papers with at least 3 citations each and the remaining two with no more than 3 citations each, their h-index is 3.\n",
    "Example 2:\n",
    "\n",
    "Input: citations = [1,3,1]\n",
    "Output: 1\n",
    " \n",
    "\n",
    "Constraints:\n",
    "\n",
    "n == citations.length\n",
    "1 <= n <= 5000\n",
    "0 <= citations[i] <= 1000"
   ]
  },
  {
   "cell_type": "code",
   "execution_count": null,
   "metadata": {},
   "outputs": [],
   "source": [
    "\"\"\"\n",
    "From the Wikipedia article: \"Formally, if f is the function that corresponds to the number of citations for each publication, \n",
    "we compute the h-index as follows: First we order the values of f from the largest to the lowest value. \n",
    "Then, we look for the last position in which f is greater than or equal to the position (we call h this position).\"\n",
    "\"\"\""
   ]
  },
  {
   "cell_type": "code",
   "execution_count": null,
   "metadata": {},
   "outputs": [],
   "source": [
    "class Solution:\n",
    "    def hIndex(self, citations: List[int]) -> int:\n",
    "        \"\"\"Count Sort with a new sorted list\"\"\"\n",
    "        max_citation = 1000 # from constrains\n",
    "        cnt = [0] * (max_citation + 1)\n",
    "        for citation in citations:\n",
    "            if citation: # ignore paper with 0 citation as they won't contribute to the h-index\n",
    "                cnt[citation] += 1\n",
    "        # sorted list\n",
    "        li = []\n",
    "        for i, v in enumerate(cnt):\n",
    "            for j in range(v):\n",
    "                li.append(i)\n",
    "        # determine h\n",
    "        h = 0\n",
    "        for i, v in enumerate(li[::-1]):\n",
    "            h += 1\n",
    "            if h > v:\n",
    "                return h - 1\n",
    "        return h"
   ]
  },
  {
   "cell_type": "code",
   "execution_count": null,
   "metadata": {},
   "outputs": [],
   "source": [
    "class Solution:\n",
    "    def hIndex(self, citations: List[int]) -> int:\n",
    "        \"\"\"O(n) time, O(n) space, count sort with no sorted list\"\"\"\n",
    "        # count sort in-place\n",
    "        n = len(citations)\n",
    "        cnt = [0] * (n + 1)\n",
    "        for citation in citations:\n",
    "            #\n",
    "            if citation >= n:\n",
    "                cnt[n] += 1\n",
    "            else:\n",
    "                cnt[citation] += 1\n",
    "        # check from the largest, use a variable to store the accumulative number of papers with high citations\n",
    "        h = 0\n",
    "        for i in range(n, -1, -1):\n",
    "            h += cnt[i]\n",
    "            if h >= i:\n",
    "                return i\n",
    "        return h  "
   ]
  },
  {
   "cell_type": "code",
   "execution_count": null,
   "metadata": {},
   "outputs": [],
   "source": [
    "class Solution:\n",
    "    def hIndex(self, citations: List[int]) -> int:\n",
    "        \"\"\"O(n) time, O(n) space, count sort with no sorted list\"\"\"\n",
    "        # count sort in-place\n",
    "        n = len(citations)\n",
    "        cnt = [0] * (n + 1)\n",
    "        for citation in citations:\n",
    "            #\n",
    "            if citation >= n:\n",
    "                cnt[n] += 1\n",
    "            else:\n",
    "                cnt[citation] += 1\n",
    "        # check from the largest, update cnt as accumulative number of papers with high citations\n",
    "        i = n - 1\n",
    "        while i >= 0:\n",
    "            cnt[i] += cnt[i+1]\n",
    "            if cnt[i+1] >= i+1:\n",
    "                return i+1\n",
    "            i -= 1\n",
    "        return 0"
   ]
  },
  {
   "cell_type": "code",
   "execution_count": null,
   "metadata": {},
   "outputs": [],
   "source": [
    "class Solution:\n",
    "    def hIndex(self, citations: List[int]) -> int:\n",
    "        \"\"\"O(nlogn) time\"\"\"\n",
    "        citations.sort()\n",
    "        n = len(citations)\n",
    "        for i in range(n):\n",
    "            # what's on the right side of i are the papers with citations >= citations[i]\n",
    "            # and there are n -1 - i papers on the right side of i\n",
    "            # so there are n - i papers (including i) with citations >= citation[i] that meets the requirement\n",
    "            # i.e. there are h papers (including i) with citations >= h\n",
    "            # return the position not the actual citation number as actual citation number can be higher\n",
    "            if citations[i] >= (n - i):\n",
    "                return n - i\n",
    "        return 0"
   ]
  }
 ],
 "metadata": {
  "kernelspec": {
   "display_name": "Python 3",
   "language": "python",
   "name": "python3"
  },
  "language_info": {
   "codemirror_mode": {
    "name": "ipython",
    "version": 3
   },
   "file_extension": ".py",
   "mimetype": "text/x-python",
   "name": "python",
   "nbconvert_exporter": "python",
   "pygments_lexer": "ipython3",
   "version": "3.8.3"
  }
 },
 "nbformat": 4,
 "nbformat_minor": 4
}
