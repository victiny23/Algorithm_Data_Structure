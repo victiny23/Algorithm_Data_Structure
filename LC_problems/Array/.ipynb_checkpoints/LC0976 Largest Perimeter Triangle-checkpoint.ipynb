{
 "cells": [
  {
   "cell_type": "markdown",
   "metadata": {},
   "source": [
    "976. Largest Perimeter Triangle\n",
    "Easy\n",
    "\n",
    "639\n",
    "\n",
    "61\n",
    "\n",
    "Add to List\n",
    "\n",
    "Share\n",
    "Given an integer array nums, return the largest perimeter of a triangle with a non-zero area, formed from three of these lengths. If it is impossible to form any triangle of a non-zero area, return 0.\n",
    "\n",
    " \n",
    "\n",
    "Example 1:\n",
    "\n",
    "Input: nums = [2,1,2]\n",
    "Output: 5\n",
    "Example 2:\n",
    "\n",
    "Input: nums = [1,2,1]\n",
    "Output: 0\n",
    "Example 3:\n",
    "\n",
    "Input: nums = [3,2,3,4]\n",
    "Output: 10\n",
    "Example 4:\n",
    "\n",
    "Input: nums = [3,6,2,3]\n",
    "Output: 8\n",
    " \n",
    "\n",
    "Constraints:\n",
    "\n",
    "3 <= nums.length <= 104\n",
    "1 <= nums[i] <= 106"
   ]
  },
  {
   "cell_type": "code",
   "execution_count": null,
   "metadata": {},
   "outputs": [],
   "source": [
    "\"\"\"\n",
    "Since e0, e1, e2,..., en are sorted descendingly, and\n",
    "\n",
    "If e0, e1 and e2 can form a valid triangle, then they are the largest perimeter;\n",
    "if they can not form, which implies e0 >= e1 + e2, then e0 >= e1 + e3 also. \n",
    "e0, e1, and e3 can NOT form either.\n",
    "\"\"\""
   ]
  },
  {
   "cell_type": "code",
   "execution_count": null,
   "metadata": {},
   "outputs": [],
   "source": [
    "class Solution:\n",
    "    def largestPerimeter(self, nums: List[int]) -> int:\n",
    "        \"\"\"Sort\"\"\"\n",
    "        nums.sort(reverse=True)\n",
    "        for i in range(len(nums)-2):\n",
    "            if nums[i] < nums[i+1] + nums[i+2]:\n",
    "                return nums[i] + nums[i+1] + nums[i+2]\n",
    "        return 0"
   ]
  },
  {
   "cell_type": "code",
   "execution_count": null,
   "metadata": {},
   "outputs": [],
   "source": [
    "from heapq import heappush, heappop\n",
    "class Solution:\n",
    "    def largestPerimeter(self, nums: List[int]) -> int:\n",
    "        \"\"\"Heap\"\"\"\n",
    "        # build the max-heap\n",
    "        h = []\n",
    "        for num in nums:\n",
    "            heappush(h, -num)\n",
    "        # check 3 edges\n",
    "        a = -heappop(h)\n",
    "        b = -heappop(h)\n",
    "        while h:\n",
    "            c = -heappop(h)\n",
    "            if a < b + c:\n",
    "                return a + b + c\n",
    "            else:\n",
    "                a, b = b, c\n",
    "        return 0"
   ]
  }
 ],
 "metadata": {
  "kernelspec": {
   "display_name": "Python 3",
   "language": "python",
   "name": "python3"
  },
  "language_info": {
   "codemirror_mode": {
    "name": "ipython",
    "version": 3
   },
   "file_extension": ".py",
   "mimetype": "text/x-python",
   "name": "python",
   "nbconvert_exporter": "python",
   "pygments_lexer": "ipython3",
   "version": "3.8.3"
  }
 },
 "nbformat": 4,
 "nbformat_minor": 4
}
