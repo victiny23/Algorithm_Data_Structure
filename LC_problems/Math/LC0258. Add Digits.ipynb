{
 "cells": [
  {
   "cell_type": "markdown",
   "metadata": {},
   "source": [
    "258. Add Digits\n",
    "Easy\n",
    "\n",
    "1415\n",
    "\n",
    "1387\n",
    "\n",
    "Add to List\n",
    "\n",
    "Share\n",
    "Given an integer num, repeatedly add all its digits until the result has only one digit, and return it.\n",
    "\n",
    " \n",
    "\n",
    "Example 1:\n",
    "\n",
    "Input: num = 38\n",
    "Output: 2\n",
    "Explanation: The process is\n",
    "38 --> 3 + 8 --> 11\n",
    "11 --> 1 + 1 --> 2 \n",
    "Since 2 has only one digit, return it.\n",
    "Example 2:\n",
    "\n",
    "Input: num = 0\n",
    "Output: 0\n",
    " \n",
    "\n",
    "Constraints:\n",
    "\n",
    "0 <= num <= 231 - 1\n",
    " \n",
    "\n",
    "Follow up: Could you do it without any loop/recursion in O(1) runtime?"
   ]
  },
  {
   "cell_type": "code",
   "execution_count": null,
   "metadata": {},
   "outputs": [],
   "source": [
    "class Solution:\n",
    "    def addDigits(self, num: int) -> int:\n",
    "        \"\"\"iterative\"\"\"\n",
    "        while num > 9:\n",
    "            res = 0\n",
    "            while num:\n",
    "                res += num%10\n",
    "                num //= 10\n",
    "            num = res\n",
    "        return num\n",
    "        \n",
    "        \"\"\"iterative: divmod\"\"\"\n",
    "        while num > 9:\n",
    "            d, m = divmod(num, 10)\n",
    "            num = d + m\n",
    "        return num\n",
    "        \n",
    "        \"\"\"iterative: str\"\"\"\n",
    "        while num > 9:\n",
    "            num = sum(int(c) for c in str(num))\n",
    "        return num\n",
    "        \n",
    "        \"\"\"math: remainder of division by 9\"\"\"\n",
    "        return (num%9 or 9) if num else 0"
   ]
  }
 ],
 "metadata": {
  "kernelspec": {
   "display_name": "Python 3",
   "language": "python",
   "name": "python3"
  },
  "language_info": {
   "codemirror_mode": {
    "name": "ipython",
    "version": 3
   },
   "file_extension": ".py",
   "mimetype": "text/x-python",
   "name": "python",
   "nbconvert_exporter": "python",
   "pygments_lexer": "ipython3",
   "version": "3.8.3"
  }
 },
 "nbformat": 4,
 "nbformat_minor": 4
}
