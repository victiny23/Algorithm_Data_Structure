{
 "cells": [
  {
   "cell_type": "markdown",
   "metadata": {},
   "source": [
    "812. Largest Triangle Area\n",
    "Easy\n",
    "\n",
    "277\n",
    "\n",
    "1205\n",
    "\n",
    "Add to List\n",
    "\n",
    "Share\n",
    "Given an array of points on the X-Y plane points where points[i] = [xi, yi], return the area of the largest triangle that can be formed by any three different points. Answers within 10-5 of the actual answer will be accepted.\n",
    "\n",
    " \n",
    "\n",
    "Example 1:\n",
    "\n",
    "\n",
    "Input: points = [[0,0],[0,1],[1,0],[0,2],[2,0]]\n",
    "Output: 2.00000\n",
    "Explanation: The five points are shown in the above figure. The red triangle is the largest.\n",
    "Example 2:\n",
    "\n",
    "Input: points = [[1,0],[0,0],[0,1]]\n",
    "Output: 0.50000\n",
    " \n",
    "\n",
    "Constraints:\n",
    "\n",
    "3 <= points.length <= 50\n",
    "-50 <= xi, yi <= 50\n",
    "All the given points are unique."
   ]
  },
  {
   "cell_type": "code",
   "execution_count": null,
   "metadata": {},
   "outputs": [],
   "source": [
    "class Solution:\n",
    "    def largestTriangleArea(self, points: List[List[int]]) -> float:\n",
    "        \"\"\"S = abs(1/2*(x1*(y2-y3) + x2*(y3-y1) + x3*(y1-y2)))\"\"\"\n",
    "        area = 0\n",
    "        for i in range(len(points)-2):\n",
    "            for j in range(i+1, len(points)-1):\n",
    "                for k  in range(j+1, len(points)):\n",
    "                    a = points[i]\n",
    "                    b = points[j]\n",
    "                    c = points[k]\n",
    "                    area = max(area, abs(0.5*(a[0]*(b[1]-c[1]) + b[0]*(c[1]-a[1]) + c[0]*(a[1]-b[1]))))\n",
    "        return area"
   ]
  }
 ],
 "metadata": {
  "kernelspec": {
   "display_name": "Python 3",
   "language": "python",
   "name": "python3"
  },
  "language_info": {
   "codemirror_mode": {
    "name": "ipython",
    "version": 3
   },
   "file_extension": ".py",
   "mimetype": "text/x-python",
   "name": "python",
   "nbconvert_exporter": "python",
   "pygments_lexer": "ipython3",
   "version": "3.8.3"
  }
 },
 "nbformat": 4,
 "nbformat_minor": 4
}
