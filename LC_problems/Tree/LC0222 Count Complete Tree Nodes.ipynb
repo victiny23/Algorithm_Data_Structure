{
 "cells": [
  {
   "cell_type": "markdown",
   "metadata": {},
   "source": [
    "222. Count Complete Tree Nodes\n",
    "Medium\n",
    "\n",
    "3205\n",
    "\n",
    "268\n",
    "\n",
    "Add to List\n",
    "\n",
    "Share\n",
    "Given the root of a complete binary tree, return the number of the nodes in the tree.\n",
    "\n",
    "According to Wikipedia, every level, except possibly the last, is completely filled in a complete binary tree, and all nodes in the last level are as far left as possible. It can have between 1 and 2h nodes inclusive at the last level h.\n",
    "\n",
    "Design an algorithm that runs in less than O(n) time complexity.\n",
    "\n",
    " \n",
    "\n",
    "Example 1:\n",
    "\n",
    "\n",
    "Input: root = [1,2,3,4,5,6]\n",
    "Output: 6\n",
    "Example 2:\n",
    "\n",
    "Input: root = []\n",
    "Output: 0\n",
    "Example 3:\n",
    "\n",
    "Input: root = [1]\n",
    "Output: 1\n",
    " \n",
    "\n",
    "Constraints:\n",
    "\n",
    "The number of nodes in the tree is in the range [0, 5 * 104].\n",
    "0 <= Node.val <= 5 * 104\n",
    "The tree is guaranteed to be complete."
   ]
  },
  {
   "cell_type": "code",
   "execution_count": null,
   "metadata": {},
   "outputs": [],
   "source": [
    "# Definition for a binary tree node.\n",
    "# class TreeNode:\n",
    "#     def __init__(self, val=0, left=None, right=None):\n",
    "#         self.val = val\n",
    "#         self.left = left\n",
    "#         self.right = right\n",
    "class Solution:\n",
    "    def getDepth(self, root):\n",
    "        depth = 0\n",
    "        while root:\n",
    "            depth += 1\n",
    "            root = root.left\n",
    "        return depth\n",
    "        \n",
    "    def countNodes(self, root: TreeNode) -> int:\n",
    "        \"\"\"simple recursion\"\"\"\n",
    "        # empty tree\n",
    "        if not root:\n",
    "            return 0\n",
    "        # root only\n",
    "        if not root.left and not root.right:\n",
    "            return 1\n",
    "        # left only\n",
    "        if not root.right:\n",
    "            return 2\n",
    "        # left and right:\n",
    "        return 1 + self.countNodes(root.left) + self.countNodes(root.right)\n",
    "        \n",
    "        \"\"\"split the subtrees into a perfect binary tree and a complete binary tree\"\"\"\n",
    "        if not root:\n",
    "            return 0\n",
    "        l_depth = self.getDepth(root.left)\n",
    "        r_depth = self.getDepth(root.right)\n",
    "        # left is perfect binary tree and right is complete binary tree\n",
    "        if l_depth == r_depth:\n",
    "            return 2**(l_depth) + self.countNodes(root.right)\n",
    "        # left is complete binary tree and right is perfect binary tree\n",
    "        else:\n",
    "            return 2**(r_depth) + self.countNodes(root.left)"
   ]
  },
  {
   "cell_type": "code",
   "execution_count": null,
   "metadata": {},
   "outputs": [],
   "source": [
    "\"\"\"Binary Search: find the level/depth first, then use Binary Search to find the number of nodes in the last row\"\"\"\n",
    "# ???"
   ]
  }
 ],
 "metadata": {
  "kernelspec": {
   "display_name": "Python 3",
   "language": "python",
   "name": "python3"
  },
  "language_info": {
   "codemirror_mode": {
    "name": "ipython",
    "version": 3
   },
   "file_extension": ".py",
   "mimetype": "text/x-python",
   "name": "python",
   "nbconvert_exporter": "python",
   "pygments_lexer": "ipython3",
   "version": "3.8.3"
  }
 },
 "nbformat": 4,
 "nbformat_minor": 4
}
