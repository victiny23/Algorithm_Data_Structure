{
 "cells": [
  {
   "cell_type": "markdown",
   "metadata": {},
   "source": [
    "589. N-ary Tree Preorder Traversal\n",
    "Easy\n",
    "\n",
    "1209\n",
    "\n",
    "68\n",
    "\n",
    "Add to List\n",
    "\n",
    "Share\n",
    "Given the root of an n-ary tree, return the preorder traversal of its nodes' values.\n",
    "\n",
    "Nary-Tree input serialization is represented in their level order traversal. Each group of children is separated by the null value (See examples)\n",
    "\n",
    " \n",
    "\n",
    "Example 1:\n",
    "\n",
    "\n",
    "\n",
    "Input: root = [1,null,3,2,4,null,5,6]\n",
    "Output: [1,3,5,6,2,4]\n",
    "Example 2:\n",
    "\n",
    "\n",
    "\n",
    "Input: root = [1,null,2,3,4,5,null,null,6,7,null,8,null,9,10,null,null,11,null,12,null,13,null,null,14]\n",
    "Output: [1,2,3,6,7,11,14,4,8,12,5,9,13,10]\n",
    " \n",
    "\n",
    "Constraints:\n",
    "\n",
    "The number of nodes in the tree is in the range [0, 104].\n",
    "0 <= Node.val <= 104\n",
    "The height of the n-ary tree is less than or equal to 1000.\n",
    " \n",
    "\n",
    "Follow up: Recursive solution is trivial, could you do it iteratively?"
   ]
  },
  {
   "cell_type": "code",
   "execution_count": null,
   "metadata": {},
   "outputs": [],
   "source": [
    "\"\"\"\n",
    "# Definition for a Node.\n",
    "class Node:\n",
    "    def __init__(self, val=None, children=None):\n",
    "        self.val = val\n",
    "        self.children = children\n",
    "\"\"\"\n",
    "\n",
    "class Solution:\n",
    "    def preorder(self, root: 'Node') -> List[int]:\n",
    "        \"\"\"iterative\"\"\"\n",
    "        tree, stack = [], [root]\n",
    "        while stack:\n",
    "            node = stack.pop()\n",
    "            if node:\n",
    "                tree.append(node.val)\n",
    "                children = node.children\n",
    "                for child in children[::-1]:\n",
    "                    stack.append(child)\n",
    "        return tree\n",
    "        \n",
    "        \"\"\"recursive\"\"\"\n",
    "        tree = [] \n",
    "        def pre_order(root):\n",
    "            if root:\n",
    "                tree.append(root.val)\n",
    "                children = root.children\n",
    "                for child in children:\n",
    "                    pre_order(child)\n",
    "        pre_order(root)\n",
    "        return tree      "
   ]
  }
 ],
 "metadata": {
  "kernelspec": {
   "display_name": "Python 3",
   "language": "python",
   "name": "python3"
  },
  "language_info": {
   "codemirror_mode": {
    "name": "ipython",
    "version": 3
   },
   "file_extension": ".py",
   "mimetype": "text/x-python",
   "name": "python",
   "nbconvert_exporter": "python",
   "pygments_lexer": "ipython3",
   "version": "3.8.3"
  }
 },
 "nbformat": 4,
 "nbformat_minor": 4
}
