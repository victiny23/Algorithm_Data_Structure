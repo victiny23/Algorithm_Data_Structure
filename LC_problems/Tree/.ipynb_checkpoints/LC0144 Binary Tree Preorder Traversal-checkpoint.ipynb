{
 "cells": [
  {
   "cell_type": "markdown",
   "metadata": {},
   "source": [
    "144. Binary Tree Preorder Traversal\n",
    "Easy\n",
    "\n",
    "2535\n",
    "\n",
    "93\n",
    "\n",
    "Add to List\n",
    "\n",
    "Share\n",
    "Given the root of a binary tree, return the preorder traversal of its nodes' values.\n",
    "\n",
    " \n",
    "\n",
    "Example 1:\n",
    "\n",
    "\n",
    "Input: root = [1,null,2,3]\n",
    "Output: [1,2,3]\n",
    "Example 2:\n",
    "\n",
    "Input: root = []\n",
    "Output: []\n",
    "Example 3:\n",
    "\n",
    "Input: root = [1]\n",
    "Output: [1]\n",
    "Example 4:\n",
    "\n",
    "\n",
    "Input: root = [1,2]\n",
    "Output: [1,2]\n",
    "Example 5:\n",
    "\n",
    "\n",
    "Input: root = [1,null,2]\n",
    "Output: [1,2]\n",
    " \n",
    "\n",
    "Constraints:\n",
    "\n",
    "The number of nodes in the tree is in the range [0, 100].\n",
    "-100 <= Node.val <= 100\n",
    " \n",
    "\n",
    "Follow up: Recursive solution is trivial, could you do it iteratively?"
   ]
  },
  {
   "cell_type": "code",
   "execution_count": null,
   "metadata": {},
   "outputs": [],
   "source": [
    "# Definition for a binary tree node.\n",
    "# class TreeNode:\n",
    "#     def __init__(self, val=0, left=None, right=None):\n",
    "#         self.val = val\n",
    "#         self.left = left\n",
    "#         self.right = right\n",
    "class Solution:     \n",
    "    def preorderTraversal(self, root: TreeNode) -> List[int]:\n",
    "        \"\"\"recursive, no func\"\"\"\n",
    "        if not root:\n",
    "            return []\n",
    "        else:\n",
    "            left = self.preorderTraversal(root.left)\n",
    "            right = self.preorderTraversal(root.right)\n",
    "            return [root.val] + left + right"
   ]
  },
  {
   "cell_type": "code",
   "execution_count": null,
   "metadata": {},
   "outputs": [],
   "source": [
    "class Solution:\n",
    "    def preorderTraversal(self, root: TreeNode) -> List[int]:\n",
    "        \"\"\"recursive, func-in\"\"\"\n",
    "        tree = []\n",
    "        def pre_order(root):\n",
    "            if root:\n",
    "                tree.append(root.val)\n",
    "                pre_order(root.left)\n",
    "                pre_order(root.right)\n",
    "        pre_order(root)\n",
    "        return tree"
   ]
  },
  {
   "cell_type": "code",
   "execution_count": null,
   "metadata": {},
   "outputs": [],
   "source": [
    "class Solution:\n",
    "    def helper(self, root, res):\n",
    "        if root:\n",
    "            res.append(root.val)\n",
    "            self.helper(root.left, res)\n",
    "            self.helper(root.right, res)\n",
    "            \n",
    "    def preorderTraversal(self, root: TreeNode) -> List[int]:\n",
    "        \"\"\"recursive, func-out\"\"\"\n",
    "        tree = []\n",
    "        self.helper(root, tree)\n",
    "        return tree"
   ]
  },
  {
   "cell_type": "code",
   "execution_count": null,
   "metadata": {},
   "outputs": [],
   "source": [
    "class Solution:\n",
    "    def preorderTraversal(self, root: TreeNode) -> List[int]:\n",
    "        \"\"\"iterative\"\"\"\n",
    "        tree, stack = [], [root]\n",
    "        while stack:\n",
    "            node = stack.pop()\n",
    "            if node:\n",
    "                tree.append(node.val)\n",
    "                # add right first then left, so pop left first then right\n",
    "                # the stack is used to store unused nodes\n",
    "                stack.append(node.right)\n",
    "                stack.append(node.left)\n",
    "        return tree"
   ]
  },
  {
   "cell_type": "code",
   "execution_count": null,
   "metadata": {},
   "outputs": [],
   "source": [
    "class Solution:\n",
    "    def preorderTraversal(self, root: TreeNode) -> List[int]:\n",
    "        \"\"\"iterative\"\"\"\n",
    "        tree, stack = [], [] \n",
    "        while True:\n",
    "            # add the current root to the stack\n",
    "            if root:\n",
    "                stack.append(root)\n",
    "            # no more nodes left in the stack to work with\n",
    "            if not stack:\n",
    "                return tree\n",
    "            # get the current root\n",
    "            node = stack.pop()\n",
    "            tree.append(node.val)\n",
    "            # must check if node.right is None, otherwise adding Noe to the top of the stack\n",
    "            # then next time None is popped and no value to be added to the tree\n",
    "            if node.right: \n",
    "                stack.append(node.right) # save the right in the stack\n",
    "            root = node.left # move to the left of the current root as the new root"
   ]
  }
 ],
 "metadata": {
  "kernelspec": {
   "display_name": "Python 3",
   "language": "python",
   "name": "python3"
  },
  "language_info": {
   "codemirror_mode": {
    "name": "ipython",
    "version": 3
   },
   "file_extension": ".py",
   "mimetype": "text/x-python",
   "name": "python",
   "nbconvert_exporter": "python",
   "pygments_lexer": "ipython3",
   "version": "3.8.3"
  }
 },
 "nbformat": 4,
 "nbformat_minor": 4
}
