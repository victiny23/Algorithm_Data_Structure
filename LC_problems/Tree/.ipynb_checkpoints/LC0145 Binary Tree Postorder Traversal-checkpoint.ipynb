{
 "cells": [
  {
   "cell_type": "markdown",
   "metadata": {},
   "source": [
    "145. Binary Tree Postorder Traversal\n",
    "Easy\n",
    "\n",
    "2843\n",
    "\n",
    "121\n",
    "\n",
    "Add to List\n",
    "\n",
    "Share\n",
    "Given the root of a binary tree, return the postorder traversal of its nodes' values.\n",
    "\n",
    " \n",
    "\n",
    "Example 1:\n",
    "\n",
    "\n",
    "Input: root = [1,null,2,3]\n",
    "Output: [3,2,1]\n",
    "Example 2:\n",
    "\n",
    "Input: root = []\n",
    "Output: []\n",
    "Example 3:\n",
    "\n",
    "Input: root = [1]\n",
    "Output: [1]\n",
    "Example 4:\n",
    "\n",
    "\n",
    "Input: root = [1,2]\n",
    "Output: [2,1]\n",
    "Example 5:\n",
    "\n",
    "\n",
    "Input: root = [1,null,2]\n",
    "Output: [2,1]\n",
    " \n",
    "\n",
    "Constraints:\n",
    "\n",
    "The number of the nodes in the tree is in the range [0, 100].\n",
    "-100 <= Node.val <= 100\n",
    " \n",
    "\n",
    "Follow up: Recursive solution is trivial, could you do it iteratively?"
   ]
  },
  {
   "cell_type": "code",
   "execution_count": null,
   "metadata": {},
   "outputs": [],
   "source": [
    "# Definition for a binary tree node.\n",
    "# class TreeNode:\n",
    "#     def __init__(self, val=0, left=None, right=None):\n",
    "#         self.val = val\n",
    "#         self.left = left\n",
    "#         self.right = right\n",
    "class Solution:\n",
    "    def postorderTraversal(self, root: TreeNode) -> List[int]:\n",
    "        \"\"\"recursive, func-out\"\"\"\n",
    "        if not root:\n",
    "            return []\n",
    "        else:\n",
    "            left = self.postorderTraversal(root.left)\n",
    "            right = self.postorderTraversal(root.right)\n",
    "            return left + right + [root.val]"
   ]
  },
  {
   "cell_type": "code",
   "execution_count": null,
   "metadata": {},
   "outputs": [],
   "source": [
    "class Solution:        \n",
    "    def postorderTraversal(self, root: TreeNode) -> List[int]:\n",
    "        \"\"\"recursive, func-in\"\"\"\n",
    "        tree = []\n",
    "        def post_order(root):\n",
    "            if root:\n",
    "                post_order(root.left)\n",
    "                post_order(root.right)\n",
    "                tree.append(root.val)\n",
    "        post_order(root)\n",
    "        return tree"
   ]
  },
  {
   "cell_type": "code",
   "execution_count": null,
   "metadata": {},
   "outputs": [],
   "source": [
    "class Solution:\n",
    "    def helper(self, root, res):\n",
    "        if root:\n",
    "            self.helper(root.left, res)\n",
    "            self.helper(root.right, res)\n",
    "            res.append(root.val)\n",
    "            \n",
    "    def postorderTraversal(self, root: TreeNode) -> List[int]:\n",
    "        \"\"\"recursive, func-out\"\"\"\n",
    "        tree = []\n",
    "        self.helper(root, tree)\n",
    "        return tree"
   ]
  },
  {
   "cell_type": "code",
   "execution_count": null,
   "metadata": {},
   "outputs": [],
   "source": [
    "class Solution:\n",
    "    def postorderTraversal(self, root: TreeNode) -> List[int]:\n",
    "        \"\"\"iterative: switch the left and right sub-tre during in_order, then reverse the list \"\"\"\n",
    "        tree, stack = [], []\n",
    "        while True:\n",
    "            if root:\n",
    "                stack.append(root)\n",
    "            if not stack:\n",
    "                return tree[::-1]\n",
    "            node = stack.pop()\n",
    "            tree.append(node.val)\n",
    "            if node.left:\n",
    "                stack.append(node.left)\n",
    "            root = node.right"
   ]
  },
  {
   "cell_type": "code",
   "execution_count": null,
   "metadata": {},
   "outputs": [],
   "source": [
    "class Solution:\n",
    "    def postorderTraversal(self, root: TreeNode) -> List[int]:\n",
    "        \"\"\"iterative: switch the left and right sub-tre during in_order, then reverse the list \"\"\"\n",
    "        tree, stack = [], [root]\n",
    "        while stack:\n",
    "            node = stack.pop()\n",
    "            if node:\n",
    "                tree.append(node.val)\n",
    "                stack.append(node.left)\n",
    "                stack.append(node.right)\n",
    "        return tree[::-1]           "
   ]
  }
 ],
 "metadata": {
  "kernelspec": {
   "display_name": "Python 3",
   "language": "python",
   "name": "python3"
  },
  "language_info": {
   "codemirror_mode": {
    "name": "ipython",
    "version": 3
   },
   "file_extension": ".py",
   "mimetype": "text/x-python",
   "name": "python",
   "nbconvert_exporter": "python",
   "pygments_lexer": "ipython3",
   "version": "3.8.3"
  }
 },
 "nbformat": 4,
 "nbformat_minor": 4
}
