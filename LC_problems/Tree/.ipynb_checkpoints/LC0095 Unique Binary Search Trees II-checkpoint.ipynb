{
 "cells": [
  {
   "cell_type": "markdown",
   "metadata": {},
   "source": [
    "95. Unique Binary Search Trees II\n",
    "Medium\n",
    "\n",
    "3382\n",
    "\n",
    "221\n",
    "\n",
    "Add to List\n",
    "\n",
    "Share\n",
    "Given an integer n, return all the structurally unique BST's (binary search trees), which has exactly n nodes of unique values from 1 to n. Return the answer in any order.\n",
    "\n",
    " \n",
    "\n",
    "Example 1:\n",
    "\n",
    "\n",
    "Input: n = 3\n",
    "Output: [[1,null,2,null,3],[1,null,3,2],[2,1,3],[3,1,null,null,2],[3,2,null,1]]\n",
    "Example 2:\n",
    "\n",
    "Input: n = 1\n",
    "Output: [[1]]\n",
    " \n",
    "\n",
    "Constraints:\n",
    "\n",
    "1 <= n <= 8"
   ]
  },
  {
   "cell_type": "code",
   "execution_count": null,
   "metadata": {},
   "outputs": [],
   "source": [
    "# Definition for a binary tree node.\n",
    "# class TreeNode:\n",
    "#     def __init__(self, val=0, left=None, right=None):\n",
    "#         self.val = val\n",
    "#         self.left = left\n",
    "#         self.right = right\n",
    "class Solution:\n",
    "    def generateTrees(self, n: int) -> List[TreeNode]:\n",
    "        if n == 0:\n",
    "            return []\n",
    "        # return self.dfs(1, n + 1)\n",
    "        return self.dfs2([i for i in range(1, n+1)])\n",
    "    \n",
    "    def dfs(self, start, end):\n",
    "        if start == end:\n",
    "            return [None]\n",
    "        # list of all unique BST\n",
    "        trees = []\n",
    "        # loop through all roots\n",
    "        for curr_root in range(start, end):\n",
    "            # recursively get the left subtree of the current node\n",
    "            for left_tree in self.dfs(start, curr_root):\n",
    "                # recursively get the right subtree of the current node\n",
    "                for right_tree in self.dfs(curr_root+1, end):\n",
    "                    # create the root node and connect to the left subtree and right subtree\n",
    "                    node = TreeNode(curr_root)\n",
    "                    node.left = left_tree\n",
    "                    node.right = right_tree\n",
    "                    # add the tree to the list of all trees\n",
    "                    trees.append(node)\n",
    "        return trees"
   ]
  }
 ],
 "metadata": {
  "kernelspec": {
   "display_name": "Python 3",
   "language": "python",
   "name": "python3"
  },
  "language_info": {
   "codemirror_mode": {
    "name": "ipython",
    "version": 3
   },
   "file_extension": ".py",
   "mimetype": "text/x-python",
   "name": "python",
   "nbconvert_exporter": "python",
   "pygments_lexer": "ipython3",
   "version": "3.8.3"
  }
 },
 "nbformat": 4,
 "nbformat_minor": 4
}
