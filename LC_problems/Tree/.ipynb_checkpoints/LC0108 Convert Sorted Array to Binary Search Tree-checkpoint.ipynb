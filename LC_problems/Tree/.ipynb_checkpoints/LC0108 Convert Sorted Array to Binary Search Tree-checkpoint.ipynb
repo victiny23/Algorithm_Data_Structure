{
 "cells": [
  {
   "cell_type": "markdown",
   "metadata": {},
   "source": [
    "108. Convert Sorted Array to Binary Search Tree\n",
    "Easy\n",
    "\n",
    "4570\n",
    "\n",
    "299\n",
    "\n",
    "Add to List\n",
    "\n",
    "Share\n",
    "Given an integer array nums where the elements are sorted in ascending order, convert it to a height-balanced binary search tree.\n",
    "\n",
    "A height-balanced binary tree is a binary tree in which the depth of the two subtrees of every node never differs by more than one.\n",
    "\n",
    " \n",
    "\n",
    "Example 1:\n",
    "\n",
    "\n",
    "Input: nums = [-10,-3,0,5,9]\n",
    "Output: [0,-3,9,-10,null,5]\n",
    "Explanation: [0,-10,5,null,-3,null,9] is also accepted:\n",
    "\n",
    "Example 2:\n",
    "\n",
    "\n",
    "Input: nums = [1,3]\n",
    "Output: [3,1]\n",
    "Explanation: [1,3] and [3,1] are both a height-balanced BSTs.\n",
    " \n",
    "\n",
    "Constraints:\n",
    "\n",
    "1 <= nums.length <= 104\n",
    "-104 <= nums[i] <= 104\n",
    "nums is sorted in a strictly increasing order."
   ]
  },
  {
   "cell_type": "code",
   "execution_count": null,
   "metadata": {},
   "outputs": [],
   "source": [
    "# Definition for a binary tree node.\n",
    "# class TreeNode:\n",
    "#     def __init__(self, val=0, left=None, right=None):\n",
    "#         self.val = val\n",
    "#         self.left = left\n",
    "#         self.right = right\n",
    "class Solution:\n",
    "    def sortedArrayToBST(self, nums: List[int]) -> TreeNode:\n",
    "        \"\"\"recursive\"\"\"\n",
    "        if not nums:\n",
    "            return None\n",
    "        mid = len(nums)//2\n",
    "        root = TreeNode(nums[mid])\n",
    "        # left tree \n",
    "        root.left = self.sortedArrayToBST(nums[:mid])\n",
    "        # right tree\n",
    "        root.right = self.sortedArrayToBST(nums[mid+1:])\n",
    "        return root\n",
    "    \n",
    "        \"\"\"\n",
    "        Slicing the array is expensive. \n",
    "        It is better to pass the left and right bounds into recursive calls instead\n",
    "        \"\"\"\n",
    "        if not nums:\n",
    "            return None\n",
    "        def dfs(left, right):\n",
    "            if left > right:\n",
    "                return None\n",
    "            mid = (left + right)//2\n",
    "            root = TreeNode(nums[mid])\n",
    "            root.left = dfs(left, mid-1)\n",
    "            root.right = dfs(mid+1, right)\n",
    "            return root\n",
    "        return dfs(0, len(nums)-1)       "
   ]
  }
 ],
 "metadata": {
  "kernelspec": {
   "display_name": "Python 3",
   "language": "python",
   "name": "python3"
  },
  "language_info": {
   "codemirror_mode": {
    "name": "ipython",
    "version": 3
   },
   "file_extension": ".py",
   "mimetype": "text/x-python",
   "name": "python",
   "nbconvert_exporter": "python",
   "pygments_lexer": "ipython3",
   "version": "3.8.3"
  }
 },
 "nbformat": 4,
 "nbformat_minor": 4
}
