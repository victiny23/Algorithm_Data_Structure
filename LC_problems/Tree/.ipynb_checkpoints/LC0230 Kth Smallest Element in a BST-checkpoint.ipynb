{
 "cells": [
  {
   "cell_type": "markdown",
   "metadata": {},
   "source": [
    "230. Kth Smallest Element in a BST\n",
    "Medium\n",
    "\n",
    "4318\n",
    "\n",
    "93\n",
    "\n",
    "Add to List\n",
    "\n",
    "Share\n",
    "Given the root of a binary search tree, and an integer k, return the kth (1-indexed) smallest element in the tree.\n",
    "\n",
    " \n",
    "\n",
    "Example 1:\n",
    "\n",
    "\n",
    "Input: root = [3,1,4,null,2], k = 1\n",
    "Output: 1\n",
    "Example 2:\n",
    "\n",
    "\n",
    "Input: root = [5,3,6,2,4,null,null,1], k = 3\n",
    "Output: 3\n",
    " \n",
    "\n",
    "Constraints:\n",
    "\n",
    "The number of nodes in the tree is n.\n",
    "1 <= k <= n <= 104\n",
    "0 <= Node.val <= 104"
   ]
  },
  {
   "cell_type": "code",
   "execution_count": null,
   "metadata": {},
   "outputs": [],
   "source": [
    "# Definition for a binary tree node.\n",
    "# class TreeNode:\n",
    "#     def __init__(self, val=0, left=None, right=None):\n",
    "#         self.val = val\n",
    "#         self.left = left\n",
    "#         self.right = right\n",
    "class Solution:\n",
    "    def in_order(self, root):\n",
    "        if root:\n",
    "            l_tree = self.in_order(root.left)\n",
    "            r_tree = self.in_order(root.right)\n",
    "            return l_tree + [root.val] + r_tree\n",
    "        return []\n",
    "            \n",
    "    def kthSmallest(self, root: TreeNode, k: int) -> int:\n",
    "        \"\"\"in_order, recursive\"\"\"\n",
    "        tree = self.in_order(root)\n",
    "        return tree[k - 1]"
   ]
  },
  {
   "cell_type": "code",
   "execution_count": null,
   "metadata": {},
   "outputs": [],
   "source": [
    "class Solution:\n",
    "    def in_order2(self, root, tree):\n",
    "        if not root:\n",
    "            return \n",
    "        self.in_order2(root.left, tree)\n",
    "        tree.append(root.val)\n",
    "        self.in_order2(root.right, tree)\n",
    "\n",
    "        \n",
    "    def kthSmallest(self, root: TreeNode, k: int) -> int:        \n",
    "        \"\"\"in_order2, recursive\"\"\"\n",
    "        tree = []\n",
    "        self.in_order2(root, tree)\n",
    "        return tree[k-1]"
   ]
  },
  {
   "cell_type": "code",
   "execution_count": null,
   "metadata": {},
   "outputs": [],
   "source": [
    "class Solution:     \n",
    "    def countNodes(self, root):\n",
    "        if not root:\n",
    "            return 0\n",
    "        else:\n",
    "            return 1 + self.countNodes(root.left) + self.countNodes(root.right)\n",
    "          \n",
    "    def kthSmallest(self, root: TreeNode, k: int) -> int:\n",
    "        \"\"\"count the nodes in the sub-tree to locate the node\"\"\"\n",
    "        l_cnt = self.countNodes(root.left)\n",
    "        # the node is in the left sub-tree\n",
    "        if k <= l_cnt:\n",
    "            return self.kthSmallest(root.left, k)\n",
    "        # the node is in the right sub_tree\n",
    "        elif k > l_cnt + 1:\n",
    "            return self.kthSmallest(root.right, k - 1 - l_cnt)\n",
    "        # the node is the current root\n",
    "        else:\n",
    "            return root.val"
   ]
  },
  {
   "cell_type": "code",
   "execution_count": null,
   "metadata": {},
   "outputs": [],
   "source": [
    "class Solution:        \n",
    "    def kthSmallest(self, root: TreeNode, k: int) -> int:        \n",
    "        \"\"\"in_order, iterative\"\"\"\n",
    "        tree = []\n",
    "        while root or tree:\n",
    "            # adding left child to the stack across levels descending\n",
    "            while root:\n",
    "                tree.append(root)\n",
    "                root = root.left\n",
    "            root = tree.pop()\n",
    "            k -= 1\n",
    "            if k == 0:\n",
    "                return root.val\n",
    "            # search the right sub_tree of the current root\n",
    "            root = root.right"
   ]
  },
  {
   "cell_type": "code",
   "execution_count": null,
   "metadata": {},
   "outputs": [],
   "source": [
    "class Solution:        \n",
    "    def kthSmallest(self, root: TreeNode, k: int) -> int: \n",
    "        \"\"\"in_order recursive with early exit\"\"\"\n",
    "        def in_order_ee(root):\n",
    "            if not root:\n",
    "                return\n",
    "            in_order_ee(root.left)   \n",
    "            self.k -= 1\n",
    "            if self.k == 0:\n",
    "                self.res = root.val\n",
    "                return\n",
    "            in_order_ee(root.right)\n",
    "        \n",
    "        self.k = k\n",
    "        in_order_ee(root)\n",
    "        return self.res"
   ]
  },
  {
   "cell_type": "code",
   "execution_count": null,
   "metadata": {},
   "outputs": [],
   "source": [
    "\"\"\"Binary Search???\"\"\""
   ]
  }
 ],
 "metadata": {
  "kernelspec": {
   "display_name": "Python 3",
   "language": "python",
   "name": "python3"
  },
  "language_info": {
   "codemirror_mode": {
    "name": "ipython",
    "version": 3
   },
   "file_extension": ".py",
   "mimetype": "text/x-python",
   "name": "python",
   "nbconvert_exporter": "python",
   "pygments_lexer": "ipython3",
   "version": "3.8.3"
  }
 },
 "nbformat": 4,
 "nbformat_minor": 4
}
