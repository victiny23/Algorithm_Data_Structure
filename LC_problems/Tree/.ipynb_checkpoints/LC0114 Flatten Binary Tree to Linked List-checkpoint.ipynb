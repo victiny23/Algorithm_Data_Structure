{
 "cells": [
  {
   "cell_type": "markdown",
   "metadata": {},
   "source": [
    "114. Flatten Binary Tree to Linked List\n",
    "Medium\n",
    "\n",
    "5089\n",
    "\n",
    "425\n",
    "\n",
    "Add to List\n",
    "\n",
    "Share\n",
    "Given the root of a binary tree, flatten the tree into a \"linked list\":\n",
    "\n",
    "The \"linked list\" should use the same TreeNode class where the right child pointer points to the next node in the list and the left child pointer is always null.\n",
    "The \"linked list\" should be in the same order as a pre-order traversal of the binary tree.\n",
    " \n",
    "\n",
    "Example 1:\n",
    "\n",
    "\n",
    "Input: root = [1,2,5,3,4,null,6]\n",
    "Output: [1,null,2,null,3,null,4,null,5,null,6]\n",
    "Example 2:\n",
    "\n",
    "Input: root = []\n",
    "Output: []\n",
    "Example 3:\n",
    "\n",
    "Input: root = [0]\n",
    "Output: [0]\n",
    " \n",
    "\n",
    "Constraints:\n",
    "\n",
    "The number of nodes in the tree is in the range [0, 2000].\n",
    "-100 <= Node.val <= 100"
   ]
  },
  {
   "cell_type": "code",
   "execution_count": null,
   "metadata": {},
   "outputs": [],
   "source": [
    "# Definition for a binary tree node.\n",
    "# class TreeNode:\n",
    "#     def __init__(self, val=0, left=None, right=None):\n",
    "#         self.val = val\n",
    "#         self.left = left\n",
    "#         self.right = right\n",
    "class Solution:\n",
    "    def flatten(self, root: TreeNode) -> None:\n",
    "        \"\"\"\n",
    "        Do not return anything, modify root in-place instead.\n",
    "        \"\"\"\n",
    "        \"\"\"recursive: dfs with stack, save the nodes in a list and re-connect\"\"\"\n",
    "        if not root: \n",
    "            return \n",
    "        if not root.left and not root.right:\n",
    "            return \n",
    "        def dfs(root, nodes):\n",
    "            if root:\n",
    "                nodes.append(root)\n",
    "                dfs(root.left, nodes)\n",
    "                dfs(root.right, nodes)\n",
    "        nodes = []\n",
    "        dfs(root,nodes)\n",
    "        for i in range(len(nodes)-1):\n",
    "            nodes[i].left = None\n",
    "            nodes[i].right = nodes[i+1]"
   ]
  },
  {
   "cell_type": "code",
   "execution_count": null,
   "metadata": {},
   "outputs": [],
   "source": [
    "class Solution:\n",
    "    def flatten(self, root: TreeNode) -> None:\n",
    "        \"\"\"recursive, using the fact that in preorder, root is the prev node of root.right\"\"\"\n",
    "        self.prev = None\n",
    "        def in_order(root):\n",
    "            if not root:\n",
    "                return None\n",
    "            # in preorder, root is the prev node of root.right\n",
    "            self.prev = root\n",
    "            # 1. operation on left branch\n",
    "            in_order(root.left)\n",
    "            # 2. operation on root \n",
    "            # save root.right to tmp\n",
    "            tmp = root.right\n",
    "            # re-connect\n",
    "            root.left, root.right, self.prev.right = None, root.left, tmp\n",
    "            # 3. operation on right branch\n",
    "            in_order(tmp)\n",
    "        in_order(root) "
   ]
  },
  {
   "cell_type": "code",
   "execution_count": null,
   "metadata": {},
   "outputs": [],
   "source": [
    "class Solution:\n",
    "    def flatten(self, root: TreeNode) -> None:\n",
    "        \"\"\"\n",
    "        recursive: bottom-up with reversed pre_order: right-left-root,\n",
    "        use head to mark the root of the current sub-tree\n",
    "        \"\"\"\n",
    "        self.head = None\n",
    "        def helper(root):\n",
    "            if not root:\n",
    "                return\n",
    "            if root.right: \n",
    "                helper(root.right)\n",
    "            if root.left:\n",
    "                helper(root.left)\n",
    "            root.left, root.right, self.head = None, self.head, root\n",
    "        helper(root)"
   ]
  },
  {
   "cell_type": "code",
   "execution_count": null,
   "metadata": {},
   "outputs": [],
   "source": [
    "class Solution:\n",
    "    def flatten(self, root: TreeNode) -> None:\n",
    "        \"\"\"Morris traversal\"\"\""
   ]
  }
 ],
 "metadata": {
  "kernelspec": {
   "display_name": "Python 3",
   "language": "python",
   "name": "python3"
  },
  "language_info": {
   "codemirror_mode": {
    "name": "ipython",
    "version": 3
   },
   "file_extension": ".py",
   "mimetype": "text/x-python",
   "name": "python",
   "nbconvert_exporter": "python",
   "pygments_lexer": "ipython3",
   "version": "3.8.3"
  }
 },
 "nbformat": 4,
 "nbformat_minor": 4
}
