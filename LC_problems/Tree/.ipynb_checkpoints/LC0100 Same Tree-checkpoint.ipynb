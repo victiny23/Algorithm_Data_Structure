{
 "cells": [
  {
   "cell_type": "markdown",
   "metadata": {},
   "source": [
    "100. Same Tree\n",
    "Easy\n",
    "\n",
    "3676\n",
    "\n",
    "94\n",
    "\n",
    "Add to List\n",
    "\n",
    "Share\n",
    "Given the roots of two binary trees p and q, write a function to check if they are the same or not.\n",
    "\n",
    "Two binary trees are considered the same if they are structurally identical, and the nodes have the same value.\n",
    "\n",
    " \n",
    "\n",
    "Example 1:\n",
    "\n",
    "\n",
    "Input: p = [1,2,3], q = [1,2,3]\n",
    "Output: true\n",
    "Example 2:\n",
    "\n",
    "\n",
    "Input: p = [1,2], q = [1,null,2]\n",
    "Output: false\n",
    "Example 3:\n",
    "\n",
    "\n",
    "Input: p = [1,2,1], q = [1,1,2]\n",
    "Output: false\n",
    " \n",
    "\n",
    "Constraints:\n",
    "\n",
    "The number of nodes in both trees is in the range [0, 100].\n",
    "-104 <= Node.val <= 104"
   ]
  },
  {
   "cell_type": "code",
   "execution_count": null,
   "metadata": {},
   "outputs": [],
   "source": [
    "# Definition for a binary tree node.\n",
    "# class TreeNode:\n",
    "#     def __init__(self, val=0, left=None, right=None):\n",
    "#         self.val = val\n",
    "#         self.left = left\n",
    "#         self.right = right\n",
    "class Solution:\n",
    "    def isSameTree(self, p: TreeNode, q: TreeNode) -> bool:\n",
    "        if not p and not q:\n",
    "            return True\n",
    "        if not p:\n",
    "            return False\n",
    "        if not q:\n",
    "            return False\n",
    "        return p.val == q.val and self.isSameTree(p.left, q.left) and self.isSameTree(p.right, q.right)"
   ]
  }
 ],
 "metadata": {
  "kernelspec": {
   "display_name": "Python 3",
   "language": "python",
   "name": "python3"
  },
  "language_info": {
   "codemirror_mode": {
    "name": "ipython",
    "version": 3
   },
   "file_extension": ".py",
   "mimetype": "text/x-python",
   "name": "python",
   "nbconvert_exporter": "python",
   "pygments_lexer": "ipython3",
   "version": "3.8.3"
  }
 },
 "nbformat": 4,
 "nbformat_minor": 4
}
