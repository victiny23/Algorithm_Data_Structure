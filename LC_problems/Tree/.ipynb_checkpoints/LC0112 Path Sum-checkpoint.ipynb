{
 "cells": [
  {
   "cell_type": "markdown",
   "metadata": {},
   "source": [
    "112. Path Sum\n",
    "Easy\n",
    "\n",
    "3627\n",
    "\n",
    "656\n",
    "\n",
    "Add to List\n",
    "\n",
    "Share\n",
    "Given the root of a binary tree and an integer targetSum, return true if the tree has a root-to-leaf path such that adding up all the values along the path equals targetSum.\n",
    "\n",
    "A leaf is a node with no children.\n",
    "\n",
    " \n",
    "\n",
    "Example 1:\n",
    "\n",
    "\n",
    "Input: root = [5,4,8,11,null,13,4,7,2,null,null,null,1], targetSum = 22\n",
    "Output: true\n",
    "Example 2:\n",
    "\n",
    "\n",
    "Input: root = [1,2,3], targetSum = 5\n",
    "Output: false\n",
    "Example 3:\n",
    "\n",
    "Input: root = [1,2], targetSum = 0\n",
    "Output: false\n",
    " \n",
    "\n",
    "Constraints:\n",
    "\n",
    "The number of nodes in the tree is in the range [0, 5000].\n",
    "-1000 <= Node.val <= 1000\n",
    "-1000 <= targetSum <= 1000"
   ]
  },
  {
   "cell_type": "code",
   "execution_count": null,
   "metadata": {},
   "outputs": [],
   "source": [
    "# Definition for a binary tree node.\n",
    "# class TreeNode:\n",
    "#     def __init__(self, val=0, left=None, right=None):\n",
    "#         self.val = val\n",
    "#         self.left = left\n",
    "#         self.right = right\n",
    "from collections import deque\n",
    "class Solution:\n",
    "    def hasPathSum(self, root: TreeNode, targetSum: int) -> bool:\n",
    "        \"\"\"recursive\"\"\"\n",
    "        if not root:\n",
    "            return False\n",
    "        if not root.left and not root.right:\n",
    "            return root.val == targetSum\n",
    "        return self.hasPathSum(root.left, targetSum-root.val) or self.hasPathSum(root.right, targetSum-root.val)"
   ]
  },
  {
   "cell_type": "code",
   "execution_count": null,
   "metadata": {},
   "outputs": [],
   "source": [
    "class Solution:\n",
    "    def hasPathSum(self, root: TreeNode, targetSum: int) -> bool:\n",
    "        \"\"\"iterative: dfs with stack\"\"\"\n",
    "        if not root:\n",
    "            return False\n",
    "        # use a variable to track the current sum\n",
    "        stack = [(root, root.val)]\n",
    "        while stack:\n",
    "            node, val = stack.pop()\n",
    "            if not node.left and not node.right and val == targetSum:\n",
    "                return True\n",
    "            # update stack if current node is not a leaf node\n",
    "            if node.left:\n",
    "                stack.append((node.left, val + node.left.val))\n",
    "            if node.right:\n",
    "                stack.append((node.right, val + node.right.val))\n",
    "        return False"
   ]
  },
  {
   "cell_type": "code",
   "execution_count": null,
   "metadata": {},
   "outputs": [],
   "source": [
    "from collections import deque\n",
    "class Solution:\n",
    "    def hasPathSum(self, root: TreeNode, targetSum: int) -> bool:\n",
    "        \"\"\"iterative: bfs with queue\"\"\"\n",
    "        if not root:\n",
    "            return False\n",
    "        queue = deque([(root, root.val)])\n",
    "        while queue:\n",
    "            node, val = queue.popleft()\n",
    "            if not node.left and not node.right and val == targetSum:\n",
    "                return True\n",
    "            # update queue if current node is not a leaf node\n",
    "            if node.left:\n",
    "                queue.append((node.left, val + node.left.val))\n",
    "            if node.right:\n",
    "                queue.append((node.right, val + node.right.val))\n",
    "        return False"
   ]
  }
 ],
 "metadata": {
  "kernelspec": {
   "display_name": "Python 3",
   "language": "python",
   "name": "python3"
  },
  "language_info": {
   "codemirror_mode": {
    "name": "ipython",
    "version": 3
   },
   "file_extension": ".py",
   "mimetype": "text/x-python",
   "name": "python",
   "nbconvert_exporter": "python",
   "pygments_lexer": "ipython3",
   "version": "3.8.3"
  }
 },
 "nbformat": 4,
 "nbformat_minor": 4
}
