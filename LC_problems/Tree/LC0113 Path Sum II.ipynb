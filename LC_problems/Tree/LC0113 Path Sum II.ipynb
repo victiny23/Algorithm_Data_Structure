{
 "cells": [
  {
   "cell_type": "markdown",
   "metadata": {},
   "source": [
    "113. Path Sum II\n",
    "Medium\n",
    "\n",
    "3207\n",
    "\n",
    "90\n",
    "\n",
    "Add to List\n",
    "\n",
    "Share\n",
    "Given the root of a binary tree and an integer targetSum, return all root-to-leaf paths where each path's sum equals targetSum.\n",
    "\n",
    "A leaf is a node with no children.\n",
    "\n",
    " \n",
    "\n",
    "Example 1:\n",
    "\n",
    "\n",
    "Input: root = [5,4,8,11,null,13,4,7,2,null,null,5,1], targetSum = 22\n",
    "Output: [[5,4,11,2],[5,8,4,5]]\n",
    "Example 2:\n",
    "\n",
    "\n",
    "Input: root = [1,2,3], targetSum = 5\n",
    "Output: []\n",
    "Example 3:\n",
    "\n",
    "Input: root = [1,2], targetSum = 0\n",
    "Output: []\n",
    " \n",
    "\n",
    "Constraints:\n",
    "\n",
    "The number of nodes in the tree is in the range [0, 5000].\n",
    "-1000 <= Node.val <= 1000\n",
    "-1000 <= targetSum <= 1000"
   ]
  },
  {
   "cell_type": "code",
   "execution_count": null,
   "metadata": {},
   "outputs": [],
   "source": [
    "# Definition for a binary tree node.\n",
    "# class TreeNode:\n",
    "#     def __init__(self, val=0, left=None, right=None):\n",
    "#         self.val = val\n",
    "#         self.left = left\n",
    "#         self.right = right\n",
    "class Solution:\n",
    "    def pathSum(self, root: TreeNode, targetSum: int) -> List[List[int]]:\n",
    "        \"\"\"recursive\"\"\"\n",
    "        if not root:\n",
    "            return []\n",
    "        if not root.left and not root.right and root.val == targetSum:\n",
    "            return [[root.val]]\n",
    "        sub_path = self.pathSum(root.left, targetSum - root.val)+ self.pathSum(root.right, targetSum - root.val)\n",
    "        # add root.val to the head of each sub_path\n",
    "        return [[root.val] + p for p in sub_path]"
   ]
  },
  {
   "cell_type": "code",
   "execution_count": null,
   "metadata": {},
   "outputs": [],
   "source": [
    "class Solution:\n",
    "    def pathSum(self, root: TreeNode, targetSum: int) -> List[List[int]]:\n",
    "        \"\"\"iterative: dfs with stack\"\"\"\n",
    "        if not root:\n",
    "            return []\n",
    "        paths = []\n",
    "        # use stack to store nodes, current sum, current path\n",
    "        stack = [(root, root.val, [root.val])]\n",
    "        while stack:\n",
    "            node, val, path = stack.pop()\n",
    "            if not node.left and not node.right and val == targetSum:\n",
    "                paths.append(path)\n",
    "            # don't update path before append\n",
    "            # otherwise both node.left.val and node.right.val are added to the path for a node with both children\n",
    "            if node.left:\n",
    "                stack.append((node.left, val + node.left.val, path + [node.left.val]))\n",
    "            if node.right:\n",
    "                stack.append((node.right, val + node.right.val, path + [node.right.val]))\n",
    "        return paths"
   ]
  },
  {
   "cell_type": "code",
   "execution_count": null,
   "metadata": {},
   "outputs": [],
   "source": [
    "from collections import deque\n",
    "class Solution:\n",
    "    def pathSum(self, root: TreeNode, targetSum: int) -> List[List[int]]:\n",
    "        \"\"\"iterative: bfs with queue\"\"\"\n",
    "        if not root:\n",
    "            return []\n",
    "        paths = []\n",
    "        queue = deque([(root, root.val, [root.val])])\n",
    "        while queue:\n",
    "            node, val, path = queue.popleft()\n",
    "            if not node.left and not node.right and val == targetSum:\n",
    "                paths.append(path)\n",
    "            if node.left:\n",
    "                queue.append((node.left, val + node.left.val, path + [node.left.val]))\n",
    "            if node.right:\n",
    "                queue.append((node.right, val + node.right.val, path + [node.right.val]))\n",
    "        return paths"
   ]
  }
 ],
 "metadata": {
  "kernelspec": {
   "display_name": "Python 3",
   "language": "python",
   "name": "python3"
  },
  "language_info": {
   "codemirror_mode": {
    "name": "ipython",
    "version": 3
   },
   "file_extension": ".py",
   "mimetype": "text/x-python",
   "name": "python",
   "nbconvert_exporter": "python",
   "pygments_lexer": "ipython3",
   "version": "3.8.3"
  }
 },
 "nbformat": 4,
 "nbformat_minor": 4
}
