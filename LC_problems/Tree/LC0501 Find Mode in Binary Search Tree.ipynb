{
 "cells": [
  {
   "cell_type": "markdown",
   "metadata": {},
   "source": [
    "501. Find Mode in Binary Search Tree\n",
    "Easy\n",
    "\n",
    "1522\n",
    "\n",
    "449\n",
    "\n",
    "Add to List\n",
    "\n",
    "Share\n",
    "Given the root of a binary search tree (BST) with duplicates, return all the mode(s) (i.e., the most frequently occurred element) in it.\n",
    "\n",
    "If the tree has more than one mode, return them in any order.\n",
    "\n",
    "Assume a BST is defined as follows:\n",
    "\n",
    "The left subtree of a node contains only nodes with keys less than or equal to the node's key.\n",
    "The right subtree of a node contains only nodes with keys greater than or equal to the node's key.\n",
    "Both the left and right subtrees must also be binary search trees.\n",
    " \n",
    "\n",
    "Example 1:\n",
    "\n",
    "\n",
    "Input: root = [1,null,2,2]\n",
    "Output: [2]\n",
    "Example 2:\n",
    "\n",
    "Input: root = [0]\n",
    "Output: [0]\n",
    " \n",
    "\n",
    "Constraints:\n",
    "\n",
    "The number of nodes in the tree is in the range [1, 104].\n",
    "-105 <= Node.val <= 105"
   ]
  },
  {
   "cell_type": "code",
   "execution_count": null,
   "metadata": {},
   "outputs": [],
   "source": [
    "# Definition for a binary tree node.\n",
    "# class TreeNode:\n",
    "#     def __init__(self, val=0, left=None, right=None):\n",
    "#         self.val = val\n",
    "#         self.left = left\n",
    "#         self.right = right\n",
    "class Solution:\n",
    "    def findMode(self, root: TreeNode) -> List[int]:\n",
    "        # use a dictionary to count the values while traversal\n",
    "        dic = {}\n",
    "        def in_order(root):\n",
    "            if root:\n",
    "                in_order(root.left)\n",
    "                dic[root.val] = dic.get(root.val, 0) + 1\n",
    "                in_order(root.right)\n",
    "        in_order(root)\n",
    "        # find the max count\n",
    "        cnt = max(dic.values())\n",
    "        # return values with counts equal to the max count\n",
    "        ans = []\n",
    "        for k, v in dic.items():\n",
    "            if v == cnt:\n",
    "                ans.append(k)\n",
    "        return ans"
   ]
  }
 ],
 "metadata": {
  "kernelspec": {
   "display_name": "Python 3",
   "language": "python",
   "name": "python3"
  },
  "language_info": {
   "codemirror_mode": {
    "name": "ipython",
    "version": 3
   },
   "file_extension": ".py",
   "mimetype": "text/x-python",
   "name": "python",
   "nbconvert_exporter": "python",
   "pygments_lexer": "ipython3",
   "version": "3.8.3"
  }
 },
 "nbformat": 4,
 "nbformat_minor": 4
}
