{
 "cells": [
  {
   "cell_type": "markdown",
   "metadata": {},
   "source": [
    "235. Lowest Common Ancestor of a Binary Search Tree\n",
    "Easy\n",
    "\n",
    "3808\n",
    "\n",
    "147\n",
    "\n",
    "Add to List\n",
    "\n",
    "Share\n",
    "Given a binary search tree (BST), find the lowest common ancestor (LCA) of two given nodes in the BST.\n",
    "\n",
    "According to the definition of LCA on Wikipedia: “The lowest common ancestor is defined between two nodes p and q as the lowest node in T that has both p and q as descendants (where we allow a node to be a descendant of itself).”\n",
    "\n",
    " \n",
    "\n",
    "Example 1:\n",
    "\n",
    "\n",
    "Input: root = [6,2,8,0,4,7,9,null,null,3,5], p = 2, q = 8\n",
    "Output: 6\n",
    "Explanation: The LCA of nodes 2 and 8 is 6.\n",
    "Example 2:\n",
    "\n",
    "\n",
    "Input: root = [6,2,8,0,4,7,9,null,null,3,5], p = 2, q = 4\n",
    "Output: 2\n",
    "Explanation: The LCA of nodes 2 and 4 is 2, since a node can be a descendant of itself according to the LCA definition.\n",
    "Example 3:\n",
    "\n",
    "Input: root = [2,1], p = 2, q = 1\n",
    "Output: 2\n",
    " \n",
    "\n",
    "Constraints:\n",
    "\n",
    "The number of nodes in the tree is in the range [2, 105].\n",
    "-109 <= Node.val <= 109\n",
    "All Node.val are unique.\n",
    "p != q\n",
    "p and q will exist in the BST."
   ]
  },
  {
   "cell_type": "code",
   "execution_count": null,
   "metadata": {},
   "outputs": [],
   "source": [
    "# Definition for a binary tree node.\n",
    "# class TreeNode:\n",
    "#     def __init__(self, x):\n",
    "#         self.val = x\n",
    "#         self.left = None\n",
    "#         self.right = None\n",
    "\n",
    "class Solution:\n",
    "    def lowestCommonAncestor(self, root: 'TreeNode', p: 'TreeNode', q: 'TreeNode') -> 'TreeNode':\n",
    "        \"\"\"iterative\"\"\"\n",
    "        while root:\n",
    "            if root.val > p.val and root.val > q.val:\n",
    "                root = root.left\n",
    "            elif root.val < p.val and root.val < q.val:\n",
    "                root = root.right\n",
    "            else:\n",
    "                return root\n",
    "        \n",
    "        \"\"\"iterative: combinethe one-sided cases\"\"\"\n",
    "        while (root.val - p.val) * (root.val - q.val) > 0:\n",
    "            root = ((root.left, root.right))[p.val > root.val]\n",
    "        return root"
   ]
  },
  {
   "cell_type": "code",
   "execution_count": null,
   "metadata": {},
   "outputs": [],
   "source": [
    "class Solution:\n",
    "    def lowestCommonAncestor(self, root: 'TreeNode', p: 'TreeNode', q: 'TreeNode') -> 'TreeNode':       \n",
    "        \"\"\"recursion\"\"\"\n",
    "        if root == p or root == q:\n",
    "            return root\n",
    "        if p.val < root.val < q.val or q.val < root.val < p.val:\n",
    "            return root\n",
    "        if p.val < root.val and q.val < root.val:\n",
    "            return self.lowestCommonAncestor(root.left, p, q)\n",
    "        else:\n",
    "            return self.lowestCommonAncestor(root.right, p, q)\n",
    "        \n",
    "        \"\"\"recursion: combine the one-sided cases\"\"\"\n",
    "        if (root.val - p.val) * (root.val - q.val) > 0:\n",
    "        # if p.val > root.val, [p.val > root.val] gives 1, \n",
    "        # (root.left, root.right)[p.val > root.val] gives root.right\n",
    "            return self.lowestCommonAncestor((root.left, root.right)[p.val > root.val], p, q)\n",
    "        else:\n",
    "            return root"
   ]
  }
 ],
 "metadata": {
  "kernelspec": {
   "display_name": "Python 3",
   "language": "python",
   "name": "python3"
  },
  "language_info": {
   "codemirror_mode": {
    "name": "ipython",
    "version": 3
   },
   "file_extension": ".py",
   "mimetype": "text/x-python",
   "name": "python",
   "nbconvert_exporter": "python",
   "pygments_lexer": "ipython3",
   "version": "3.8.3"
  }
 },
 "nbformat": 4,
 "nbformat_minor": 4
}
