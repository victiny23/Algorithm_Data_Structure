{
 "cells": [
  {
   "cell_type": "markdown",
   "metadata": {},
   "source": [
    "98. Validate Binary Search Tree\n",
    "Medium\n",
    "\n",
    "6728\n",
    "\n",
    "731\n",
    "\n",
    "Add to List\n",
    "\n",
    "Share\n",
    "Given the root of a binary tree, determine if it is a valid binary search tree (BST).\n",
    "\n",
    "A valid BST is defined as follows:\n",
    "\n",
    "The left subtree of a node contains only nodes with keys less than the node's key.\n",
    "The right subtree of a node contains only nodes with keys greater than the node's key.\n",
    "Both the left and right subtrees must also be binary search trees.\n",
    " \n",
    "\n",
    "Example 1:\n",
    "\n",
    "\n",
    "Input: root = [2,1,3]\n",
    "Output: true\n",
    "Example 2:\n",
    "\n",
    "\n",
    "Input: root = [5,1,4,null,null,3,6]\n",
    "Output: false\n",
    "Explanation: The root node's value is 5 but its right child's value is 4.\n",
    " \n",
    "\n",
    "Constraints:\n",
    "\n",
    "The number of nodes in the tree is in the range [1, 104].\n",
    "-231 <= Node.val <= 231 - 1"
   ]
  },
  {
   "cell_type": "code",
   "execution_count": null,
   "metadata": {},
   "outputs": [],
   "source": [
    "# Definition for a binary tree node.\n",
    "# class TreeNode:\n",
    "#     def __init__(self, val=0, left=None, right=None):\n",
    "#         self.val = val\n",
    "#         self.left = left\n",
    "#         self.right = right\n",
    "class Solution:\n",
    "    def isValidBST(self, root: TreeNode) -> bool:\n",
    "        \"\"\"using the fact that the in_order traversal of a binary search tree should be sorted\"\"\"\n",
    "        tree = []\n",
    "        def in_order(root):\n",
    "            if root:\n",
    "                in_order(root.left)\n",
    "                tree.append(root.val)\n",
    "                in_order(root.right)\n",
    "        in_order(root)\n",
    "        for i in range(len(tree)-1):\n",
    "            if tree[i] >= tree[i+1]:\n",
    "                return False\n",
    "        return True\n",
    "    \n",
    "        \"\"\"\n",
    "        recursion: consider bottom-up\n",
    "        each node of the left tree must be greater than left child and smaller than parent\n",
    "        each node of the right tree must be greater than parent node and smaller than right child\n",
    "        \"\"\"  \n",
    "        def check(node, left, right):\n",
    "            if not node:\n",
    "                return True\n",
    "            if not left < node.val < right:\n",
    "                return False\n",
    "            return check(node.left, left, node.val) and check(node.right, node.val, right)\n",
    "        return check(root, float(\"-inf\"), float(\"inf\"))  "
   ]
  }
 ],
 "metadata": {
  "kernelspec": {
   "display_name": "Python 3",
   "language": "python",
   "name": "python3"
  },
  "language_info": {
   "codemirror_mode": {
    "name": "ipython",
    "version": 3
   },
   "file_extension": ".py",
   "mimetype": "text/x-python",
   "name": "python",
   "nbconvert_exporter": "python",
   "pygments_lexer": "ipython3",
   "version": "3.8.3"
  }
 },
 "nbformat": 4,
 "nbformat_minor": 4
}
