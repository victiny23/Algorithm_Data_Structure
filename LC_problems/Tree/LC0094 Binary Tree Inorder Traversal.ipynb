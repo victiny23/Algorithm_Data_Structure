{
 "cells": [
  {
   "cell_type": "markdown",
   "metadata": {},
   "source": [
    "94. Binary Tree Inorder Traversal\n",
    "Easy\n",
    "\n",
    "5181\n",
    "\n",
    "222\n",
    "\n",
    "Add to List\n",
    "\n",
    "Share\n",
    "Given the root of a binary tree, return the inorder traversal of its nodes' values.\n",
    "\n",
    " \n",
    "\n",
    "Example 1:\n",
    "\n",
    "\n",
    "Input: root = [1,null,2,3]\n",
    "Output: [1,3,2]\n",
    "Example 2:\n",
    "\n",
    "Input: root = []\n",
    "Output: []\n",
    "Example 3:\n",
    "\n",
    "Input: root = [1]\n",
    "Output: [1]\n",
    "Example 4:\n",
    "\n",
    "\n",
    "Input: root = [1,2]\n",
    "Output: [2,1]\n",
    "Example 5:\n",
    "\n",
    "\n",
    "Input: root = [1,null,2]\n",
    "Output: [1,2]\n",
    " \n",
    "\n",
    "Constraints:\n",
    "\n",
    "The number of nodes in the tree is in the range [0, 100].\n",
    "-100 <= Node.val <= 100"
   ]
  },
  {
   "cell_type": "code",
   "execution_count": null,
   "metadata": {},
   "outputs": [],
   "source": [
    "# Definition for a binary tree node.\n",
    "# class TreeNode:\n",
    "#     def __init__(self, val=0, left=None, right=None):\n",
    "#         self.val = val\n",
    "#         self.left = left\n",
    "#         self.right = right\n",
    "class Solution:      \n",
    "    def inorderTraversal(self, root: TreeNode) -> List[int]:\n",
    "        \"\"\"recursive 1, no func\"\"\"\n",
    "        if not root:\n",
    "            return []\n",
    "        left = self.inorderTraversal(root.left)\n",
    "        right = self.inorderTraversal(root.right)\n",
    "        return left + [root.val] + right"
   ]
  },
  {
   "cell_type": "code",
   "execution_count": null,
   "metadata": {},
   "outputs": [],
   "source": [
    "class Solution:   \n",
    "    def inorderTraversal(self, root: TreeNode) -> List[int]:\n",
    "        \"\"\"recursive 2, func-in\"\"\"\n",
    "        tree = []\n",
    "        \n",
    "        def in_order(root):\n",
    "            if root:\n",
    "                in_order(root.left)\n",
    "                tree.append(root.val)\n",
    "                in_order(root.right)\n",
    "        \n",
    "        in_order(root)\n",
    "        return tree"
   ]
  },
  {
   "cell_type": "code",
   "execution_count": null,
   "metadata": {},
   "outputs": [],
   "source": [
    "class Solution:\n",
    "    def helper(self, root, res):\n",
    "        if root:\n",
    "            self.helper(root.left, res)\n",
    "            res.append(root.val)\n",
    "            self.helper(root.right, res)\n",
    "        \n",
    "    def inorderTraversal(self, root: TreeNode) -> List[int]:\n",
    "        \"\"\"recursive 3, func-out\"\"\"\n",
    "        tree = []\n",
    "        self.helper(root, tree)\n",
    "        return tree"
   ]
  },
  {
   "cell_type": "code",
   "execution_count": null,
   "metadata": {},
   "outputs": [],
   "source": [
    "class Solution:\n",
    "    def inorderTraversal(self, root: TreeNode) -> List[int]:\n",
    "        \"\"\"interative\"\"\"\n",
    "        tree, stack = [], []\n",
    "        while True:\n",
    "            # add nodes to a stack, the most left leaf node on the top of the stach\n",
    "            while root:\n",
    "                stack.append(root)\n",
    "                root = root.left\n",
    "            # check if the stack is empty - no nodes added\n",
    "            if not stack:\n",
    "                return tree\n",
    "            node = stack.pop()\n",
    "            tree.append(node.val)\n",
    "            # go to the right sub-tree of the current node\n",
    "            root = node.right\n",
    "            # if current_node.right exists: \n",
    "            # add nodes from the right sub-tree to the stack from the beginning of the loop\n",
    "            # if current_node.right does not exist:\n",
    "            # pop the new top of the stack, the parent node of the current node"
   ]
  }
 ],
 "metadata": {
  "kernelspec": {
   "display_name": "Python 3",
   "language": "python",
   "name": "python3"
  },
  "language_info": {
   "codemirror_mode": {
    "name": "ipython",
    "version": 3
   },
   "file_extension": ".py",
   "mimetype": "text/x-python",
   "name": "python",
   "nbconvert_exporter": "python",
   "pygments_lexer": "ipython3",
   "version": "3.8.3"
  }
 },
 "nbformat": 4,
 "nbformat_minor": 4
}
