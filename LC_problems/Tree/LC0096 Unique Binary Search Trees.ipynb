{
 "cells": [
  {
   "cell_type": "markdown",
   "metadata": {},
   "source": [
    "96. Unique Binary Search Trees\n",
    "Medium\n",
    "\n",
    "5080\n",
    "\n",
    "188\n",
    "\n",
    "Add to List\n",
    "\n",
    "Share\n",
    "Given an integer n, return the number of structurally unique BST's (binary search trees) which has exactly n nodes of unique values from 1 to n.\n",
    "\n",
    " \n",
    "\n",
    "Example 1:\n",
    "\n",
    "\n",
    "Input: n = 3\n",
    "Output: 5\n",
    "Example 2:\n",
    "\n",
    "Input: n = 1\n",
    "Output: 1\n",
    " \n",
    "\n",
    "Constraints:\n",
    "\n",
    "1 <= n <= 19"
   ]
  },
  {
   "cell_type": "code",
   "execution_count": null,
   "metadata": {},
   "outputs": [],
   "source": [
    "from math import comb\n",
    "class Solution:\n",
    "    def numTrees(self, n: int) -> int:\n",
    "        \"\"\"Catalan Number\"\"\"\n",
    "        # 1\n",
    "        return comb(2*n, n) - comb(2*n, n-1)\n",
    "        \n",
    "        # 2\n",
    "        return factorial(2*n)//factorial(n)//factorial(n) - factorial(2*n)//factorial(n+1)//factorial(n-1)\n",
    "        \n",
    "        # 3\n",
    "        return factorial(2*n)//factorial(n)//factorial(n)//(n+1)"
   ]
  },
  {
   "cell_type": "code",
   "execution_count": null,
   "metadata": {},
   "outputs": [],
   "source": [
    "class Solution:\n",
    "    def numTrees(self, n: int) -> int:\n",
    "        \"\"\"DP: divide n into left, 1(root), right, count the combinations of number of left trees and number of right trees\"\"\"\n",
    "        trees = [0] * (n+1)\n",
    "        trees[0] = 1\n",
    "        for i in range(1, n+1):\n",
    "            for j in range(i):\n",
    "                trees[i] += trees[j] * trees[i-1-j]\n",
    "        return trees[-1]"
   ]
  }
 ],
 "metadata": {
  "kernelspec": {
   "display_name": "Python 3",
   "language": "python",
   "name": "python3"
  },
  "language_info": {
   "codemirror_mode": {
    "name": "ipython",
    "version": 3
   },
   "file_extension": ".py",
   "mimetype": "text/x-python",
   "name": "python",
   "nbconvert_exporter": "python",
   "pygments_lexer": "ipython3",
   "version": "3.8.3"
  }
 },
 "nbformat": 4,
 "nbformat_minor": 4
}
