{
 "cells": [
  {
   "cell_type": "markdown",
   "metadata": {},
   "source": [
    "530. Minimum Absolute Difference in BST\n",
    "Note: This question is the same as 783: Minimum Distance Between BST Nodes\n",
    "\n",
    "Easy\n",
    "\n",
    "1468\n",
    "\n",
    "102\n",
    "\n",
    "Add to List\n",
    "\n",
    "Share\n",
    "Given the root of a Binary Search Tree (BST), return the minimum absolute difference between the values of any two different nodes in the tree.\n",
    "\n",
    " \n",
    "\n",
    "Example 1:\n",
    "\n",
    "\n",
    "Input: root = [4,2,6,1,3]\n",
    "Output: 1\n",
    "Example 2:\n",
    "\n",
    "\n",
    "Input: root = [1,0,48,null,null,12,49]\n",
    "Output: 1\n",
    " \n",
    "\n",
    "Constraints:\n",
    "\n",
    "The number of nodes in the tree is in the range [2, 104].\n",
    "0 <= Node.val <= 105"
   ]
  },
  {
   "cell_type": "code",
   "execution_count": null,
   "metadata": {},
   "outputs": [],
   "source": [
    "# Definition for a binary tree node.\n",
    "# class TreeNode:\n",
    "#     def __init__(self, val=0, left=None, right=None):\n",
    "#         self.val = val\n",
    "#         self.left = left\n",
    "#         self.right = right\n",
    "class Solution:\n",
    "    def minDiffInBST(self, root: Optional[TreeNode]) -> int:\n",
    "        \"\"\"iterative in_order: keep track of prev and curr_min\"\"\"\n",
    "        prev = None\n",
    "        curr_min = float('inf')\n",
    "        stack = []\n",
    "        while True:\n",
    "            while root:\n",
    "                stack.append(root)\n",
    "                root = root.left\n",
    "            if not stack:\n",
    "                break\n",
    "            node = stack.pop()\n",
    "            # update the minimum when visiting the 2nd node (prev is not None)\n",
    "            if prev:\n",
    "                curr_min = min(curr_min, node.val - prev.val)\n",
    "            # update the prev node\n",
    "            prev = node\n",
    "            root = node.right\n",
    "        return curr_min"
   ]
  },
  {
   "cell_type": "code",
   "execution_count": null,
   "metadata": {},
   "outputs": [],
   "source": [
    "class Solution:\n",
    "    def minDiffInBST(self, root: Optional[TreeNode]) -> int:\n",
    "        \"\"\"iterative in_order: find the minimum of adjacent two\"\"\"\n",
    "        tree, stack = [], []\n",
    "        while True:\n",
    "            while root:\n",
    "                stack.append(root)\n",
    "                root = root.left\n",
    "            if not stack:\n",
    "                break\n",
    "            node = stack.pop()\n",
    "            tree.append(node.val)\n",
    "            root = node.right\n",
    "        return min([tree[i] - tree[i-1] for i in range(1, len(tree))])"
   ]
  },
  {
   "cell_type": "code",
   "execution_count": null,
   "metadata": {},
   "outputs": [],
   "source": [
    "class Solution:\n",
    "    def minDiffInBST(self, root: Optional[TreeNode]) -> int:\n",
    "        \"\"\"recursive in_order: keep track of prev ndoe and curr_min\"\"\"\n",
    "        self.res = float('inf')\n",
    "        self.pre = float('-inf')\n",
    "        def in_order(root):\n",
    "            if root:\n",
    "                in_order(root.left)\n",
    "                # update the minimum\n",
    "                self.res = min(self.res, root.val - self.pre)\n",
    "                # update the prev\n",
    "                self.pre = root.val\n",
    "                in_order(root.right)\n",
    "        in_order(root)\n",
    "        return self.res"
   ]
  },
  {
   "cell_type": "code",
   "execution_count": null,
   "metadata": {},
   "outputs": [],
   "source": [
    "class Solution:\n",
    "    def minDiffInBST(self, root: Optional[TreeNode]) -> int:\n",
    "        \"\"\"recursive in_order: find the minimum of adjacent two\"\"\"\n",
    "        tree = []\n",
    "        def helper(root, tree):\n",
    "            if root:\n",
    "                helper(root.left, tree)\n",
    "                tree.append(root.val)\n",
    "                helper(root.right, tree)\n",
    "        helper(root, tree)\n",
    "        return min([tree[i] - tree[i-1] for i in range(1, len(tree))])"
   ]
  }
 ],
 "metadata": {
  "kernelspec": {
   "display_name": "Python 3",
   "language": "python",
   "name": "python3"
  },
  "language_info": {
   "codemirror_mode": {
    "name": "ipython",
    "version": 3
   },
   "file_extension": ".py",
   "mimetype": "text/x-python",
   "name": "python",
   "nbconvert_exporter": "python",
   "pygments_lexer": "ipython3",
   "version": "3.8.3"
  }
 },
 "nbformat": 4,
 "nbformat_minor": 4
}
