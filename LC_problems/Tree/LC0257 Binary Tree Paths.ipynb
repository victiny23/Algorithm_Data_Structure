{
 "cells": [
  {
   "cell_type": "markdown",
   "metadata": {},
   "source": [
    "257. Binary Tree Paths\n",
    "Easy\n",
    "\n",
    "2920\n",
    "\n",
    "147\n",
    "\n",
    "Add to List\n",
    "\n",
    "Share\n",
    "Given the root of a binary tree, return all root-to-leaf paths in any order.\n",
    "\n",
    "A leaf is a node with no children.\n",
    "\n",
    " \n",
    "\n",
    "Example 1:\n",
    "\n",
    "\n",
    "Input: root = [1,2,3,null,5]\n",
    "Output: [\"1->2->5\",\"1->3\"]\n",
    "Example 2:\n",
    "\n",
    "Input: root = [1]\n",
    "Output: [\"1\"]\n",
    " \n",
    "\n",
    "Constraints:\n",
    "\n",
    "The number of nodes in the tree is in the range [1, 100].\n",
    "-100 <= Node.val <= 100"
   ]
  },
  {
   "cell_type": "code",
   "execution_count": null,
   "metadata": {},
   "outputs": [],
   "source": [
    "# Definition for a binary tree node.\n",
    "# class TreeNode:\n",
    "#     def __init__(self, val=0, left=None, right=None):\n",
    "#         self.val = val\n",
    "#         self.left = left\n",
    "#         self.right = right\n",
    "        \"\"\"\n",
    "        Concat list to a string\n",
    "        str = \"connecter\".join(list)\n",
    "        e.g. li = ['I', 'am', 'good']\n",
    "        sentence = ' '.join(li)\n",
    "        \"\"\"\n",
    "class Solution:\n",
    "    def binaryTreePaths(self, root: TreeNode) -> List[str]:\n",
    "        \"\"\"recursive\"\"\"\n",
    "        def helper(root):\n",
    "            if not root:\n",
    "                return []\n",
    "            if not root.left and not root.right:\n",
    "                return [[str(root.val)]]\n",
    "            sub_path = helper(root.left) + helper(root.right)\n",
    "            return [[str(root.val)] + p for p in sub_path]\n",
    "        paths = helper(root)\n",
    "        return [\"->\".join(path) for path in paths]"
   ]
  },
  {
   "cell_type": "code",
   "execution_count": null,
   "metadata": {},
   "outputs": [],
   "source": [
    "class Solution:\n",
    "    def binaryTreePaths(self, root: TreeNode) -> List[str]:\n",
    "        \"\"\"iterative: dfs with stack\"\"\"\n",
    "        paths, stack = [], [(root, [str(root.val)])]\n",
    "        while stack:\n",
    "            node, path = stack.pop()\n",
    "            if not node.left and not node.right:\n",
    "                paths.append(path)\n",
    "            if node.left:\n",
    "                stack.append((node.left, path + [str(node.left.val)]))\n",
    "            if node.right:\n",
    "                stack.append((node.right, path + [str(node.right.val)]))\n",
    "        # paths = [[str(s) for s in path] for path in paths]\n",
    "        return [\"->\".join(path) for path in paths]"
   ]
  },
  {
   "cell_type": "code",
   "execution_count": null,
   "metadata": {},
   "outputs": [],
   "source": [
    "from collections import deque\n",
    "class Solution:\n",
    "    def binaryTreePaths(self, root: TreeNode) -> List[str]: \n",
    "        \"\"\"iterative: bfs with deque\"\"\"\n",
    "        paths, queue = [], deque([(root, [str(root.val)])])\n",
    "        while queue:\n",
    "            node, path = queue.popleft()\n",
    "            if not node.left and not node.right:\n",
    "                paths .append(path)\n",
    "            if node.left:\n",
    "                queue.append((node.left, path + [str(node.left.val)]))\n",
    "            if node.right:\n",
    "                queue.append((node.right, path + [str(node.right.val)]))\n",
    "        return ['->'.join(path) for path in paths]"
   ]
  }
 ],
 "metadata": {
  "kernelspec": {
   "display_name": "Python 3",
   "language": "python",
   "name": "python3"
  },
  "language_info": {
   "codemirror_mode": {
    "name": "ipython",
    "version": 3
   },
   "file_extension": ".py",
   "mimetype": "text/x-python",
   "name": "python",
   "nbconvert_exporter": "python",
   "pygments_lexer": "ipython3",
   "version": "3.8.3"
  }
 },
 "nbformat": 4,
 "nbformat_minor": 4
}
