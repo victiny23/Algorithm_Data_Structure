{
 "cells": [
  {
   "cell_type": "markdown",
   "metadata": {},
   "source": [
    "237. Delete Node in a Linked List\n",
    "Easy\n",
    "\n",
    "2898\n",
    "\n",
    "9561\n",
    "\n",
    "Add to List\n",
    "\n",
    "Share\n",
    "Write a function to delete a node in a singly-linked list. You will not be given access to the head of the list, instead you will be given access to the node to be deleted directly.\n",
    "\n",
    "It is guaranteed that the node to be deleted is not a tail node in the list.\n",
    "\n",
    " \n",
    "\n",
    "Example 1:\n",
    "\n",
    "\n",
    "Input: head = [4,5,1,9], node = 5\n",
    "Output: [4,1,9]\n",
    "Explanation: You are given the second node with value 5, the linked list should become 4 -> 1 -> 9 after calling your function.\n",
    "Example 2:\n",
    "\n",
    "\n",
    "Input: head = [4,5,1,9], node = 1\n",
    "Output: [4,5,9]\n",
    "Explanation: You are given the third node with value 1, the linked list should become 4 -> 5 -> 9 after calling your function.\n",
    "Example 3:\n",
    "\n",
    "Input: head = [1,2,3,4], node = 3\n",
    "Output: [1,2,4]\n",
    "Example 4:\n",
    "\n",
    "Input: head = [0,1], node = 0\n",
    "Output: [1]\n",
    "Example 5:\n",
    "\n",
    "Input: head = [-3,5,-99], node = -3\n",
    "Output: [5,-99]\n",
    " \n",
    "\n",
    "Constraints:\n",
    "\n",
    "The number of the nodes in the given list is in the range [2, 1000].\n",
    "-1000 <= Node.val <= 1000\n",
    "The value of each node in the list is unique.\n",
    "The node to be deleted is in the list and is not a tail node"
   ]
  },
  {
   "cell_type": "code",
   "execution_count": null,
   "metadata": {},
   "outputs": [],
   "source": [
    "\"\"\"you can't realyy delete the node but can achieve the same effect\"\"\""
   ]
  },
  {
   "cell_type": "code",
   "execution_count": null,
   "metadata": {},
   "outputs": [],
   "source": [
    "# Definition for singly-linked list.\n",
    "# class ListNode:\n",
    "#     def __init__(self, x):\n",
    "#         self.val = x\n",
    "#         self.next = None\n",
    "\n",
    "class Solution:\n",
    "    def deleteNode(self, node):\n",
    "        \"\"\"\n",
    "        :type node: ListNode\n",
    "        :rtype: void Do not return anything, modify node in-place instead.\n",
    "        \"\"\"\n",
    "        node.val = node.next.val\n",
    "        node.next = node.next.next"
   ]
  }
 ],
 "metadata": {
  "kernelspec": {
   "display_name": "Python 3",
   "language": "python",
   "name": "python3"
  },
  "language_info": {
   "codemirror_mode": {
    "name": "ipython",
    "version": 3
   },
   "file_extension": ".py",
   "mimetype": "text/x-python",
   "name": "python",
   "nbconvert_exporter": "python",
   "pygments_lexer": "ipython3",
   "version": "3.8.3"
  }
 },
 "nbformat": 4,
 "nbformat_minor": 4
}
