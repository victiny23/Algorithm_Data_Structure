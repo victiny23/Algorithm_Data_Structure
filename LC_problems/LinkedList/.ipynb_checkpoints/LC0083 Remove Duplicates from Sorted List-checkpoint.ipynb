{
 "cells": [
  {
   "cell_type": "markdown",
   "metadata": {},
   "source": [
    "83. Remove Duplicates from Sorted List\n",
    "Easy\n",
    "\n",
    "2807\n",
    "\n",
    "153\n",
    "\n",
    "Add to List\n",
    "\n",
    "Share\n",
    "Given the head of a sorted linked list, delete all duplicates such that each element appears only once. Return the linked list sorted as well.\n",
    "\n",
    " \n",
    "\n",
    "Example 1:\n",
    "\n",
    "\n",
    "Input: head = [1,1,2]\n",
    "Output: [1,2]\n",
    "Example 2:\n",
    "\n",
    "\n",
    "Input: head = [1,1,2,3,3]\n",
    "Output: [1,2,3]\n",
    " \n",
    "\n",
    "Constraints:\n",
    "\n",
    "The number of nodes in the list is in the range [0, 300].\n",
    "-100 <= Node.val <= 100\n",
    "The list is guaranteed to be sorted in ascending order."
   ]
  },
  {
   "cell_type": "code",
   "execution_count": null,
   "metadata": {},
   "outputs": [],
   "source": [
    "# Definition for singly-linked list.\n",
    "# class ListNode:\n",
    "#     def __init__(self, val=0, next=None):\n",
    "#         self.val = val\n",
    "#         self.next = next\n",
    "class Solution:\n",
    "    def deleteDuplicates(self, head: ListNode) -> ListNode:\n",
    "        # iteration\n",
    "        curr = head\n",
    "        while curr and curr.next:\n",
    "            if curr.val == curr.next.val:\n",
    "                curr.next = curr.next.next\n",
    "            else:\n",
    "                curr = curr.next\n",
    "        return head"
   ]
  },
  {
   "cell_type": "code",
   "execution_count": null,
   "metadata": {},
   "outputs": [],
   "source": [
    "class Solution:\n",
    "    def deleteDuplicates(self, head: ListNode) -> ListNode:\n",
    "        # recursion\n",
    "        if not head or not head.next:\n",
    "            return head\n",
    "        if head.val == head.next.val:\n",
    "            head.next = head.next.next\n",
    "            return self.deleteDuplicates(head)\n",
    "        else:\n",
    "            head.next = self.deleteDuplicates(head.next)\n",
    "            return head"
   ]
  }
 ],
 "metadata": {
  "kernelspec": {
   "display_name": "Python 3",
   "language": "python",
   "name": "python3"
  },
  "language_info": {
   "codemirror_mode": {
    "name": "ipython",
    "version": 3
   },
   "file_extension": ".py",
   "mimetype": "text/x-python",
   "name": "python",
   "nbconvert_exporter": "python",
   "pygments_lexer": "ipython3",
   "version": "3.8.3"
  }
 },
 "nbformat": 4,
 "nbformat_minor": 4
}
