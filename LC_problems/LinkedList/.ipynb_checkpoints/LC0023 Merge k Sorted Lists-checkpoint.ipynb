{
 "cells": [
  {
   "cell_type": "markdown",
   "metadata": {},
   "source": [
    "23. Merge k Sorted Lists\n",
    "Hard\n",
    "\n",
    "7849\n",
    "\n",
    "369\n",
    "\n",
    "Add to List\n",
    "\n",
    "Share\n",
    "You are given an array of k linked-lists lists, each linked-list is sorted in ascending order.\n",
    "\n",
    "Merge all the linked-lists into one sorted linked-list and return it.\n",
    "\n",
    " \n",
    "\n",
    "Example 1:\n",
    "\n",
    "Input: lists = [[1,4,5],[1,3,4],[2,6]]\n",
    "Output: [1,1,2,3,4,4,5,6]\n",
    "Explanation: The linked-lists are:\n",
    "[\n",
    "  1->4->5,\n",
    "  1->3->4,\n",
    "  2->6\n",
    "]\n",
    "merging them into one sorted list:\n",
    "1->1->2->3->4->4->5->6\n",
    "Example 2:\n",
    "\n",
    "Input: lists = []\n",
    "Output: []\n",
    "Example 3:\n",
    "\n",
    "Input: lists = [[]]\n",
    "Output: []\n",
    " \n",
    "\n",
    "Constraints:\n",
    "\n",
    "k == lists.length\n",
    "0 <= k <= 10^4\n",
    "0 <= lists[i].length <= 500\n",
    "-10^4 <= lists[i][j] <= 10^4\n",
    "lists[i] is sorted in ascending order.\n",
    "The sum of lists[i].length won't exceed 10^4."
   ]
  },
  {
   "cell_type": "code",
   "execution_count": null,
   "metadata": {},
   "outputs": [],
   "source": [
    "# Definition for singly-linked list.\n",
    "# class ListNode:\n",
    "#     def __init__(self, val=0, next=None):\n",
    "#         self.val = val\n",
    "#         self.next = next\n",
    "class Solution:\n",
    "    def mergeKLists(self, lists: List[ListNode]) -> ListNode:  \n",
    "        \"\"\"divide and conquer\"\"\"\n",
    "        if not lists:\n",
    "            return None\n",
    "        if len(lists) == 1:\n",
    "            return lists[0]\n",
    "        mid = len(lists)//2\n",
    "        l, r = self.mergeKLists(lists[:mid]), self.mergeKLists(lists[mid:])\n",
    "        return self.merge(l, r)\n",
    "        # return self.merge1(l, r)\n",
    "    \n",
    "    # iteration to merge 2 sorted linked lists\n",
    "    def merge(self, l, r):\n",
    "        dummy = p = ListNode(0)\n",
    "        while l and r:\n",
    "            if l.val < r.val:\n",
    "                p.next = l\n",
    "                l = l.next\n",
    "            else:\n",
    "                p.next = r\n",
    "                r = r.next\n",
    "            p = p.next\n",
    "        p.next = l or r \n",
    "        return dummy.next\n",
    "    \n",
    "    # recursion to merge 2 sorted linked lists\n",
    "    def merge1(self, l, r):\n",
    "        if not l or not r:\n",
    "            return l or r\n",
    "        if l.val < r.val:\n",
    "            l.next = self.merge1(l.next, r)\n",
    "            return l\n",
    "        else:\n",
    "            r.next = self.merge1(r.next, l)\n",
    "            return r"
   ]
  },
  {
   "cell_type": "code",
   "execution_count": null,
   "metadata": {},
   "outputs": [],
   "source": [
    "\"\"\"store all the nodes to a list and sort by ListNode.val\n",
    "then connect nodes to create a linked list\"\"\"\n",
    "class Solution:\n",
    "    def mergeKLists(self, lists: List[ListNode]) -> ListNode:\n",
    "        li = []\n",
    "        for list in lists:\n",
    "            while list:\n",
    "                li.append(ListNode(list.val))\n",
    "                list = list.next\n",
    "        li.sort(key=lambda x: x.val)\n",
    "        dummy = ListNode(0)\n",
    "        while li:\n",
    "            node = li.pop()\n",
    "            node.next = dummy.next\n",
    "            dummy.next = node\n",
    "        return dummy.next"
   ]
  },
  {
   "cell_type": "code",
   "execution_count": null,
   "metadata": {},
   "outputs": [],
   "source": [
    "\"\"\"heap\"\"\""
   ]
  },
  {
   "cell_type": "code",
   "execution_count": null,
   "metadata": {},
   "outputs": [],
   "source": [
    "\"\"\"Priority Queue\"\"\""
   ]
  }
 ],
 "metadata": {
  "kernelspec": {
   "display_name": "Python 3",
   "language": "python",
   "name": "python3"
  },
  "language_info": {
   "codemirror_mode": {
    "name": "ipython",
    "version": 3
   },
   "file_extension": ".py",
   "mimetype": "text/x-python",
   "name": "python",
   "nbconvert_exporter": "python",
   "pygments_lexer": "ipython3",
   "version": "3.8.3"
  }
 },
 "nbformat": 4,
 "nbformat_minor": 4
}
