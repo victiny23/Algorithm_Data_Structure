{
 "cells": [
  {
   "cell_type": "markdown",
   "metadata": {},
   "source": [
    "86. Partition List\n",
    "Medium\n",
    "\n",
    "2493\n",
    "\n",
    "424\n",
    "\n",
    "Add to List\n",
    "\n",
    "Share\n",
    "Given the head of a linked list and a value x, partition it such that all nodes less than x come before nodes greater than or equal to x.\n",
    "\n",
    "You should preserve the original relative order of the nodes in each of the two partitions.\n",
    "\n",
    " \n",
    "\n",
    "Example 1:\n",
    "\n",
    "\n",
    "Input: head = [1,4,3,2,5,2], x = 3\n",
    "Output: [1,2,2,4,3,5]\n",
    "Example 2:\n",
    "\n",
    "Input: head = [2,1], x = 2\n",
    "Output: [1,2]\n",
    " \n",
    "\n",
    "Constraints:\n",
    "\n",
    "The number of nodes in the list is in the range [0, 200].\n",
    "-100 <= Node.val <= 100\n",
    "-200 <= x <= 200"
   ]
  },
  {
   "cell_type": "code",
   "execution_count": null,
   "metadata": {},
   "outputs": [],
   "source": [
    "# Definition for singly-linked list.\n",
    "# class ListNode:\n",
    "#     def __init__(self, val=0, next=None):\n",
    "#         self.val = val\n",
    "#         self.next = next\n",
    "class Solution:\n",
    "    def partition(self, head: ListNode, x: int) -> ListNode:\n",
    "        # create 2 linked list with head lhead, rhead\n",
    "        lhead = ListNode(0)\n",
    "        rhead = ListNode(0)\n",
    "        left, right = lhead, rhead\n",
    "        # attach val < x to the left tail: left\n",
    "        # attach val >= x to the right tail: right\n",
    "        while head:\n",
    "            if head.val < x:\n",
    "                left.next = head\n",
    "                left = left.next\n",
    "            else:\n",
    "                right.next = head\n",
    "                right = right.next\n",
    "            head = head.next\n",
    "        # connect left tail to right head  \n",
    "        left.next = rhead.next\n",
    "        # break potential loop\n",
    "        right.next = None\n",
    "        return lhead.next    "
   ]
  }
 ],
 "metadata": {
  "kernelspec": {
   "display_name": "Python 3",
   "language": "python",
   "name": "python3"
  },
  "language_info": {
   "codemirror_mode": {
    "name": "ipython",
    "version": 3
   },
   "file_extension": ".py",
   "mimetype": "text/x-python",
   "name": "python",
   "nbconvert_exporter": "python",
   "pygments_lexer": "ipython3",
   "version": "3.8.3"
  }
 },
 "nbformat": 4,
 "nbformat_minor": 4
}
