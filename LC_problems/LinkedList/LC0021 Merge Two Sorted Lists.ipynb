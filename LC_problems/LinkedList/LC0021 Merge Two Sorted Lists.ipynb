{
 "cells": [
  {
   "cell_type": "markdown",
   "metadata": {},
   "source": [
    "21. Merge Two Sorted Lists\n",
    "Easy\n",
    "\n",
    "7373\n",
    "\n",
    "807\n",
    "\n",
    "Add to List\n",
    "\n",
    "Share\n",
    "Merge two sorted linked lists and return it as a sorted list. The list should be made by splicing together the nodes of the first two lists.\n",
    "\n",
    " \n",
    "\n",
    "Example 1:\n",
    "\n",
    "\n",
    "Input: l1 = [1,2,4], l2 = [1,3,4]\n",
    "Output: [1,1,2,3,4,4]\n",
    "Example 2:\n",
    "\n",
    "Input: l1 = [], l2 = []\n",
    "Output: []\n",
    "Example 3:\n",
    "\n",
    "Input: l1 = [], l2 = [0]\n",
    "Output: [0]\n",
    " \n",
    "\n",
    "Constraints:\n",
    "\n",
    "The number of nodes in both lists is in the range [0, 50].\n",
    "-100 <= Node.val <= 100\n",
    "Both l1 and l2 are sorted in non-decreasing order."
   ]
  },
  {
   "cell_type": "code",
   "execution_count": null,
   "metadata": {},
   "outputs": [],
   "source": [
    "# Definition for singly-linked list.\n",
    "# class ListNode:\n",
    "#     def __init__(self, val=0, next=None):\n",
    "#         self.val = val\n",
    "#         self.next = next\n",
    "\"\"\"Similar to merge() in mereg_sort\"\"\"\n",
    "class Solution:\n",
    "    def mergeTwoLists(self, l1: ListNode, l2: ListNode) -> ListNode:\n",
    "        dummy = ListNode(0)\n",
    "        p = dummy\n",
    "        while l1 and l2:\n",
    "            if l1.val < l2.val:\n",
    "                p.next = ListNode(l1.val)\n",
    "                l1 = l1.next\n",
    "                p = p.next\n",
    "            else:\n",
    "                p.next = ListNode(l2.val)\n",
    "                l2 = l2.next\n",
    "                p = p.next\n",
    "        while l1:\n",
    "            p.next = ListNode(l1.val)\n",
    "            l1 = l1.next\n",
    "            p = p.next\n",
    "        while l2:\n",
    "            p.next = ListNode(l2.val)\n",
    "            l2 = l2.next\n",
    "            p = p.next\n",
    "        return dummy.next"
   ]
  }
 ],
 "metadata": {
  "kernelspec": {
   "display_name": "Python 3",
   "language": "python",
   "name": "python3"
  },
  "language_info": {
   "codemirror_mode": {
    "name": "ipython",
    "version": 3
   },
   "file_extension": ".py",
   "mimetype": "text/x-python",
   "name": "python",
   "nbconvert_exporter": "python",
   "pygments_lexer": "ipython3",
   "version": "3.8.3"
  }
 },
 "nbformat": 4,
 "nbformat_minor": 4
}
