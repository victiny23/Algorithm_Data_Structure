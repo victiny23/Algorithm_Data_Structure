{
 "cells": [
  {
   "cell_type": "markdown",
   "metadata": {},
   "source": [
    "61. Rotate List\n",
    "Medium\n",
    "\n",
    "2686\n",
    "\n",
    "1171\n",
    "\n",
    "Add to List\n",
    "\n",
    "Share\n",
    "Given the head of a linked list, rotate the list to the right by k places.\n",
    "\n",
    " \n",
    "\n",
    "Example 1:\n",
    "\n",
    "\n",
    "Input: head = [1,2,3,4,5], k = 2\n",
    "Output: [4,5,1,2,3]\n",
    "Example 2:\n",
    "\n",
    "\n",
    "Input: head = [0,1,2], k = 4\n",
    "Output: [2,0,1]\n",
    " \n",
    "\n",
    "Constraints:\n",
    "\n",
    "The number of nodes in the list is in the range [0, 500].\n",
    "-100 <= Node.val <= 100\n",
    "0 <= k <= 2 * 109"
   ]
  },
  {
   "cell_type": "code",
   "execution_count": null,
   "metadata": {},
   "outputs": [],
   "source": [
    "# Definition for singly-linked list.\n",
    "# class ListNode:\n",
    "#     def __init__(self, val=0, next=None):\n",
    "#         self.val = val\n",
    "#         self.next = next\n",
    "class Solution:\n",
    "    def rotateRight(self, head: ListNode, k: int) -> ListNode:\n",
    "        if not head or not k:\n",
    "            return head\n",
    "        # find the number of nodes \n",
    "        cnt = 0\n",
    "        p = head\n",
    "        while p.next:\n",
    "            cnt += 1\n",
    "            p = p.next\n",
    "        # connect tail to head   \n",
    "        p.next = head        \n",
    "        # move head by n\n",
    "        n = cnt - k%(cnt + 1)\n",
    "        q = head\n",
    "        for _ in range(n):\n",
    "            q = q.next\n",
    "        newhead = q.next\n",
    "        q.next = None\n",
    "        return newhead"
   ]
  }
 ],
 "metadata": {
  "kernelspec": {
   "display_name": "Python 3",
   "language": "python",
   "name": "python3"
  },
  "language_info": {
   "codemirror_mode": {
    "name": "ipython",
    "version": 3
   },
   "file_extension": ".py",
   "mimetype": "text/x-python",
   "name": "python",
   "nbconvert_exporter": "python",
   "pygments_lexer": "ipython3",
   "version": "3.8.3"
  }
 },
 "nbformat": 4,
 "nbformat_minor": 4
}
