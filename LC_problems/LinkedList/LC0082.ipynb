{
 "cells": [
  {
   "cell_type": "markdown",
   "metadata": {},
   "source": [
    "82. Remove Duplicates from Sorted List II\n",
    "Medium\n",
    "\n",
    "3177\n",
    "\n",
    "129\n",
    "\n",
    "Add to List\n",
    "\n",
    "Share\n",
    "Given the head of a sorted linked list, delete all nodes that have duplicate numbers, leaving only distinct numbers from the original list. Return the linked list sorted as well.\n",
    "\n",
    " \n",
    "\n",
    "Example 1:\n",
    "\n",
    "\n",
    "Input: head = [1,2,3,3,4,4,5]\n",
    "Output: [1,2,5]\n",
    "Example 2:\n",
    "\n",
    "\n",
    "Input: head = [1,1,1,2,3]\n",
    "Output: [2,3]\n",
    " \n",
    "\n",
    "Constraints:\n",
    "\n",
    "The number of nodes in the list is in the range [0, 300].\n",
    "-100 <= Node.val <= 100\n",
    "The list is guaranteed to be sorted in ascending order."
   ]
  },
  {
   "cell_type": "code",
   "execution_count": null,
   "metadata": {},
   "outputs": [],
   "source": [
    "# Definition for singly-linked list.\n",
    "# class ListNode:\n",
    "#     def __init__(self, val=0, next=None):\n",
    "#         self.val = val\n",
    "#         self.next = next\n",
    "class Solution:\n",
    "    def deleteDuplicates(self, head: ListNode) -> ListNode:\n",
    "        # iteration\n",
    "        dummy = ListNode(0)\n",
    "        dummy.next = head\n",
    "        prev, curr = dummy, head\n",
    "\n",
    "        while curr and curr.next:\n",
    "            if curr.val == curr.next.val:\n",
    "                while curr.next and curr.val == curr.next.val:\n",
    "                    curr = curr.next\n",
    "                curr = curr.next\n",
    "                prev.next = curr\n",
    "            else:\n",
    "                curr = curr.next\n",
    "                prev = prev.next\n",
    "        return dummy.next"
   ]
  },
  {
   "cell_type": "code",
   "execution_count": null,
   "metadata": {},
   "outputs": [],
   "source": [
    "class Solution:\n",
    "    def deleteDuplicates(self, head: ListNode) -> ListNode:\n",
    "        # recursion\n",
    "        if not head or not head.next:\n",
    "            return head\n",
    "        if head.val != head.next.val:\n",
    "            head.next = self.deleteDuplicates(head.next)\n",
    "            return head\n",
    "        # head.val == head.next.val and not head.next.next\n",
    "        elif not head.next.next:\n",
    "            return None\n",
    "        # head.val == head.next.val == head.next.next.val\n",
    "        elif head.next.val == head.next.next.val:\n",
    "            return self.deleteDuplicates(head.next)\n",
    "        # head.val == head.next.val != head.next.next.val\n",
    "        else:\n",
    "            return self.deleteDuplicates(head.next.next)"
   ]
  }
 ],
 "metadata": {
  "kernelspec": {
   "display_name": "Python 3",
   "language": "python",
   "name": "python3"
  },
  "language_info": {
   "codemirror_mode": {
    "name": "ipython",
    "version": 3
   },
   "file_extension": ".py",
   "mimetype": "text/x-python",
   "name": "python",
   "nbconvert_exporter": "python",
   "pygments_lexer": "ipython3",
   "version": "3.8.3"
  }
 },
 "nbformat": 4,
 "nbformat_minor": 4
}
