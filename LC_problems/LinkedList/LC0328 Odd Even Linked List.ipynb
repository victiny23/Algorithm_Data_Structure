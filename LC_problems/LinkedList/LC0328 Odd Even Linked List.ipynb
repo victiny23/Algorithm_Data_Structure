{
 "cells": [
  {
   "cell_type": "markdown",
   "metadata": {},
   "source": [
    "328. Odd Even Linked List\n",
    "Medium\n",
    "\n",
    "3458\n",
    "\n",
    "346\n",
    "\n",
    "Add to List\n",
    "\n",
    "Share\n",
    "Given the head of a singly linked list, group all the nodes with odd indices together followed by the nodes with even indices, and return the reordered list.\n",
    "\n",
    "The first node is considered odd, and the second node is even, and so on.\n",
    "\n",
    "Note that the relative order inside both the even and odd groups should remain as it was in the input.\n",
    "\n",
    "You must solve the problem in O(1) extra space complexity and O(n) time complexity.\n",
    "\n",
    " \n",
    "\n",
    "Example 1:\n",
    "\n",
    "\n",
    "Input: head = [1,2,3,4,5]\n",
    "Output: [1,3,5,2,4]\n",
    "Example 2:\n",
    "\n",
    "\n",
    "Input: head = [2,1,3,5,6,4,7]\n",
    "Output: [2,3,6,7,1,5,4]\n",
    " \n",
    "\n",
    "Constraints:\n",
    "\n",
    "n == number of nodes in the linked list\n",
    "0 <= n <= 104\n",
    "-106 <= Node.val <= 106\n"
   ]
  },
  {
   "cell_type": "code",
   "execution_count": null,
   "metadata": {},
   "outputs": [],
   "source": [
    "# Definition for singly-linked list.\n",
    "# class ListNode:\n",
    "#     def __init__(self, val=0, next=None):\n",
    "#         self.val = val\n",
    "#         self.next = next\n",
    "class Solution:\n",
    "    def oddEvenList(self, head: ListNode) -> ListNode:\n",
    "        # create 2 dummy nodes for odd and even\n",
    "        dummy1 = ListNode(0)\n",
    "        dummy2 = ListNode(0)\n",
    "        odd, even = dummy1, dummy2\n",
    "        while head:\n",
    "            odd.next = head # add odd node to the tail of odd\n",
    "            even.next = head.next # add even node to the tail of even\n",
    "            odd = odd.next # update tail of odd\n",
    "            even  = even.next # update tail of even\n",
    "            # update head of unprocessed nodes\n",
    "            # if not even: no more node left\n",
    "            head = head.next.next if even else None\n",
    "        # connect tail of odd to the head of even\n",
    "        odd.next = dummy2.next\n",
    "        return dummy1.next"
   ]
  },
  {
   "cell_type": "code",
   "execution_count": null,
   "metadata": {},
   "outputs": [],
   "source": [
    "lass Solution:\n",
    "    def oddEvenList(self, head: ListNode) -> ListNode:        \n",
    "        if not head:\n",
    "            return head\n",
    "        # create 2 linked lists of odd nodes only and even nodes only\n",
    "        odd, even = head, head.next\n",
    "        # head -> odd nodes, even_head -> even nodes\n",
    "        even_head = even\n",
    "\n",
    "        while even and even.next:\n",
    "            odd.next = odd.next.next # add new odd node to the tail of odd\n",
    "            even.next = even.next.next # add new even node to the tail of even\n",
    "            odd = odd.next # update tail of odd\n",
    "            even = even.next # update tail of even\n",
    "        \"\"\"\n",
    "        if not even: linked list ends with the odd node added to the tail of odd from last loop\n",
    "        if even and not even.next: linked list ends with the even node added to the tail of even from last loop\n",
    "        in both case: no odd node left\n",
    "        \"\"\"        \n",
    "        # connect tail of odd to the head of even\n",
    "        odd.next = even_head\n",
    "        return head"
   ]
  }
 ],
 "metadata": {
  "kernelspec": {
   "display_name": "Python 3",
   "language": "python",
   "name": "python3"
  },
  "language_info": {
   "codemirror_mode": {
    "name": "ipython",
    "version": 3
   },
   "file_extension": ".py",
   "mimetype": "text/x-python",
   "name": "python",
   "nbconvert_exporter": "python",
   "pygments_lexer": "ipython3",
   "version": "3.8.3"
  }
 },
 "nbformat": 4,
 "nbformat_minor": 4
}
