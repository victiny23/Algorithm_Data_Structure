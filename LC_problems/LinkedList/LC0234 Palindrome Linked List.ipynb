{
 "cells": [
  {
   "cell_type": "markdown",
   "metadata": {},
   "source": [
    "234. Palindrome Linked List\n",
    "Easy\n",
    "\n",
    "5789\n",
    "\n",
    "454\n",
    "\n",
    "Add to List\n",
    "\n",
    "Share\n",
    "Given the head of a singly linked list, return true if it is a palindrome.\n",
    "\n",
    " \n",
    "\n",
    "Example 1:\n",
    "\n",
    "\n",
    "Input: head = [1,2,2,1]\n",
    "Output: true\n",
    "Example 2:\n",
    "\n",
    "\n",
    "Input: head = [1,2]\n",
    "Output: false\n",
    " \n",
    "\n",
    "Constraints:\n",
    "\n",
    "The number of nodes in the list is in the range [1, 105].\n",
    "0 <= Node.val <= 9"
   ]
  },
  {
   "cell_type": "code",
   "execution_count": null,
   "metadata": {},
   "outputs": [],
   "source": [
    "# Definition for singly-linked list.\n",
    "# class ListNode:\n",
    "#     def __init__(self, val=0, next=None):\n",
    "#         self.val = val\n",
    "#         self.next = next\n",
    "class Solution:\n",
    "    def isPalindrome(self, head: ListNode) -> bool:  \n",
    "        slow = fast = head\n",
    "        # find the mid\n",
    "        while fast.next and fast.next.next:\n",
    "            slow = slow.next\n",
    "            fast = fast.next.next\n",
    "        slow = slow.next\n",
    "        # reverse the 2nd half\n",
    "        prev = None\n",
    "        while slow:\n",
    "            foll = slow.next\n",
    "            slow.next = prev\n",
    "            prev = slow\n",
    "            slow = foll\n",
    "        # compare the 2 halves\n",
    "        while prev and head.val == prev.val:\n",
    "            head = head.next\n",
    "            prev = prev.next\n",
    "        return not prev   "
   ]
  },
  {
   "cell_type": "code",
   "execution_count": null,
   "metadata": {},
   "outputs": [],
   "source": [
    "class Solution:\n",
    "    def isPalindrome(self, head: ListNode) -> bool:\n",
    "        vals = []\n",
    "        while head:\n",
    "            vals.append(head.val)\n",
    "            head = head.next\n",
    "        return vals == vals[::-1]"
   ]
  },
  {
   "cell_type": "code",
   "execution_count": null,
   "metadata": {},
   "outputs": [],
   "source": [
    "class Solution:\n",
    "    def isPalindrome(self, head: ListNode) -> bool:\n",
    "        if not head.next:\n",
    "            return True\n",
    "        stack = [head.val]\n",
    "        slow = fast = head\n",
    "        while fast.next and fast.next.next:\n",
    "            slow = slow.next\n",
    "            fast = fast.next.next\n",
    "            stack.append(slow.val)\n",
    "        # number of node is odd\n",
    "        if not fast.next:\n",
    "            stack.pop()\n",
    "        slow = slow.next\n",
    "        while slow:\n",
    "            if slow.val == stack[-1]:\n",
    "                stack.pop()\n",
    "            slow = slow.next\n",
    "        if not stack:\n",
    "            return True\n",
    "        else:\n",
    "            return False"
   ]
  }
 ],
 "metadata": {
  "kernelspec": {
   "display_name": "Python 3",
   "language": "python",
   "name": "python3"
  },
  "language_info": {
   "codemirror_mode": {
    "name": "ipython",
    "version": 3
   },
   "file_extension": ".py",
   "mimetype": "text/x-python",
   "name": "python",
   "nbconvert_exporter": "python",
   "pygments_lexer": "ipython3",
   "version": "3.8.3"
  }
 },
 "nbformat": 4,
 "nbformat_minor": 4
}
