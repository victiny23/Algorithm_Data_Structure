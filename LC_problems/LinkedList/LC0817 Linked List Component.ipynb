{
 "cells": [
  {
   "cell_type": "markdown",
   "metadata": {},
   "source": [
    "817. Linked List Components\n",
    "Medium\n",
    "\n",
    "548\n",
    "\n",
    "1497\n",
    "\n",
    "Add to List\n",
    "\n",
    "Share\n",
    "We are given head, the head node of a linked list containing unique integer values.\n",
    "\n",
    "We are also given the list nums, a subset of the values in the linked list.\n",
    "\n",
    "Return the number of connected components in nums, where two values are connected if they appear consecutively in the linked list.\n",
    "\n",
    "Example 1:\n",
    "\n",
    "Input: \n",
    "head: 0->1->2->3\n",
    "nums = [0, 1, 3]\n",
    "Output: 2\n",
    "Explanation: \n",
    "0 and 1 are connected, so [0, 1] and [3] are the two connected components.\n",
    "Example 2:\n",
    "\n",
    "Input: \n",
    "head: 0->1->2->3->4\n",
    "nums = [0, 3, 1, 4]\n",
    "Output: 2\n",
    "Explanation: \n",
    "0 and 1 are connected, 3 and 4 are connected, so [0, 1] and [3, 4] are the two connected components.\n",
    "Note:\n",
    "\n",
    "If n is the length of the linked list given by head, 1 <= n <= 10000.\n",
    "The value of each node in the linked list will be in the range [0, n - 1].\n",
    "1 <= nums.length <= 10000.\n",
    "nums is a subset of all values in the linked list."
   ]
  },
  {
   "cell_type": "code",
   "execution_count": null,
   "metadata": {},
   "outputs": [],
   "source": [
    "\"\"\"The linked list given by head is not sorted!\"\"\""
   ]
  },
  {
   "cell_type": "code",
   "execution_count": null,
   "metadata": {},
   "outputs": [],
   "source": [
    "# Definition for singly-linked list.\n",
    "# class ListNode:\n",
    "#     def __init__(self, val=0, next=None):\n",
    "#         self.val = val\n",
    "#         self.next = next\n",
    "class Solution:\n",
    "    def numComponents(self, head: ListNode, nums: List[int]) -> int:\n",
    "        g = set(nums)        \n",
    "        cnt = 0\n",
    "        # add a new component when finding the end of a segment\n",
    "        while head:\n",
    "            if head.val in dic and (head.next == None or head.next.val not in dic):\n",
    "                cnt += 1\n",
    "            head = head.next\n",
    "        return cnt"
   ]
  },
  {
   "cell_type": "code",
   "execution_count": null,
   "metadata": {},
   "outputs": [],
   "source": [
    "# Definition for singly-linked list.\n",
    "# class ListNode:\n",
    "#     def __init__(self, val=0, next=None):\n",
    "#         self.val = val\n",
    "#         self.next = next\n",
    "class Solution:\n",
    "    def numComponents(self, head: ListNode, nums: List[int]) -> int:\n",
    "        p = head\n",
    "        prev = False # if prev node is in nums\n",
    "        cnt = 0\n",
    "        g = set(nums)\n",
    "        # add a new component when finding the head of a segment\n",
    "        while p:\n",
    "            if p.val in g and not prev:\n",
    "                cnt += 1\n",
    "            prev = p.val in g\n",
    "            p = p.next\n",
    "        return cnt"
   ]
  }
 ],
 "metadata": {
  "kernelspec": {
   "display_name": "Python 3",
   "language": "python",
   "name": "python3"
  },
  "language_info": {
   "codemirror_mode": {
    "name": "ipython",
    "version": 3
   },
   "file_extension": ".py",
   "mimetype": "text/x-python",
   "name": "python",
   "nbconvert_exporter": "python",
   "pygments_lexer": "ipython3",
   "version": "3.8.3"
  }
 },
 "nbformat": 4,
 "nbformat_minor": 4
}
