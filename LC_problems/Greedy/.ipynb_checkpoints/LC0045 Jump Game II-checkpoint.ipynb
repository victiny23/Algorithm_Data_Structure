{
 "cells": [
  {
   "cell_type": "markdown",
   "metadata": {},
   "source": [
    "45. Jump Game II\n",
    "Medium\n",
    "\n",
    "5877\n",
    "\n",
    "223\n",
    "\n",
    "Add to List\n",
    "\n",
    "Share\n",
    "Given an array of non-negative integers nums, you are initially positioned at the first index of the array.\n",
    "\n",
    "Each element in the array represents your maximum jump length at that position.\n",
    "\n",
    "Your goal is to reach the last index in the minimum number of jumps.\n",
    "\n",
    "You can assume that you can always reach the last index.\n",
    "\n",
    " \n",
    "\n",
    "Example 1:\n",
    "\n",
    "Input: nums = [2,3,1,1,4]\n",
    "Output: 2\n",
    "Explanation: The minimum number of jumps to reach the last index is 2. Jump 1 step from index 0 to 1, then 3 steps to the last index.\n",
    "Example 2:\n",
    "\n",
    "Input: nums = [2,3,0,1,4]\n",
    "Output: 2\n",
    " \n",
    "\n",
    "Constraints:\n",
    "\n",
    "1 <= nums.length <= 104\n",
    "0 <= nums[i] <= 1000"
   ]
  },
  {
   "cell_type": "code",
   "execution_count": null,
   "metadata": {},
   "outputs": [],
   "source": [
    "class Solution:\n",
    "    def jump(self, nums: List[int]) -> int:\n",
    "        \"\"\"DP - 11724 ms\"\"\"\n",
    "        dp = [float('inf')] * len(nums) \n",
    "        dp[0] = 0\n",
    "        for i in range(len(nums)):\n",
    "            for l in range(nums[i]+1):\n",
    "                if i + l >= len(nums):\n",
    "                    break\n",
    "                dp[i+l] = min(dp[i]+1, dp[i+l])\n",
    "        return dp[-1]"
   ]
  },
  {
   "cell_type": "code",
   "execution_count": null,
   "metadata": {},
   "outputs": [],
   "source": [
    "class Solution:\n",
    "    def jump(self, nums: List[int]) -> int:\n",
    "        \"\"\"Greedy + DP: early exit when dp[-1] is reached - 8712 ms\"\"\"\n",
    "        dp = [float('inf')] * len(nums) \n",
    "        dp[0] = 0\n",
    "        for i in range(len(nums)):\n",
    "            for l in range(nums[i]+1):\n",
    "                if i + l >= len(nums):\n",
    "                    break\n",
    "                dp[i+l] = min(dp[i]+1, dp[i+l])\n",
    "            if dp[-1] < float('inf'):\n",
    "                return dp[-1]"
   ]
  },
  {
   "cell_type": "code",
   "execution_count": null,
   "metadata": {},
   "outputs": [],
   "source": [
    "class Solution:\n",
    "    def jump(self, nums: List[int]) -> int:\n",
    "        \"\"\"\n",
    "        Greedy + Two Pointers: 150 ms\n",
    "        left starts at 0 and right starts at nums[0]\n",
    "        points between left and right can be reached in 1 jump\n",
    "        update the left pointer to the right\n",
    "        update the right pointer to the farest point can be reached in 1 more jump\n",
    "        \"\"\"\n",
    "        if len(nums) <= 1:\n",
    "            return 0\n",
    "        left, right = 0, nums[0]\n",
    "        jumps = 1 # we can reach right in 1 jump\n",
    "        while right < len(nums) - 1:\n",
    "            # since right hasn't covered the last point, we need at least one more jump\n",
    "            jumps += 1\n",
    "            # finding the farest point can be reached in this 1 new sjump\n",
    "            nxt = max(i + nums[i] for i in range(left, right+1))\n",
    "            # update the two pointers\n",
    "            left, right = right, nxt\n",
    "        return jumps"
   ]
  }
 ],
 "metadata": {
  "kernelspec": {
   "display_name": "Python 3",
   "language": "python",
   "name": "python3"
  },
  "language_info": {
   "codemirror_mode": {
    "name": "ipython",
    "version": 3
   },
   "file_extension": ".py",
   "mimetype": "text/x-python",
   "name": "python",
   "nbconvert_exporter": "python",
   "pygments_lexer": "ipython3",
   "version": "3.8.3"
  }
 },
 "nbformat": 4,
 "nbformat_minor": 4
}
