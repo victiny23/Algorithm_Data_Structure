{
 "cells": [
  {
   "cell_type": "markdown",
   "metadata": {},
   "source": [
    "1561. Maximum Number of Coins You Can Get\n",
    "Medium\n",
    "\n",
    "411\n",
    "\n",
    "68\n",
    "\n",
    "Add to List\n",
    "\n",
    "Share\n",
    "There are 3n piles of coins of varying size, you and your friends will take piles of coins as follows:\n",
    "\n",
    "In each step, you will choose any 3 piles of coins (not necessarily consecutive).\n",
    "Of your choice, Alice will pick the pile with the maximum number of coins.\n",
    "You will pick the next pile with maximum number of coins.\n",
    "Your friend Bob will pick the last pile.\n",
    "Repeat until there are no more piles of coins.\n",
    "Given an array of integers piles where piles[i] is the number of coins in the ith pile.\n",
    "\n",
    "Return the maximum number of coins which you can have.\n",
    "\n",
    " \n",
    "\n",
    "Example 1:\n",
    "\n",
    "Input: piles = [2,4,1,2,7,8]\n",
    "Output: 9\n",
    "Explanation: Choose the triplet (2, 7, 8), Alice Pick the pile with 8 coins, you the pile with 7 coins and Bob the last one.\n",
    "Choose the triplet (1, 2, 4), Alice Pick the pile with 4 coins, you the pile with 2 coins and Bob the last one.\n",
    "The maximum number of coins which you can have are: 7 + 2 = 9.\n",
    "On the other hand if we choose this arrangement (1, 2, 8), (2, 4, 7) you only get 2 + 4 = 6 coins which is not optimal.\n",
    "Example 2:\n",
    "\n",
    "Input: piles = [2,4,5]\n",
    "Output: 4\n",
    "Example 3:\n",
    "\n",
    "Input: piles = [9,8,7,6,5,1,2,3,4]\n",
    "Output: 18\n",
    " \n",
    "\n",
    "Constraints:\n",
    "\n",
    "3 <= piles.length <= 10^5\n",
    "piles.length % 3 == 0\n",
    "1 <= piles[i] <= 10^4"
   ]
  },
  {
   "cell_type": "code",
   "execution_count": null,
   "metadata": {},
   "outputs": [],
   "source": [
    "class Solution:\n",
    "    def maxCoins(self, piles: List[int]) -> int:\n",
    "        \"\"\"Sort + Greedy\"\"\"\n",
    "        \"\"\"Backward\"\"\"\n",
    "        piles.sort()\n",
    "        n = len(piles)//3\n",
    "        res = 0\n",
    "        for i in range(3*n-2, n - 1, -2):\n",
    "            res += piles[i]\n",
    "        return res\n",
    "        \n",
    "        \"\"\"Forward\"\"\"\n",
    "        piles.sort()\n",
    "        return sum(piles[len(piles)//3::2])"
   ]
  }
 ],
 "metadata": {
  "kernelspec": {
   "display_name": "Python 3",
   "language": "python",
   "name": "python3"
  },
  "language_info": {
   "codemirror_mode": {
    "name": "ipython",
    "version": 3
   },
   "file_extension": ".py",
   "mimetype": "text/x-python",
   "name": "python",
   "nbconvert_exporter": "python",
   "pygments_lexer": "ipython3",
   "version": "3.8.3"
  }
 },
 "nbformat": 4,
 "nbformat_minor": 4
}
