{
 "cells": [
  {
   "cell_type": "markdown",
   "metadata": {},
   "source": [
    "242. Valid Anagram\n",
    "Easy\n",
    "\n",
    "3065\n",
    "\n",
    "175\n",
    "\n",
    "Add to List\n",
    "\n",
    "Share\n",
    "Given two strings s and t, return true if t is an anagram of s, and false otherwise.\n",
    "\n",
    " \n",
    "\n",
    "Example 1:\n",
    "\n",
    "Input: s = \"anagram\", t = \"nagaram\"\n",
    "Output: true\n",
    "Example 2:\n",
    "\n",
    "Input: s = \"rat\", t = \"car\"\n",
    "Output: false\n",
    " \n",
    "\n",
    "Constraints:\n",
    "\n",
    "1 <= s.length, t.length <= 5 * 104\n",
    "s and t consist of lowercase English letters."
   ]
  },
  {
   "cell_type": "code",
   "execution_count": null,
   "metadata": {},
   "outputs": [],
   "source": [
    "class Solution:\n",
    "    def isAnagram(self, s: str, t: str) -> bool:\n",
    "        \"\"\"sorting\"\"\"\n",
    "        return sorted(list(s)) == sorted(list(t))\n",
    "        \n",
    "        \"\"\"hash table\"\"\"\n",
    "        dic_s = {}\n",
    "        for ss in s:\n",
    "            dic_s[ss] = dic_s.get(ss, 0) + 1\n",
    "        dic_t = {}\n",
    "        for tt in t:\n",
    "            dic_t[tt] = dic_t.get(tt, 0) + 1        \n",
    "        return dic_s == dic_t\n",
    "        \n",
    "        \"\"\"hash table\"\"\"\n",
    "        dic_s = {}\n",
    "        for ss in s:\n",
    "            dic_s[ss] = dic_s.get(ss, 0) + 1\n",
    "        dic_t = {}\n",
    "        for tt in t:\n",
    "            dic_t[tt] = dic_t.get(tt, 0) + 1\n",
    "        if len(dic_s) != len(dic_t):\n",
    "            return False\n",
    "        for k in dic_s:\n",
    "            if k not in dic_t:\n",
    "                return False\n",
    "            if dic_s[k] != dic_t[k]:\n",
    "                return False\n",
    "        return True"
   ]
  }
 ],
 "metadata": {
  "kernelspec": {
   "display_name": "Python 3",
   "language": "python",
   "name": "python3"
  },
  "language_info": {
   "codemirror_mode": {
    "name": "ipython",
    "version": 3
   },
   "file_extension": ".py",
   "mimetype": "text/x-python",
   "name": "python",
   "nbconvert_exporter": "python",
   "pygments_lexer": "ipython3",
   "version": "3.8.3"
  }
 },
 "nbformat": 4,
 "nbformat_minor": 4
}
