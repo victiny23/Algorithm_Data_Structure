{
 "cells": [
  {
   "cell_type": "markdown",
   "metadata": {},
   "source": [
    "1945. Sum of Digits of String After Convert\n",
    "Easy\n",
    "\n",
    "148\n",
    "\n",
    "21\n",
    "\n",
    "Add to List\n",
    "\n",
    "Share\n",
    "You are given a string s consisting of lowercase English letters, and an integer k.\n",
    "\n",
    "First, convert s into an integer by replacing each letter with its position in the alphabet (i.e., replace 'a' with 1, 'b' with 2, ..., 'z' with 26). Then, transform the integer by replacing it with the sum of its digits. Repeat the transform operation k times in total.\n",
    "\n",
    "For example, if s = \"zbax\" and k = 2, then the resulting integer would be 8 by the following operations:\n",
    "\n",
    "Convert: \"zbax\" ➝ \"(26)(2)(1)(24)\" ➝ \"262124\" ➝ 262124\n",
    "Transform #1: 262124 ➝ 2 + 6 + 2 + 1 + 2 + 4 ➝ 17\n",
    "Transform #2: 17 ➝ 1 + 7 ➝ 8\n",
    "Return the resulting integer after performing the operations described above.\n",
    "\n",
    " \n",
    "\n",
    "Example 1:\n",
    "\n",
    "Input: s = \"iiii\", k = 1\n",
    "Output: 36\n",
    "Explanation: The operations are as follows:\n",
    "- Convert: \"iiii\" ➝ \"(9)(9)(9)(9)\" ➝ \"9999\" ➝ 9999\n",
    "- Transform #1: 9999 ➝ 9 + 9 + 9 + 9 ➝ 36\n",
    "Thus the resulting integer is 36.\n",
    "Example 2:\n",
    "\n",
    "Input: s = \"leetcode\", k = 2\n",
    "Output: 6\n",
    "Explanation: The operations are as follows:\n",
    "- Convert: \"leetcode\" ➝ \"(12)(5)(5)(20)(3)(15)(4)(5)\" ➝ \"12552031545\" ➝ 12552031545\n",
    "- Transform #1: 12552031545 ➝ 1 + 2 + 5 + 5 + 2 + 0 + 3 + 1 + 5 + 4 + 5 ➝ 33\n",
    "- Transform #2: 33 ➝ 3 + 3 ➝ 6\n",
    "Thus the resulting integer is 6.\n",
    "Example 3:\n",
    "\n",
    "Input: s = \"zbax\", k = 2\n",
    "Output: 8\n",
    " \n",
    "\n",
    "Constraints:\n",
    "\n",
    "1 <= s.length <= 100\n",
    "1 <= k <= 10\n",
    "s consists of lowercase English letters."
   ]
  },
  {
   "cell_type": "code",
   "execution_count": null,
   "metadata": {},
   "outputs": [],
   "source": [
    "class Solution:\n",
    "    def getLucky(self, s: str, k: int) -> int:\n",
    "        res = []\n",
    "        for c in s:\n",
    "            res.append(str(ord(c)-ord('a')+1))\n",
    "        res = ''.join(res)\n",
    "        res = int(res)\n",
    "        for _ in range(k):\n",
    "            res = sum(int(c) for c in str(res))\n",
    "        return res"
   ]
  }
 ],
 "metadata": {
  "kernelspec": {
   "display_name": "Python 3",
   "language": "python",
   "name": "python3"
  },
  "language_info": {
   "codemirror_mode": {
    "name": "ipython",
    "version": 3
   },
   "file_extension": ".py",
   "mimetype": "text/x-python",
   "name": "python",
   "nbconvert_exporter": "python",
   "pygments_lexer": "ipython3",
   "version": "3.8.3"
  }
 },
 "nbformat": 4,
 "nbformat_minor": 4
}
