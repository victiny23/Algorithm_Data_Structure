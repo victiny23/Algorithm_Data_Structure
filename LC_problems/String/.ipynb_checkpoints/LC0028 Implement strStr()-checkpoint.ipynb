{
 "cells": [
  {
   "cell_type": "markdown",
   "metadata": {},
   "source": [
    "28. Implement strStr()\n",
    "Easy\n",
    "\n",
    "2934\n",
    "\n",
    "2766\n",
    "\n",
    "Add to List\n",
    "\n",
    "Share\n",
    "Implement strStr().\n",
    "\n",
    "Return the index of the first occurrence of needle in haystack, or -1 if needle is not part of haystack.\n",
    "\n",
    "Clarification:\n",
    "\n",
    "What should we return when needle is an empty string? This is a great question to ask during an interview.\n",
    "\n",
    "For the purpose of this problem, we will return 0 when needle is an empty string. This is consistent to C's strstr() and Java's indexOf().\n",
    "\n",
    " \n",
    "\n",
    "Example 1:\n",
    "\n",
    "Input: haystack = \"hello\", needle = \"ll\"\n",
    "Output: 2\n",
    "Example 2:\n",
    "\n",
    "Input: haystack = \"aaaaa\", needle = \"bba\"\n",
    "Output: -1\n",
    "Example 3:\n",
    "\n",
    "Input: haystack = \"\", needle = \"\"\n",
    "Output: 0\n",
    " \n",
    "\n",
    "Constraints:\n",
    "\n",
    "0 <= haystack.length, needle.length <= 5 * 104\n",
    "haystack and needle consist of only lower-case English characters."
   ]
  },
  {
   "cell_type": "code",
   "execution_count": null,
   "metadata": {},
   "outputs": [],
   "source": [
    "class Solution:\n",
    "    def strStr(self, haystack: str, needle: str) -> int:\n",
    "        \"\"\"\n",
    "        some trick test cases:\n",
    "        \"a\", \"\"\n",
    "        \"mississippi\", \"issipi\"\n",
    "        \"mississippi\", \"issip\"\n",
    "        \"aaaa..a ton of a..aaba\", \"aaa..a ton of a...aaab\"\n",
    "        \"\"\"\n",
    "        \n",
    "        \"\"\"TLE\"\"\"\n",
    "        # if not needle:\n",
    "        #     return 0\n",
    "        # for i in range(len(haystack) - len(needle) + 1):\n",
    "        #     for j in range(len(needle)):\n",
    "        #         if haystack[i+j] != needle[j]:\n",
    "        #             break\n",
    "        #         if j == len(needle) - 1:\n",
    "        #             return i\n",
    "        # return -1\n",
    "       \n",
    "    \n",
    "        if not needle:\n",
    "            return 0\n",
    "        for i in range(len(haystack) - len(needle) + 1):\n",
    "            if haystack[i:i+len(needle)] == needle:\n",
    "                return i\n",
    "        return -1"
   ]
  }
 ],
 "metadata": {
  "kernelspec": {
   "display_name": "Python 3",
   "language": "python",
   "name": "python3"
  },
  "language_info": {
   "codemirror_mode": {
    "name": "ipython",
    "version": 3
   },
   "file_extension": ".py",
   "mimetype": "text/x-python",
   "name": "python",
   "nbconvert_exporter": "python",
   "pygments_lexer": "ipython3",
   "version": "3.8.3"
  }
 },
 "nbformat": 4,
 "nbformat_minor": 4
}
