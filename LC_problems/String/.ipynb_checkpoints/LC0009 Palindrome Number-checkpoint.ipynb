{
 "cells": [
  {
   "cell_type": "markdown",
   "metadata": {},
   "source": [
    "9. Palindrome Number\n",
    "Easy\n",
    "\n",
    "3949\n",
    "\n",
    "1847\n",
    "\n",
    "Add to List\n",
    "\n",
    "Share\n",
    "Given an integer x, return true if x is palindrome integer.\n",
    "\n",
    "An integer is a palindrome when it reads the same backward as forward. For example, 121 is palindrome while 123 is not.\n",
    "\n",
    " \n",
    "\n",
    "Example 1:\n",
    "\n",
    "Input: x = 121\n",
    "Output: true\n",
    "Example 2:\n",
    "\n",
    "Input: x = -121\n",
    "Output: false\n",
    "Explanation: From left to right, it reads -121. From right to left, it becomes 121-. Therefore it is not a palindrome.\n",
    "Example 3:\n",
    "\n",
    "Input: x = 10\n",
    "Output: false\n",
    "Explanation: Reads 01 from right to left. Therefore it is not a palindrome.\n",
    "Example 4:\n",
    "\n",
    "Input: x = -101\n",
    "Output: false\n",
    " \n",
    "\n",
    "Constraints:\n",
    "\n",
    "-231 <= x <= 231 - 1"
   ]
  },
  {
   "cell_type": "code",
   "execution_count": null,
   "metadata": {},
   "outputs": [],
   "source": [
    "class Solution:\n",
    "    def isPalindrome(self, x: int) -> bool:\n",
    "        \"\"\"Converting to s atring\"\"\"\n",
    "        if x < 0:\n",
    "            return False\n",
    "        s = str(x)\n",
    "        return s == s[::-1]  "
   ]
  },
  {
   "cell_type": "code",
   "execution_count": null,
   "metadata": {},
   "outputs": [],
   "source": [
    "class Solution:\n",
    "    def isPalindrome(self, x: int) -> bool:\n",
    "        \"\"\"No string - list of digit\"\"\"\n",
    "        if x < 0:\n",
    "            return False\n",
    "        if x == 0:\n",
    "            return True\n",
    "        s = []\n",
    "        while x:\n",
    "            s.append(x%10)\n",
    "            x //= 10\n",
    "        i, j = 0, len(s) - 1\n",
    "        while i < j:\n",
    "            if s[i] != s[j]:\n",
    "                return False\n",
    "            else:\n",
    "                i += 1\n",
    "                j -= 1\n",
    "        return True\n",
    "        # return s == s[::-1]"
   ]
  },
  {
   "cell_type": "code",
   "execution_count": null,
   "metadata": {},
   "outputs": [],
   "source": [
    "class Solution:\n",
    "    def isPalindrome(self, x: int) -> bool:\n",
    "        \"\"\"No string - create a reversed number\"\"\"\n",
    "        if x < 0:\n",
    "            return False\n",
    "        rev = 0\n",
    "        # save the input number for comparison\n",
    "        raw = x\n",
    "        while x :\n",
    "            rev = rev * 10 + x % 10\n",
    "            x //= 10\n",
    "        return rev == raw"
   ]
  },
  {
   "cell_type": "code",
   "execution_count": null,
   "metadata": {},
   "outputs": [],
   "source": [
    "class Solution:\n",
    "    def isPalindrome(self, x: int) -> bool:\n",
    "        \"\"\"No string, compare the left most digit with right most digit\"\"\"\n",
    "        if x < 0:\n",
    "            return False\n",
    "        b = 1\n",
    "        # find how many digits are there in x - create a numbe rof the same length\n",
    "        while x//b >= 10:\n",
    "            b *= 10\n",
    "        # start comparison\n",
    "        while b >= 10:\n",
    "            if x // b != x % 10:\n",
    "                return False\n",
    "            # update - remove 1 digit from left and right each\n",
    "            x, b = x % b // 10, b // 100\n",
    "        return True  "
   ]
  }
 ],
 "metadata": {
  "kernelspec": {
   "display_name": "Python 3",
   "language": "python",
   "name": "python3"
  },
  "language_info": {
   "codemirror_mode": {
    "name": "ipython",
    "version": 3
   },
   "file_extension": ".py",
   "mimetype": "text/x-python",
   "name": "python",
   "nbconvert_exporter": "python",
   "pygments_lexer": "ipython3",
   "version": "3.8.3"
  }
 },
 "nbformat": 4,
 "nbformat_minor": 4
}
