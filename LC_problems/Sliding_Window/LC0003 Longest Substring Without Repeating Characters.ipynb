{
 "cells": [
  {
   "cell_type": "markdown",
   "metadata": {},
   "source": [
    "3. Longest Substring Without Repeating Characters\n",
    "Medium\n",
    "\n",
    "17150\n",
    "\n",
    "815\n",
    "\n",
    "Add to List\n",
    "\n",
    "Share\n",
    "Given a string s, find the length of the longest substring without repeating characters.\n",
    "\n",
    " \n",
    "\n",
    "Example 1:\n",
    "\n",
    "Input: s = \"abcabcbb\"\n",
    "Output: 3\n",
    "Explanation: The answer is \"abc\", with the length of 3.\n",
    "Example 2:\n",
    "\n",
    "Input: s = \"bbbbb\"\n",
    "Output: 1\n",
    "Explanation: The answer is \"b\", with the length of 1.\n",
    "Example 3:\n",
    "\n",
    "Input: s = \"pwwkew\"\n",
    "Output: 3\n",
    "Explanation: The answer is \"wke\", with the length of 3.\n",
    "Notice that the answer must be a substring, \"pwke\" is a subsequence and not a substring.\n",
    "Example 4:\n",
    "\n",
    "Input: s = \"\"\n",
    "Output: 0\n",
    " \n",
    "\n",
    "Constraints:\n",
    "\n",
    "0 <= s.length <= 5 * 104\n",
    "s consists of English letters, digits, symbols and spaces."
   ]
  },
  {
   "cell_type": "code",
   "execution_count": null,
   "metadata": {},
   "outputs": [],
   "source": [
    "class Solution:\n",
    "    def lengthOfLongestSubstring(self, s: str) -> int:\n",
    "        \"\"\"Hash Table + Sliding Window\"\"\"\n",
    "        res = 0\n",
    "        dic = {}\n",
    "        # prev: pointer to the left of the window\n",
    "        prev = 0 \n",
    "        # length of the current window\n",
    "        curr = 1\n",
    "        # i: pointer to the right of the window\n",
    "        for i in range(len(s)):\n",
    "            # check if the new character in the current dic\n",
    "            # if dic[s[i]] < prev: s[i] is on the left of the current window\n",
    "            if s[i] not in dic or dic[s[i]] < prev:\n",
    "                # add/update the position of the character to dic for the current window\n",
    "                dic[s[i]] = i\n",
    "                # update the length of the window\n",
    "                curr = i - prev + 1\n",
    "                res = max(res, curr)\n",
    "            else:\n",
    "                # move the left of the window to the right of the repreated character\n",
    "                prev = dic[s[i]] + 1\n",
    "                # update the position of the character to dic for the current window\n",
    "                dic[s[i]] = i\n",
    "                # update the length of the window\n",
    "                curr = i - prev + 1\n",
    "        return res"
   ]
  }
 ],
 "metadata": {
  "kernelspec": {
   "display_name": "Python 3",
   "language": "python",
   "name": "python3"
  },
  "language_info": {
   "codemirror_mode": {
    "name": "ipython",
    "version": 3
   },
   "file_extension": ".py",
   "mimetype": "text/x-python",
   "name": "python",
   "nbconvert_exporter": "python",
   "pygments_lexer": "ipython3",
   "version": "3.8.3"
  }
 },
 "nbformat": 4,
 "nbformat_minor": 4
}
