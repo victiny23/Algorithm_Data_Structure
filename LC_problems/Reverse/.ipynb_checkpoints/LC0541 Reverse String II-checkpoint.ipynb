{
 "cells": [
  {
   "cell_type": "markdown",
   "metadata": {},
   "source": [
    "541. Reverse String II\n",
    "Easy\n",
    "\n",
    "724\n",
    "\n",
    "1941\n",
    "\n",
    "Add to List\n",
    "\n",
    "Share\n",
    "Given a string s and an integer k, reverse the first k characters for every 2k characters counting from the start of the string.\n",
    "\n",
    "If there are fewer than k characters left, reverse all of them. If there are less than 2k but greater than or equal to k characters, then reverse the first k characters and left the other as original.\n",
    "\n",
    " \n",
    "\n",
    "Example 1:\n",
    "\n",
    "Input: s = \"abcdefg\", k = 2\n",
    "Output: \"bacdfeg\"\n",
    "Example 2:\n",
    "\n",
    "Input: s = \"abcd\", k = 2\n",
    "Output: \"bacd\"\n",
    " \n",
    "\n",
    "Constraints:\n",
    "\n",
    "1 <= s.length <= 104\n",
    "s consists of only lowercase English letters.\n",
    "1 <= k <= 104"
   ]
  },
  {
   "cell_type": "code",
   "execution_count": null,
   "metadata": {},
   "outputs": [],
   "source": [
    "class Solution:\n",
    "    def reverseStr(self, s: str, k: int) -> str:\n",
    "        \"\"\"Recursion\"\"\"\n",
    "        n = len(s)\n",
    "        if n < k:\n",
    "            return s[::-1]\n",
    "        elif n < 2*k:\n",
    "            return s[:k][::-1] + s[k:]\n",
    "        else:\n",
    "            return s[:k][::-1] + s[k:2*k] + self.reverseStr(s[2*k:], k)\n",
    "        \n",
    "        \"\"\"Two Pointers\"\"\"\n",
    "        s = [c for c in s]\n",
    "        for i in range(0,len(s)//k+1): # +1 to handle the tail when there are fewer than k characters left\n",
    "            if i%2 == 1: # keep the last k characters for every 2k characters\n",
    "                continue\n",
    "            l, r = i*k, min(i*k+k, len(s))-1 # check if there are k characters left\n",
    "            # reverse this part\n",
    "            while l < r:\n",
    "                s[l], s[r] = s[r], s[l]\n",
    "                l += 1\n",
    "                r -= 1\n",
    "        return ''.join(s)"
   ]
  }
 ],
 "metadata": {
  "kernelspec": {
   "display_name": "Python 3",
   "language": "python",
   "name": "python3"
  },
  "language_info": {
   "codemirror_mode": {
    "name": "ipython",
    "version": 3
   },
   "file_extension": ".py",
   "mimetype": "text/x-python",
   "name": "python",
   "nbconvert_exporter": "python",
   "pygments_lexer": "ipython3",
   "version": "3.8.3"
  }
 },
 "nbformat": 4,
 "nbformat_minor": 4
}
