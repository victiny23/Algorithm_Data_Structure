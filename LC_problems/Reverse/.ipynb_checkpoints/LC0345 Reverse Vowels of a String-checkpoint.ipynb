{
 "cells": [
  {
   "cell_type": "markdown",
   "metadata": {},
   "source": [
    "345. Reverse Vowels of a String\n",
    "Easy\n",
    "\n",
    "1249\n",
    "\n",
    "1627\n",
    "\n",
    "Add to List\n",
    "\n",
    "Share\n",
    "Given a string s, reverse only all the vowels in the string and return it.\n",
    "\n",
    "The vowels are 'a', 'e', 'i', 'o', and 'u', and they can appear in both cases.\n",
    "\n",
    " \n",
    "\n",
    "Example 1:\n",
    "\n",
    "Input: s = \"hello\"\n",
    "Output: \"holle\"\n",
    "Example 2:\n",
    "\n",
    "Input: s = \"leetcode\"\n",
    "Output: \"leotcede\"\n",
    " \n",
    "\n",
    "Constraints:\n",
    "\n",
    "1 <= s.length <= 3 * 105\n",
    "s consist of printable ASCII characters."
   ]
  },
  {
   "cell_type": "code",
   "execution_count": null,
   "metadata": {},
   "outputs": [],
   "source": [
    "class Solution:\n",
    "    def reverseVowels(self, s: str) -> str:\n",
    "        \"\"\"Two Pointers\"\"\"\n",
    "        s = [c for c in s]\n",
    "        l, r = 0, len(s)-1\n",
    "        while l < r:\n",
    "            while l < r and s[l] not in ['a','e','i','o','u','A','E','I','O','U']:\n",
    "                l += 1\n",
    "            while l < r and s[r] not in ['a','e','i','o','u','A','E','I','O','U']:\n",
    "                r -= 1\n",
    "            s[l], s[r] = s[r], s[l]\n",
    "            l += 1\n",
    "            r -= 1\n",
    "        return ''.join(s)"
   ]
  }
 ],
 "metadata": {
  "kernelspec": {
   "display_name": "Python 3",
   "language": "python",
   "name": "python3"
  },
  "language_info": {
   "codemirror_mode": {
    "name": "ipython",
    "version": 3
   },
   "file_extension": ".py",
   "mimetype": "text/x-python",
   "name": "python",
   "nbconvert_exporter": "python",
   "pygments_lexer": "ipython3",
   "version": "3.8.3"
  }
 },
 "nbformat": 4,
 "nbformat_minor": 4
}
