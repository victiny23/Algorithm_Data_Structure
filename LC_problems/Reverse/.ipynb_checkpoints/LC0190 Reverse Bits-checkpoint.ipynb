{
 "cells": [
  {
   "cell_type": "markdown",
   "metadata": {},
   "source": [
    "190. Reverse Bits\n",
    "Easy\n",
    "\n",
    "2173\n",
    "\n",
    "661\n",
    "\n",
    "Add to List\n",
    "\n",
    "Share\n",
    "Reverse bits of a given 32 bits unsigned integer.\n",
    "\n",
    "Note:\n",
    "\n",
    "Note that in some languages, such as Java, there is no unsigned integer type. In this case, both input and output will be given as a signed integer type. They should not affect your implementation, as the integer's internal binary representation is the same, whether it is signed or unsigned.\n",
    "In Java, the compiler represents the signed integers using 2's complement notation. Therefore, in Example 2 above, the input represents the signed integer -3 and the output represents the signed integer -1073741825.\n",
    " \n",
    "\n",
    "Example 1:\n",
    "\n",
    "Input: n = 00000010100101000001111010011100\n",
    "Output:    964176192 (00111001011110000010100101000000)\n",
    "Explanation: The input binary string 00000010100101000001111010011100 represents the unsigned integer 43261596, so return 964176192 which its binary representation is 00111001011110000010100101000000.\n",
    "Example 2:\n",
    "\n",
    "Input: n = 11111111111111111111111111111101\n",
    "Output:   3221225471 (10111111111111111111111111111111)\n",
    "Explanation: The input binary string 11111111111111111111111111111101 represents the unsigned integer 4294967293, so return 3221225471 which its binary representation is 10111111111111111111111111111111.\n",
    " \n",
    "\n",
    "Constraints:\n",
    "\n",
    "The input must be a binary string of length 32\n",
    " \n",
    "\n",
    "Follow up: If this function is called many times, how would you optimize it?"
   ]
  },
  {
   "cell_type": "code",
   "execution_count": null,
   "metadata": {},
   "outputs": [],
   "source": [
    "class Solution:\n",
    "    def reverseBits(self, n: int) -> int:\n",
    "        \"\"\"the binary string input is converted to an int\"\"\"\n",
    "        res = 0\n",
    "        digit = []\n",
    "        for i in range(31, -1, -1):\n",
    "            digit.append(n // 2**i)\n",
    "            n %= 2**i\n",
    "        for i in range(32):\n",
    "            res += 2**i*digit[i]           \n",
    "        return res\n",
    "        \n",
    "        \"\"\"\n",
    "        bin(): takes in integer x and returns the binary representation of x in a string format\n",
    "        int(x, base=10): converts the specified value into an integer number\n",
    "        \"\"\"\n",
    "        bi_str = bin(n)[2:] # bin(n) reads as '0bxxxx...xx', length may vary - not necessarily 32 x's\n",
    "        if len(bi_str) < 32:\n",
    "            bi_str = '0'*(32-len(bi_str)) + bi_str\n",
    "        return int('0b'+bi_str[::-1], 2)"
   ]
  }
 ],
 "metadata": {
  "kernelspec": {
   "display_name": "Python 3",
   "language": "python",
   "name": "python3"
  },
  "language_info": {
   "codemirror_mode": {
    "name": "ipython",
    "version": 3
   },
   "file_extension": ".py",
   "mimetype": "text/x-python",
   "name": "python",
   "nbconvert_exporter": "python",
   "pygments_lexer": "ipython3",
   "version": "3.8.3"
  }
 },
 "nbformat": 4,
 "nbformat_minor": 4
}
