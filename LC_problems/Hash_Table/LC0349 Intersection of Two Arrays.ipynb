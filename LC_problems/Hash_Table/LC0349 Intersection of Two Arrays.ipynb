{
 "cells": [
  {
   "cell_type": "markdown",
   "metadata": {},
   "source": [
    "349. Intersection of Two Arrays\n",
    "Easy\n",
    "\n",
    "1747\n",
    "\n",
    "1664\n",
    "\n",
    "Add to List\n",
    "\n",
    "Share\n",
    "Given two integer arrays nums1 and nums2, return an array of their intersection. Each element in the result must be unique and you may return the result in any order.\n",
    "\n",
    " \n",
    "\n",
    "Example 1:\n",
    "\n",
    "Input: nums1 = [1,2,2,1], nums2 = [2,2]\n",
    "Output: [2]\n",
    "Example 2:\n",
    "\n",
    "Input: nums1 = [4,9,5], nums2 = [9,4,9,8,4]\n",
    "Output: [9,4]\n",
    "Explanation: [4,9] is also accepted.\n",
    " \n",
    "\n",
    "Constraints:\n",
    "\n",
    "1 <= nums1.length, nums2.length <= 1000\n",
    "0 <= nums1[i], nums2[i] <= 1000"
   ]
  },
  {
   "cell_type": "code",
   "execution_count": null,
   "metadata": {},
   "outputs": [],
   "source": [
    "class Solution:\n",
    "    def intersection(self, nums1: List[int], nums2: List[int]) -> List[int]:\n",
    "        \"\"\"intersection of two sets\"\"\"\n",
    "        a = set(nums1)\n",
    "        b = set(nums2)\n",
    "        res = []\n",
    "        for x in a:\n",
    "            if x in b:\n",
    "                res.append(x)\n",
    "        return res\n",
    "        \n",
    "        \"\"\"intersection of two sets: & for intersection\"\"\"\n",
    "        return list(set(nums1) & set(nums2))"
   ]
  },
  {
   "cell_type": "code",
   "execution_count": null,
   "metadata": {},
   "outputs": [],
   "source": [
    "class Solution:\n",
    "    def intersection(self, nums1: List[int], nums2: List[int]) -> List[int]:\n",
    "        \"\"\"hash map\"\"\"\n",
    "        dic = {}\n",
    "        for num in nums1:\n",
    "            dic[num] = 1 # this will be used as a flag - whether it is added to the result\n",
    "        res = []\n",
    "        for num in nums2:\n",
    "            if num in dic and dic[num]:\n",
    "                res.append(num)\n",
    "                dic[num] -= 1 # update the flag\n",
    "        return res"
   ]
  },
  {
   "cell_type": "code",
   "execution_count": null,
   "metadata": {},
   "outputs": [],
   "source": [
    "class Solution:\n",
    "    def intersection(self, nums1: List[int], nums2: List[int]) -> List[int]:\n",
    "        \"\"\"two pointers for two sorted lists: O(mlogm) + O(nlogn)\"\"\"\n",
    "        nums1.sort()\n",
    "        nums2.sort()\n",
    "        res = []\n",
    "        i = j = 0\n",
    "        while (i < len(nums1) and j < len(nums2)):\n",
    "            if nums1[i] < nums2[j]:\n",
    "                i += 1\n",
    "            elif nums1[i] > nums2[j]:\n",
    "                j += 1\n",
    "            else: # nums1[i] == nums2[j]\n",
    "                # adding num if res is empty or num is different from the last num added\n",
    "                if not res or (res and nums1[i] != res[-1]):\n",
    "                # also can be written as:\n",
    "                # if not (res and nums1[i] == res[-1]):\n",
    "                    res.append(nums1[i])\n",
    "                i += 1\n",
    "                j += 1\n",
    "        return res"
   ]
  }
 ],
 "metadata": {
  "kernelspec": {
   "display_name": "Python 3",
   "language": "python",
   "name": "python3"
  },
  "language_info": {
   "codemirror_mode": {
    "name": "ipython",
    "version": 3
   },
   "file_extension": ".py",
   "mimetype": "text/x-python",
   "name": "python",
   "nbconvert_exporter": "python",
   "pygments_lexer": "ipython3",
   "version": "3.8.3"
  }
 },
 "nbformat": 4,
 "nbformat_minor": 4
}
