{
 "cells": [
  {
   "cell_type": "markdown",
   "metadata": {},
   "source": [
    "409. Longest Palindrome\n",
    "Easy\n",
    "\n",
    "2016\n",
    "\n",
    "126\n",
    "\n",
    "Add to List\n",
    "\n",
    "Share\n",
    "Given a string s which consists of lowercase or uppercase letters, return the length of the longest palindrome that can be built with those letters.\n",
    "\n",
    "Letters are case sensitive, for example, \"Aa\" is not considered a palindrome here.\n",
    "\n",
    " \n",
    "\n",
    "Example 1:\n",
    "\n",
    "Input: s = \"abccccdd\"\n",
    "Output: 7\n",
    "Explanation:\n",
    "One longest palindrome that can be built is \"dccaccd\", whose length is 7.\n",
    "Example 2:\n",
    "\n",
    "Input: s = \"a\"\n",
    "Output: 1\n",
    "Example 3:\n",
    "\n",
    "Input: s = \"bb\"\n",
    "Output: 2\n",
    " \n",
    "\n",
    "Constraints:\n",
    "\n",
    "1 <= s.length <= 2000\n",
    "s consists of lowercase and/or uppercase English letters only."
   ]
  },
  {
   "cell_type": "code",
   "execution_count": null,
   "metadata": {},
   "outputs": [],
   "source": [
    "class Solution:\n",
    "    def longestPalindrome(self, s: str) -> int:\n",
    "        dic = {}\n",
    "        for c in s:\n",
    "            dic[c] = dic.get(c, 0) + 1\n",
    "        res = 0\n",
    "        center = 0\n",
    "        for cnt in dic.values():\n",
    "            if cnt == 1: \n",
    "                if not center:\n",
    "                    center = 1\n",
    "            else:\n",
    "                res += cnt//2\n",
    "                if not center:\n",
    "                    center = cnt%2\n",
    "        return res*2 + center"
   ]
  }
 ],
 "metadata": {
  "kernelspec": {
   "display_name": "Python 3",
   "language": "python",
   "name": "python3"
  },
  "language_info": {
   "codemirror_mode": {
    "name": "ipython",
    "version": 3
   },
   "file_extension": ".py",
   "mimetype": "text/x-python",
   "name": "python",
   "nbconvert_exporter": "python",
   "pygments_lexer": "ipython3",
   "version": "3.8.3"
  }
 },
 "nbformat": 4,
 "nbformat_minor": 4
}
