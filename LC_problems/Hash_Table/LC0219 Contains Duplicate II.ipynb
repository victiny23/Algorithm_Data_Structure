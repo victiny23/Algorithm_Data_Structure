{
 "cells": [
  {
   "cell_type": "markdown",
   "metadata": {},
   "source": [
    "219. Contains Duplicate II\n",
    "Easy\n",
    "\n",
    "1586\n",
    "\n",
    "1515\n",
    "\n",
    "Add to List\n",
    "\n",
    "Share\n",
    "Given an integer array nums and an integer k, return true if there are two distinct indices i and j in the array such that nums[i] == nums[j] and abs(i - j) <= k.\n",
    "\n",
    " \n",
    "\n",
    "Example 1:\n",
    "\n",
    "Input: nums = [1,2,3,1], k = 3\n",
    "Output: true\n",
    "Example 2:\n",
    "\n",
    "Input: nums = [1,0,1,1], k = 1\n",
    "Output: true\n",
    "Example 3:\n",
    "\n",
    "Input: nums = [1,2,3,1,2,3], k = 2\n",
    "Output: false\n",
    " \n",
    "\n",
    "Constraints:\n",
    "\n",
    "1 <= nums.length <= 105\n",
    "-109 <= nums[i] <= 109\n",
    "0 <= k <= 105"
   ]
  },
  {
   "cell_type": "code",
   "execution_count": null,
   "metadata": {},
   "outputs": [],
   "source": [
    "class Solution:\n",
    "    def containsNearbyDuplicate(self, nums: List[int], k: int) -> bool:  \n",
    "        \"\"\"hash table: key: num - value: index\"\"\"\n",
    "        dic = {}\n",
    "        for i, num in enumerate(nums):\n",
    "            if num in dic and i - dic[num] <= k:\n",
    "                return True\n",
    "            dic[num] = i\n",
    "        return False\n",
    "        \n",
    "        \n",
    "        \"\"\"sliding window: set of fixed size\"\"\"\n",
    "        seen = set()\n",
    "        for i, num in enumerate(nums):\n",
    "            if num in seen:\n",
    "                return True\n",
    "            seen.add(num)\n",
    "            # remove the oldest element\n",
    "            if i >= k:\n",
    "                seen.remove(nums[i-k])\n",
    "        return False"
   ]
  }
 ],
 "metadata": {
  "kernelspec": {
   "display_name": "Python 3",
   "language": "python",
   "name": "python3"
  },
  "language_info": {
   "codemirror_mode": {
    "name": "ipython",
    "version": 3
   },
   "file_extension": ".py",
   "mimetype": "text/x-python",
   "name": "python",
   "nbconvert_exporter": "python",
   "pygments_lexer": "ipython3",
   "version": "3.8.3"
  }
 },
 "nbformat": 4,
 "nbformat_minor": 4
}
