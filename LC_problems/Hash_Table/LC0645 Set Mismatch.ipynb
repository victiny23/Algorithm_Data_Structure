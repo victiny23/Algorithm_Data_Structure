{
 "cells": [
  {
   "cell_type": "markdown",
   "metadata": {},
   "source": [
    "645. Set Mismatch\n",
    "Easy\n",
    "\n",
    "1236\n",
    "\n",
    "462\n",
    "\n",
    "Add to List\n",
    "\n",
    "Share\n",
    "You have a set of integers s, which originally contains all the numbers from 1 to n. Unfortunately, due to some error, one of the numbers in s got duplicated to another number in the set, which results in repetition of one number and loss of another number.\n",
    "\n",
    "You are given an integer array nums representing the data status of this set after the error.\n",
    "\n",
    "Find the number that occurs twice and the number that is missing and return them in the form of an array.\n",
    "\n",
    " \n",
    "\n",
    "Example 1:\n",
    "\n",
    "Input: nums = [1,2,2,4]\n",
    "Output: [2,3]\n",
    "Example 2:\n",
    "\n",
    "Input: nums = [1,1]\n",
    "Output: [1,2]\n",
    " \n",
    "\n",
    "Constraints:\n",
    "\n",
    "2 <= nums.length <= 104\n",
    "1 <= nums[i] <= 104"
   ]
  },
  {
   "cell_type": "code",
   "execution_count": null,
   "metadata": {},
   "outputs": [],
   "source": [
    "class Solution:\n",
    "    def findErrorNums(self, nums: List[int]) -> List[int]:\n",
    "        \"\"\"set\"\"\"\n",
    "        # 1 find the difference of 2 sets\n",
    "        s = set()\n",
    "        f = set(range(1, len(nums)+1))\n",
    "        for num in nums:\n",
    "            if num not in s:\n",
    "                s.add(num)\n",
    "            else:\n",
    "                r = num\n",
    "        return r, list(f-s)[0]\n",
    "        \n",
    "        # using the sum of the sets\n",
    "        s = set(nums)\n",
    "        f = set(range(1, len(nums)+1))\n",
    "        r = sum(nums) - sum(s)\n",
    "        m = sum(f) - sum(s)\n",
    "        return r, m"
   ]
  },
  {
   "cell_type": "code",
   "execution_count": null,
   "metadata": {},
   "outputs": [],
   "source": [
    "class Solution:\n",
    "    def findErrorNums(self, nums: List[int]) -> List[int]:\n",
    "        \"\"\"count, similar approach with Hash Table\"\"\"\n",
    "        n = len(nums)\n",
    "        cnt = [0 for _ in range(n+1)]\n",
    "        for num in nums:\n",
    "            cnt[num] += 1\n",
    "        for i in range(1, n+1):\n",
    "            if cnt[i] == 2:\n",
    "                r = i\n",
    "            if cnt[i] == 0:\n",
    "                m = i\n",
    "        return r, m"
   ]
  },
  {
   "cell_type": "code",
   "execution_count": null,
   "metadata": {},
   "outputs": [],
   "source": [
    "class Solution:\n",
    "    def findErrorNums(self, nums: List[int]) -> List[int]:     \n",
    "        \"\"\"maths: solve r, m from equations of r - m, r + m\"\"\"\n",
    "        n = len(nums)\n",
    "        # r - m\n",
    "        alpha = sum(nums) - n*(n+1)//2\n",
    "        # r^2 - m^2\n",
    "        beta = sum([i**2 for i in nums]) - n*(n+1)*(2*n+1)//6\n",
    "        # r + m\n",
    "        gamma = beta // alpha\n",
    "        return (alpha + gamma)//2, (gamma - alpha)//2"
   ]
  },
  {
   "cell_type": "code",
   "execution_count": null,
   "metadata": {},
   "outputs": [],
   "source": [
    "class Solution:\n",
    "    def findErrorNums(self, nums: List[int]) -> List[int]: \n",
    "        \"\"\"Bit Operation with XOR\"\"\"\n",
    "        x = 0\n",
    "        # consider numbers of i+1 from 1 to n and numbers in nums\n",
    "        # r has 3 appearences, m has 3, while the rest all have 2 and can cancel out with XOR\n",
    "        # the final would be r^m\n",
    "        # get r or m and we get the other one\n",
    "        for i, num in enumerate(nums):\n",
    "            x ^= (i+1)^num\n",
    "        r = [num for num in nums if nums.count(num) > 1][0]\n",
    "        m = x^r\n",
    "        return r, m"
   ]
  }
 ],
 "metadata": {
  "kernelspec": {
   "display_name": "Python 3",
   "language": "python",
   "name": "python3"
  },
  "language_info": {
   "codemirror_mode": {
    "name": "ipython",
    "version": 3
   },
   "file_extension": ".py",
   "mimetype": "text/x-python",
   "name": "python",
   "nbconvert_exporter": "python",
   "pygments_lexer": "ipython3",
   "version": "3.8.3"
  }
 },
 "nbformat": 4,
 "nbformat_minor": 4
}
