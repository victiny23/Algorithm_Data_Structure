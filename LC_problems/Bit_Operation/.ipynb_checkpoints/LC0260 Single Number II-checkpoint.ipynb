{
 "cells": [
  {
   "cell_type": "markdown",
   "metadata": {},
   "source": [
    "260. Single Number III\n",
    "Medium\n",
    "\n",
    "2511\n",
    "\n",
    "140\n",
    "\n",
    "Add to List\n",
    "\n",
    "Share\n",
    "Given an integer array nums, in which exactly two elements appear only once and all the other elements appear exactly twice. Find the two elements that appear only once. You can return the answer in any order.\n",
    "\n",
    "You must write an algorithm that runs in linear runtime complexity and uses only constant extra space.\n",
    "\n",
    " \n",
    "\n",
    "Example 1:\n",
    "\n",
    "Input: nums = [1,2,1,3,2,5]\n",
    "Output: [3,5]\n",
    "Explanation:  [5, 3] is also a valid answer.\n",
    "Example 2:\n",
    "\n",
    "Input: nums = [-1,0]\n",
    "Output: [-1,0]\n",
    "Example 3:\n",
    "\n",
    "Input: nums = [0,1]\n",
    "Output: [1,0]\n",
    " \n",
    "\n",
    "Constraints:\n",
    "\n",
    "2 <= nums.length <= 3 * 104\n",
    "-231 <= nums[i] <= 231 - 1\n",
    "Each integer in nums will appear twice, only two integers will appear once.\n"
   ]
  },
  {
   "cell_type": "code",
   "execution_count": null,
   "metadata": {},
   "outputs": [],
   "source": [
    "class Solution:\n",
    "    def singleNumber(self, nums: List[int]) -> List[int]: \n",
    "        x, y = 0, 0\n",
    "        n, m = 0, 1\n",
    "        for num in nums:\n",
    "            n ^= num\n",
    "        # n is the exlusive or (XOR) of the two numbers a and b that appear only once\n",
    "\n",
    "        \"\"\"if n & m == 0 while m is 1 followed by z 0s\n",
    "        it means the last z digits of a and b are the same\n",
    "        m shows the first position that a and b differ\"\"\"\n",
    "        while n & m == 0:\n",
    "            m <<= 1\n",
    "        \n",
    "        \"\"\"num either has the same digit on (z+1)th position from right as m, or not\n",
    "        therefore nums are divided into 2 groups: \n",
    "        A: (j numbers each appear twice, a) and B: (k numbers each appear twice, b)\n",
    "        the problem becomes LC136 Single Number\n",
    "        use x to find a in A, and y to find b in B\"\"\"\n",
    "        for num in nums:\n",
    "            if num & m: \n",
    "                x ^= num\n",
    "            else:\n",
    "                y ^= num\n",
    "\n",
    "        return x, y"
   ]
  },
  {
   "cell_type": "code",
   "execution_count": null,
   "metadata": {},
   "outputs": [],
   "source": [
    "class Solution:\n",
    "    def singleNumber(self, nums: List[int]) -> List[int]:\n",
    "        \"\"\"Hash Map can solve the problem accepted but does not really meet the requirement on extra space from the problem\"\"\"\n",
    "        dic = {}\n",
    "        for num in nums:\n",
    "            if num in dic.keys():\n",
    "                del dic[num]\n",
    "            else:\n",
    "                dic[num] = 0\n",
    "        return list(dic.keys())"
   ]
  }
 ],
 "metadata": {
  "kernelspec": {
   "display_name": "Python 3",
   "language": "python",
   "name": "python3"
  },
  "language_info": {
   "codemirror_mode": {
    "name": "ipython",
    "version": 3
   },
   "file_extension": ".py",
   "mimetype": "text/x-python",
   "name": "python",
   "nbconvert_exporter": "python",
   "pygments_lexer": "ipython3",
   "version": "3.8.3"
  }
 },
 "nbformat": 4,
 "nbformat_minor": 4
}
