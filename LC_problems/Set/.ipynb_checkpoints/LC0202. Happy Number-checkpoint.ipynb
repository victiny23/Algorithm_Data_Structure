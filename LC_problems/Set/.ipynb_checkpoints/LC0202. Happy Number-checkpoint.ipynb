{
 "cells": [
  {
   "cell_type": "markdown",
   "metadata": {},
   "source": [
    "202. Happy Number\n",
    "Easy\n",
    "\n",
    "3962\n",
    "\n",
    "599\n",
    "\n",
    "Add to List\n",
    "\n",
    "Share\n",
    "Write an algorithm to determine if a number n is happy.\n",
    "\n",
    "A happy number is a number defined by the following process:\n",
    "\n",
    "Starting with any positive integer, replace the number by the sum of the squares of its digits.\n",
    "Repeat the process until the number equals 1 (where it will stay), or it loops endlessly in a cycle which does not include 1.\n",
    "Those numbers for which this process ends in 1 are happy.\n",
    "Return true if n is a happy number, and false if not.\n",
    "\n",
    " \n",
    "\n",
    "Example 1:\n",
    "\n",
    "Input: n = 19\n",
    "Output: true\n",
    "Explanation:\n",
    "12 + 92 = 82\n",
    "82 + 22 = 68\n",
    "62 + 82 = 100\n",
    "12 + 02 + 02 = 1\n",
    "Example 2:\n",
    "\n",
    "Input: n = 2\n",
    "Output: false\n",
    " \n",
    "\n",
    "Constraints:\n",
    "\n",
    "1 <= n <= 231 - 1"
   ]
  },
  {
   "cell_type": "code",
   "execution_count": null,
   "metadata": {},
   "outputs": [],
   "source": [
    "class Solution:\n",
    "    def isHappy(self, n: int) -> bool:\n",
    "        \"\"\"Hash Table/Set\"\"\" \n",
    "        seen = set()\n",
    "        while n not in seen:\n",
    "            seen.add(n)\n",
    "            n = sum(int(c)**2 for c in str(n))\n",
    "        # no need to check n == 1 every time\n",
    "        # only one extra iteration if n == 1\n",
    "        return n == 1"
   ]
  },
  {
   "cell_type": "code",
   "execution_count": null,
   "metadata": {},
   "outputs": [],
   "source": [
    "class Solution:\n",
    "    def isHappy(self, n: int) -> bool:\n",
    "        \"\"\"Floyed's Cycle Detection: 2 pointers!\"\"\"\n",
    "        def sqsum(n):\n",
    "            return sum(int(c)**2 for c in str(n))\n",
    "        slow, fast = sqsum(n), sqsum(sqsum(n))\n",
    "        while slow != fast and fast != 1:\n",
    "            slow = sqsum(slow)\n",
    "            fast = sqsum(sqsum(fast))\n",
    "        # case 1: exist loop if fast == 1 - happy\n",
    "        # case 2: slow == fast - loop endlessly in a cycle\n",
    "        return fast == 1"
   ]
  }
 ],
 "metadata": {
  "kernelspec": {
   "display_name": "Python 3",
   "language": "python",
   "name": "python3"
  },
  "language_info": {
   "codemirror_mode": {
    "name": "ipython",
    "version": 3
   },
   "file_extension": ".py",
   "mimetype": "text/x-python",
   "name": "python",
   "nbconvert_exporter": "python",
   "pygments_lexer": "ipython3",
   "version": "3.8.3"
  }
 },
 "nbformat": 4,
 "nbformat_minor": 4
}
