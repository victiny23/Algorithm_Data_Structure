{
 "cells": [
  {
   "cell_type": "markdown",
   "metadata": {},
   "source": [
    "367. Valid Perfect Square\n",
    "Easy\n",
    "\n",
    "1396\n",
    "\n",
    "196\n",
    "\n",
    "Add to List\n",
    "\n",
    "Share\n",
    "Given a positive integer num, write a function which returns True if num is a perfect square else False.\n",
    "\n",
    "Follow up: Do not use any built-in library function such as sqrt.\n",
    "\n",
    " \n",
    "\n",
    "Example 1:\n",
    "\n",
    "Input: num = 16\n",
    "Output: true\n",
    "Example 2:\n",
    "\n",
    "Input: num = 14\n",
    "Output: false\n",
    " \n",
    "\n",
    "Constraints:\n",
    "\n",
    "1 <= num <= 2^31 - 1"
   ]
  },
  {
   "cell_type": "code",
   "execution_count": null,
   "metadata": {},
   "outputs": [],
   "source": [
    "class Solution:\n",
    "    def isPerfectSquare(self, num: int) -> bool:\n",
    "        \"\"\"Binary Search\"\"\"\n",
    "        left, right = 1, num\n",
    "        while left <= right:\n",
    "            mid = (left + right)//2\n",
    "            if mid * mid == num:\n",
    "                return True\n",
    "            elif mid * mid < num:\n",
    "                left = mid + 1\n",
    "            else:\n",
    "                right = mid - 1\n",
    "        return False\n",
    "        \n",
    "        \"\"\"Newtons's Method\"\"\"\n",
    "        r = num\n",
    "        while r * r > num:\n",
    "            r = (r + num/r) // 2\n",
    "        return r * r == num\n",
    "    \n",
    "        \"\"\"Math Trick for Square number is 1+3+5+ ... +(2n-1)\"\"\"\n",
    "        i = 1\n",
    "        while num > 0:\n",
    "            num -= i\n",
    "            i += 2\n",
    "        return num == 0"
   ]
  }
 ],
 "metadata": {
  "kernelspec": {
   "display_name": "Python 3",
   "language": "python",
   "name": "python3"
  },
  "language_info": {
   "codemirror_mode": {
    "name": "ipython",
    "version": 3
   },
   "file_extension": ".py",
   "mimetype": "text/x-python",
   "name": "python",
   "nbconvert_exporter": "python",
   "pygments_lexer": "ipython3",
   "version": "3.8.3"
  }
 },
 "nbformat": 4,
 "nbformat_minor": 4
}
