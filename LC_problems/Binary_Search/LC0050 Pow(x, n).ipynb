{
 "cells": [
  {
   "cell_type": "markdown",
   "metadata": {},
   "source": [
    "50. Pow(x, n)\n",
    "Medium\n",
    "\n",
    "2703\n",
    "\n",
    "4030\n",
    "\n",
    "Add to List\n",
    "\n",
    "Share\n",
    "Implement pow(x, n), which calculates x raised to the power n (i.e., xn).\n",
    "\n",
    " \n",
    "\n",
    "Example 1:\n",
    "\n",
    "Input: x = 2.00000, n = 10\n",
    "Output: 1024.00000\n",
    "Example 2:\n",
    "\n",
    "Input: x = 2.10000, n = 3\n",
    "Output: 9.26100\n",
    "Example 3:\n",
    "\n",
    "Input: x = 2.00000, n = -2\n",
    "Output: 0.25000\n",
    "Explanation: 2-2 = 1/22 = 1/4 = 0.25\n",
    " \n",
    "\n",
    "Constraints:\n",
    "\n",
    "-100.0 < x < 100.0\n",
    "-231 <= n <= 231-1\n",
    "-104 <= xn <= 104"
   ]
  },
  {
   "cell_type": "code",
   "execution_count": null,
   "metadata": {},
   "outputs": [],
   "source": [
    "class Solution:\n",
    "    def myPow(self, x: float, n: int) -> float:\n",
    "        if not n:\n",
    "            return 1\n",
    "        if n < 0:\n",
    "            \"\"\"return 1/self.myPow(x, -n) won't work for some large integers, the power could exceed the limit\"\"\"\n",
    "            return self.myPow(1/x, -n)\n",
    "        if n % 2 == 1:\n",
    "            return x * (self.myPow(x, n//2) **2)\n",
    "        return self.myPow(x, n//2) **2"
   ]
  }
 ],
 "metadata": {
  "kernelspec": {
   "display_name": "Python 3",
   "language": "python",
   "name": "python3"
  },
  "language_info": {
   "codemirror_mode": {
    "name": "ipython",
    "version": 3
   },
   "file_extension": ".py",
   "mimetype": "text/x-python",
   "name": "python",
   "nbconvert_exporter": "python",
   "pygments_lexer": "ipython3",
   "version": "3.8.3"
  }
 },
 "nbformat": 4,
 "nbformat_minor": 4
}
