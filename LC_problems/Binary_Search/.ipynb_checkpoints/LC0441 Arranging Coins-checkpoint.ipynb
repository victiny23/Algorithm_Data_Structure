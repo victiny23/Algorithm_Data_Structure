{
 "cells": [
  {
   "cell_type": "markdown",
   "metadata": {},
   "source": [
    "441. Arranging Coins\n",
    "Easy\n",
    "\n",
    "1221\n",
    "\n",
    "847\n",
    "\n",
    "Add to List\n",
    "\n",
    "Share\n",
    "You have n coins and you want to build a staircase with these coins. The staircase consists of k rows where the ith row has exactly i coins. The last row of the staircase may be incomplete.\n",
    "\n",
    "Given the integer n, return the number of complete rows of the staircase you will build.\n",
    "\n",
    " \n",
    "\n",
    "Example 1:\n",
    "\n",
    "\n",
    "Input: n = 5\n",
    "Output: 2\n",
    "Explanation: Because the 3rd row is incomplete, we return 2.\n",
    "Example 2:\n",
    "\n",
    "\n",
    "Input: n = 8\n",
    "Output: 3\n",
    "Explanation: Because the 4th row is incomplete, we return 3.\n",
    " \n",
    "\n",
    "Constraints:\n",
    "\n",
    "1 <= n <= 231 - 1"
   ]
  },
  {
   "cell_type": "code",
   "execution_count": null,
   "metadata": {},
   "outputs": [],
   "source": [
    "class Solution:\n",
    "    def arrangeCoins(self, n: int) -> int:\n",
    "        \"\"\"O(n) - 852 ms\"\"\"\n",
    "        left = n\n",
    "        row = 1\n",
    "        while left >= row: # if there is enough coins to build the next row\n",
    "            left -= row # update the coins left\n",
    "            row += 1 # update the number of rows \n",
    "        return row - 1"
   ]
  },
  {
   "cell_type": "code",
   "execution_count": null,
   "metadata": {},
   "outputs": [],
   "source": [
    "class Solution:\n",
    "    def arrangeCoins(self, n: int) -> int:\n",
    "         \"\"\"Binary Search, O(logN) - 36 ms\"\"\"\n",
    "        low, high = 1, n\n",
    "        while low <= high: # ends when low > high, high is the maxium rows possible\n",
    "            mid = low + (high - low)// 2\n",
    "            if (1 + mid) * mid /2 > n: # subtract 1 row from high when there is not enough coins left \n",
    "                high = mid - 1\n",
    "            else:\n",
    "                low = mid + 1\n",
    "        return high       "
   ]
  }
 ],
 "metadata": {
  "kernelspec": {
   "display_name": "Python 3",
   "language": "python",
   "name": "python3"
  },
  "language_info": {
   "codemirror_mode": {
    "name": "ipython",
    "version": 3
   },
   "file_extension": ".py",
   "mimetype": "text/x-python",
   "name": "python",
   "nbconvert_exporter": "python",
   "pygments_lexer": "ipython3",
   "version": "3.8.3"
  }
 },
 "nbformat": 4,
 "nbformat_minor": 4
}
