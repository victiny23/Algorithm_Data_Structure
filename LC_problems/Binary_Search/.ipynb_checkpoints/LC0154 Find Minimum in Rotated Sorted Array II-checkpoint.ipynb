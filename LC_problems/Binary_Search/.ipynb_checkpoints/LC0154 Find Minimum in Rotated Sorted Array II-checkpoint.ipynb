{
 "cells": [
  {
   "cell_type": "markdown",
   "metadata": {},
   "source": [
    "154. Find Minimum in Rotated Sorted Array II\n",
    "Hard\n",
    "\n",
    "2035\n",
    "\n",
    "303\n",
    "\n",
    "Add to List\n",
    "\n",
    "Share\n",
    "Suppose an array of length n sorted in ascending order is rotated between 1 and n times. For example, the array nums = [0,1,4,4,5,6,7] might become:\n",
    "\n",
    "[4,5,6,7,0,1,4] if it was rotated 4 times.\n",
    "[0,1,4,4,5,6,7] if it was rotated 7 times.\n",
    "Notice that rotating an array [a[0], a[1], a[2], ..., a[n-1]] 1 time results in the array [a[n-1], a[0], a[1], a[2], ..., a[n-2]].\n",
    "\n",
    "Given the sorted rotated array nums that may contain duplicates, return the minimum element of this array.\n",
    "\n",
    "You must decrease the overall operation steps as much as possible.\n",
    "\n",
    " \n",
    "\n",
    "Example 1:\n",
    "\n",
    "Input: nums = [1,3,5]\n",
    "Output: 1\n",
    "Example 2:\n",
    "\n",
    "Input: nums = [2,2,2,0,1]\n",
    "Output: 0\n",
    " \n",
    "\n",
    "Constraints:\n",
    "\n",
    "n == nums.length\n",
    "1 <= n <= 5000\n",
    "-5000 <= nums[i] <= 5000\n",
    "nums is sorted and rotated between 1 and n times."
   ]
  },
  {
   "cell_type": "code",
   "execution_count": null,
   "metadata": {},
   "outputs": [],
   "source": [
    "class Solution:\n",
    "    def findMin(self, nums: List[int]) -> int:\n",
    "        l, r = 0, len(nums)-1\n",
    "        while l < r:\n",
    "            m = l + (r-l)//2\n",
    "            # print(l, r, m, nums[l], nums[r], nums[m])\n",
    "            if nums[m] < nums[r]:\n",
    "                r = m\n",
    "            elif nums[m] > nums[r]:\n",
    "                l = m + 1\n",
    "            # nums[m] == nums[r]\n",
    "            else:\n",
    "                if nums[l] == nums[m]: # somewhere between [l, m] or [m, r]\n",
    "                    l += 1\n",
    "                elif nums[l] < nums[m]: # m won't be included: [l, m)\n",
    "                    r = m - 1\n",
    "                else: # nums[l] == nums[m], m may be included: [l, m]\n",
    "                    r = m\n",
    "        #print(l, r, m, nums[l], nums[r], nums[m])\n",
    "        return nums[l]"
   ]
  },
  {
   "cell_type": "code",
   "execution_count": null,
   "metadata": {},
   "outputs": [],
   "source": [
    "class Solution:\n",
    "    def findMin(self, nums: List[int]) -> int:\n",
    "        \"\"\"skip the duplicates\"\"\"\n",
    "        l, r = 0, len(nums)-1\n",
    "        while l < r:\n",
    "            m = l + (r-l)//2\n",
    "            if nums[m] < nums[r]:\n",
    "                r = m\n",
    "            elif nums[m] > nums[r]:\n",
    "                l = m + 1\n",
    "            else:\n",
    "                r -= 1\n",
    "        return nums[l]"
   ]
  }
 ],
 "metadata": {
  "kernelspec": {
   "display_name": "Python 3",
   "language": "python",
   "name": "python3"
  },
  "language_info": {
   "codemirror_mode": {
    "name": "ipython",
    "version": 3
   },
   "file_extension": ".py",
   "mimetype": "text/x-python",
   "name": "python",
   "nbconvert_exporter": "python",
   "pygments_lexer": "ipython3",
   "version": "3.8.3"
  }
 },
 "nbformat": 4,
 "nbformat_minor": 4
}
