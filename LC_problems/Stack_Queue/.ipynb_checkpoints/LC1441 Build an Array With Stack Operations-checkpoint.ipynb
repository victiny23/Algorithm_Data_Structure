{
 "cells": [
  {
   "cell_type": "markdown",
   "metadata": {},
   "source": [
    "1441. Build an Array With Stack Operations\n",
    "Easy\n",
    "\n",
    "360\n",
    "\n",
    "635\n",
    "\n",
    "Add to List\n",
    "\n",
    "Share\n",
    "Given an array target and an integer n. In each iteration, you will read a number from  list = {1,2,3..., n}.\n",
    "\n",
    "Build the target array using the following operations:\n",
    "\n",
    "Push: Read a new element from the beginning list, and push it in the array.\n",
    "Pop: delete the last element of the array.\n",
    "If the target array is already built, stop reading more elements.\n",
    "Return the operations to build the target array. You are guaranteed that the answer is unique.\n",
    "\n",
    " \n",
    "\n",
    "Example 1:\n",
    "\n",
    "Input: target = [1,3], n = 3\n",
    "Output: [\"Push\",\"Push\",\"Pop\",\"Push\"]\n",
    "Explanation: \n",
    "Read number 1 and automatically push in the array -> [1]\n",
    "Read number 2 and automatically push in the array then Pop it -> [1]\n",
    "Read number 3 and automatically push in the array -> [1,3]\n",
    "Example 2:\n",
    "\n",
    "Input: target = [1,2,3], n = 3\n",
    "Output: [\"Push\",\"Push\",\"Push\"]\n",
    "Example 3:\n",
    "\n",
    "Input: target = [1,2], n = 4\n",
    "Output: [\"Push\",\"Push\"]\n",
    "Explanation: You only need to read the first 2 numbers and stop.\n",
    "Example 4:\n",
    "\n",
    "Input: target = [2,3,4], n = 4\n",
    "Output: [\"Push\",\"Pop\",\"Push\",\"Push\",\"Push\"]\n",
    " \n",
    "\n",
    "Constraints:\n",
    "\n",
    "1 <= target.length <= 100\n",
    "1 <= target[i] <= n\n",
    "1 <= n <= 100\n",
    "target is strictly increasing."
   ]
  },
  {
   "cell_type": "code",
   "execution_count": null,
   "metadata": {},
   "outputs": [],
   "source": [
    "class Solution:\n",
    "    def buildArray(self, target: List[int], n: int) -> List[str]:\n",
    "        li = [_ for _ in range(1, n+1)]\n",
    "        res = []\n",
    "        i, j = 0, 0\n",
    "        while i < len(target):\n",
    "            if li[j] < target[i]:\n",
    "                res += ['Push', 'Pop']\n",
    "                j += 1\n",
    "            elif li[j] == target[i]:\n",
    "                res += ['Push']\n",
    "                i += 1\n",
    "                j += 1\n",
    "        return res"
   ]
  }
 ],
 "metadata": {
  "kernelspec": {
   "display_name": "Python 3",
   "language": "python",
   "name": "python3"
  },
  "language_info": {
   "codemirror_mode": {
    "name": "ipython",
    "version": 3
   },
   "file_extension": ".py",
   "mimetype": "text/x-python",
   "name": "python",
   "nbconvert_exporter": "python",
   "pygments_lexer": "ipython3",
   "version": "3.8.3"
  }
 },
 "nbformat": 4,
 "nbformat_minor": 4
}
