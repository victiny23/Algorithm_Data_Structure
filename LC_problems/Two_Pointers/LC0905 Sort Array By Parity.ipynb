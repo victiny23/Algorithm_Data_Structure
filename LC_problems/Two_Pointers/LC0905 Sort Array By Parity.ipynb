{
 "cells": [
  {
   "cell_type": "markdown",
   "metadata": {},
   "source": [
    "905. Sort Array By Parity\n",
    "Easy\n",
    "\n",
    "2012\n",
    "\n",
    "100\n",
    "\n",
    "Add to List\n",
    "\n",
    "Share\n",
    "Given an integer array nums, move all the even integers at the beginning of the array followed by all the odd integers.\n",
    "\n",
    "Return any array that satisfies this condition.\n",
    "\n",
    " \n",
    "\n",
    "Example 1:\n",
    "\n",
    "Input: nums = [3,1,2,4]\n",
    "Output: [2,4,3,1]\n",
    "Explanation: The outputs [4,2,3,1], [2,4,1,3], and [4,2,1,3] would also be accepted.\n",
    "Example 2:\n",
    "\n",
    "Input: nums = [0]\n",
    "Output: [0]\n",
    " \n",
    "\n",
    "Constraints:\n",
    "\n",
    "1 <= nums.length <= 5000\n",
    "0 <= nums[i] <= 5000"
   ]
  },
  {
   "cell_type": "code",
   "execution_count": null,
   "metadata": {},
   "outputs": [],
   "source": [
    "class Solution:\n",
    "    def sortArrayByParity(self, nums: List[int]) -> List[int]:\n",
    "        \"\"\"divide into 2 lists odd and even then combine\"\"\"\n",
    "        odd , even = [], []\n",
    "        while nums:\n",
    "            num = nums.pop()\n",
    "            if num % 2 == 0:\n",
    "                even.append(num)\n",
    "            else:\n",
    "                odd.append(num)\n",
    "        return even + odd\n",
    "        \n",
    "        \"\"\"hash table: be careful with duplicates\"\"\"\n",
    "        odd, even = {}, {}\n",
    "        for num in nums:\n",
    "            if num % 2 == 0:\n",
    "                even[num] = even.get(num, 0) + 1\n",
    "            else:\n",
    "                odd[num] = odd.get(num, 0) + 1\n",
    "        li = []\n",
    "        for num in even:\n",
    "            for i in range(even[num]):\n",
    "                li.append(num)\n",
    "        for num in odd:\n",
    "            for i in range(odd[num]):\n",
    "                li.append(num)\n",
    "        return li"
   ]
  },
  {
   "cell_type": "code",
   "execution_count": null,
   "metadata": {},
   "outputs": [],
   "source": [
    "class Solution:\n",
    "    def sortArrayByParity(self, nums: List[int]) -> List[int]:\n",
    "        \"\"\"two pointer\"\"\"\n",
    "        i, j = 0, len(nums) - 1\n",
    "        while i <= j:\n",
    "            if nums[i] % 2 == 1:\n",
    "                nums[i], nums[j] = nums[j], nums[i]\n",
    "                j -= 1\n",
    "            else:\n",
    "                i += 1\n",
    "        return nums"
   ]
  },
  {
   "cell_type": "code",
   "execution_count": null,
   "metadata": {},
   "outputs": [],
   "source": [
    "class Solution:\n",
    "    def sortArrayByParity(self, nums: List[int]) -> List[int]:\n",
    "        \"\"\"sorting: by remainder\"\"\"\n",
    "        nums.sort(key=lambda x: x%2)\n",
    "        return nums"
   ]
  }
 ],
 "metadata": {
  "kernelspec": {
   "display_name": "Python 3",
   "language": "python",
   "name": "python3"
  },
  "language_info": {
   "codemirror_mode": {
    "name": "ipython",
    "version": 3
   },
   "file_extension": ".py",
   "mimetype": "text/x-python",
   "name": "python",
   "nbconvert_exporter": "python",
   "pygments_lexer": "ipython3",
   "version": "3.8.3"
  }
 },
 "nbformat": 4,
 "nbformat_minor": 4
}
