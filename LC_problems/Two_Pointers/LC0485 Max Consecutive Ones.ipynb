{
 "cells": [
  {
   "cell_type": "markdown",
   "metadata": {},
   "source": [
    "485. Max Consecutive Ones\n",
    "Easy\n",
    "\n",
    "1944\n",
    "\n",
    "391\n",
    "\n",
    "Add to List\n",
    "\n",
    "Share\n",
    "Given a binary array nums, return the maximum number of consecutive 1's in the array.\n",
    "\n",
    " \n",
    "\n",
    "Example 1:\n",
    "\n",
    "Input: nums = [1,1,0,1,1,1]\n",
    "Output: 3\n",
    "Explanation: The first two digits or the last three digits are consecutive 1s. The maximum number of consecutive 1s is 3.\n",
    "Example 2:\n",
    "\n",
    "Input: nums = [1,0,1,1,0,1]\n",
    "Output: 2\n",
    " \n",
    "\n",
    "Constraints:\n",
    "\n",
    "1 <= nums.length <= 105\n",
    "nums[i] is either 0 or 1."
   ]
  },
  {
   "cell_type": "code",
   "execution_count": null,
   "metadata": {},
   "outputs": [],
   "source": [
    "class Solution:\n",
    "    def findMaxConsecutiveOnes(self, nums: List[int]) -> int:\n",
    "        curr, res = 0, 0\n",
    "        for i, num in enumerate(nums):\n",
    "            if num == 0:\n",
    "                res = max(res, curr)\n",
    "                curr = 0\n",
    "            else:\n",
    "                curr += 1\n",
    "        # here we return max(curr, res) instead of res \n",
    "        # in case the last num is 1 and res is not updated at the end\n",
    "        return max(res, curr)\n",
    "        \n",
    "        \"\"\"2 pointers\"\"\"\n",
    "        l, r = 0, 0\n",
    "        n = len(nums)\n",
    "        curr, res = 0, 0\n",
    "        while l < n and r < n:\n",
    "            # find the left bound starting with 1\n",
    "            # l < n before nums[l] == 0 to prevent nums[n] in dex out of range\n",
    "            while l < n and nums[l] == 0:\n",
    "                l += 1\n",
    "            # r strats from l\n",
    "            r = l\n",
    "            # find the right bounds with first 0 or end of array\n",
    "            while r < n and nums[r] == 1:\n",
    "                r += 1\n",
    "                curr += 1\n",
    "            # update the max length\n",
    "            res = max(res, curr)\n",
    "            # move l to r\n",
    "            l = r\n",
    "            # reset curr length\n",
    "            curr = 0\n",
    "        return res"
   ]
  }
 ],
 "metadata": {
  "kernelspec": {
   "display_name": "Python 3",
   "language": "python",
   "name": "python3"
  },
  "language_info": {
   "codemirror_mode": {
    "name": "ipython",
    "version": 3
   },
   "file_extension": ".py",
   "mimetype": "text/x-python",
   "name": "python",
   "nbconvert_exporter": "python",
   "pygments_lexer": "ipython3",
   "version": "3.8.3"
  }
 },
 "nbformat": 4,
 "nbformat_minor": 4
}
