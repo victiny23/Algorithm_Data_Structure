{
 "cells": [
  {
   "cell_type": "markdown",
   "metadata": {},
   "source": [
    "611. Valid Triangle Number\n",
    "Medium\n",
    "\n",
    "2024\n",
    "\n",
    "133\n",
    "\n",
    "Add to List\n",
    "\n",
    "Share\n",
    "Given an integer array nums, return the number of triplets chosen from the array that can make triangles if we take them as side lengths of a triangle.\n",
    "\n",
    " \n",
    "\n",
    "Example 1:\n",
    "\n",
    "Input: nums = [2,2,3,4]\n",
    "Output: 3\n",
    "Explanation: Valid combinations are: \n",
    "2,3,4 (using the first 2)\n",
    "2,3,4 (using the second 2)\n",
    "2,2,3\n",
    "Example 2:\n",
    "\n",
    "Input: nums = [4,2,3,4]\n",
    "Output: 4\n",
    " \n",
    "\n",
    "Constraints:\n",
    "\n",
    "1 <= nums.length <= 1000\n",
    "0 <= nums[i] <= 1000\n"
   ]
  },
  {
   "cell_type": "code",
   "execution_count": null,
   "metadata": {},
   "outputs": [],
   "source": [
    "class Solution:\n",
    "    def triangleNumber(self, nums: List[int]) -> int:\n",
    "        \"\"\"Sort + Two Pointers\"\"\"\n",
    "        n = len(nums)\n",
    "        if n < 3:\n",
    "            return 0\n",
    "        nums.sort(reverse=True)\n",
    "        cnt = 0\n",
    "        # assuming a > b > c\n",
    "        # i for a\n",
    "        for i in range(n - 2):\n",
    "            # 2 pointers, l for b, r for c\n",
    "            l = i + 1\n",
    "            r = n - 1  \n",
    "            while l < r:\n",
    "                # increase the length of c until requirement for triangle is met\n",
    "                if nums[i] >= nums[l] + nums[r]:\n",
    "                    r -= 1\n",
    "                else:\n",
    "                    # all length between l and r would make a triangle\n",
    "                    cnt += (r - l)\n",
    "                    # check shorter b\n",
    "                    l += 1\n",
    "        return cnt  "
   ]
  }
 ],
 "metadata": {
  "kernelspec": {
   "display_name": "Python 3",
   "language": "python",
   "name": "python3"
  },
  "language_info": {
   "codemirror_mode": {
    "name": "ipython",
    "version": 3
   },
   "file_extension": ".py",
   "mimetype": "text/x-python",
   "name": "python",
   "nbconvert_exporter": "python",
   "pygments_lexer": "ipython3",
   "version": "3.8.3"
  }
 },
 "nbformat": 4,
 "nbformat_minor": 4
}
