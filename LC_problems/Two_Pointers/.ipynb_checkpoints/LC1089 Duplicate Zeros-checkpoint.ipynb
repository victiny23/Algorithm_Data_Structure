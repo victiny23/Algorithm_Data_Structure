{
 "cells": [
  {
   "cell_type": "markdown",
   "metadata": {},
   "source": [
    "1089. Duplicate Zeros\n",
    "Easy\n",
    "\n",
    "1210\n",
    "\n",
    "406\n",
    "\n",
    "Add to List\n",
    "\n",
    "Share\n",
    "Given a fixed-length integer array arr, duplicate each occurrence of zero, shifting the remaining elements to the right.\n",
    "\n",
    "Note that elements beyond the length of the original array are not written. Do the above modifications to the input array in place and do not return anything.\n",
    "\n",
    " \n",
    "\n",
    "Example 1:\n",
    "\n",
    "Input: arr = [1,0,2,3,0,4,5,0]\n",
    "Output: [1,0,0,2,3,0,0,4]\n",
    "Explanation: After calling your function, the input array is modified to: [1,0,0,2,3,0,0,4]\n",
    "Example 2:\n",
    "\n",
    "Input: arr = [1,2,3]\n",
    "Output: [1,2,3]\n",
    "Explanation: After calling your function, the input array is modified to: [1,2,3]\n",
    " \n",
    "\n",
    "Constraints:\n",
    "\n",
    "1 <= arr.length <= 104\n",
    "0 <= arr[i] <= 9\n"
   ]
  },
  {
   "cell_type": "code",
   "execution_count": null,
   "metadata": {},
   "outputs": [],
   "source": [
    "class Solution:\n",
    "    def duplicateZeros(self, arr: List[int]) -> None:\n",
    "        \"\"\"\n",
    "        Do not return anything, modify arr in-place instead.\n",
    "        \"\"\"\n",
    "        \"\"\"Using extra space, time O(n), space O(n)\"\"\"\n",
    "        res = []\n",
    "        i = 0\n",
    "        cnt = 0\n",
    "        for num in arr:\n",
    "            if cnt < len(arr):\n",
    "                res.append(num)\n",
    "                cnt += 1\n",
    "                # don't forget to check length here!!! otherwise extra 0's might be added!!!\n",
    "                if not num and cnt < len(arr): \n",
    "                    res.append(num)\n",
    "                    cnt += 1\n",
    "        arr[:] = res"
   ]
  },
  {
   "cell_type": "code",
   "execution_count": null,
   "metadata": {},
   "outputs": [],
   "source": [
    "class Solution:\n",
    "    def duplicateZeros(self, arr: List[int]) -> None:\n",
    "        \"\"\"Two Pointers: Extend + Pop, time O(n), space O(m)\"\"\"\n",
    "        cnt, n = 0, 0\n",
    "        for num in arr:\n",
    "            if not num:\n",
    "                cnt += 1\n",
    "            n += 1\n",
    "        arr += [0] * cnt\n",
    "        for i in range(n-1, -1, -1):\n",
    "            # shift the last num by cnt\n",
    "            arr[i + cnt] = arr[i]\n",
    "            # if the num is 0, add a 0 to the left of num\n",
    "            # reduce the length of shift for the next num\n",
    "            if arr[i] == 0:\n",
    "                cnt -= 1\n",
    "                arr[i + cnt] = 0\n",
    "        while len(arr) > n:\n",
    "            arr.pop()"
   ]
  },
  {
   "cell_type": "code",
   "execution_count": null,
   "metadata": {},
   "outputs": [],
   "source": [
    "class Solution:\n",
    "    def duplicateZeros(self, arr: List[int]) -> None:\n",
    "         \"\"\"Two Pointers: Real in-place, time O(n), space O(1)\"\"\"\n",
    "        # cnt: count of 0s, the largest length for right shift\n",
    "        cnt, n = 0, 0\n",
    "        for num in arr:\n",
    "            if not num:\n",
    "                cnt += 1\n",
    "            n += 1\n",
    "        # slow pointer \n",
    "        for i in range(n-1, -1, -1):\n",
    "            # shift to the right\n",
    "            # fast pointer\n",
    "            if i + cnt < n:\n",
    "                arr[i + cnt] = arr[i]\n",
    "            # duplicate 0 when there is space available on the right\n",
    "            # update the length for shit\n",
    "            if arr[i] == 0:\n",
    "                cnt -= 1\n",
    "                # by reducing cnt, i + cnt shift to the right by 1, adding 0 to the right\n",
    "                # don't forget to check bound\n",
    "                if i + cnt < n:\n",
    "                    arr[i + cnt] = 0 "
   ]
  }
 ],
 "metadata": {
  "kernelspec": {
   "display_name": "Python 3",
   "language": "python",
   "name": "python3"
  },
  "language_info": {
   "codemirror_mode": {
    "name": "ipython",
    "version": 3
   },
   "file_extension": ".py",
   "mimetype": "text/x-python",
   "name": "python",
   "nbconvert_exporter": "python",
   "pygments_lexer": "ipython3",
   "version": "3.8.3"
  }
 },
 "nbformat": 4,
 "nbformat_minor": 4
}
