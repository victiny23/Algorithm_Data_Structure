{
 "cells": [
  {
   "cell_type": "markdown",
   "metadata": {},
   "source": [
    "19. Remove Nth Node From End of List\n",
    "Medium\n",
    "\n",
    "5939\n",
    "\n",
    "329\n",
    "\n",
    "Add to List\n",
    "\n",
    "Share\n",
    "Given the head of a linked list, remove the nth node from the end of the list and return its head.\n",
    "\n",
    " \n",
    "\n",
    "Example 1:\n",
    "\n",
    "\n",
    "Input: head = [1,2,3,4,5], n = 2\n",
    "Output: [1,2,3,5]\n",
    "Example 2:\n",
    "\n",
    "Input: head = [1], n = 1\n",
    "Output: []\n",
    "Example 3:\n",
    "\n",
    "Input: head = [1,2], n = 1\n",
    "Output: [1]\n",
    " \n",
    "\n",
    "Constraints:\n",
    "\n",
    "The number of nodes in the list is sz.\n",
    "1 <= sz <= 30\n",
    "0 <= Node.val <= 100\n",
    "1 <= n <= sz"
   ]
  },
  {
   "cell_type": "code",
   "execution_count": null,
   "metadata": {},
   "outputs": [],
   "source": [
    "# Definition for singly-linked list.\n",
    "# class ListNode:\n",
    "#     def __init__(self, val=0, next=None):\n",
    "#         self.val = val\n",
    "#         self.next = next\n",
    "class Solution:\n",
    "    # 1 pass with dummy head, no need to heandle exception when the node to delete is the first node\n",
    "    def removeNthFromEnd(self, head: ListNode, n: int) -> ListNode:\n",
    "        dummy = ListNode(0)\n",
    "        dummy.next = head\n",
    "        slow = fast = dummy\n",
    "        for _ in range(n):\n",
    "            fast = fast.next\n",
    "        while fast.next:\n",
    "            slow = slow.next\n",
    "            fast = fast.next\n",
    "        slow.next = slow.next.next\n",
    "        return dummy.next"
   ]
  },
  {
   "cell_type": "code",
   "execution_count": null,
   "metadata": {},
   "outputs": [],
   "source": [
    "class Solution:\n",
    "    def removeNthFromEnd(self, head: ListNode, n: int) -> ListNode:\n",
    "        # 1 pass, need to handle exception when the node to delete is the first node\n",
    "        slow = fast = head\n",
    "        while n:\n",
    "            fast = fast.next\n",
    "            n -= 1\n",
    "        if not fast: # n == len(list): remove the 1st node\n",
    "            return head.next\n",
    "        while fast.next:\n",
    "            slow = slow.next\n",
    "            fast = fast.next\n",
    "        slow.next = slow.next.next\n",
    "        return head"
   ]
  },
  {
   "cell_type": "code",
   "execution_count": null,
   "metadata": {},
   "outputs": [],
   "source": [
    "class Solution:\n",
    "    def removeNthFromEnd(self, head: ListNode, n: int) -> ListNode:\n",
    "        # 2 pass        \n",
    "        p = head\n",
    "        cnt = 0\n",
    "        while p:\n",
    "            p = p.next\n",
    "            cnt += 1\n",
    "        \n",
    "        q = head\n",
    "        k = cnt - n - 1\n",
    "        while k > 0:\n",
    "            q = q.next\n",
    "            k -= 1\n",
    "        if k == 0: \n",
    "            q.next = q.next.next\n",
    "            return head\n",
    "        else: # n == len(list): remove the 1st node\n",
    "            return head.next"
   ]
  }
 ],
 "metadata": {
  "kernelspec": {
   "display_name": "Python 3",
   "language": "python",
   "name": "python3"
  },
  "language_info": {
   "codemirror_mode": {
    "name": "ipython",
    "version": 3
   },
   "file_extension": ".py",
   "mimetype": "text/x-python",
   "name": "python",
   "nbconvert_exporter": "python",
   "pygments_lexer": "ipython3",
   "version": "3.8.3"
  }
 },
 "nbformat": 4,
 "nbformat_minor": 4
}
