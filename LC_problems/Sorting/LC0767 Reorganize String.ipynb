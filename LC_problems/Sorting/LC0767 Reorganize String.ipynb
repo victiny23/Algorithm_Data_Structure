{
 "cells": [
  {
   "cell_type": "markdown",
   "metadata": {},
   "source": [
    "767. Reorganize String\n",
    "Medium\n",
    "\n",
    "3431\n",
    "\n",
    "156\n",
    "\n",
    "Add to List\n",
    "\n",
    "Share\n",
    "Given a string s, rearrange the characters of s so that any two adjacent characters are not the same.\n",
    "\n",
    "Return any possible rearrangement of s or return \"\" if not possible.\n",
    "\n",
    " \n",
    "\n",
    "Example 1:\n",
    "\n",
    "Input: s = \"aab\"\n",
    "Output: \"aba\"\n",
    "Example 2:\n",
    "\n",
    "Input: s = \"aaab\"\n",
    "Output: \"\"\n",
    " \n",
    "\n",
    "Constraints:\n",
    "\n",
    "1 <= s.length <= 500\n",
    "s consists of lowercase English letters."
   ]
  },
  {
   "cell_type": "code",
   "execution_count": null,
   "metadata": {},
   "outputs": [],
   "source": [
    "class Solution:\n",
    "    def reorganizeString(self, s: str) -> str:\n",
    "        \"\"\"similar to LC324. Wiggle Sort: \n",
    "        count sort (cnt from high to low)\n",
    "        + rearange:\n",
    "        assign the large half (from righ to left) on even-index \n",
    "        assign the smaller half (from right to left) on odd-index\n",
    "        \"\"\"\n",
    "        # count\n",
    "        dic = {}\n",
    "        for c in s:\n",
    "            dic[c] = dic.get(c, 0) + 1\n",
    "        dic = list(dic.items())\n",
    "        # sort\n",
    "        dic.sort(key = lambda x: -x[1])\n",
    "        # find the mid point\n",
    "        mid = (len(s) + 1)//2\n",
    "        # if a character uses up all even-index - not possible\n",
    "        if dic[0][1] > mid:\n",
    "            return \"\"\n",
    "        li = []\n",
    "        for item in dic:\n",
    "            for i in range(item[1]):\n",
    "                li.append(item[0])\n",
    "\n",
    "        res = [None] * len(s)\n",
    "        res[::2] = li[:mid][::-1]\n",
    "        res[1::2] = li[mid:][::-1]\n",
    "        return ''.join(res)"
   ]
  },
  {
   "cell_type": "code",
   "execution_count": null,
   "metadata": {},
   "outputs": [],
   "source": [
    "class Solution:\n",
    "    def reorganizeString(self, s: str) -> str:\n",
    "        \"\"\"\n",
    "        Put the least common letters at the odd indexes \n",
    "        put the most common letters at the even indexes \n",
    "        (both from left to right in order of frequency)\n",
    "        \"\"\"\n",
    "        # quick solution for count + sort + generate the sorted list with frequency from high to low\n",
    "        if len(s) == 1:\n",
    "            return s\n",
    "        a = sorted(sorted(s), key=s.count)\n",
    "        mid = len(a) // 2\n",
    "        a[1::2], a[::2] = a[:mid], a[mid:]\n",
    "        # if all the even-index is used up by a character, it occupies the last odd-index as well\n",
    "        if a[-1] != a[-2]:\n",
    "            return ''.join(a)\n",
    "        return ''"
   ]
  },
  {
   "cell_type": "code",
   "execution_count": null,
   "metadata": {},
   "outputs": [],
   "source": [
    "class Solution:\n",
    "    def reorganizeString(self, s: str) -> str:\n",
    "        \"\"\"heap\"\"\""
   ]
  }
 ],
 "metadata": {
  "kernelspec": {
   "display_name": "Python 3",
   "language": "python",
   "name": "python3"
  },
  "language_info": {
   "codemirror_mode": {
    "name": "ipython",
    "version": 3
   },
   "file_extension": ".py",
   "mimetype": "text/x-python",
   "name": "python",
   "nbconvert_exporter": "python",
   "pygments_lexer": "ipython3",
   "version": "3.8.3"
  }
 },
 "nbformat": 4,
 "nbformat_minor": 4
}
