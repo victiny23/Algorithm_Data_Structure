{
 "cells": [
  {
   "cell_type": "markdown",
   "metadata": {},
   "source": [
    "217. Contains Duplicate\n",
    "Easy\n",
    "\n",
    "2067\n",
    "\n",
    "867\n",
    "\n",
    "Add to List\n",
    "\n",
    "Share\n",
    "Given an integer array nums, return true if any value appears at least twice in the array, and return false if every element is distinct.\n",
    "\n",
    " \n",
    "\n",
    "Example 1:\n",
    "\n",
    "Input: nums = [1,2,3,1]\n",
    "Output: true\n",
    "Example 2:\n",
    "\n",
    "Input: nums = [1,2,3,4]\n",
    "Output: false\n",
    "Example 3:\n",
    "\n",
    "Input: nums = [1,1,1,3,3,4,3,2,4,2]\n",
    "Output: true\n",
    " \n",
    "\n",
    "Constraints:\n",
    "\n",
    "1 <= nums.length <= 105\n",
    "-109 <= nums[i] <= 109"
   ]
  },
  {
   "cell_type": "code",
   "execution_count": null,
   "metadata": {},
   "outputs": [],
   "source": [
    "class Solution:\n",
    "    def containsDuplicate(self, nums: List[int]) -> bool:\n",
    "        \"\"\"sorting\"\"\"\n",
    "        nums.sort()\n",
    "        for i in range(1, len(nums)):\n",
    "            if nums[i] == nums[i-1]:\n",
    "                return True\n",
    "        return False\n",
    "        \n",
    "        \"\"\"Hash table: check for duplicate\"\"\"\n",
    "        dic = {}\n",
    "        for num in nums:\n",
    "            if num in dic: # faster than if num in dic.keys()\n",
    "                return True\n",
    "            else:\n",
    "                dic[num] = 0\n",
    "        return False\n",
    "    \n",
    "        \"\"\"set: check for duplicate\"\"\"\n",
    "        s = set()\n",
    "        for num in nums:\n",
    "            if num in s:\n",
    "                return True\n",
    "            else:\n",
    "                s.add(num)\n",
    "        return False\n",
    "        \n",
    "        \"\"\"set: compare number of elements(length)\"\"\"\n",
    "        return len(nums) > len(set(nums))"
   ]
  }
 ],
 "metadata": {
  "kernelspec": {
   "display_name": "Python 3",
   "language": "python",
   "name": "python3"
  },
  "language_info": {
   "codemirror_mode": {
    "name": "ipython",
    "version": 3
   },
   "file_extension": ".py",
   "mimetype": "text/x-python",
   "name": "python",
   "nbconvert_exporter": "python",
   "pygments_lexer": "ipython3",
   "version": "3.8.3"
  }
 },
 "nbformat": 4,
 "nbformat_minor": 4
}
