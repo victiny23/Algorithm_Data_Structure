{
 "cells": [
  {
   "cell_type": "markdown",
   "metadata": {},
   "source": [
    "75. Sort Colors\n",
    "Medium\n",
    "\n",
    "6406\n",
    "\n",
    "336\n",
    "\n",
    "Add to List\n",
    "\n",
    "Share\n",
    "Given an array nums with n objects colored red, white, or blue, sort them in-place so that objects of the same color are adjacent, with the colors in the order red, white, and blue.\n",
    "\n",
    "We will use the integers 0, 1, and 2 to represent the color red, white, and blue, respectively.\n",
    "\n",
    "You must solve this problem without using the library's sort function.\n",
    "\n",
    " \n",
    "\n",
    "Example 1:\n",
    "\n",
    "Input: nums = [2,0,2,1,1,0]\n",
    "Output: [0,0,1,1,2,2]\n",
    "Example 2:\n",
    "\n",
    "Input: nums = [2,0,1]\n",
    "Output: [0,1,2]\n",
    "Example 3:\n",
    "\n",
    "Input: nums = [0]\n",
    "Output: [0]\n",
    "Example 4:\n",
    "\n",
    "Input: nums = [1]\n",
    "Output: [1]\n",
    " \n",
    "\n",
    "Constraints:\n",
    "\n",
    "n == nums.length\n",
    "1 <= n <= 300\n",
    "nums[i] is 0, 1, or 2.\n",
    " \n",
    "\n",
    "Follow up: Could you come up with a one-pass algorithm using only constant extra space?"
   ]
  },
  {
   "cell_type": "code",
   "execution_count": null,
   "metadata": {},
   "outputs": [],
   "source": [
    "class Solution:\n",
    "    def sortColors(self, nums: List[int]) -> None:\n",
    "        \"\"\"\n",
    "        Do not return anything, modify nums in-place instead.\n",
    "        \"\"\"\n",
    "        \"\"\"count sort\"\"\"\n",
    "        r, w, b = 0, 0, 0\n",
    "        for c in nums:\n",
    "            if c == 0:\n",
    "                r += 1\n",
    "            elif c == 1:\n",
    "                w += 1\n",
    "            else:\n",
    "                b += 1\n",
    "        nums[:r] = [0] * r\n",
    "        nums[r:r+w] = [1] * w\n",
    "        nums[r+w:] = [2] * b"
   ]
  },
  {
   "cell_type": "code",
   "execution_count": null,
   "metadata": {},
   "outputs": [],
   "source": [
    "class Solution:\n",
    "    def sortColors(self, nums: List[int]) -> None:\n",
    "         \"\"\"dutch partition problem/ dutchnational flag problem\"\"\""
   ]
  }
 ],
 "metadata": {
  "kernelspec": {
   "display_name": "Python 3",
   "language": "python",
   "name": "python3"
  },
  "language_info": {
   "codemirror_mode": {
    "name": "ipython",
    "version": 3
   },
   "file_extension": ".py",
   "mimetype": "text/x-python",
   "name": "python",
   "nbconvert_exporter": "python",
   "pygments_lexer": "ipython3",
   "version": "3.8.3"
  }
 },
 "nbformat": 4,
 "nbformat_minor": 4
}
