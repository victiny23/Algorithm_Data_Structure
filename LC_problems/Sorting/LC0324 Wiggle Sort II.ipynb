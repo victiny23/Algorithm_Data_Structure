{
 "cells": [
  {
   "cell_type": "markdown",
   "metadata": {},
   "source": [
    "324. Wiggle Sort II\n",
    "Medium\n",
    "\n",
    "1636\n",
    "\n",
    "708\n",
    "\n",
    "Add to List\n",
    "\n",
    "Share\n",
    "Given an integer array nums, reorder it such that nums[0] < nums[1] > nums[2] < nums[3]....\n",
    "\n",
    "You may assume the input array always has a valid answer.\n",
    "\n",
    " \n",
    "\n",
    "Example 1:\n",
    "\n",
    "Input: nums = [1,5,1,1,6,4]\n",
    "Output: [1,6,1,5,1,4]\n",
    "Explanation: [1,4,1,5,1,6] is also accepted.\n",
    "Example 2:\n",
    "\n",
    "Input: nums = [1,3,2,2,3,1]\n",
    "Output: [2,3,1,3,1,2]\n",
    " \n",
    "\n",
    "Constraints:\n",
    "\n",
    "1 <= nums.length <= 5 * 104\n",
    "0 <= nums[i] <= 5000\n",
    "It is guaranteed that there will be an answer for the given input nums.\n",
    " \n",
    "\n",
    "Follow Up: Can you do it in O(n) time and/or in-place with O(1) extra space?"
   ]
  },
  {
   "cell_type": "code",
   "execution_count": null,
   "metadata": {},
   "outputs": [],
   "source": [
    "class Solution:\n",
    "    def wiggleSort(self, nums: List[int]) -> None:\n",
    "        \"\"\"\n",
    "        Do not return anything, modify nums in-place instead.\n",
    "        \"\"\"\n",
    "        \"\"\"O(nlogn) time + O(n) space\"\"\"\n",
    "        if len(nums) <= 1:\n",
    "            return \n",
    "        nums.sort()\n",
    "        n = len(nums)\n",
    "        tmp =[0] * n\n",
    "        mid = (n+1)//2\n",
    "        # put the smaller half on the even index, and greater half on the odd index\n",
    "        # but if we go from left to right, there might be two naboring num of the same value\n",
    "        # in this way, median is on the right side of the 1st half (smaller half) and the left side of the second half (greater half)\n",
    "        # instead we go from right to left so that doesn't happen\n",
    "        # in this way, median is on the left of the 1st half (smaller half) and the right side of the 2nd hald (greater half) so they are seperated\n",
    "        tmp[::2] = nums[:mid][::-1]\n",
    "        tmp[1::2] = nums[mid:][::-1]\n",
    "        # print(tmp)\n",
    "        nums[:n] = tmp[:n]"
   ]
  }
 ],
 "metadata": {
  "kernelspec": {
   "display_name": "Python 3",
   "language": "python",
   "name": "python3"
  },
  "language_info": {
   "codemirror_mode": {
    "name": "ipython",
    "version": 3
   },
   "file_extension": ".py",
   "mimetype": "text/x-python",
   "name": "python",
   "nbconvert_exporter": "python",
   "pygments_lexer": "ipython3",
   "version": "3.8.3"
  }
 },
 "nbformat": 4,
 "nbformat_minor": 4
}
