{
 "cells": [
  {
   "cell_type": "markdown",
   "metadata": {},
   "source": [
    "56. Merge Intervals\n",
    "Medium\n",
    "\n",
    "8789\n",
    "\n",
    "417\n",
    "\n",
    "Add to List\n",
    "\n",
    "Share\n",
    "Given an array of intervals where intervals[i] = [starti, endi], merge all overlapping intervals, and return an array of the non-overlapping intervals that cover all the intervals in the input.\n",
    "\n",
    " \n",
    "\n",
    "Example 1:\n",
    "\n",
    "Input: intervals = [[1,3],[2,6],[8,10],[15,18]]\n",
    "Output: [[1,6],[8,10],[15,18]]\n",
    "Explanation: Since intervals [1,3] and [2,6] overlaps, merge them into [1,6].\n",
    "Example 2:\n",
    "\n",
    "Input: intervals = [[1,4],[4,5]]\n",
    "Output: [[1,5]]\n",
    "Explanation: Intervals [1,4] and [4,5] are considered overlapping.\n",
    " \n",
    "\n",
    "Constraints:\n",
    "\n",
    "1 <= intervals.length <= 104\n",
    "intervals[i].length == 2\n",
    "0 <= starti <= endi <= 104"
   ]
  },
  {
   "cell_type": "code",
   "execution_count": null,
   "metadata": {},
   "outputs": [],
   "source": [
    "class Solution:\n",
    "    def merge(self, intervals: List[List[int]]) -> List[List[int]]:\n",
    "        \"\"\"\n",
    "        sort by key\n",
    "        li = [[1,4],[2,3]]\n",
    "        li.sort(key=lambda x: x[0]) # [[1,4], [2,3]]\n",
    "        li.sort(key=lambda x: x[1]) # [[2,3], [1,4]]       \n",
    "        \"\"\"\n",
    "           \n",
    "        if len(intervals) == 1:\n",
    "            return intervals\n",
    "        intervals.sort()\n",
    "        intervals.reverse()\n",
    "        res = [intervals.pop()]\n",
    "        while intervals:\n",
    "            seg = intervals.pop()\n",
    "            if seg[0] <= res[-1][1]:\n",
    "                res[-1][1] = max(res[-1][1], seg[1])\n",
    "            else:\n",
    "                res.append(seg)\n",
    "        return res"
   ]
  }
 ],
 "metadata": {
  "kernelspec": {
   "display_name": "Python 3",
   "language": "python",
   "name": "python3"
  },
  "language_info": {
   "codemirror_mode": {
    "name": "ipython",
    "version": 3
   },
   "file_extension": ".py",
   "mimetype": "text/x-python",
   "name": "python",
   "nbconvert_exporter": "python",
   "pygments_lexer": "ipython3",
   "version": "3.8.3"
  }
 },
 "nbformat": 4,
 "nbformat_minor": 4
}
