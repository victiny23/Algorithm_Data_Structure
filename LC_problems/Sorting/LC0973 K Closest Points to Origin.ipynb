{
 "cells": [
  {
   "cell_type": "markdown",
   "metadata": {},
   "source": [
    "973. K Closest Points to Origin\n",
    "Medium\n",
    "\n",
    "3681\n",
    "\n",
    "175\n",
    "\n",
    "Add to List\n",
    "\n",
    "Share\n",
    "Given an array of points where points[i] = [xi, yi] represents a point on the X-Y plane and an integer k, return the k closest points to the origin (0, 0).\n",
    "\n",
    "The distance between two points on the X-Y plane is the Euclidean distance (i.e., √(x1 - x2)2 + (y1 - y2)2).\n",
    "\n",
    "You may return the answer in any order. The answer is guaranteed to be unique (except for the order that it is in).\n",
    "\n",
    " \n",
    "\n",
    "Example 1:\n",
    "\n",
    "\n",
    "Input: points = [[1,3],[-2,2]], k = 1\n",
    "Output: [[-2,2]]\n",
    "Explanation:\n",
    "The distance between (1, 3) and the origin is sqrt(10).\n",
    "The distance between (-2, 2) and the origin is sqrt(8).\n",
    "Since sqrt(8) < sqrt(10), (-2, 2) is closer to the origin.\n",
    "We only want the closest k = 1 points from the origin, so the answer is just [[-2,2]].\n",
    "Example 2:\n",
    "\n",
    "Input: points = [[3,3],[5,-1],[-2,4]], k = 2\n",
    "Output: [[3,3],[-2,4]]\n",
    "Explanation: The answer [[-2,4],[3,3]] would also be accepted.\n",
    " \n",
    "\n",
    "Constraints:\n",
    "\n",
    "1 <= k <= points.length <= 104\n",
    "-104 < xi, yi < 104"
   ]
  },
  {
   "cell_type": "code",
   "execution_count": null,
   "metadata": {},
   "outputs": [],
   "source": [
    "from heapq import heappush, heappop, heapify\n",
    "class Solution:\n",
    "    def kClosest(self, points: List[List[int]], k: int) -> List[List[int]]:\n",
    "        \"\"\"Sort, O(nlogn) 628 ms\"\"\"\n",
    "        points.sort(key=lambda x: x[0]**2 + x[1]**2)\n",
    "        return points[:k]"
   ]
  },
  {
   "cell_type": "code",
   "execution_count": null,
   "metadata": {},
   "outputs": [],
   "source": [
    "from heapq import heappush, heappop, heapify\n",
    "class Solution:\n",
    "    def kClosest(self, points: List[List[int]], k: int) -> List[List[int]]:\n",
    "        \"\"\"Heap sort, O(nlogn) 737 ms\"\"\"\n",
    "        h = []\n",
    "        # build the heap\n",
    "        for a, b in points:\n",
    "            heappush(h, (a**2 + b**2, a, b))\n",
    "        # pop the coordinates\n",
    "        coor = []\n",
    "        for i in range(k):\n",
    "            d, a, b = heappop(h)\n",
    "            coor.append([a, b])\n",
    "        return coor"
   ]
  },
  {
   "cell_type": "code",
   "execution_count": null,
   "metadata": {},
   "outputs": [],
   "source": [
    "import heapq\n",
    "class Solution:\n",
    "    def kClosest(self, points: List[List[int]], k: int) -> List[List[int]]:\n",
    "        \"\"\"Heap function, O(nlogk) 696 ms\"\"\"\n",
    "        return heapq.nsmallest(k, points, lambda x: x[0]**2 + x[1]**2)\n",
    "    \n",
    "        # another way to write the lambda function\n",
    "        return heapq.nsmallest(k, points, lambda (x, y): x**2 + y**2)"
   ]
  },
  {
   "cell_type": "code",
   "execution_count": null,
   "metadata": {},
   "outputs": [],
   "source": [
    "from heapq import heappush, heappop, heapify\n",
    "class Solution:\n",
    "    def kClosest(self, points: List[List[int]], k: int) -> List[List[int]]:\n",
    "        \"\"\"Heap, O(nlogk) 672 ms\"\"\"\n",
    "        h = []\n",
    "        for a, b in points:\n",
    "            # build the heap\n",
    "            # defaault heap: minimum on the top, pop the minimum first \n",
    "            # -- use negative distance to keep larger distance on the top so they are removed first\n",
    "            distance = a**2 + b**2\n",
    "            heappush(h, (-distance, (a, b)))\n",
    "            # pop the larger elements if necessary\n",
    "            if len(h) > k:\n",
    "                heappop(h)\n",
    "        return [coor for (dist, coor) in h]\n",
    "    \n",
    "        \"\"\"Heap, O(nlogk) - another way 660 ms\"\"\"\n",
    "        # split into first k for thr heap and the rest\n",
    "        heap = [(- a**2 - b**2, a, b) for a, b in points[:k]]\n",
    "        rest = [(- a**2 - b**2, a, b) for a, b in points[k:]]\n",
    "        # heapify\n",
    "        heapify(heap)\n",
    "        # keep the heap\n",
    "        for d, a, b in rest:\n",
    "            if d > heap[0][0]:\n",
    "                heappush(heap, (d, a, b))\n",
    "                heappop(heap)\n",
    "        return [[x, y] for d, x, y in heap]"
   ]
  },
  {
   "cell_type": "code",
   "execution_count": null,
   "metadata": {},
   "outputs": [],
   "source": [
    "class Solution:\n",
    "    def kClosest(self, points: List[List[int]], k: int) -> List[List[int]]:\n",
    "        \"\"\"Quick Select, O(n)\"\"\""
   ]
  }
 ],
 "metadata": {
  "kernelspec": {
   "display_name": "Python 3",
   "language": "python",
   "name": "python3"
  },
  "language_info": {
   "codemirror_mode": {
    "name": "ipython",
    "version": 3
   },
   "file_extension": ".py",
   "mimetype": "text/x-python",
   "name": "python",
   "nbconvert_exporter": "python",
   "pygments_lexer": "ipython3",
   "version": "3.8.3"
  }
 },
 "nbformat": 4,
 "nbformat_minor": 4
}
