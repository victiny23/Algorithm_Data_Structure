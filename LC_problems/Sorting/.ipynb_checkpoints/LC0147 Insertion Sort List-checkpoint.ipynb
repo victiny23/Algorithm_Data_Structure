{
 "cells": [
  {
   "cell_type": "markdown",
   "metadata": {},
   "source": [
    "147. Insertion Sort List\n",
    "Medium\n",
    "\n",
    "1164\n",
    "\n",
    "702\n",
    "\n",
    "Add to List\n",
    "\n",
    "Share\n",
    "Given the head of a singly linked list, sort the list using insertion sort, and return the sorted list's head.\n",
    "\n",
    "The steps of the insertion sort algorithm:\n",
    "\n",
    "Insertion sort iterates, consuming one input element each repetition and growing a sorted output list.\n",
    "At each iteration, insertion sort removes one element from the input data, finds the location it belongs within the sorted list and inserts it there.\n",
    "It repeats until no input elements remain.\n",
    "The following is a graphical example of the insertion sort algorithm. The partially sorted list (black) initially contains only the first element in the list. One element (red) is removed from the input data and inserted in-place into the sorted list with each iteration.\n",
    "\n",
    "\n",
    " \n",
    "\n",
    "Example 1:\n",
    "\n",
    "\n",
    "Input: head = [4,2,1,3]\n",
    "Output: [1,2,3,4]\n",
    "Example 2:\n",
    "\n",
    "\n",
    "Input: head = [-1,5,3,4,0]\n",
    "Output: [-1,0,3,4,5]\n",
    " \n",
    "\n",
    "Constraints:\n",
    "\n",
    "The number of nodes in the list is in the range [1, 5000].\n",
    "-5000 <= Node.val <= 5000"
   ]
  },
  {
   "cell_type": "code",
   "execution_count": null,
   "metadata": {},
   "outputs": [],
   "source": [
    "# Definition for singly-linked list.\n",
    "# class ListNode:\n",
    "#     def __init__(self, val=0, next=None):\n",
    "#         self.val = val\n",
    "#         self.next = next\n",
    "class Solution:\n",
    "    def insertionSortList(self, head: ListNode) -> ListNode:\n",
    "        if not head or not head.next:\n",
    "            return head\n",
    "        dummy = ListNode(0)\n",
    "        dummy.next = head\n",
    "        p, q = head, head.next\n",
    "        while q:\n",
    "            if q.val > p.val:\n",
    "                p, q = p.next, q.next\n",
    "            else:\n",
    "                p.next = q.next\n",
    "                # find where to insert the node\n",
    "                prev, curr = dummy, dummy.next # curr has to be dummy.next instead of head, because head may be moved to the right but we always start from the most left\n",
    "                while curr.val < q.val:\n",
    "                    prev, curr = prev.next, curr.next\n",
    "                # insert the node between prev and curr\n",
    "                q.next = curr\n",
    "                prev.next = q\n",
    "                q = p.next\n",
    "        return dummy.next"
   ]
  },
  {
   "cell_type": "code",
   "execution_count": null,
   "metadata": {},
   "outputs": [],
   "source": [
    "class Solution:\n",
    "    def insertionSortList(self, head: ListNode) -> ListNode:\n",
    "        \"\"\"cheating with list.sort()\"\"\"\n",
    "        li = []\n",
    "        while head:\n",
    "            li.append(ListNode(head.val))\n",
    "            head = head.next\n",
    "        li.sort(key=lambda x: x.val, reverse=True)\n",
    "        dummy = tail = ListNode(0)\n",
    "        while li:\n",
    "            tail.next = li.pop()\n",
    "            tail = tail.next\n",
    "        return dummy.next"
   ]
  }
 ],
 "metadata": {
  "kernelspec": {
   "display_name": "Python 3",
   "language": "python",
   "name": "python3"
  },
  "language_info": {
   "codemirror_mode": {
    "name": "ipython",
    "version": 3
   },
   "file_extension": ".py",
   "mimetype": "text/x-python",
   "name": "python",
   "nbconvert_exporter": "python",
   "pygments_lexer": "ipython3",
   "version": "3.8.3"
  }
 },
 "nbformat": 4,
 "nbformat_minor": 4
}
