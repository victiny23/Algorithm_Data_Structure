{
 "cells": [
  {
   "cell_type": "markdown",
   "metadata": {},
   "source": [
    "1054. Distant Barcodes\n",
    "Medium\n",
    "\n",
    "676\n",
    "\n",
    "30\n",
    "\n",
    "Add to List\n",
    "\n",
    "Share\n",
    "In a warehouse, there is a row of barcodes, where the ith barcode is barcodes[i].\n",
    "\n",
    "Rearrange the barcodes so that no two adjacent barcodes are equal. You may return any answer, and it is guaranteed an answer exists.\n",
    "\n",
    " \n",
    "\n",
    "Example 1:\n",
    "\n",
    "Input: barcodes = [1,1,1,2,2,2]\n",
    "Output: [2,1,2,1,2,1]\n",
    "Example 2:\n",
    "\n",
    "Input: barcodes = [1,1,1,1,2,2,3,3]\n",
    "Output: [1,3,1,3,1,2,1,2]\n",
    " \n",
    "\n",
    "Constraints:\n",
    "\n",
    "1 <= barcodes.length <= 10000\n",
    "1 <= barcodes[i] <= 10000"
   ]
  },
  {
   "cell_type": "code",
   "execution_count": null,
   "metadata": {},
   "outputs": [],
   "source": [
    "class Solution:\n",
    "    def rearrangeBarcodes(self, barcodes: List[int]) -> List[int]:\n",
    "        \"\"\"two Sorting - TLE\"\"\"\n",
    "        # barcodes = sorted(sorted(barcodes), key=barcodes.count, reverse=True)\n",
    "        # n = len(barcodes)\n",
    "        # mid = (1 + n)//2\n",
    "        # res = [0] * n\n",
    "        # res[::2] = barcodes[:mid][::-1]\n",
    "        # res[1::2] = barcodes[mid:][::-1]\n",
    "        # return res\n",
    "        \n",
    "        \"\"\"\n",
    "        similar to LC324. Wiggle Sort / LC767. Reorganizing String: \n",
    "        count sort (cnt from high to low)\n",
    "        + rearange:\n",
    "        assign the large half (from righ to left) on even-index \n",
    "        assign the smaller half (from right to left) on odd-index\n",
    "        \"\"\"\n",
    "        dic = {}\n",
    "        for bc in barcodes:\n",
    "            dic[bc] = dic.get(bc, 0) + 1\n",
    "        dic = list(dic.items())\n",
    "        # sort\n",
    "        dic.sort(key = lambda x: -x[1])\n",
    "        # sorted barcodes by count\n",
    "        li = []\n",
    "        for item in dic:\n",
    "            for i in range(item[1]):\n",
    "                li.append(item[0])\n",
    "                \n",
    "        # find the mid point\n",
    "        n = len(barcodes)\n",
    "        mid = (1 + n)//2\n",
    "        res = [0] * n\n",
    "        res[::2] = li[:mid][::-1]\n",
    "        res[1::2] = li[mid:][::-1]\n",
    "        return res"
   ]
  }
 ],
 "metadata": {
  "kernelspec": {
   "display_name": "Python 3",
   "language": "python",
   "name": "python3"
  },
  "language_info": {
   "codemirror_mode": {
    "name": "ipython",
    "version": 3
   },
   "file_extension": ".py",
   "mimetype": "text/x-python",
   "name": "python",
   "nbconvert_exporter": "python",
   "pygments_lexer": "ipython3",
   "version": "3.8.3"
  }
 },
 "nbformat": 4,
 "nbformat_minor": 4
}
