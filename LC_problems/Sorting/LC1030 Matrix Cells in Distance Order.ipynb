{
 "cells": [
  {
   "cell_type": "markdown",
   "metadata": {},
   "source": [
    "1030. Matrix Cells in Distance Order\n",
    "Easy\n",
    "\n",
    "347\n",
    "\n",
    "170\n",
    "\n",
    "Add to List\n",
    "\n",
    "Share\n",
    "You are given four integers row, cols, rCenter, and cCenter. There is a rows x cols matrix and you are on the cell with the coordinates (rCenter, cCenter).\n",
    "\n",
    "Return the coordinates of all cells in the matrix, sorted by their distance from (rCenter, cCenter) from the smallest distance to the largest distance. You may return the answer in any order that satisfies this condition.\n",
    "\n",
    "The distance between two cells (r1, c1) and (r2, c2) is |r1 - r2| + |c1 - c2|.\n",
    "\n",
    " \n",
    "\n",
    "Example 1:\n",
    "\n",
    "Input: rows = 1, cols = 2, rCenter = 0, cCenter = 0\n",
    "Output: [[0,0],[0,1]]\n",
    "Explanation: The distances from (0, 0) to other cells are: [0,1]\n",
    "Example 2:\n",
    "\n",
    "Input: rows = 2, cols = 2, rCenter = 0, cCenter = 1\n",
    "Output: [[0,1],[0,0],[1,1],[1,0]]\n",
    "Explanation: The distances from (0, 1) to other cells are: [0,1,1,2]\n",
    "The answer [[0,1],[1,1],[0,0],[1,0]] would also be accepted as correct.\n",
    "Example 3:\n",
    "\n",
    "Input: rows = 2, cols = 3, rCenter = 1, cCenter = 2\n",
    "Output: [[1,2],[0,2],[1,1],[0,1],[1,0],[0,0]]\n",
    "Explanation: The distances from (1, 2) to other cells are: [0,1,1,2,2,3]\n",
    "There are other answers that would also be accepted as correct, such as [[1,2],[1,1],[0,2],[1,0],[0,1],[0,0]].\n",
    " \n",
    "\n",
    "Constraints:\n",
    "\n",
    "1 <= rows, cols <= 100\n",
    "0 <= rCenter < rows\n",
    "0 <= cCenter < cols"
   ]
  },
  {
   "cell_type": "code",
   "execution_count": null,
   "metadata": {},
   "outputs": [],
   "source": [
    "class Solution:\n",
    "    def allCellsDistOrder(self, rows: int, cols: int, rCenter: int, cCenter: int) -> List[List[int]]:\n",
    "        \"\"\"generate all the coordinates + Sorting\"\"\"\n",
    "        matrix = []\n",
    "        for r in range(rows):\n",
    "            for c in range(cols):\n",
    "                matrix.append([r, c])\n",
    "        matrix.sort(key=lambda x: abs(x[0]-rCenter) + abs(x[1]-cCenter))\n",
    "        return matrix"
   ]
  },
  {
   "cell_type": "code",
   "execution_count": null,
   "metadata": {},
   "outputs": [],
   "source": [
    "class Solution:\n",
    "    def allCellsDistOrder(self, rows: int, cols: int, rCenter: int, cCenter: int) -> List[List[int]]:\n",
    "         \"\"\"dfs + Sorting\"\"\"\n",
    "        def dfs(i, j):\n",
    "            seen.add((i, j))\n",
    "            res.append([i, j])\n",
    "            for x, y in (i-1, j), (i+1, j), (i, j-1), (i, j+1):\n",
    "                if 0 <= x < rows and 0 <= y < cols and (x, y) not in seen:\n",
    "                    dfs(x, y)\n",
    "        seen, res = set(), []\n",
    "        dfs(rCenter, cCenter)\n",
    "        res.sort(key=lambda x: abs(x[0]-rCenter) + abs(x[1]-cCenter))\n",
    "        return res"
   ]
  },
  {
   "cell_type": "code",
   "execution_count": null,
   "metadata": {},
   "outputs": [],
   "source": [
    "class Solution:\n",
    "    def allCellsDistOrder(self, rows: int, cols: int, rCenter: int, cCenter: int) -> List[List[int]]:\n",
    "         \"\"\"bfs + Sorting\"\"\"\n",
    "        from collections import deque\n",
    "        q = deque([[rCenter, cCenter]])\n",
    "        res = []\n",
    "        seen = set()\n",
    "        seen.add((rCenter, cCenter))\n",
    "        \n",
    "        while q:\n",
    "            res += q\n",
    "            # create a new queue to store the new location\n",
    "            new_q = []\n",
    "            for i, j in q:\n",
    "                for x, y in (i-1, j), (i+1, j), (i, j-1), (i, j+1):\n",
    "                    if 0 <= x < rows and 0 <= y < cols and (x, y) not in seen:\n",
    "                        seen.add((x, y))\n",
    "                        new_q.append([x, y])\n",
    "            q = new_q\n",
    "        res.sort(key=lambda x: abs(x[0]-rCenter) + abs(x[1]-cCenter))\n",
    "        return res"
   ]
  }
 ],
 "metadata": {
  "kernelspec": {
   "display_name": "Python 3",
   "language": "python",
   "name": "python3"
  },
  "language_info": {
   "codemirror_mode": {
    "name": "ipython",
    "version": 3
   },
   "file_extension": ".py",
   "mimetype": "text/x-python",
   "name": "python",
   "nbconvert_exporter": "python",
   "pygments_lexer": "ipython3",
   "version": "3.8.3"
  }
 },
 "nbformat": 4,
 "nbformat_minor": 4
}
