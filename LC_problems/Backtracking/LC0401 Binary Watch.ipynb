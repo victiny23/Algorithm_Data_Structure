{
 "cells": [
  {
   "cell_type": "markdown",
   "metadata": {},
   "source": [
    "401. Binary Watch\n",
    "Easy\n",
    "\n",
    "815\n",
    "\n",
    "1500\n",
    "\n",
    "Add to List\n",
    "\n",
    "Share\n",
    "A binary watch has 4 LEDs on the top which represent the hours (0-11), and the 6 LEDs on the bottom represent the minutes (0-59). Each LED represents a zero or one, with the least significant bit on the right.\n",
    "\n",
    "For example, the below binary watch reads \"4:51\".\n",
    "\n",
    "\n",
    "Given an integer turnedOn which represents the number of LEDs that are currently on, return all possible times the watch could represent. You may return the answer in any order.\n",
    "\n",
    "The hour must not contain a leading zero.\n",
    "\n",
    "For example, \"01:00\" is not valid. It should be \"1:00\".\n",
    "The minute must be consist of two digits and may contain a leading zero.\n",
    "\n",
    "For example, \"10:2\" is not valid. It should be \"10:02\".\n",
    " \n",
    "\n",
    "Example 1:\n",
    "\n",
    "Input: turnedOn = 1\n",
    "Output: [\"0:01\",\"0:02\",\"0:04\",\"0:08\",\"0:16\",\"0:32\",\"1:00\",\"2:00\",\"4:00\",\"8:00\"]\n",
    "Example 2:\n",
    "\n",
    "Input: turnedOn = 9\n",
    "Output: []\n",
    " \n",
    "\n",
    "Constraints:\n",
    "\n",
    "0 <= turnedOn <= 10"
   ]
  },
  {
   "cell_type": "code",
   "execution_count": null,
   "metadata": {},
   "outputs": [],
   "source": [
    "\"\"\"res.append(\"{}:{:02d}\".format(h, m))\"\"\"\n",
    "\"\"\"time = \"h\" + \"0\" * (m < 10) + str(m)\"\"\""
   ]
  },
  {
   "cell_type": "code",
   "execution_count": null,
   "metadata": {},
   "outputs": [],
   "source": [
    "class Solution:\n",
    "    def readBinaryWatch(self, turnedOn: int) -> List[str]:\n",
    "        \"\"\"itertools.combinations - combinations for hour and for minute - 32 ms\"\"\"\n",
    "        from itertools import combinations\n",
    "        hours_led = [1, 2, 4, 8]\n",
    "        minutes_led = [1, 2, 4, 8, 16, 32]\n",
    "        res = []\n",
    "        for i in range(turnedOn+1):\n",
    "            j = turnedOn - i\n",
    "            hours = list(combinations(hours_led, i))\n",
    "            minutes = list(combinations(minutes_led, j))\n",
    "            hours = [sum(h) for h in hours]\n",
    "            minutes = [sum(m) for m in minutes]\n",
    "            for h in hours:\n",
    "                for m in minutes:\n",
    "                    if h > 11 or m > 59:\n",
    "                        continue\n",
    "                    str_min = \"0\" + str(m) if m < 10 else str(m)\n",
    "                    res.append(str(h) + \":\" + str_min)\n",
    "        res.sort()\n",
    "        return res"
   ]
  },
  {
   "cell_type": "code",
   "execution_count": null,
   "metadata": {},
   "outputs": [],
   "source": [
    "class Solution:\n",
    "    def readBinaryWatch(self, turnedOn: int) -> List[str]:\n",
    "        \"\"\"itertool.combinations: - combinations of elements in hours and in times - 24 ms\"\"\"\n",
    "        watch = [1, 2, 4, 8, 1, 2, 4, 8, 16, 32]\n",
    "        res = []\n",
    "        # pick turnedOn indices from watch\n",
    "        for idx_combo in combinations(range(len(watch)), turnedOn):\n",
    "            # hours come from the first 4 elements \n",
    "            h = sum(watch[i] for i in idx_combo if i < 4)\n",
    "            # minutes come from the last 6 elements\n",
    "            m = sum(watch[i] for i in idx_combo if i >= 4)\n",
    "            if h > 11 or m > 59:\n",
    "                continue\n",
    "            res.append(\"{}:{:02}\".format(h, m))\n",
    "        return res"
   ]
  },
  {
   "cell_type": "code",
   "execution_count": null,
   "metadata": {},
   "outputs": [],
   "source": [
    "class Solution:\n",
    "    def readBinaryWatch(self, turnedOn: int) -> List[str]:\n",
    "        \"\"\"Backtracking + Set to handle duplicates - 68 ms\"\"\"\n",
    "        def dfs(remain, hours, minutes, hour, minute, times):\n",
    "            if hour > 11 or minute > 59:\n",
    "                return # backtracking\n",
    "            if remain == 0:\n",
    "                # time must be unique for any display\n",
    "                # use a set() to save all possible times\n",
    "                time = 60 * hour + minute\n",
    "                if time not in times:\n",
    "                    times.add(time)\n",
    "                    str_min = \"0\" + str(minute) if minute < 10 else str(minute)\n",
    "                    res.append(str(hour) + \":\" + str_min)\n",
    "                return \n",
    "            for h in hours_led:\n",
    "                if hours and h <= hours[-1]:\n",
    "                    continue\n",
    "                dfs(remain - 1, hours + [h], minutes, hour + h, minute, times)\n",
    "            for m in minutes_led:\n",
    "                if minutes and m <= minutes[-1]:\n",
    "                    continue\n",
    "                dfs(remain - 1, hours, minutes + [m], hour, minute + m, times)\n",
    "        res = []\n",
    "        hours_led = [1, 2, 4, 8]\n",
    "        minutes_led = [1, 2, 4, 8, 16, 32]\n",
    "        dfs(turnedOn, [], [], 0, 0, set())\n",
    "        return res"
   ]
  }
 ],
 "metadata": {
  "kernelspec": {
   "display_name": "Python 3",
   "language": "python",
   "name": "python3"
  },
  "language_info": {
   "codemirror_mode": {
    "name": "ipython",
    "version": 3
   },
   "file_extension": ".py",
   "mimetype": "text/x-python",
   "name": "python",
   "nbconvert_exporter": "python",
   "pygments_lexer": "ipython3",
   "version": "3.8.3"
  }
 },
 "nbformat": 4,
 "nbformat_minor": 4
}
