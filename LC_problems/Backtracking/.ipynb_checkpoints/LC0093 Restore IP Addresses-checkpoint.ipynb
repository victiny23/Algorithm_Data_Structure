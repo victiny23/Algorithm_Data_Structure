{
 "cells": [
  {
   "cell_type": "markdown",
   "metadata": {},
   "source": [
    "93. Restore IP Addresses\n",
    "Medium\n",
    "\n",
    "2103\n",
    "\n",
    "602\n",
    "\n",
    "Add to List\n",
    "\n",
    "Share\n",
    "Given a string s containing only digits, return all possible valid IP addresses that can be obtained from s. You can return them in any order.\n",
    "\n",
    "A valid IP address consists of exactly four integers, each integer is between 0 and 255, separated by single dots and cannot have leading zeros. For example, \"0.1.2.201\" and \"192.168.1.1\" are valid IP addresses and \"0.011.255.245\", \"192.168.1.312\" and \"192.168@1.1\" are invalid IP addresses. \n",
    "\n",
    " \n",
    "\n",
    "Example 1:\n",
    "\n",
    "Input: s = \"25525511135\"\n",
    "Output: [\"255.255.11.135\",\"255.255.111.35\"]\n",
    "Example 2:\n",
    "\n",
    "Input: s = \"0000\"\n",
    "Output: [\"0.0.0.0\"]\n",
    "Example 3:\n",
    "\n",
    "Input: s = \"1111\"\n",
    "Output: [\"1.1.1.1\"]\n",
    "Example 4:\n",
    "\n",
    "Input: s = \"010010\"\n",
    "Output: [\"0.10.0.10\",\"0.100.1.0\"]\n",
    "Example 5:\n",
    "\n",
    "Input: s = \"101023\"\n",
    "Output: [\"1.0.10.23\",\"1.0.102.3\",\"10.1.0.23\",\"10.10.2.3\",\"101.0.2.3\"]\n",
    " \n",
    "\n",
    "Constraints:\n",
    "\n",
    "0 <= s.length <= 3000\n",
    "s consists of digits only."
   ]
  },
  {
   "cell_type": "code",
   "execution_count": null,
   "metadata": {},
   "outputs": [],
   "source": [
    "class Solution:\n",
    "    def restoreIpAddresses(self, s: str) -> List[str]:\n",
    "        \"\"\"Backtracking - check if ip is valid when 4 numbers are found\"\"\"\n",
    "        if len(s) > 12 or len(s) < 4:\n",
    "            return []\n",
    "        def dfs(li, path):\n",
    "            if len(path) == 4:\n",
    "                # with some digits left\n",
    "                if li: \n",
    "                    return\n",
    "                # all digits used\n",
    "                else: \n",
    "                    # check no leading 0, range of num\n",
    "                    for num in path:\n",
    "                        if len(num) != len(str(int(num))) or int(num) < 0 or int(num) > 255:\n",
    "                            return\n",
    "                    res.append('.'.join(path))\n",
    "                    return\n",
    "            # pass the first 3 digits if possible\n",
    "            for i in range(min(3,len(li))):\n",
    "                dfs(li[i+1:], path + [li[:i+1]])\n",
    "        res = []\n",
    "        dfs(s, [])\n",
    "        return res"
   ]
  },
  {
   "cell_type": "code",
   "execution_count": null,
   "metadata": {},
   "outputs": [],
   "source": [
    "class Solution:\n",
    "    def restoreIpAddresses(self, s: str) -> List[str]:\n",
    "        \"\"\"Backtracking - add only valid numbers to the path\"\"\"\n",
    "        if len(s) > 12 or len(s) < 4:\n",
    "            return []\n",
    "        def dfs(li, path, cnt):\n",
    "            if cnt == 4 and not li:\n",
    "                res.append(path[:-1]) # ignore the last \".\" in path\n",
    "            for i in range(1, 1 + min(3, len(li))):\n",
    "                # num[0] can only be '0' when num is '0', otherwise invalid\n",
    "                if li[:i] == '0' or (li[0] != '0' and 0 < int(li[:i]) < 256):\n",
    "                    dfs(li[i:], path + li[:i] + '.', cnt + 1)\n",
    "        res = []\n",
    "        dfs(s, '', 0)\n",
    "        return res  "
   ]
  }
 ],
 "metadata": {
  "kernelspec": {
   "display_name": "Python 3",
   "language": "python",
   "name": "python3"
  },
  "language_info": {
   "codemirror_mode": {
    "name": "ipython",
    "version": 3
   },
   "file_extension": ".py",
   "mimetype": "text/x-python",
   "name": "python",
   "nbconvert_exporter": "python",
   "pygments_lexer": "ipython3",
   "version": "3.8.3"
  }
 },
 "nbformat": 4,
 "nbformat_minor": 4
}
