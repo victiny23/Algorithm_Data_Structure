{
 "cells": [
  {
   "cell_type": "markdown",
   "metadata": {},
   "source": [
    "377. Combination Sum IV\n",
    "Medium\n",
    "\n",
    "2690\n",
    "\n",
    "303\n",
    "\n",
    "Add to List\n",
    "\n",
    "Share\n",
    "Given an array of distinct integers nums and a target integer target, return the number of possible combinations that add up to target.\n",
    "\n",
    "The answer is guaranteed to fit in a 32-bit integer.\n",
    "\n",
    " \n",
    "\n",
    "Example 1:\n",
    "\n",
    "Input: nums = [1,2,3], target = 4\n",
    "Output: 7\n",
    "Explanation:\n",
    "The possible combination ways are:\n",
    "(1, 1, 1, 1)\n",
    "(1, 1, 2)\n",
    "(1, 2, 1)\n",
    "(1, 3)\n",
    "(2, 1, 1)\n",
    "(2, 2)\n",
    "(3, 1)\n",
    "Note that different sequences are counted as different combinations.\n",
    "Example 2:\n",
    "\n",
    "Input: nums = [9], target = 3\n",
    "Output: 0\n",
    " \n",
    "\n",
    "Constraints:\n",
    "\n",
    "1 <= nums.length <= 200\n",
    "1 <= nums[i] <= 1000\n",
    "All the elements of nums are unique.\n",
    "1 <= target <= 1000"
   ]
  },
  {
   "cell_type": "code",
   "execution_count": null,
   "metadata": {},
   "outputs": [],
   "source": [
    "class Solution:\n",
    "    def combinationSum4(self, nums: List[int], target: int) -> int:\n",
    "        \"\"\"Backtracking - TLE\"\"\"\n",
    "        # self.cnt = 0\n",
    "        # def dfs(nums, remain, path):\n",
    "        #     if remain == 0:\n",
    "        #         self.cnt += 1\n",
    "        #         return\n",
    "        #     for i in range(len(nums)):\n",
    "        #         if nums[i] > remain:\n",
    "        #             continue\n",
    "        #         dfs(nums, remain - nums[i], path + [nums[i]])\n",
    "        # dfs(nums, target, [])\n",
    "        # return self.cnt"
   ]
  },
  {
   "cell_type": "code",
   "execution_count": null,
   "metadata": {},
   "outputs": [],
   "source": [
    "class Solution:\n",
    "    def combinationSum4(self, nums: List[int], target: int) -> int:\n",
    "         \"\"\"Sort + Top-Down DP: [0] * (target+1)\"\"\"\n",
    "        nums.sort()\n",
    "        dp = [0 for _ in range(target+1)]\n",
    "        for t in range(1, target+1):\n",
    "            for num in nums:\n",
    "                if num > t:\n",
    "                    break\n",
    "                if num == t:\n",
    "                    dp[t] += 1\n",
    "                dp[t] += dp[t - num]\n",
    "        return dp[-1]\n",
    "        \n",
    "        \"\"\"Sort + Top-Down DP: [1] + [0] * target\"\"\"\n",
    "        nums.sort()\n",
    "        dp = [1] + [0] * target\n",
    "        for t in range(1, target+1):\n",
    "            for num in nums:\n",
    "                if num > t:\n",
    "                    break\n",
    "                # dp[0] = 1 guarantees dp[num] = 1, no need to check that anymore\n",
    "                dp[t] += dp[t-num]\n",
    "        return dp[-1]"
   ]
  },
  {
   "cell_type": "code",
   "execution_count": null,
   "metadata": {},
   "outputs": [],
   "source": [
    "class Solution:\n",
    "    def combinationSum4(self, nums: List[int], target: int) -> int:\n",
    "        \"\"\"Sort + Bottom-Up DP\"\"\"\n",
    "        nums.sort()\n",
    "        dp = [1] + [0]*target\n",
    "        # check every value i below target, dp[i] is the number of possible combos when i is the target\n",
    "        for i in range(target):\n",
    "            # if dp[i] == 0: no addition in the next step for any num\n",
    "            if not dp[i]: \n",
    "                continue\n",
    "            # for each num in nums, check if the sum is still no greater than target\n",
    "            # if so, the solution counts, add it to dp[i+num]\n",
    "            for num in nums:\n",
    "                if i + num <= target:\n",
    "                    dp[i+num] += dp[i]\n",
    "        return dp[-1]"
   ]
  },
  {
   "cell_type": "markdown",
   "metadata": {},
   "source": [
    "Follow up: What if negative numbers are allowed in the given array? How does it change the problem? What limitation we need to add to the question to allow negative numbers?"
   ]
  },
  {
   "cell_type": "code",
   "execution_count": null,
   "metadata": {},
   "outputs": [],
   "source": [
    "\"\"\"\n",
    "for a target 1, if nums is given as[-1, 1], the length of the combinations can go to infinity\n",
    "a bound on the length of the combination is required\n",
    "\"\"\""
   ]
  }
 ],
 "metadata": {
  "kernelspec": {
   "display_name": "Python 3",
   "language": "python",
   "name": "python3"
  },
  "language_info": {
   "codemirror_mode": {
    "name": "ipython",
    "version": 3
   },
   "file_extension": ".py",
   "mimetype": "text/x-python",
   "name": "python",
   "nbconvert_exporter": "python",
   "pygments_lexer": "ipython3",
   "version": "3.8.3"
  }
 },
 "nbformat": 4,
 "nbformat_minor": 4
}
