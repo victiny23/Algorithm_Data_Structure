{
 "cells": [
  {
   "cell_type": "markdown",
   "metadata": {},
   "source": [
    "46. Permutations\n",
    "Medium\n",
    "\n",
    "7490\n",
    "\n",
    "148\n",
    "\n",
    "Add to List\n",
    "\n",
    "Share\n",
    "Given an array nums of distinct integers, return all the possible permutations. You can return the answer in any order.\n",
    "\n",
    " \n",
    "\n",
    "Example 1:\n",
    "\n",
    "Input: nums = [1,2,3]\n",
    "Output: [[1,2,3],[1,3,2],[2,1,3],[2,3,1],[3,1,2],[3,2,1]]\n",
    "Example 2:\n",
    "\n",
    "Input: nums = [0,1]\n",
    "Output: [[0,1],[1,0]]\n",
    "Example 3:\n",
    "\n",
    "Input: nums = [1]\n",
    "Output: [[1]]\n",
    " \n",
    "\n",
    "Constraints:\n",
    "\n",
    "1 <= nums.length <= 6\n",
    "-10 <= nums[i] <= 10\n",
    "All the integers of nums are unique."
   ]
  },
  {
   "cell_type": "code",
   "execution_count": null,
   "metadata": {},
   "outputs": [],
   "source": [
    "class Solution:\n",
    "    def permute(self, nums: List[int]) -> List[List[int]]:\n",
    "        \"\"\"itertools.permutations\"\"\"\n",
    "        from itertools import permutations\n",
    "        return permutations(nums)"
   ]
  },
  {
   "cell_type": "code",
   "execution_count": null,
   "metadata": {},
   "outputs": [],
   "source": [
    "class Solution:\n",
    "    def permute(self, nums: List[int]) -> List[List[int]]:\n",
    "         \"\"\"Backtracking\"\"\"\n",
    "        n = len(nums)\n",
    "        def dfs(li, path, cnt):\n",
    "            if cnt == n:\n",
    "                res.append(path)\n",
    "                return\n",
    "            for i in range(len(li)):\n",
    "                # update the list of available numbers, path, number of numbers in the path\n",
    "                dfs(li[:i] + li[i+1:], path + [li[i]], cnt + 1)\n",
    "        res = []\n",
    "        dfs(nums, [], 0)\n",
    "        return res"
   ]
  },
  {
   "cell_type": "code",
   "execution_count": null,
   "metadata": {},
   "outputs": [],
   "source": [
    "class Solution:\n",
    "    def permute(self, nums: List[int]) -> List[List[int]]:\n",
    "         \"\"\"DP\"\"\"\n",
    "        dp = [[] for _ in range(len(nums))]\n",
    "        dp[0] = [[num] for num in nums]\n",
    "        for i in range(1, len(nums)):\n",
    "            for num in nums:\n",
    "                dp[i] += [[num] + tmp for tmp in dp[i-1] if num not in tmp]\n",
    "        return dp[-1]"
   ]
  }
 ],
 "metadata": {
  "kernelspec": {
   "display_name": "Python 3",
   "language": "python",
   "name": "python3"
  },
  "language_info": {
   "codemirror_mode": {
    "name": "ipython",
    "version": 3
   },
   "file_extension": ".py",
   "mimetype": "text/x-python",
   "name": "python",
   "nbconvert_exporter": "python",
   "pygments_lexer": "ipython3",
   "version": "3.8.3"
  }
 },
 "nbformat": 4,
 "nbformat_minor": 4
}
