{
 "cells": [
  {
   "cell_type": "markdown",
   "metadata": {},
   "source": [
    "47. Permutations II\n",
    "Medium\n",
    "\n",
    "3687\n",
    "\n",
    "81\n",
    "\n",
    "Add to List\n",
    "\n",
    "Share\n",
    "Given a collection of numbers, nums, that might contain duplicates, return all possible unique permutations in any order.\n",
    "\n",
    " \n",
    "\n",
    "Example 1:\n",
    "\n",
    "Input: nums = [1,1,2]\n",
    "Output:\n",
    "[[1,1,2],\n",
    " [1,2,1],\n",
    " [2,1,1]]\n",
    "Example 2:\n",
    "\n",
    "Input: nums = [1,2,3]\n",
    "Output: [[1,2,3],[1,3,2],[2,1,3],[2,3,1],[3,1,2],[3,2,1]]\n",
    " \n",
    "\n",
    "Constraints:\n",
    "\n",
    "1 <= nums.length <= 8\n",
    "-10 <= nums[i] <= 10"
   ]
  },
  {
   "cell_type": "code",
   "execution_count": null,
   "metadata": {},
   "outputs": [],
   "source": [
    "class Solution:\n",
    "    def permuteUnique(self, nums: List[int]) -> List[List[int]]:\n",
    "        \"\"\"itertools.permutations will include duplicates\"\"\"\n",
    "        \n",
    "        \"\"\"Sort + Backtracking\"\"\"\n",
    "        n = len(nums)\n",
    "        def dfs(li, path, cnt):\n",
    "            if cnt == n:\n",
    "                res.append(path)\n",
    "                return\n",
    "            for i in range(len(li)):\n",
    "                # if num1 and num2 are the same, the unique permutation of the rest of the list are the same\n",
    "                # then num1 + perm and num2 + perm would become duplicates\n",
    "                # so we only need to do this once for each unique value in nums\n",
    "                # we will skip the new number if it is of the same value as the last number\n",
    "                if i > 0 and li[i] == li[i-1]:\n",
    "                    continue\n",
    "                dfs(li[:i] + li[i+1:], path + [li[i]], cnt + 1)\n",
    "        nums.sort()\n",
    "        res = []\n",
    "        dfs(nums, [], 0)\n",
    "        return res"
   ]
  },
  {
   "cell_type": "code",
   "execution_count": null,
   "metadata": {},
   "outputs": [],
   "source": [
    "class Solution:\n",
    "    def permuteUnique(self, nums: List[int]) -> List[List[int]]:\n",
    "        \"\"\"Sort + Recursion\"\"\"\n",
    "        nums.sort()\n",
    "        n = len(nums)\n",
    "        if n == 0:\n",
    "            return [[]]\n",
    "        res = []\n",
    "        for i in range(n):\n",
    "            if i > 0 and nums[i] == nums[i-1]: # same idea as in Sort + Backtrackingh\n",
    "                continue\n",
    "            # if num1 and num2 are the same, the unique permutation of the rest of the list are the same\n",
    "            # then num1 + perm and num2 + perm would become duplicates\n",
    "            # so we only need to do this once for each unique value in nums\n",
    "            # we will skip the new number if it is of the same value as the last number\n",
    "            for perm in self.permuteUnique(nums[:i] + nums[i+1:]):\n",
    "                res.append(perm + [nums[i]]) # or [nums[i]] + perm\n",
    "        return res"
   ]
  },
  {
   "cell_type": "code",
   "execution_count": null,
   "metadata": {},
   "outputs": [],
   "source": [
    "class Solution:\n",
    "    def permuteUnique(self, nums: List[int]) -> List[List[int]]:  \n",
    "        \"\"\"Recursion\"\"\"\n",
    "        n = len(nums)\n",
    "        if n == 0:\n",
    "            return [[]]\n",
    "        res = []\n",
    "        for num in set(nums):\n",
    "            remain = list(nums) # now remian is sorted \n",
    "            remain.remove(num) # remove the current num\n",
    "            for perm in self.permuteUnique(remain): \n",
    "                # concat the current number to the unique permutation of the rest of nums\n",
    "                # because the lists are unique permutations, they are still unique after adding one number\n",
    "                res.append([num] + perm) # or perm + [num]\n",
    "                # even if num1 and num2 are the same, the permutation of remain1 and remain2 are different\n",
    "                # because remain1 and remain2 now have different lengths\n",
    "                # therefore num1 + perm1 and num2 + perm2 must be different\n",
    "        return res"
   ]
  }
 ],
 "metadata": {
  "kernelspec": {
   "display_name": "Python 3",
   "language": "python",
   "name": "python3"
  },
  "language_info": {
   "codemirror_mode": {
    "name": "ipython",
    "version": 3
   },
   "file_extension": ".py",
   "mimetype": "text/x-python",
   "name": "python",
   "nbconvert_exporter": "python",
   "pygments_lexer": "ipython3",
   "version": "3.8.3"
  }
 },
 "nbformat": 4,
 "nbformat_minor": 4
}
