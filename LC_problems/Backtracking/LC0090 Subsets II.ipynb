{
 "cells": [
  {
   "cell_type": "markdown",
   "metadata": {},
   "source": [
    "90. Subsets II\n",
    "Medium\n",
    "\n",
    "3495\n",
    "\n",
    "124\n",
    "\n",
    "Add to List\n",
    "\n",
    "Share\n",
    "Given an integer array nums that may contain duplicates, return all possible subsets (the power set).\n",
    "\n",
    "The solution set must not contain duplicate subsets. Return the solution in any order.\n",
    "\n",
    " \n",
    "\n",
    "Example 1:\n",
    "\n",
    "Input: nums = [1,2,2]\n",
    "Output: [[],[1],[1,2],[1,2,2],[2],[2,2]]\n",
    "Example 2:\n",
    "\n",
    "Input: nums = [0]\n",
    "Output: [[],[0]]\n",
    " \n",
    "\n",
    "Constraints:\n",
    "\n",
    "1 <= nums.length <= 10\n",
    "-10 <= nums[i] <= 10"
   ]
  },
  {
   "cell_type": "code",
   "execution_count": null,
   "metadata": {},
   "outputs": [],
   "source": [
    "class Solution:\n",
    "    def subsetsWithDup(self, nums: List[int]) -> List[List[int]]:        \n",
    "        \"\"\"Sort + Recursion - 40 ms\"\"\"\n",
    "        if len(nums) == 1:\n",
    "            return [[], nums]\n",
    "        nums.sort() # sort is needed for checking duplicates\n",
    "        if nums[0] != nums[1]:\n",
    "            res = self.subsetsWithDup(nums[1:])\n",
    "            res += [[nums[0]] + subset for subset in res]\n",
    "        else:\n",
    "            res = self.subsetsWithDup(nums[1:])\n",
    "            res += [[nums[0]] + subset for subset in res if [nums[0]] + subset not in res]\n",
    "        return res"
   ]
  },
  {
   "cell_type": "code",
   "execution_count": null,
   "metadata": {},
   "outputs": [],
   "source": [
    "class Solution:\n",
    "    def subsetsWithDup(self, nums: List[int]) -> List[List[int]]: \n",
    "        \"\"\"Sort + Iteration - 36 ms\"\"\"\n",
    "        nums.sort()\n",
    "        res = [[]]\n",
    "        cur = []\n",
    "        for i in range(len(nums)):\n",
    "            # nums[i] is the same as nums[i-1], result in duplicates if added to all subsets\n",
    "            # only adding to the subsets created in the last round when nums[i-1] was added\n",
    "            # count of nums[i], or nums[i-1] is added by 1, no duplicates created in this way\n",
    "            if i > 0 and nums[i] == nums[i-1]:\n",
    "                cur = [subset + [nums[i]] for subset in cur]\n",
    "            # nums[i] is different from nums[i-1]\n",
    "            # adding the new number to each subset\n",
    "            else:\n",
    "                cur = [subset + [nums[i]] for subset in res]\n",
    "            res += cur\n",
    "        return res"
   ]
  },
  {
   "cell_type": "code",
   "execution_count": null,
   "metadata": {},
   "outputs": [],
   "source": [
    "class Solution:\n",
    "    def subsetsWithDup(self, nums: List[int]) -> List[List[int]]: \n",
    "        \"\"\"Sort + Backtracking - 36 ms\"\"\"\n",
    "        def dfs(li, path):\n",
    "            res.append(path)\n",
    "            for i in range(len(li)):\n",
    "                if i > 0 and li[i] == li[i-1]:\n",
    "                    continue\n",
    "                dfs(li[i+1:], path + [li[i]])\n",
    "        res = []\n",
    "        nums.sort()\n",
    "        dfs(nums, [])\n",
    "        return res"
   ]
  },
  {
   "cell_type": "code",
   "execution_count": null,
   "metadata": {},
   "outputs": [],
   "source": [
    "class Solution:\n",
    "    def subsetsWithDup(self, nums: List[int]) -> List[List[int]]: \n",
    "        \"\"\"Sort + DP - 44 ms\"\"\"\n",
    "        nums.sort()\n",
    "        dp = [[] for _ in range(len(nums)+1)]\n",
    "        # initialization\n",
    "        dp[0].append([])\n",
    "        for i in range(1, len(nums)+1):\n",
    "            dp[i] += dp[i-1]\n",
    "            dp[i] += [subset + [nums[i-1]] for subset in dp[i-1] if subset + [nums[i-1]]  not in dp[i-1]]\n",
    "        return dp[-1]"
   ]
  },
  {
   "cell_type": "code",
   "execution_count": null,
   "metadata": {},
   "outputs": [],
   "source": [
    "class Solution:\n",
    "    def subsetsWithDup(self, nums: List[int]) -> List[List[int]]: \n",
    "        \"\"\"Sort + Set + DP - 40 ms\"\"\"\n",
    "        nums.sort()\n",
    "        dp = [set() for _ in range(len(nums)+1)]\n",
    "        dp[0].add(())\n",
    "        for num in nums:\n",
    "            for i in range(len(nums), 0, -1):\n",
    "                for subset in dp[i-1]:\n",
    "                    dp[i].add(subset)\n",
    "                    dp[i].add(subset + (num, ))\n",
    "        return dp[-1]"
   ]
  }
 ],
 "metadata": {
  "kernelspec": {
   "display_name": "Python 3",
   "language": "python",
   "name": "python3"
  },
  "language_info": {
   "codemirror_mode": {
    "name": "ipython",
    "version": 3
   },
   "file_extension": ".py",
   "mimetype": "text/x-python",
   "name": "python",
   "nbconvert_exporter": "python",
   "pygments_lexer": "ipython3",
   "version": "3.8.3"
  }
 },
 "nbformat": 4,
 "nbformat_minor": 4
}
