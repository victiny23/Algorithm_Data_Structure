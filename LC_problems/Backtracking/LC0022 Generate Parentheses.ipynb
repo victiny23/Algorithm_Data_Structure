{
 "cells": [
  {
   "cell_type": "markdown",
   "metadata": {},
   "source": [
    "22. Generate Parentheses\n",
    "Medium\n",
    "\n",
    "9554\n",
    "\n",
    "385\n",
    "\n",
    "Add to List\n",
    "\n",
    "Share\n",
    "Given n pairs of parentheses, write a function to generate all combinations of well-formed parentheses.\n",
    "\n",
    " \n",
    "\n",
    "Example 1:\n",
    "\n",
    "Input: n = 3\n",
    "Output: [\"((()))\",\"(()())\",\"(())()\",\"()(())\",\"()()()\"]\n",
    "Example 2:\n",
    "\n",
    "Input: n = 1\n",
    "Output: [\"()\"]\n",
    " \n",
    "\n",
    "Constraints:\n",
    "\n",
    "1 <= n <= 8"
   ]
  },
  {
   "cell_type": "code",
   "execution_count": null,
   "metadata": {},
   "outputs": [],
   "source": [
    "class Solution:\n",
    "    def generateParenthesis(self, n: int) -> List[str]:     \n",
    "        \"\"\"Backtracking, count the remaining left and right parenthesis available - 28 ms\"\"\"\n",
    "        res = []\n",
    "        \n",
    "        def dfs(l_remain, r_remain, combo):\n",
    "            # when there is more ')' than '(', the combo is not valid\n",
    "            # also stop when there is no remaining parenthesis\n",
    "            if l_remain > r_remain or l_remain < 0 or r_remain < 0:\n",
    "                return # backtracking\n",
    "            if l_remain == r_remain == 0:\n",
    "                res.append(combo)\n",
    "                return \n",
    "            dfs(l_remain - 1, r_remain, combo + '(')\n",
    "            dfs(l_remain, r_remain - 1, combo + ')')\n",
    "            \n",
    "        dfs(n, n, '')\n",
    "        return res"
   ]
  },
  {
   "cell_type": "code",
   "execution_count": null,
   "metadata": {},
   "outputs": [],
   "source": [
    "class Solution:\n",
    "    def generateParenthesis(self, n: int) -> List[str]: \n",
    "        \"\"\"\n",
    "        Dynamic Programming - 63 ms\n",
    "        To generate all n-pair parentheses, we can do the following:\n",
    "\n",
    "        Generate one pair: ()\n",
    "        For the other n - 1 pairs\n",
    "        Generate 0 pair inside, n - 1 afterward: () (...)...\n",
    "        Generate 1 pair inside, n - 2 afterward: (()) (...)...\n",
    "        ...\n",
    "        Generate n - 1 pair inside, 0 afterward: ((...))\n",
    "        \"\"\"\n",
    "        res = [[] for _ in range(n+1)]\n",
    "        res[0].append('')\n",
    "        # split the i pairs into 3 parts, one pair + left (j  pairs) + right (i - 1 - j pairs)\n",
    "        for i in range(1, n+1):\n",
    "            for j in range(i):\n",
    "                res[i] += ['(' + left + ')' + right for left in res[j] for right in res[i-j-1]]\n",
    "        return res[n]"
   ]
  }
 ],
 "metadata": {
  "kernelspec": {
   "display_name": "Python 3",
   "language": "python",
   "name": "python3"
  },
  "language_info": {
   "codemirror_mode": {
    "name": "ipython",
    "version": 3
   },
   "file_extension": ".py",
   "mimetype": "text/x-python",
   "name": "python",
   "nbconvert_exporter": "python",
   "pygments_lexer": "ipython3",
   "version": "3.8.3"
  }
 },
 "nbformat": 4,
 "nbformat_minor": 4
}
