{
 "cells": [
  {
   "cell_type": "code",
   "execution_count": 1,
   "metadata": {},
   "outputs": [],
   "source": [
    "class Node():\n",
    "    def __init__(self, item):\n",
    "        self.item = item\n",
    "        self.next = None"
   ]
  },
  {
   "cell_type": "code",
   "execution_count": 2,
   "metadata": {},
   "outputs": [],
   "source": [
    "li = [1, 2, 3, 4, 5]"
   ]
  },
  {
   "cell_type": "code",
   "execution_count": 3,
   "metadata": {},
   "outputs": [
    {
     "data": {
      "text/plain": [
       "'Be careful with the order when creating a linked list from head or tail'"
      ]
     },
     "execution_count": 3,
     "metadata": {},
     "output_type": "execute_result"
    }
   ],
   "source": [
    "\"\"\"Be careful with the order when creating a linked list from head or tail\"\"\""
   ]
  },
  {
   "cell_type": "code",
   "execution_count": 4,
   "metadata": {},
   "outputs": [],
   "source": [
    "# insert from head to create a linked list\n",
    "def create_linklist_head(li):\n",
    "    head = Node(li[0])\n",
    "    for element in li[1:]:\n",
    "        node = Node(element)\n",
    "        node.next = head\n",
    "        head = node\n",
    "    return head"
   ]
  },
  {
   "cell_type": "code",
   "execution_count": 5,
   "metadata": {},
   "outputs": [],
   "source": [
    "# insert from tail to create a linked list\n",
    "def create_linklist_tail(li):\n",
    "    head = Node(li[0])\n",
    "    tail = head\n",
    "    for element in li[1:]:\n",
    "        node = Node(element)\n",
    "        tail.next = node\n",
    "        tail = node\n",
    "    return head"
   ]
  },
  {
   "cell_type": "code",
   "execution_count": 6,
   "metadata": {},
   "outputs": [],
   "source": [
    "# traverse of a linked list\n",
    "def print_linklist(lk):\n",
    "    while lk:\n",
    "        print(lk.item, end=',')\n",
    "        lk = lk.next\n",
    "    print('\\n')"
   ]
  },
  {
   "cell_type": "code",
   "execution_count": 7,
   "metadata": {},
   "outputs": [
    {
     "name": "stdout",
     "output_type": "stream",
     "text": [
      "5,4,3,2,1,\n",
      "\n",
      "1,2,3,4,5,\n",
      "\n"
     ]
    }
   ],
   "source": [
    "lk_h = create_linklist_head(li)\n",
    "lk_t = create_linklist_tail(li)\n",
    "print_linklist(lk_h)\n",
    "print_linklist(lk_t)"
   ]
  },
  {
   "cell_type": "code",
   "execution_count": 16,
   "metadata": {},
   "outputs": [
    {
     "name": "stdout",
     "output_type": "stream",
     "text": [
      "5,4,3,a,2,1,\n",
      "\n"
     ]
    }
   ],
   "source": [
    "# insert an element into a linked list\n",
    "lk_h = create_linklist_head(li)\n",
    "# create a new node\n",
    "p = Node('a')\n",
    "# where to insert\n",
    "current = lk_h\n",
    "while current.item > 3:\n",
    "    current = current.next\n",
    "# insert\n",
    "p.next = current.next\n",
    "current.next = p\n",
    "print_linklist(lk_h)"
   ]
  },
  {
   "cell_type": "code",
   "execution_count": 17,
   "metadata": {},
   "outputs": [
    {
     "name": "stdout",
     "output_type": "stream",
     "text": [
      "5,4,3,2,1,\n",
      "\n"
     ]
    }
   ],
   "source": [
    "# delete a node from a linked list\n",
    "# find the node 'a'\n",
    "current = lk_h\n",
    "# find the node prior to 'a'\n",
    "while current.next.item != 'a':\n",
    "    current = current.next\n",
    "p = current.next\n",
    "current.next = p.next\n",
    "del p\n",
    "print_linklist(lk_h)"
   ]
  }
 ],
 "metadata": {
  "kernelspec": {
   "display_name": "Python 3",
   "language": "python",
   "name": "python3"
  },
  "language_info": {
   "codemirror_mode": {
    "name": "ipython",
    "version": 3
   },
   "file_extension": ".py",
   "mimetype": "text/x-python",
   "name": "python",
   "nbconvert_exporter": "python",
   "pygments_lexer": "ipython3",
   "version": "3.8.3"
  }
 },
 "nbformat": 4,
 "nbformat_minor": 4
}
