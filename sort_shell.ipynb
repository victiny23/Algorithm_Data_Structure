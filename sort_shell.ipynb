{
 "cells": [
  {
   "cell_type": "code",
   "execution_count": 5,
   "metadata": {},
   "outputs": [],
   "source": [
    "def insert_sort(li):\n",
    "    for i in range(1, len(li)):\n",
    "        temp = li[i]\n",
    "        j = i -1\n",
    "        while j >= 0 and temp < li[j]:\n",
    "            li[j+1] = li[j]\n",
    "            j -= 1\n",
    "        li[j+1] = temp                "
   ]
  },
  {
   "cell_type": "code",
   "execution_count": 6,
   "metadata": {},
   "outputs": [
    {
     "name": "stdout",
     "output_type": "stream",
     "text": [
      "[51, 95, 60, 81, 50, 12, 56, 99, 22, 3, 71, 23, 70, 25, 41, 67, 33, 24, 13, 0, 80, 40, 55, 6, 7, 96, 34, 57, 45, 47, 46, 38, 62, 58, 93, 49, 98, 75, 52, 63, 21, 32, 18, 61, 37, 27, 94, 26, 19, 74, 68, 48, 42, 85, 44, 92, 30, 64, 28, 5, 39, 1, 36, 79, 10, 35, 8, 87, 89, 97, 66, 29, 17, 11, 16, 90, 20, 59, 83, 69, 76, 54, 65, 84, 2, 86, 73, 9, 82, 43, 91, 77, 31, 72, 78, 14, 4, 88, 15, 53]\n",
      "[0, 1, 2, 3, 4, 5, 6, 7, 8, 9, 10, 11, 12, 13, 14, 15, 16, 17, 18, 19, 20, 21, 22, 23, 24, 25, 26, 27, 28, 29, 30, 31, 32, 33, 34, 35, 36, 37, 38, 39, 40, 41, 42, 43, 44, 45, 46, 47, 48, 49, 50, 51, 52, 53, 54, 55, 56, 57, 58, 59, 60, 61, 62, 63, 64, 65, 66, 67, 68, 69, 70, 71, 72, 73, 74, 75, 76, 77, 78, 79, 80, 81, 82, 83, 84, 85, 86, 87, 88, 89, 90, 91, 92, 93, 94, 95, 96, 97, 98, 99]\n"
     ]
    }
   ],
   "source": [
    "import random\n",
    "li = [i for i in range(100)]\n",
    "random.shuffle(li)\n",
    "print(li)\n",
    "insert_sort(li)\n",
    "print(li)"
   ]
  },
  {
   "cell_type": "code",
   "execution_count": 7,
   "metadata": {},
   "outputs": [],
   "source": [
    "def insert_sort_gap(li, gap):\n",
    "    for i in range(gap, len(li)):\n",
    "        temp = li[i]\n",
    "        j = i - gap\n",
    "        while j >= 0 and temp < li[j]:\n",
    "            li[j+gap] = li[j]\n",
    "            j -= gap\n",
    "        li[j+1] = temp  "
   ]
  },
  {
   "cell_type": "code",
   "execution_count": 8,
   "metadata": {},
   "outputs": [],
   "source": [
    "def shell_sort(li):\n",
    "    d = len(li) // 2\n",
    "    while d >= 1:\n",
    "        insert_sort_gap(li, d)\n",
    "        d //= 2"
   ]
  },
  {
   "cell_type": "code",
   "execution_count": 9,
   "metadata": {},
   "outputs": [
    {
     "name": "stdout",
     "output_type": "stream",
     "text": [
      "[60, 97, 56, 81, 52, 40, 7, 63, 75, 1, 25, 71, 10, 13, 78, 29, 54, 15, 64, 96, 48, 0, 28, 24, 30, 21, 6, 37, 99, 77, 17, 61, 93, 91, 33, 36, 90, 55, 70, 39, 58, 79, 3, 5, 76, 51, 43, 45, 95, 67, 27, 86, 62, 53, 68, 92, 2, 9, 82, 16, 23, 69, 49, 66, 65, 31, 94, 35, 11, 88, 12, 83, 14, 98, 57, 22, 85, 72, 74, 19, 26, 89, 8, 4, 46, 87, 32, 80, 38, 50, 59, 34, 42, 18, 41, 73, 47, 20, 84, 44]\n",
      "[0, 1, 2, 3, 4, 5, 6, 7, 8, 9, 10, 11, 12, 13, 14, 15, 16, 17, 18, 19, 20, 21, 22, 23, 24, 25, 26, 27, 28, 29, 30, 31, 32, 33, 34, 35, 36, 37, 38, 39, 40, 41, 42, 43, 44, 45, 46, 47, 48, 49, 50, 51, 52, 53, 54, 55, 56, 57, 58, 59, 60, 61, 62, 63, 64, 65, 66, 67, 68, 69, 70, 71, 72, 73, 74, 75, 76, 77, 78, 79, 80, 81, 82, 83, 84, 85, 86, 87, 88, 89, 90, 91, 92, 93, 94, 95, 96, 97, 98, 99]\n"
     ]
    }
   ],
   "source": [
    "random.shuffle(li)\n",
    "print(li)\n",
    "insert_sort(li)\n",
    "print(li)"
   ]
  }
 ],
 "metadata": {
  "kernelspec": {
   "display_name": "Python 3",
   "language": "python",
   "name": "python3"
  },
  "language_info": {
   "codemirror_mode": {
    "name": "ipython",
    "version": 3
   },
   "file_extension": ".py",
   "mimetype": "text/x-python",
   "name": "python",
   "nbconvert_exporter": "python",
   "pygments_lexer": "ipython3",
   "version": "3.8.3"
  }
 },
 "nbformat": 4,
 "nbformat_minor": 4
}
