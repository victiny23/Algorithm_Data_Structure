{
 "cells": [
  {
   "cell_type": "code",
   "execution_count": 1,
   "metadata": {},
   "outputs": [],
   "source": [
    "def merge(li, low, mid, high):\n",
    "    i = low\n",
    "    j = mid + 1\n",
    "    newli = []\n",
    "    while i <= mid and j<= high:\n",
    "        if li[i] < li[j]:\n",
    "            newli.append(li[i])\n",
    "            i += 1\n",
    "        else:\n",
    "            newli.append(li[j])\n",
    "            j += 1\n",
    "    while i <= mid:\n",
    "        newli.append(li[i])\n",
    "        i += 1\n",
    "    while j <= high:\n",
    "        newli.append(li[j])\n",
    "        j += 1\n",
    "    li[low:high+1] = newli"
   ]
  },
  {
   "cell_type": "code",
   "execution_count": 2,
   "metadata": {},
   "outputs": [],
   "source": [
    "def merge_sort(li, low, high):    \n",
    "    if low < high:\n",
    "        mid = (low + high) // 2\n",
    "        merge_sort(li, low, mid)\n",
    "        merge_sort(li, mid+1, high)\n",
    "        merge(li, low, mid, high)"
   ]
  },
  {
   "cell_type": "code",
   "execution_count": 5,
   "metadata": {},
   "outputs": [
    {
     "name": "stdout",
     "output_type": "stream",
     "text": [
      "[2, 4, 5, 7, 9, 1, 3, 6, 8, 11, 13]\n"
     ]
    }
   ],
   "source": [
    "# test merge function\n",
    "la = [2, 4, 5, 7, 9, 1, 3, 6, 8, 11,13]\n",
    "print(la)\n",
    "merge(la, 0, 4, 10)\n",
    "la"
   ]
  },
  {
   "cell_type": "code",
   "execution_count": 7,
   "metadata": {},
   "outputs": [
    {
     "name": "stdout",
     "output_type": "stream",
     "text": [
      "[82, 52, 34, 100, 35, 19, 64, 24, 32, 61, 50, 53, 8, 27, 3, 12, 71, 83, 53, 71]\n",
      "[3, 8, 12, 19, 24, 27, 32, 34, 35, 50, 52, 53, 53, 61, 64, 71, 71, 82, 83, 100]\n"
     ]
    }
   ],
   "source": [
    "# test merge sort\n",
    "import random\n",
    "lb = [random.randint(0,100) for _ in range(20)]\n",
    "print(lb)\n",
    "merge_sort(lb, 0, len(lb)-1)\n",
    "print(lb)"
   ]
  }
 ],
 "metadata": {
  "kernelspec": {
   "display_name": "Python 3",
   "language": "python",
   "name": "python3"
  },
  "language_info": {
   "codemirror_mode": {
    "name": "ipython",
    "version": 3
   },
   "file_extension": ".py",
   "mimetype": "text/x-python",
   "name": "python",
   "nbconvert_exporter": "python",
   "pygments_lexer": "ipython3",
   "version": "3.8.3"
  }
 },
 "nbformat": 4,
 "nbformat_minor": 4
}
