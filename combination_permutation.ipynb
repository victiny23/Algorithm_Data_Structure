{
 "cells": [
  {
   "cell_type": "code",
   "execution_count": 12,
   "metadata": {},
   "outputs": [
    {
     "data": {
      "text/plain": [
       "[('age',),\n",
       " ('gender',),\n",
       " ('hobby',),\n",
       " ('location',),\n",
       " ('age', 'gender'),\n",
       " ('age', 'hobby'),\n",
       " ('age', 'location'),\n",
       " ('gender', 'hobby'),\n",
       " ('gender', 'location'),\n",
       " ('hobby', 'location'),\n",
       " ('age', 'gender', 'hobby'),\n",
       " ('age', 'gender', 'location'),\n",
       " ('age', 'hobby', 'location'),\n",
       " ('gender', 'hobby', 'location'),\n",
       " ('age', 'gender', 'hobby', 'location')]"
      ]
     },
     "execution_count": 12,
     "metadata": {},
     "output_type": "execute_result"
    }
   ],
   "source": [
    "from itertools import combinations\n",
    "\n",
    "features = ['age', 'gender', 'hobby', 'location']\n",
    "feature_combination = []\n",
    "for i in range(1, len(features)+1):\n",
    "    combo = combinations(features, i) # iterable + length of combo \n",
    "    for i in combo:\n",
    "        feature_combination.append(i)\n",
    "\n",
    "feature_combination"
   ]
  },
  {
   "cell_type": "code",
   "execution_count": 76,
   "metadata": {},
   "outputs": [
    {
     "data": {
      "text/plain": [
       "[[1, 'a'],\n",
       " [1, 'b'],\n",
       " [1, 'c'],\n",
       " [1, 'd'],\n",
       " [1, 'e'],\n",
       " [2, 'a'],\n",
       " [2, 'b'],\n",
       " [2, 'c'],\n",
       " [2, 'd'],\n",
       " [2, 'e'],\n",
       " [3, 'a'],\n",
       " [3, 'b'],\n",
       " [3, 'c'],\n",
       " [3, 'd'],\n",
       " [3, 'e'],\n",
       " [4, 'a'],\n",
       " [4, 'b'],\n",
       " [4, 'c'],\n",
       " [4, 'd'],\n",
       " [4, 'e']]"
      ]
     },
     "execution_count": 76,
     "metadata": {},
     "output_type": "execute_result"
    }
   ],
   "source": [
    "a = [1, 2, 3, 4]\n",
    "b = ['a', 'b', 'c', 'd', 'e']\n",
    "combo =[]\n",
    "for i in range(len(a)):\n",
    "    for j in range(len(b)):\n",
    "        combo.append([a[i], b[j]])\n",
    "combo"
   ]
  },
  {
   "cell_type": "code",
   "execution_count": 83,
   "metadata": {},
   "outputs": [
    {
     "name": "stdout",
     "output_type": "stream",
     "text": [
      "True\n"
     ]
    },
    {
     "data": {
      "text/plain": [
       "[(1, 2, 3, 4),\n",
       " (1, 2, 4, 3),\n",
       " (1, 3, 2, 4),\n",
       " (1, 3, 4, 2),\n",
       " (1, 4, 2, 3),\n",
       " (1, 4, 3, 2),\n",
       " (2, 1, 3, 4),\n",
       " (2, 1, 4, 3),\n",
       " (2, 3, 1, 4),\n",
       " (2, 3, 4, 1),\n",
       " (2, 4, 1, 3),\n",
       " (2, 4, 3, 1),\n",
       " (3, 1, 2, 4),\n",
       " (3, 1, 4, 2),\n",
       " (3, 2, 1, 4),\n",
       " (3, 2, 4, 1),\n",
       " (3, 4, 1, 2),\n",
       " (3, 4, 2, 1),\n",
       " (4, 1, 2, 3),\n",
       " (4, 1, 3, 2),\n",
       " (4, 2, 1, 3),\n",
       " (4, 2, 3, 1),\n",
       " (4, 3, 1, 2),\n",
       " (4, 3, 2, 1)]"
      ]
     },
     "execution_count": 83,
     "metadata": {},
     "output_type": "execute_result"
    }
   ],
   "source": [
    "from itertools import permutations\n",
    "import math\n",
    "\n",
    "a = [1, 2, 3, 4]\n",
    "perm_a = permutations(a)\n",
    "pa = []\n",
    "for i in perm_a:\n",
    "    pa.append(i)\n",
    "print(len(pa) == math.factorial(len(a)))\n",
    "pa"
   ]
  },
  {
   "cell_type": "code",
   "execution_count": 85,
   "metadata": {},
   "outputs": [
    {
     "name": "stdout",
     "output_type": "stream",
     "text": [
      "True\n"
     ]
    },
    {
     "data": {
      "text/plain": [
       "[('a', 'b'),\n",
       " ('a', 'c'),\n",
       " ('a', 'd'),\n",
       " ('a', 'e'),\n",
       " ('b', 'a'),\n",
       " ('b', 'c'),\n",
       " ('b', 'd'),\n",
       " ('b', 'e'),\n",
       " ('c', 'a'),\n",
       " ('c', 'b'),\n",
       " ('c', 'd'),\n",
       " ('c', 'e'),\n",
       " ('d', 'a'),\n",
       " ('d', 'b'),\n",
       " ('d', 'c'),\n",
       " ('d', 'e'),\n",
       " ('e', 'a'),\n",
       " ('e', 'b'),\n",
       " ('e', 'c'),\n",
       " ('e', 'd')]"
      ]
     },
     "execution_count": 85,
     "metadata": {},
     "output_type": "execute_result"
    }
   ],
   "source": [
    "b = ['a', 'b', 'c', 'd', 'e']\n",
    "perm_b = permutations(b, 2) # iterable + len\n",
    "pb = []\n",
    "for i in perm_b:\n",
    "    pb.append(i)\n",
    "print(len(pb) == math.factorial(len(b))/math.factorial(len(b)-2))\n",
    "pb"
   ]
  },
  {
   "cell_type": "code",
   "execution_count": 105,
   "metadata": {},
   "outputs": [],
   "source": [
    "def find_combo(li):\n",
    "    combo = []\n",
    "    if len(li) == 1:\n",
    "        combo.append(li)\n",
    "        return combo\n",
    "    elif len(li) == 2:\n",
    "        combo.append([li[0]])\n",
    "        combo.append([li[1]])\n",
    "        combo.append(li)\n",
    "        return combo\n",
    "    else:\n",
    "        sub_combo = find_combo(li[1:])\n",
    "        combo.append([li[0]])\n",
    "        for c in sub_combo:\n",
    "            c = list(c)\n",
    "            combo.append(c)\n",
    "        for c in sub_combo:\n",
    "            c = list(c)\n",
    "            c.append(li[0])\n",
    "            combo.append(c)\n",
    "        return combo"
   ]
  },
  {
   "cell_type": "code",
   "execution_count": 106,
   "metadata": {},
   "outputs": [
    {
     "data": {
      "text/plain": [
       "[['age'],\n",
       " ['gender'],\n",
       " ['hobby'],\n",
       " ['location'],\n",
       " ['hobby', 'location'],\n",
       " ['hobby', 'gender'],\n",
       " ['location', 'gender'],\n",
       " ['hobby', 'location', 'gender'],\n",
       " ['gender', 'age'],\n",
       " ['hobby', 'age'],\n",
       " ['location', 'age'],\n",
       " ['hobby', 'location', 'age'],\n",
       " ['hobby', 'gender', 'age'],\n",
       " ['location', 'gender', 'age'],\n",
       " ['hobby', 'location', 'gender', 'age']]"
      ]
     },
     "execution_count": 106,
     "metadata": {},
     "output_type": "execute_result"
    }
   ],
   "source": [
    "features = ['age', 'gender', 'hobby', 'location']\n",
    "find_combo(features)"
   ]
  },
  {
   "cell_type": "code",
   "execution_count": 142,
   "metadata": {},
   "outputs": [],
   "source": [
    "def find_combo_no_rec(li):\n",
    "    combo = []\n",
    "    for i in range(len(li)):\n",
    "        if not combo:\n",
    "            combo.append([li[i]])\n",
    "        else:\n",
    "            sub_combo = [i[:] for i in combo]\n",
    "            for c in sub_combo:\n",
    "                c.append(li[i])\n",
    "                combo.append(c)\n",
    "            combo.append([li[i]])\n",
    "    return combo"
   ]
  },
  {
   "cell_type": "code",
   "execution_count": 143,
   "metadata": {},
   "outputs": [
    {
     "data": {
      "text/plain": [
       "[['age'],\n",
       " ['age', 'gender'],\n",
       " ['gender'],\n",
       " ['age', 'hobby'],\n",
       " ['age', 'gender', 'hobby'],\n",
       " ['gender', 'hobby'],\n",
       " ['hobby'],\n",
       " ['age', 'location'],\n",
       " ['age', 'gender', 'location'],\n",
       " ['gender', 'location'],\n",
       " ['age', 'hobby', 'location'],\n",
       " ['age', 'gender', 'hobby', 'location'],\n",
       " ['gender', 'hobby', 'location'],\n",
       " ['hobby', 'location'],\n",
       " ['location']]"
      ]
     },
     "execution_count": 143,
     "metadata": {},
     "output_type": "execute_result"
    }
   ],
   "source": [
    "features = ['age', 'gender', 'hobby', 'location']\n",
    "find_combo_no_rec(features)"
   ]
  }
 ],
 "metadata": {
  "kernelspec": {
   "display_name": "Python 3",
   "language": "python",
   "name": "python3"
  },
  "language_info": {
   "codemirror_mode": {
    "name": "ipython",
    "version": 3
   },
   "file_extension": ".py",
   "mimetype": "text/x-python",
   "name": "python",
   "nbconvert_exporter": "python",
   "pygments_lexer": "ipython3",
   "version": "3.8.3"
  }
 },
 "nbformat": 4,
 "nbformat_minor": 4
}
