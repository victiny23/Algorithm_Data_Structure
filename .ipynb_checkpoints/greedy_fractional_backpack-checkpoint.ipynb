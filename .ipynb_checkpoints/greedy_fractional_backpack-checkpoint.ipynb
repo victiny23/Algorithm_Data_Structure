{
 "cells": [
  {
   "cell_type": "code",
   "execution_count": 1,
   "metadata": {},
   "outputs": [
    {
     "data": {
      "text/plain": [
       "' fractional backpack problem can be solved with greedy algorithm '"
      ]
     },
     "execution_count": 1,
     "metadata": {},
     "output_type": "execute_result"
    }
   ],
   "source": [
    "\"\"\" fractional backpack problem can be solved with greedy algorithm \"\"\""
   ]
  },
  {
   "cell_type": "code",
   "execution_count": 2,
   "metadata": {},
   "outputs": [
    {
     "data": {
      "text/plain": [
       "[(60, 10), (100, 20), (120, 30)]"
      ]
     },
     "execution_count": 2,
     "metadata": {},
     "output_type": "execute_result"
    }
   ],
   "source": [
    "goods = [(100, 20), (60, 10), (120, 30)] #(price, weight)\n",
    "# sort by price/weight ratio, descending\n",
    "goods.sort(key=lambda x:x[0]/x[1], reverse=True)\n",
    "goods"
   ]
  },
  {
   "cell_type": "code",
   "execution_count": 5,
   "metadata": {},
   "outputs": [],
   "source": [
    "# input: goods, backpack weight allowed\n",
    "def fractional_backpack(goods, w):\n",
    "    trophys = [0 for i in range(len(goods))]\n",
    "    rw = w # remaining_weight_allowed in the backpack\n",
    "    for i, v in enumerate(goods):\n",
    "        if rw > v[1]:\n",
    "            trophys[i] = v[1]\n",
    "            rw = rw - v[1]\n",
    "        else:\n",
    "            trophys[i] = rw/v[1]\n",
    "            rw = 0\n",
    "            break\n",
    "    return trophys"
   ]
  },
  {
   "cell_type": "code",
   "execution_count": 9,
   "metadata": {},
   "outputs": [
    {
     "name": "stdout",
     "output_type": "stream",
     "text": [
      "[10, 0.7, 0]\n",
      "[10, 20, 0.16666666666666666]\n",
      "[10, 20, 0.4]\n"
     ]
    }
   ],
   "source": [
    "print(fractional_backpack(goods, 24))\n",
    "print(fractional_backpack(goods, 35))\n",
    "print(fractional_backpack(goods, 42))"
   ]
  }
 ],
 "metadata": {
  "kernelspec": {
   "display_name": "Python 3",
   "language": "python",
   "name": "python3"
  },
  "language_info": {
   "codemirror_mode": {
    "name": "ipython",
    "version": 3
   },
   "file_extension": ".py",
   "mimetype": "text/x-python",
   "name": "python",
   "nbconvert_exporter": "python",
   "pygments_lexer": "ipython3",
   "version": "3.8.3"
  }
 },
 "nbformat": 4,
 "nbformat_minor": 4
}
