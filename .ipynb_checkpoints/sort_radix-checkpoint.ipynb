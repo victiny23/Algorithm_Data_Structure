{
 "cells": [
  {
   "cell_type": "code",
   "execution_count": 5,
   "metadata": {},
   "outputs": [],
   "source": [
    "def radix_sort(li):\n",
    "    max_num = max(li)\n",
    "    it = 0\n",
    "    while 10**it <= max_num:\n",
    "        # create buckets\n",
    "        buckets = [[] for _ in range(10)]\n",
    "        # divide values into different buckets\n",
    "        for val in li:\n",
    "            # 987 it=0 987//1   -> 987 987%10 -> 7 (7+1)th bucket\n",
    "            # 987 it=1 987//10  -> 98  98%10  -> 8 (8+1)th bucket\n",
    "            # 987 it=2 987//100 -> 9   9%10   -> 9 (9+1)th bucket\n",
    "            digit = (val// 10**it)% 10\n",
    "            buckets[digit].append(val)\n",
    "        # clear the original list\n",
    "        li.clear()\n",
    "        # send the number from buckets back to the original list\n",
    "        for bucket in buckets:\n",
    "#             for ele in bucket:\n",
    "#                 li.append(ele)\n",
    "            li.extend(bucket)\n",
    "    \n",
    "        it += 1"
   ]
  },
  {
   "cell_type": "code",
   "execution_count": 6,
   "metadata": {},
   "outputs": [
    {
     "name": "stdout",
     "output_type": "stream",
     "text": [
      "[38, 74, 62, 30, 68, 83, 92, 7, 42, 76, 86, 51, 41, 45, 29, 5, 44, 50, 10, 64, 98, 6, 82, 0, 19, 13, 9, 1, 59, 31, 89, 16, 56, 93, 71, 20, 26, 11, 88, 66, 21, 87, 54, 78, 40, 73, 61, 67, 60, 34, 95, 58, 85, 53, 27, 37, 90, 15, 55, 80, 33, 23, 63, 48, 22, 32, 8, 35, 65, 96, 25, 81, 36, 94, 91, 17, 77, 70, 49, 72, 46, 14, 57, 84, 24, 52, 75, 12, 2, 39, 43, 28, 3, 47, 69, 4, 18, 99, 97, 79]\n",
      "[0, 1, 2, 3, 4, 5, 6, 7, 8, 9, 10, 11, 12, 13, 14, 15, 16, 17, 18, 19, 20, 21, 22, 23, 24, 25, 26, 27, 28, 29, 30, 31, 32, 33, 34, 35, 36, 37, 38, 39, 40, 41, 42, 43, 44, 45, 46, 47, 48, 49, 50, 51, 52, 53, 54, 55, 56, 57, 58, 59, 60, 61, 62, 63, 64, 65, 66, 67, 68, 69, 70, 71, 72, 73, 74, 75, 76, 77, 78, 79, 80, 81, 82, 83, 84, 85, 86, 87, 88, 89, 90, 91, 92, 93, 94, 95, 96, 97, 98, 99]\n"
     ]
    }
   ],
   "source": [
    "import  random\n",
    "li = list(range(100))\n",
    "random.shuffle(li)\n",
    "print(li)\n",
    "radix_sort(li)\n",
    "print(li)"
   ]
  }
 ],
 "metadata": {
  "kernelspec": {
   "display_name": "Python 3",
   "language": "python",
   "name": "python3"
  },
  "language_info": {
   "codemirror_mode": {
    "name": "ipython",
    "version": 3
   },
   "file_extension": ".py",
   "mimetype": "text/x-python",
   "name": "python",
   "nbconvert_exporter": "python",
   "pygments_lexer": "ipython3",
   "version": "3.8.3"
  }
 },
 "nbformat": 4,
 "nbformat_minor": 4
}
