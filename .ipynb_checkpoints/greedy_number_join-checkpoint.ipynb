{
 "cells": [
  {
   "cell_type": "code",
   "execution_count": null,
   "metadata": {},
   "outputs": [],
   "source": [
    "\"\"\"\n",
    "The problem is about comparing the strings\n",
    "\n",
    "Attention: be careful with strings of different length\n",
    "\n",
    "a = '128'\n",
    "b = '1286'\n",
    "b + a > a + b\n",
    "\n",
    "a = '728'\n",
    "b = '7286'\n",
    "a + b > b + a\n",
    "\"\"\""
   ]
  },
  {
   "cell_type": "code",
   "execution_count": 1,
   "metadata": {},
   "outputs": [],
   "source": [
    "li = [32, 94, 128, 1286, 6, 71]"
   ]
  },
  {
   "cell_type": "code",
   "execution_count": 2,
   "metadata": {},
   "outputs": [],
   "source": [
    "from functools import cmp_to_key\n",
    "\n",
    "def xy_cmp(x, y):\n",
    "    if x + y < y + x:\n",
    "        return 1\n",
    "    elif x + y > y + x:\n",
    "        return -1\n",
    "    else:\n",
    "        return 0"
   ]
  },
  {
   "cell_type": "code",
   "execution_count": 16,
   "metadata": {},
   "outputs": [],
   "source": [
    "def number_join(li):\n",
    "    # convert the lis of numbers to a list of strings\n",
    "    str_li = list(map(str, li))\n",
    "    str_li.sort(key=cmp_to_key(xy_cmp))\n",
    "    # join the strings to a long string as the final number\n",
    "    return ''.join(str_li)"
   ]
  },
  {
   "cell_type": "code",
   "execution_count": 12,
   "metadata": {},
   "outputs": [
    {
     "data": {
      "text/plain": [
       "'94716321286128'"
      ]
     },
     "execution_count": 12,
     "metadata": {},
     "output_type": "execute_result"
    }
   ],
   "source": [
    "number_join(li)"
   ]
  },
  {
   "cell_type": "code",
   "execution_count": 21,
   "metadata": {},
   "outputs": [],
   "source": [
    "\"\"\"if not using cmp_to_key, e.g. bubble sort\"\"\"\n",
    "def number_join_bubble(li):\n",
    "    sli = list(map(str, li))\n",
    "    for i in range(len(sli)-1):\n",
    "        exchange = False\n",
    "        for j in range(len(sli)-1):\n",
    "            if sli[j] + sli[j+1] < sli[j+1] + sli[j]:\n",
    "                sli[j], sli[j+1] = sli[j+1], sli[j]\n",
    "                exchange = True\n",
    "        if not exchange:\n",
    "            break\n",
    "    return ''.join(sli)"
   ]
  },
  {
   "cell_type": "code",
   "execution_count": 20,
   "metadata": {},
   "outputs": [
    {
     "data": {
      "text/plain": [
       "'94716321286128'"
      ]
     },
     "execution_count": 20,
     "metadata": {},
     "output_type": "execute_result"
    }
   ],
   "source": [
    "number_join_bubble(li)"
   ]
  }
 ],
 "metadata": {
  "kernelspec": {
   "display_name": "Python 3",
   "language": "python",
   "name": "python3"
  },
  "language_info": {
   "codemirror_mode": {
    "name": "ipython",
    "version": 3
   },
   "file_extension": ".py",
   "mimetype": "text/x-python",
   "name": "python",
   "nbconvert_exporter": "python",
   "pygments_lexer": "ipython3",
   "version": "3.8.3"
  }
 },
 "nbformat": 4,
 "nbformat_minor": 4
}
