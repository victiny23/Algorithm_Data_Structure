{
 "cells": [
  {
   "cell_type": "code",
   "execution_count": 5,
   "metadata": {},
   "outputs": [],
   "source": [
    "def linear_search(list, val):\n",
    "    for i in range(0, len(list)):\n",
    "        if list[i] == val:\n",
    "            return i\n",
    "    return -1 # or None"
   ]
  },
  {
   "cell_type": "code",
   "execution_count": 7,
   "metadata": {},
   "outputs": [
    {
     "name": "stdout",
     "output_type": "stream",
     "text": [
      "[3, 14, 4, 12, 14, 3, 10, 2, 14, 4]\n",
      "0\n",
      "-1\n"
     ]
    }
   ],
   "source": [
    "import numpy as np\n",
    "la = list(np.random.randint(1, 20, 10))\n",
    "print(la)\n",
    "print(linear_search(la, 3))\n",
    "print(linear_search(la, 0))"
   ]
  }
 ],
 "metadata": {
  "kernelspec": {
   "display_name": "Python 3",
   "language": "python",
   "name": "python3"
  },
  "language_info": {
   "codemirror_mode": {
    "name": "ipython",
    "version": 3
   },
   "file_extension": ".py",
   "mimetype": "text/x-python",
   "name": "python",
   "nbconvert_exporter": "python",
   "pygments_lexer": "ipython3",
   "version": "3.8.3"
  }
 },
 "nbformat": 4,
 "nbformat_minor": 4
}
