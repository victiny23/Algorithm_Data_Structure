{
 "cells": [
  {
   "cell_type": "code",
   "execution_count": 4,
   "metadata": {},
   "outputs": [
    {
     "data": {
      "text/plain": [
       "[100, 50, 20, 10, 5, 1]"
      ]
     },
     "execution_count": 4,
     "metadata": {},
     "output_type": "execute_result"
    }
   ],
   "source": [
    "t = [100, 50, 20, 10, 5, 1]\n",
    "# t.sort(reverse=True)\n",
    "# t"
   ]
  },
  {
   "cell_type": "code",
   "execution_count": 14,
   "metadata": {},
   "outputs": [],
   "source": [
    "def money_change(n):\n",
    "    nums = [0 for i in t]\n",
    "    value = n\n",
    "    for i, money in enumerate(t):\n",
    "        nums[i] = value//money\n",
    "        # update the value\n",
    "        value = value%money\n",
    "        if value == 0:\n",
    "            break\n",
    "    return (nums, value)"
   ]
  },
  {
   "cell_type": "code",
   "execution_count": 11,
   "metadata": {},
   "outputs": [
    {
     "name": "stdout",
     "output_type": "stream",
     "text": [
      "([3, 1, 1, 1, 1, 1], 0)\n",
      "([5.0, 0.0, 1.0, 0.0, 0.0, 4.0], 0.2999999999999545)\n"
     ]
    }
   ],
   "source": [
    "print(money_change(386))\n",
    "print(money_change(524.3))"
   ]
  }
 ],
 "metadata": {
  "kernelspec": {
   "display_name": "Python 3",
   "language": "python",
   "name": "python3"
  },
  "language_info": {
   "codemirror_mode": {
    "name": "ipython",
    "version": 3
   },
   "file_extension": ".py",
   "mimetype": "text/x-python",
   "name": "python",
   "nbconvert_exporter": "python",
   "pygments_lexer": "ipython3",
   "version": "3.8.3"
  }
 },
 "nbformat": 4,
 "nbformat_minor": 4
}
