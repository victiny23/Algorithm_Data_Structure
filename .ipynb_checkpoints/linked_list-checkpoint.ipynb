{
 "cells": [
  {
   "cell_type": "code",
   "execution_count": 1,
   "metadata": {},
   "outputs": [],
   "source": [
    "class Node():\n",
    "    def __init__(self, item):\n",
    "        self.item = item\n",
    "        self.next = None"
   ]
  },
  {
   "cell_type": "code",
   "execution_count": 2,
   "metadata": {},
   "outputs": [],
   "source": [
    "li = [1, 2, 3, 4, 5]"
   ]
  },
  {
   "cell_type": "code",
   "execution_count": 3,
   "metadata": {},
   "outputs": [
    {
     "data": {
      "text/plain": [
       "'Be careful with the order when creating a linked list from head or tail'"
      ]
     },
     "execution_count": 3,
     "metadata": {},
     "output_type": "execute_result"
    }
   ],
   "source": [
    "\"\"\"Be careful with the order when creating a linked list from head or tail\"\"\""
   ]
  },
  {
   "cell_type": "code",
   "execution_count": 4,
   "metadata": {},
   "outputs": [],
   "source": [
    "# insert from head to create a linked list\n",
    "def create_linklist_head(li):\n",
    "    head = Node(li[0])\n",
    "    for element in li[1:]:\n",
    "        node = Node(element)\n",
    "        node.next = head\n",
    "        head = node\n",
    "    return head"
   ]
  },
  {
   "cell_type": "code",
   "execution_count": 31,
   "metadata": {},
   "outputs": [],
   "source": [
    "# insert from tail to create a linked list\n",
    "def create_linklist_tail(li):\n",
    "    head = Node(li[0])\n",
    "    tail = head\n",
    "    for element in li[1:]:\n",
    "        node = Node(element)\n",
    "        tail.next = node\n",
    "        tail = node\n",
    "    return head"
   ]
  },
  {
   "cell_type": "code",
   "execution_count": 32,
   "metadata": {},
   "outputs": [],
   "source": [
    "# traverse of a linked list\n",
    "def print_linklist(lk):\n",
    "    while lk:\n",
    "        print(lk.item, end=',')\n",
    "        lk = lk.next\n",
    "    print('\\n')"
   ]
  },
  {
   "cell_type": "code",
   "execution_count": 37,
   "metadata": {},
   "outputs": [
    {
     "name": "stdout",
     "output_type": "stream",
     "text": [
      "5,4,3,2,1,\n",
      "\n",
      "1,2,3,4,5,\n",
      "\n"
     ]
    }
   ],
   "source": [
    "lk_h = create_linklist_head(li)\n",
    "lk_t = create_linklist_tail(li)\n",
    "print_linklist(lk_h)\n",
    "print_linklist(lk_t)"
   ]
  },
  {
   "cell_type": "code",
   "execution_count": 16,
   "metadata": {},
   "outputs": [
    {
     "name": "stdout",
     "output_type": "stream",
     "text": [
      "5,4,3,a,2,1,\n",
      "\n"
     ]
    }
   ],
   "source": [
    "# insert an element into a linked list\n",
    "lk_h = create_linklist_head(li)\n",
    "# create a new node\n",
    "p = Node('a')\n",
    "# where to insert\n",
    "current = lk_h\n",
    "while current.item > 3:\n",
    "    current = current.next\n",
    "# insert\n",
    "p.next = current.next\n",
    "current.next = p\n",
    "print_linklist(lk_h)"
   ]
  },
  {
   "cell_type": "code",
   "execution_count": 17,
   "metadata": {},
   "outputs": [
    {
     "name": "stdout",
     "output_type": "stream",
     "text": [
      "5,4,3,2,1,\n",
      "\n"
     ]
    }
   ],
   "source": [
    "# delete a node from a linked list\n",
    "# find the node 'a'\n",
    "current = lk_h\n",
    "# find the node prior to 'a'\n",
    "while current.next.item != 'a':\n",
    "    current = current.next\n",
    "p = current.next\n",
    "current.next = p.next\n",
    "del p\n",
    "print_linklist(lk_h)"
   ]
  },
  {
   "cell_type": "code",
   "execution_count": 38,
   "metadata": {},
   "outputs": [],
   "source": [
    "# reverse a linked list\n",
    "def rev_linklist(lk):\n",
    "    h2 = Node(lk.item)\n",
    "    current = lk.next\n",
    "    while current:\n",
    "        node = Node(current.item)\n",
    "        node.next = h2\n",
    "        h2 = node\n",
    "        current = current.next\n",
    "    return h2"
   ]
  },
  {
   "cell_type": "code",
   "execution_count": 39,
   "metadata": {},
   "outputs": [
    {
     "name": "stdout",
     "output_type": "stream",
     "text": [
      "5,4,3,2,1,\n",
      "\n",
      "1,2,3,4,5,\n",
      "\n"
     ]
    }
   ],
   "source": [
    "print_linklist(lk_h)\n",
    "lk_h_r = rev_linklist(lk_h)\n",
    "print_linklist(lk_h_r)"
   ]
  },
  {
   "cell_type": "code",
   "execution_count": 40,
   "metadata": {},
   "outputs": [],
   "source": [
    "# reverse a linked list without create a new linked list\n",
    "def rev_lk(lk):\n",
    "    prev = None\n",
    "    current = lk\n",
    "    while current:\n",
    "        _next = current.next\n",
    "        current.next = prev\n",
    "        prev = current\n",
    "        current = _next\n",
    "    return prev"
   ]
  },
  {
   "cell_type": "code",
   "execution_count": 41,
   "metadata": {},
   "outputs": [
    {
     "name": "stdout",
     "output_type": "stream",
     "text": [
      "5,4,3,2,1,\n",
      "\n",
      "1,2,3,4,5,\n",
      "\n"
     ]
    }
   ],
   "source": [
    "print_linklist(lk_h)\n",
    "lk_h_r2 = rev_lk(lk_h)\n",
    "print_linklist(lk_h_r2)"
   ]
  },
  {
   "cell_type": "code",
   "execution_count": 1,
   "metadata": {},
   "outputs": [],
   "source": [
    "# compare 2 linked list\n",
    "def compare_lists(llist1, llist2):\n",
    "    p1, p2 = llist1, llist2\n",
    "    if not p1 and not p2: # both are empty\n",
    "        return 1\n",
    "    elif not p1: # p1 is empty, p2 not empty\n",
    "        return 0\n",
    "    elif not p2: # p2 is empty, p1 not empty\n",
    "        return 0\n",
    "    else: # p1, p2 are not empty\n",
    "        while p1 and p2:\n",
    "            if p1.data != p2.data:\n",
    "                return 0\n",
    "            else:\n",
    "                p1 = p1.next\n",
    "                p2 = p2.next\n",
    "        if not p1 and not p2: # end of p1 and p2\n",
    "            return 1\n",
    "        else: # p1 or p2 is longer\n",
    "            return 0"
   ]
  },
  {
   "cell_type": "code",
   "execution_count": 2,
   "metadata": {},
   "outputs": [],
   "source": [
    "# delete duplicate-values\n",
    "def removeDuplicates(head):\n",
    "    if not head or not head.next: # length <2\n",
    "        return head\n",
    "    else:\n",
    "        p, q = head, head.next\n",
    "        dic = {p.data: 1}\n",
    "        while q.next:\n",
    "            if q.data in dic.keys():\n",
    "                p.next = q.next # deletion\n",
    "                q = q.next\n",
    "            else:\n",
    "                dic[q.data] = 1\n",
    "                p = p.next\n",
    "                q = q.next\n",
    "        if q.data in dic.keys(): # now q points to the last node\n",
    "            p.next =None\n",
    "        return head"
   ]
  },
  {
   "cell_type": "code",
   "execution_count": null,
   "metadata": {},
   "outputs": [],
   "source": [
    "# merge 2 sorted linked list\n",
    "def mergeLists_no_rec(head1, head2):\n",
    "    if not head1:\n",
    "        return head2\n",
    "    if not head2:\n",
    "        return head1\n",
    "    p, q = head1 , head2\n",
    "    li= []\n",
    "    while p:\n",
    "        li.append(p.data)\n",
    "        p = p.next\n",
    "    while q:\n",
    "        li.append(q.data)\n",
    "        q = q.next\n",
    "    li.sort()\n",
    "    h = SinglyLinkedListNode(li[0])\n",
    "    t = h\n",
    "    for i in range(1, len(li)):\n",
    "        node = SinglyLinkedListNode(li[i])\n",
    "        t.next = node\n",
    "        t = node\n",
    "    return h\n",
    "\n",
    "\"\"\"This may fail the test case due to recursion limit, need to increase the limit\"\"\"\n",
    "import sys\n",
    "sys.setrecursionlimit(10**4) \n",
    "\n",
    "def mergeLists(head1, head2):\n",
    "    if not head1:\n",
    "        return head2\n",
    "    if not head2:\n",
    "        return head1\n",
    "    if head1.data < head2.data:\n",
    "        head1.next = mergeLists(head1.next, head2)\n",
    "        return head1\n",
    "    else:\n",
    "        head2.next = mergeLists(head1, head2.next)\n",
    "        return head2"
   ]
  }
 ],
 "metadata": {
  "kernelspec": {
   "display_name": "Python 3",
   "language": "python",
   "name": "python3"
  },
  "language_info": {
   "codemirror_mode": {
    "name": "ipython",
    "version": 3
   },
   "file_extension": ".py",
   "mimetype": "text/x-python",
   "name": "python",
   "nbconvert_exporter": "python",
   "pygments_lexer": "ipython3",
   "version": "3.8.3"
  }
 },
 "nbformat": 4,
 "nbformat_minor": 4
}
