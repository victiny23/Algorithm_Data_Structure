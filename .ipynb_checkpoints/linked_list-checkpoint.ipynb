{
 "cells": [
  {
   "cell_type": "code",
   "execution_count": 19,
   "metadata": {},
   "outputs": [],
   "source": [
    "class Node():\n",
    "    def __init__(self, item):\n",
    "        self.data = item\n",
    "        self.next = None"
   ]
  },
  {
   "cell_type": "code",
   "execution_count": 2,
   "metadata": {},
   "outputs": [],
   "source": [
    "li = [1, 2, 3, 4, 5]"
   ]
  },
  {
   "cell_type": "code",
   "execution_count": 3,
   "metadata": {},
   "outputs": [
    {
     "data": {
      "text/plain": [
       "'Be careful with the order when creating a linked list from head or tail'"
      ]
     },
     "execution_count": 3,
     "metadata": {},
     "output_type": "execute_result"
    }
   ],
   "source": [
    "\"\"\"Be careful with the order when creating a linked list from head or tail\"\"\""
   ]
  },
  {
   "cell_type": "code",
   "execution_count": 21,
   "metadata": {},
   "outputs": [],
   "source": [
    "# insert from head to create a linked list\n",
    "def create_linklist_head(li):\n",
    "    head = Node(li[0])\n",
    "    for element in li[1:]:\n",
    "        node = Node(element)\n",
    "        node.next = head\n",
    "        head = node\n",
    "    return head"
   ]
  },
  {
   "cell_type": "code",
   "execution_count": 31,
   "metadata": {},
   "outputs": [],
   "source": [
    "# insert from tail to create a linked list\n",
    "def create_linklist_tail(li):\n",
    "    head = Node(li[0])\n",
    "    tail = head\n",
    "    for element in li[1:]:\n",
    "        node = Node(element)\n",
    "        tail.next = node\n",
    "        tail = node\n",
    "    return head"
   ]
  },
  {
   "cell_type": "code",
   "execution_count": 22,
   "metadata": {},
   "outputs": [],
   "source": [
    "# traverse of a linked list\n",
    "def print_linklist(lk):\n",
    "    while lk:\n",
    "        print(lk.data, end=',')\n",
    "        lk = lk.next\n",
    "    print('\\n')"
   ]
  },
  {
   "cell_type": "code",
   "execution_count": 37,
   "metadata": {},
   "outputs": [
    {
     "name": "stdout",
     "output_type": "stream",
     "text": [
      "5,4,3,2,1,\n",
      "\n",
      "1,2,3,4,5,\n",
      "\n"
     ]
    }
   ],
   "source": [
    "lk_h = create_linklist_head(li)\n",
    "lk_t = create_linklist_tail(li)\n",
    "print_linklist(lk_h)\n",
    "print_linklist(lk_t)"
   ]
  },
  {
   "cell_type": "code",
   "execution_count": 16,
   "metadata": {},
   "outputs": [
    {
     "name": "stdout",
     "output_type": "stream",
     "text": [
      "5,4,3,a,2,1,\n",
      "\n"
     ]
    }
   ],
   "source": [
    "# insert an element into a linked list\n",
    "lk_h = create_linklist_head(li)\n",
    "# create a new node\n",
    "p = Node('a')\n",
    "# where to insert\n",
    "current = lk_h\n",
    "while current.data > 3:\n",
    "    current = current.next\n",
    "# insert\n",
    "p.next = current.next\n",
    "current.next = p\n",
    "print_linklist(lk_h)"
   ]
  },
  {
   "cell_type": "code",
   "execution_count": 17,
   "metadata": {},
   "outputs": [
    {
     "name": "stdout",
     "output_type": "stream",
     "text": [
      "5,4,3,2,1,\n",
      "\n"
     ]
    }
   ],
   "source": [
    "# delete a node from a linked list\n",
    "# find the node 'a'\n",
    "current = lk_h\n",
    "# find the node prior to 'a'\n",
    "while current.next.data != 'a':\n",
    "    current = current.next\n",
    "p = current.next\n",
    "current.next = p.next\n",
    "del p\n",
    "print_linklist(lk_h)"
   ]
  },
  {
   "cell_type": "code",
   "execution_count": 38,
   "metadata": {},
   "outputs": [],
   "source": [
    "# reverse a linked list\n",
    "def rev_linklist(lk):\n",
    "    h2 = Node(lk.data)\n",
    "    current = lk.next\n",
    "    while current:\n",
    "        node = Node(current.data)\n",
    "        node.next = h2\n",
    "        h2 = node\n",
    "        current = current.next\n",
    "    return h2"
   ]
  },
  {
   "cell_type": "code",
   "execution_count": 39,
   "metadata": {},
   "outputs": [
    {
     "name": "stdout",
     "output_type": "stream",
     "text": [
      "5,4,3,2,1,\n",
      "\n",
      "1,2,3,4,5,\n",
      "\n"
     ]
    }
   ],
   "source": [
    "print_linklist(lk_h)\n",
    "lk_h_r = rev_linklist(lk_h)\n",
    "print_linklist(lk_h_r)"
   ]
  },
  {
   "cell_type": "code",
   "execution_count": 40,
   "metadata": {},
   "outputs": [],
   "source": [
    "# reverse a linked list without create a new linked list\n",
    "def rev_lk(lk):\n",
    "    prev = None\n",
    "    current = lk\n",
    "    while current:\n",
    "        _next = current.next\n",
    "        current.next = prev\n",
    "        prev = current\n",
    "        current = _next\n",
    "    return prev"
   ]
  },
  {
   "cell_type": "code",
   "execution_count": 41,
   "metadata": {},
   "outputs": [
    {
     "name": "stdout",
     "output_type": "stream",
     "text": [
      "5,4,3,2,1,\n",
      "\n",
      "1,2,3,4,5,\n",
      "\n"
     ]
    }
   ],
   "source": [
    "print_linklist(lk_h)\n",
    "lk_h_r2 = rev_lk(lk_h)\n",
    "print_linklist(lk_h_r2)"
   ]
  },
  {
   "cell_type": "code",
   "execution_count": 1,
   "metadata": {},
   "outputs": [],
   "source": [
    "# compare 2 linked list\n",
    "def compare_lists(llist1, llist2):\n",
    "    p1, p2 = llist1, llist2\n",
    "    if not p1 and not p2: # both are empty\n",
    "        return 1\n",
    "    elif not p1: # p1 is empty, p2 not empty\n",
    "        return 0\n",
    "    elif not p2: # p2 is empty, p1 not empty\n",
    "        return 0\n",
    "    else: # p1, p2 are not empty\n",
    "        while p1 and p2:\n",
    "            if p1.data != p2.data:\n",
    "                return 0\n",
    "            else:\n",
    "                p1 = p1.next\n",
    "                p2 = p2.next\n",
    "        if not p1 and not p2: # end of p1 and p2\n",
    "            return 1\n",
    "        else: # p1 or p2 is longer\n",
    "            return 0"
   ]
  },
  {
   "cell_type": "code",
   "execution_count": 2,
   "metadata": {},
   "outputs": [],
   "source": [
    "# delete duplicate-values\n",
    "def removeDuplicates(head):\n",
    "    if not head or not head.next: # length <2\n",
    "        return head\n",
    "    else:\n",
    "        p, q = head, head.next\n",
    "        dic = {p.data: 1}\n",
    "        while q.next:\n",
    "            if q.data in dic.keys():\n",
    "                p.next = q.next # deletion\n",
    "                q = q.next\n",
    "            else:\n",
    "                dic[q.data] = 1\n",
    "                p = p.next\n",
    "                q = q.next\n",
    "        if q.data in dic.keys(): # now q points to the last node\n",
    "            p.next =None\n",
    "        return head"
   ]
  },
  {
   "cell_type": "code",
   "execution_count": null,
   "metadata": {},
   "outputs": [],
   "source": [
    "# merge 2 sorted linked list\n",
    "def mergeLists_no_rec(head1, head2):\n",
    "    if not head1:\n",
    "        return head2\n",
    "    if not head2:\n",
    "        return head1\n",
    "    p, q = head1 , head2\n",
    "    li= []\n",
    "    while p:\n",
    "        li.append(p.data)\n",
    "        p = p.next\n",
    "    while q:\n",
    "        li.append(q.data)\n",
    "        q = q.next\n",
    "    li.sort()\n",
    "    h = SinglyLinkedListNode(li[0])\n",
    "    t = h\n",
    "    for i in range(1, len(li)):\n",
    "        node = SinglyLinkedListNode(li[i])\n",
    "        t.next = node\n",
    "        t = node\n",
    "    return h\n",
    "\n",
    "\"\"\"This may fail the test case due to recursion limit, need to increase the limit\"\"\"\n",
    "import sys\n",
    "sys.setrecursionlimit(10**4) \n",
    "\n",
    "def mergeLists(head1, head2):\n",
    "    if not head1:\n",
    "        return head2\n",
    "    if not head2:\n",
    "        return head1\n",
    "    if head1.data < head2.data:\n",
    "        head1.next = mergeLists(head1.next, head2)\n",
    "        return head1\n",
    "    else:\n",
    "        head2.next = mergeLists(head1, head2.next)\n",
    "        return head2"
   ]
  },
  {
   "cell_type": "code",
   "execution_count": 54,
   "metadata": {},
   "outputs": [],
   "source": [
    "def has_cycle(head):\n",
    "    p1, p2 = head, head.next\n",
    "    while p1.next and p1.next.next:\n",
    "        if p1 == p2:\n",
    "            return 1\n",
    "        p1 = p1.next\n",
    "        p2 = p2.next.next\n",
    "    return 0"
   ]
  },
  {
   "cell_type": "code",
   "execution_count": 87,
   "metadata": {},
   "outputs": [],
   "source": [
    "def cycle_start(head):\n",
    "    # lempty or only one node\n",
    "    if not head or not head.next:\n",
    "        return 0\n",
    "    # round 1: detect if the loop exists\n",
    "    slow = head.next\n",
    "    fast = head.next.next\n",
    "    while fast and fast.next:\n",
    "        if slow == fast:\n",
    "            break\n",
    "        slow = slow.next\n",
    "        fast = fast.next.next\n",
    "    # loop not exists\n",
    "    if slow != fast:\n",
    "        return 0\n",
    "    # loop exists\n",
    "    slow = head\n",
    "    while (slow != fast):\n",
    "        slow = slow.next\n",
    "        fast = fast.next\n",
    "    return slow"
   ]
  },
  {
   "cell_type": "code",
   "execution_count": 25,
   "metadata": {},
   "outputs": [],
   "source": [
    "\"\"\"Find merge point of two linked list\"\"\"\n",
    "# using difference of nodes count\n",
    "def findMergeNode1(head1, head2):\n",
    "    # find the length of both linked list\n",
    "    len1, len2 = 0, 0\n",
    "    p1, p2 = head1, head2\n",
    "    while p1:\n",
    "        len1 += 1\n",
    "        p1 = p1.next\n",
    "    while p2:\n",
    "        len2 += 1\n",
    "        p2 = p2.next\n",
    "    # syncrynize\n",
    "    p1, p2 = head1, head2\n",
    "    # case 1\n",
    "    if len1 > len2:\n",
    "        len_dif = len1 - len2\n",
    "        while len_dif > 0:\n",
    "            p1 = p1.next\n",
    "            len_dif -= 1\n",
    "            # attention: it's wrong to use p1.data != p2.data\n",
    "            # the values may be same while p1, and p2 pointing to different nodes\n",
    "        while p1!= p2:\n",
    "            p1 = p1.next\n",
    "            p2 = p2.next\n",
    "        return p1.data\n",
    "    # case 2\n",
    "    elif len1 < len2:\n",
    "        len_dif = len2 - len1\n",
    "        while len_dif > 0:\n",
    "            p2 = p2.next\n",
    "            len_dif -= 1\n",
    "        while p1 != p2:\n",
    "            p1 = p1.next\n",
    "            p2 = p2.next\n",
    "        return p1.data\n",
    "    # case 3\n",
    "    else:\n",
    "        while p1 != p2:\n",
    "            p1 = p1.next\n",
    "            p2 = p2.next\n",
    "        return p1.data"
   ]
  },
  {
   "cell_type": "code",
   "execution_count": 85,
   "metadata": {},
   "outputs": [],
   "source": [
    "# making the first linked a circle -> problem becomes finding the start of the circle in the second linked list\n",
    "def findMergeNode2(head1, head2):\n",
    "    p1 = head1\n",
    "    count = 0\n",
    "    while p1.next:\n",
    "        p1 = p1.next\n",
    "        count += 1\n",
    "    # find the last node of 1st linked list\n",
    "    last = p1\n",
    "    # create a loop\n",
    "    p1.next = head1\n",
    "    \n",
    "#     # test if loop exists\n",
    "#     print(has_cycle(head1))\n",
    "#     print(cycle_start(head1).data)\n",
    "    merge_point = cycle_start(head2)\n",
    "    # don't forget to break the loop\n",
    "    last.next = None\n",
    "    return merge_point.data"
   ]
  },
  {
   "cell_type": "code",
   "execution_count": 92,
   "metadata": {},
   "outputs": [],
   "source": [
    "# add address of 1st linked list to a hash table, travesal the 2nd list and see if the address exists in the hash table\n",
    "def findMergeNode3(head1, head2):\n",
    "    dic = {}\n",
    "    p = head1\n",
    "    while p:\n",
    "        dic[p] = p.data\n",
    "        p = p.next\n",
    "    q = head2\n",
    "    while q:\n",
    "        if q in dic:\n",
    "            return q.data\n",
    "        q = q.next"
   ]
  },
  {
   "cell_type": "code",
   "execution_count": 94,
   "metadata": {},
   "outputs": [
    {
     "name": "stdout",
     "output_type": "stream",
     "text": [
      "5,1,9,8,7,4,6,3,\n",
      "\n",
      "-1,13,2,11,5,1,9,8,7,4,6,3,\n",
      "\n",
      "-7,-4,5,1,9,8,7,4,6,3,\n",
      "\n",
      "5\n",
      "5\n",
      "5\n",
      "5\n",
      "5\n",
      "5\n",
      "\n",
      "5\n",
      "5\n",
      "5\n",
      "5\n",
      "5\n",
      "5\n",
      "\n",
      "5\n",
      "5\n",
      "5\n",
      "5\n",
      "5\n",
      "5\n"
     ]
    }
   ],
   "source": [
    "# create 2 linked list for test\n",
    "h1 = create_linklist_head([3, 6, 4, 7, 8, 9, 1, 5])\n",
    "\n",
    "li = [11, 2, 13, -1]\n",
    "h2 = h1\n",
    "for i in range(len(li)):\n",
    "    n = Node(li[i])\n",
    "    n.next = h2\n",
    "    h2 = n\n",
    "    \n",
    "li2 = [-4, -7]\n",
    "h3 = h1\n",
    "for i in range(len(li2)):\n",
    "    n = Node(li2[i])\n",
    "    n.next = h3\n",
    "    h3 = n\n",
    "\n",
    "# check the linked list\n",
    "print_linklist(h1)\n",
    "print_linklist(h2)\n",
    "print_linklist(h3)\n",
    "\n",
    "\n",
    "print(findMergeNode1(h1, h2))\n",
    "print(findMergeNode1(h2, h1))\n",
    "print(findMergeNode1(h1, h3))\n",
    "print(findMergeNode1(h3, h1))\n",
    "print(findMergeNode1(h2, h3))\n",
    "print(findMergeNode1(h3, h2))\n",
    "print('')\n",
    "\n",
    "print(findMergeNode2(h1, h2))\n",
    "print(findMergeNode2(h2, h1))\n",
    "print(findMergeNode2(h2, h3))\n",
    "print(findMergeNode2(h3, h2))\n",
    "print(findMergeNode2(h1, h3))\n",
    "print(findMergeNode2(h3, h1))\n",
    "print('')\n",
    "\n",
    "print(findMergeNode3(h1, h2))\n",
    "print(findMergeNode3(h2, h1))\n",
    "print(findMergeNode3(h2, h3))\n",
    "print(findMergeNode3(h3, h2))\n",
    "print(findMergeNode3(h1, h3))\n",
    "print(findMergeNode3(h3, h1))"
   ]
  }
 ],
 "metadata": {
  "kernelspec": {
   "display_name": "Python 3",
   "language": "python",
   "name": "python3"
  },
  "language_info": {
   "codemirror_mode": {
    "name": "ipython",
    "version": 3
   },
   "file_extension": ".py",
   "mimetype": "text/x-python",
   "name": "python",
   "nbconvert_exporter": "python",
   "pygments_lexer": "ipython3",
   "version": "3.8.3"
  }
 },
 "nbformat": 4,
 "nbformat_minor": 4
}
