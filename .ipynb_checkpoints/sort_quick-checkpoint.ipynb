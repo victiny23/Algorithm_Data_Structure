{
 "cells": [
  {
   "cell_type": "code",
   "execution_count": 54,
   "metadata": {},
   "outputs": [
    {
     "data": {
      "text/plain": [
       "'Potential problem with recursion depth'"
      ]
     },
     "execution_count": 54,
     "metadata": {},
     "output_type": "execute_result"
    }
   ],
   "source": [
    "\"\"\"Potential problem with recursion depth\"\"\"\n",
    "# sys.setrecursionlimit(10000)"
   ]
  },
  {
   "cell_type": "code",
   "execution_count": null,
   "metadata": {},
   "outputs": [],
   "source": [
    "\"\"\"\n",
    "Wosrt scenario: move only 1 value per partition\n",
    "time complexity becomes O(n^2) from O(nlogn)\n",
    "randomly select a mid value to help\n",
    "\"\"\""
   ]
  },
  {
   "cell_type": "code",
   "execution_count": null,
   "metadata": {},
   "outputs": [],
   "source": [
    "def partition(list, left, right):\n",
    "    # take out a mid value, leave an open spot\n",
    "    temp = list[left]\n",
    "    while left < right:\n",
    "        # from right to left, find a value smaller than temp\n",
    "        while left < right and list[right] >= temp:\n",
    "            right = right - 1\n",
    "        # move it to the open spot on the left, leave an open spot on the right\n",
    "        list[left] = list[right]\n",
    "        print(list, left, right)\n",
    "        # from left to right, find a value greater than temp\n",
    "        while left < right and list[left] <= temp:\n",
    "            left = left + 1\n",
    "        # move it to the open spot on the right, leave an open spot on the left\n",
    "        list[right] = list[left]\n",
    "        print(list, left, right)\n",
    "    # left and right point to the same location, put the mid value back\n",
    "    list[left] = temp\n",
    "    return left"
   ]
  },
  {
   "cell_type": "code",
   "execution_count": 51,
   "metadata": {},
   "outputs": [],
   "source": [
    "def quick_sort(list, left, right):\n",
    "    if left < right: # at least 2 elements in the list\n",
    "        mid = partition(list, left, right)\n",
    "        quick_sort(list, left, mid-1)\n",
    "        quick_sort(list, mid+1, right)\n",
    "        print('***', list, left, right)"
   ]
  },
  {
   "cell_type": "code",
   "execution_count": 42,
   "metadata": {},
   "outputs": [
    {
     "name": "stdout",
     "output_type": "stream",
     "text": [
      "[2, 7, 4, 6, 3, 1, 2, 9, 8] 0 6\n",
      "[2, 7, 4, 6, 3, 1, 7, 9, 8] 1 6\n",
      "[2, 1, 4, 6, 3, 1, 7, 9, 8] 1 5\n",
      "[2, 1, 4, 6, 3, 6, 7, 9, 8] 3 5\n",
      "[2, 1, 4, 3, 3, 6, 7, 9, 8] 3 4\n",
      "[2, 1, 4, 3, 3, 6, 7, 9, 8] 4 4\n"
     ]
    },
    {
     "data": {
      "text/plain": [
       "[2, 1, 4, 3, 5, 6, 7, 9, 8]"
      ]
     },
     "execution_count": 42,
     "metadata": {},
     "output_type": "execute_result"
    }
   ],
   "source": [
    "la = [5, 7, 4, 6, 3, 1, 2, 9, 8]\n",
    "partition(la, 0, len(la)-1)\n",
    "la"
   ]
  },
  {
   "cell_type": "code",
   "execution_count": 52,
   "metadata": {},
   "outputs": [
    {
     "name": "stdout",
     "output_type": "stream",
     "text": [
      "[2, 7, 4, 6, 3, 1, 2, 9, 8] 0 6\n",
      "[2, 7, 4, 6, 3, 1, 7, 9, 8] 1 6\n",
      "[2, 1, 4, 6, 3, 1, 7, 9, 8] 1 5\n",
      "[2, 1, 4, 6, 3, 6, 7, 9, 8] 3 5\n",
      "[2, 1, 4, 3, 3, 6, 7, 9, 8] 3 4\n",
      "[2, 1, 4, 3, 3, 6, 7, 9, 8] 4 4\n",
      "[1, 1, 4, 3, 5, 6, 7, 9, 8] 0 1\n",
      "[1, 1, 4, 3, 5, 6, 7, 9, 8] 1 1\n",
      "[1, 2, 3, 3, 5, 6, 7, 9, 8] 2 3\n",
      "[1, 2, 3, 3, 5, 6, 7, 9, 8] 3 3\n",
      "*** [1, 2, 3, 4, 5, 6, 7, 9, 8] 2 3\n",
      "*** [1, 2, 3, 4, 5, 6, 7, 9, 8] 0 3\n",
      "[1, 2, 3, 4, 5, 6, 7, 9, 8] 5 5\n",
      "[1, 2, 3, 4, 5, 6, 7, 9, 8] 5 5\n",
      "[1, 2, 3, 4, 5, 6, 7, 9, 8] 6 6\n",
      "[1, 2, 3, 4, 5, 6, 7, 9, 8] 6 6\n",
      "[1, 2, 3, 4, 5, 6, 7, 8, 8] 7 8\n",
      "[1, 2, 3, 4, 5, 6, 7, 8, 8] 8 8\n",
      "*** [1, 2, 3, 4, 5, 6, 7, 8, 9] 7 8\n",
      "*** [1, 2, 3, 4, 5, 6, 7, 8, 9] 6 8\n",
      "*** [1, 2, 3, 4, 5, 6, 7, 8, 9] 5 8\n",
      "*** [1, 2, 3, 4, 5, 6, 7, 8, 9] 0 8\n"
     ]
    }
   ],
   "source": [
    "la = [5, 7, 4, 6, 3, 1, 2, 9, 8]\n",
    "quick_sort(la, 0, len(la)-1)"
   ]
  }
 ],
 "metadata": {
  "kernelspec": {
   "display_name": "Python 3",
   "language": "python",
   "name": "python3"
  },
  "language_info": {
   "codemirror_mode": {
    "name": "ipython",
    "version": 3
   },
   "file_extension": ".py",
   "mimetype": "text/x-python",
   "name": "python",
   "nbconvert_exporter": "python",
   "pygments_lexer": "ipython3",
   "version": "3.8.3"
  }
 },
 "nbformat": 4,
 "nbformat_minor": 4
}
