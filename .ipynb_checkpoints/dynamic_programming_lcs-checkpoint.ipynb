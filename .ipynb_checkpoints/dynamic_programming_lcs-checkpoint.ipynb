{
 "cells": [
  {
   "cell_type": "code",
   "execution_count": 40,
   "metadata": {},
   "outputs": [],
   "source": [
    "def lcs_length(x, y):\n",
    "    m = len(x)\n",
    "    n = len(y)\n",
    "    # create the match matrix: (m+1)*(n+1)\n",
    "    c = [[0 for _ in range(n+1)] for _ in range(m+1)]\n",
    "    for i in range(1, m+1):\n",
    "        for j in range(1, n+1):\n",
    "            if x[i-1] == y[j-1]: # Xi matches Yj, from top left\n",
    "                c[i][j] = c[i-1][j-1] + 1\n",
    "            else:\n",
    "                c[i][j] = max(c[i-1][j], c[i][j-1]) # Xi does not match Yj, from left or top\n",
    "    for _ in c:\n",
    "        print(_)\n",
    "    return c[m][n]"
   ]
  },
  {
   "cell_type": "code",
   "execution_count": 41,
   "metadata": {},
   "outputs": [
    {
     "name": "stdout",
     "output_type": "stream",
     "text": [
      "[0, 0, 0, 0, 0, 0, 0]\n",
      "[0, 0, 0, 0, 1, 1, 1]\n",
      "[0, 1, 1, 1, 1, 2, 2]\n",
      "[0, 1, 1, 2, 2, 2, 2]\n",
      "[0, 1, 1, 2, 2, 3, 3]\n",
      "[0, 1, 2, 2, 2, 3, 3]\n",
      "[0, 1, 2, 2, 3, 3, 4]\n",
      "[0, 1, 2, 2, 3, 4, 4]\n",
      "4\n"
     ]
    }
   ],
   "source": [
    "lcs_len = lcs_length('ABCBDAB', 'BDCABA')\n",
    "print(lcs_len)"
   ]
  },
  {
   "cell_type": "code",
   "execution_count": 45,
   "metadata": {},
   "outputs": [],
   "source": [
    "def lcs(x, y):\n",
    "    m = len(x)\n",
    "    n = len(y)\n",
    "    # create the match matrix: (m+1)*(n+1)\n",
    "    c = [[0 for _ in range(n+1)] for _ in range(m+1)]\n",
    "    b = [['0' for _ in range(n+1)] for _ in range(m+1)]\n",
    "    for i in range(1, m+1):\n",
    "        for j in range(1, n+1):\n",
    "            if x[i-1] == y[j-1]: # Xi matches Yj, from top left\n",
    "                c[i][j] = c[i-1][j-1] + 1\n",
    "                b[i][j] = '↖'\n",
    "            elif c[i-1][j] > c[i][j-1]: # Xi does not match Yj, from top\n",
    "                c[i][j] = c[i-1][j]\n",
    "                b[i][j] = '↑'\n",
    "            else: # Xi does not match Yj, from left\n",
    "                c[i][j] = c[i][j-1]\n",
    "                b[i][j] = '←'\n",
    "    return c[m][n], b"
   ]
  },
  {
   "cell_type": "code",
   "execution_count": 46,
   "metadata": {},
   "outputs": [
    {
     "name": "stdout",
     "output_type": "stream",
     "text": [
      "4\n",
      "['0', '0', '0', '0', '0', '0', '0']\n",
      "['0', '←', '←', '←', '↖', '←', '↖']\n",
      "['0', '↖', '←', '←', '←', '↖', '←']\n",
      "['0', '↑', '←', '↖', '←', '←', '←']\n",
      "['0', '↖', '←', '↑', '←', '↖', '←']\n",
      "['0', '↑', '↖', '←', '←', '↑', '←']\n",
      "['0', '↑', '↑', '←', '↖', '←', '↖']\n",
      "['0', '↖', '↑', '←', '↑', '↖', '←']\n"
     ]
    }
   ],
   "source": [
    "c, b = lcs('ABCBDAB', 'BDCABA')\n",
    "print(c)\n",
    "for _ in b:\n",
    "    print(_)"
   ]
  },
  {
   "cell_type": "code",
   "execution_count": 59,
   "metadata": {},
   "outputs": [],
   "source": [
    "def lcs_traceback(x, y):\n",
    "    c, b = lcs(x, y)\n",
    "    m, n  = len(x), len(y)\n",
    "    s = []\n",
    "    while m > 0 and n > 0:\n",
    "        if b[m][n] == '↖': # from top left\n",
    "            s.append(x[m-1])\n",
    "            m -= 1\n",
    "            n -= 1\n",
    "        elif b[m][n] == '↑': # from top\n",
    "            m -= 1\n",
    "        else: # from left\n",
    "            n -= 1\n",
    "    return ''.join(reversed(s))"
   ]
  },
  {
   "cell_type": "code",
   "execution_count": 60,
   "metadata": {},
   "outputs": [
    {
     "name": "stdout",
     "output_type": "stream",
     "text": [
      "BDAB\n"
     ]
    }
   ],
   "source": [
    "print(lcs_traceback('ABCBDAB', 'BDCABA'))"
   ]
  }
 ],
 "metadata": {
  "kernelspec": {
   "display_name": "Python 3",
   "language": "python",
   "name": "python3"
  },
  "language_info": {
   "codemirror_mode": {
    "name": "ipython",
    "version": 3
   },
   "file_extension": ".py",
   "mimetype": "text/x-python",
   "name": "python",
   "nbconvert_exporter": "python",
   "pygments_lexer": "ipython3",
   "version": "3.8.3"
  }
 },
 "nbformat": 4,
 "nbformat_minor": 4
}
