{
 "cells": [
  {
   "cell_type": "code",
   "execution_count": 12,
   "metadata": {},
   "outputs": [
    {
     "data": {
      "text/plain": [
       "[('age',),\n",
       " ('gender',),\n",
       " ('hobby',),\n",
       " ('location',),\n",
       " ('age', 'gender'),\n",
       " ('age', 'hobby'),\n",
       " ('age', 'location'),\n",
       " ('gender', 'hobby'),\n",
       " ('gender', 'location'),\n",
       " ('hobby', 'location'),\n",
       " ('age', 'gender', 'hobby'),\n",
       " ('age', 'gender', 'location'),\n",
       " ('age', 'hobby', 'location'),\n",
       " ('gender', 'hobby', 'location'),\n",
       " ('age', 'gender', 'hobby', 'location')]"
      ]
     },
     "execution_count": 12,
     "metadata": {},
     "output_type": "execute_result"
    }
   ],
   "source": [
    "from itertools import combinations\n",
    "\n",
    "features = ['age', 'gender', 'hobby', 'location']\n",
    "feature_combination = []\n",
    "for i in range(1, len(features)+1):\n",
    "    combo = combinations(features, i) # iterable + length of combo \n",
    "    for i in combo:\n",
    "        feature_combination.append(i)\n",
    "\n",
    "feature_combination"
   ]
  },
  {
   "cell_type": "code",
   "execution_count": 76,
   "metadata": {},
   "outputs": [
    {
     "data": {
      "text/plain": [
       "[[1, 'a'],\n",
       " [1, 'b'],\n",
       " [1, 'c'],\n",
       " [1, 'd'],\n",
       " [1, 'e'],\n",
       " [2, 'a'],\n",
       " [2, 'b'],\n",
       " [2, 'c'],\n",
       " [2, 'd'],\n",
       " [2, 'e'],\n",
       " [3, 'a'],\n",
       " [3, 'b'],\n",
       " [3, 'c'],\n",
       " [3, 'd'],\n",
       " [3, 'e'],\n",
       " [4, 'a'],\n",
       " [4, 'b'],\n",
       " [4, 'c'],\n",
       " [4, 'd'],\n",
       " [4, 'e']]"
      ]
     },
     "execution_count": 76,
     "metadata": {},
     "output_type": "execute_result"
    }
   ],
   "source": [
    "a = [1, 2, 3, 4]\n",
    "b = ['a', 'b', 'c', 'd', 'e']\n",
    "combo =[]\n",
    "for i in range(len(a)):\n",
    "    for j in range(len(b)):\n",
    "        combo.append([a[i], b[j]])\n",
    "combo"
   ]
  },
  {
   "cell_type": "code",
   "execution_count": 83,
   "metadata": {},
   "outputs": [
    {
     "name": "stdout",
     "output_type": "stream",
     "text": [
      "True\n"
     ]
    },
    {
     "data": {
      "text/plain": [
       "[(1, 2, 3, 4),\n",
       " (1, 2, 4, 3),\n",
       " (1, 3, 2, 4),\n",
       " (1, 3, 4, 2),\n",
       " (1, 4, 2, 3),\n",
       " (1, 4, 3, 2),\n",
       " (2, 1, 3, 4),\n",
       " (2, 1, 4, 3),\n",
       " (2, 3, 1, 4),\n",
       " (2, 3, 4, 1),\n",
       " (2, 4, 1, 3),\n",
       " (2, 4, 3, 1),\n",
       " (3, 1, 2, 4),\n",
       " (3, 1, 4, 2),\n",
       " (3, 2, 1, 4),\n",
       " (3, 2, 4, 1),\n",
       " (3, 4, 1, 2),\n",
       " (3, 4, 2, 1),\n",
       " (4, 1, 2, 3),\n",
       " (4, 1, 3, 2),\n",
       " (4, 2, 1, 3),\n",
       " (4, 2, 3, 1),\n",
       " (4, 3, 1, 2),\n",
       " (4, 3, 2, 1)]"
      ]
     },
     "execution_count": 83,
     "metadata": {},
     "output_type": "execute_result"
    }
   ],
   "source": [
    "from itertools import permutations\n",
    "import math\n",
    "\n",
    "a = [1, 2, 3, 4]\n",
    "perm_a = permutations(a)\n",
    "pa = []\n",
    "for i in perm_a:\n",
    "    pa.append(i)\n",
    "print(len(pa) == math.factorial(len(a)))\n",
    "pa"
   ]
  },
  {
   "cell_type": "code",
   "execution_count": 85,
   "metadata": {},
   "outputs": [
    {
     "name": "stdout",
     "output_type": "stream",
     "text": [
      "True\n"
     ]
    },
    {
     "data": {
      "text/plain": [
       "[('a', 'b'),\n",
       " ('a', 'c'),\n",
       " ('a', 'd'),\n",
       " ('a', 'e'),\n",
       " ('b', 'a'),\n",
       " ('b', 'c'),\n",
       " ('b', 'd'),\n",
       " ('b', 'e'),\n",
       " ('c', 'a'),\n",
       " ('c', 'b'),\n",
       " ('c', 'd'),\n",
       " ('c', 'e'),\n",
       " ('d', 'a'),\n",
       " ('d', 'b'),\n",
       " ('d', 'c'),\n",
       " ('d', 'e'),\n",
       " ('e', 'a'),\n",
       " ('e', 'b'),\n",
       " ('e', 'c'),\n",
       " ('e', 'd')]"
      ]
     },
     "execution_count": 85,
     "metadata": {},
     "output_type": "execute_result"
    }
   ],
   "source": [
    "b = ['a', 'b', 'c', 'd', 'e']\n",
    "perm_b = permutations(b, 2) # iterable + len\n",
    "pb = []\n",
    "for i in perm_b:\n",
    "    pb.append(i)\n",
    "print(len(pb) == math.factorial(len(b))/math.factorial(len(b)-2))\n",
    "pb"
   ]
  },
  {
   "cell_type": "code",
   "execution_count": 105,
   "metadata": {},
   "outputs": [],
   "source": [
    "def find_combo(li):\n",
    "    combo = []\n",
    "    if len(li) == 1:\n",
    "        combo.append(li)\n",
    "        return combo\n",
    "    elif len(li) == 2:\n",
    "        combo.append([li[0]])\n",
    "        combo.append([li[1]])\n",
    "        combo.append(li)\n",
    "        return combo\n",
    "    else:\n",
    "        sub_combo = find_combo(li[1:])\n",
    "        combo.append([li[0]])\n",
    "        for c in sub_combo:\n",
    "            c = list(c)\n",
    "            combo.append(c)\n",
    "        for c in sub_combo:\n",
    "            c = list(c)\n",
    "            c.append(li[0])\n",
    "            combo.append(c)\n",
    "        return combo"
   ]
  },
  {
   "cell_type": "code",
   "execution_count": 106,
   "metadata": {},
   "outputs": [
    {
     "data": {
      "text/plain": [
       "[['age'],\n",
       " ['gender'],\n",
       " ['hobby'],\n",
       " ['location'],\n",
       " ['hobby', 'location'],\n",
       " ['hobby', 'gender'],\n",
       " ['location', 'gender'],\n",
       " ['hobby', 'location', 'gender'],\n",
       " ['gender', 'age'],\n",
       " ['hobby', 'age'],\n",
       " ['location', 'age'],\n",
       " ['hobby', 'location', 'age'],\n",
       " ['hobby', 'gender', 'age'],\n",
       " ['location', 'gender', 'age'],\n",
       " ['hobby', 'location', 'gender', 'age']]"
      ]
     },
     "execution_count": 106,
     "metadata": {},
     "output_type": "execute_result"
    }
   ],
   "source": [
    "features = ['age', 'gender', 'hobby', 'location']\n",
    "find_combo(features)"
   ]
  },
  {
   "cell_type": "code",
   "execution_count": 142,
   "metadata": {},
   "outputs": [],
   "source": [
    "def find_combo_no_rec(li):\n",
    "    combo = []\n",
    "    for i in range(len(li)):\n",
    "        if not combo:\n",
    "            combo.append([li[i]])\n",
    "        else:\n",
    "            sub_combo = [i[:] for i in combo]\n",
    "            for c in sub_combo:\n",
    "                c.append(li[i])\n",
    "                combo.append(c)\n",
    "            combo.append([li[i]])\n",
    "    return combo"
   ]
  },
  {
   "cell_type": "code",
   "execution_count": 143,
   "metadata": {},
   "outputs": [
    {
     "data": {
      "text/plain": [
       "[['age'],\n",
       " ['age', 'gender'],\n",
       " ['gender'],\n",
       " ['age', 'hobby'],\n",
       " ['age', 'gender', 'hobby'],\n",
       " ['gender', 'hobby'],\n",
       " ['hobby'],\n",
       " ['age', 'location'],\n",
       " ['age', 'gender', 'location'],\n",
       " ['gender', 'location'],\n",
       " ['age', 'hobby', 'location'],\n",
       " ['age', 'gender', 'hobby', 'location'],\n",
       " ['gender', 'hobby', 'location'],\n",
       " ['hobby', 'location'],\n",
       " ['location']]"
      ]
     },
     "execution_count": 143,
     "metadata": {},
     "output_type": "execute_result"
    }
   ],
   "source": [
    "features = ['age', 'gender', 'hobby', 'location']\n",
    "find_combo_no_rec(features)"
   ]
  },
  {
   "cell_type": "code",
   "execution_count": 143,
   "metadata": {},
   "outputs": [
    {
     "name": "stdout",
     "output_type": "stream",
     "text": [
      "216\n",
      "[(1, 1, 1), (1, 1, 2), (1, 1, 3), (1, 1, 4), (1, 1, 5), (1, 1, 6), (1, 2, 1), (1, 2, 2), (1, 2, 3), (1, 2, 4), (1, 2, 5), (1, 2, 6), (1, 3, 1), (1, 3, 2), (1, 3, 3), (1, 3, 4), (1, 3, 5), (1, 3, 6), (1, 4, 1), (1, 4, 2), (1, 4, 3), (1, 4, 4), (1, 4, 5), (1, 4, 6), (1, 5, 1), (1, 5, 2), (1, 5, 3), (1, 5, 4), (1, 5, 5), (1, 5, 6), (1, 6, 1), (1, 6, 2), (1, 6, 3), (1, 6, 4), (1, 6, 5), (1, 6, 6), (2, 1, 1), (2, 1, 2), (2, 1, 3), (2, 1, 4), (2, 1, 5), (2, 1, 6), (2, 2, 1), (2, 2, 2), (2, 2, 3), (2, 2, 4), (2, 2, 5), (2, 2, 6), (2, 3, 1), (2, 3, 2), (2, 3, 3), (2, 3, 4), (2, 3, 5), (2, 3, 6), (2, 4, 1), (2, 4, 2), (2, 4, 3), (2, 4, 4), (2, 4, 5), (2, 4, 6), (2, 5, 1), (2, 5, 2), (2, 5, 3), (2, 5, 4), (2, 5, 5), (2, 5, 6), (2, 6, 1), (2, 6, 2), (2, 6, 3), (2, 6, 4), (2, 6, 5), (2, 6, 6), (3, 1, 1), (3, 1, 2), (3, 1, 3), (3, 1, 4), (3, 1, 5), (3, 1, 6), (3, 2, 1), (3, 2, 2), (3, 2, 3), (3, 2, 4), (3, 2, 5), (3, 2, 6), (3, 3, 1), (3, 3, 2), (3, 3, 3), (3, 3, 4), (3, 3, 5), (3, 3, 6), (3, 4, 1), (3, 4, 2), (3, 4, 3), (3, 4, 4), (3, 4, 5), (3, 4, 6), (3, 5, 1), (3, 5, 2), (3, 5, 3), (3, 5, 4), (3, 5, 5), (3, 5, 6), (3, 6, 1), (3, 6, 2), (3, 6, 3), (3, 6, 4), (3, 6, 5), (3, 6, 6), (4, 1, 1), (4, 1, 2), (4, 1, 3), (4, 1, 4), (4, 1, 5), (4, 1, 6), (4, 2, 1), (4, 2, 2), (4, 2, 3), (4, 2, 4), (4, 2, 5), (4, 2, 6), (4, 3, 1), (4, 3, 2), (4, 3, 3), (4, 3, 4), (4, 3, 5), (4, 3, 6), (4, 4, 1), (4, 4, 2), (4, 4, 3), (4, 4, 4), (4, 4, 5), (4, 4, 6), (4, 5, 1), (4, 5, 2), (4, 5, 3), (4, 5, 4), (4, 5, 5), (4, 5, 6), (4, 6, 1), (4, 6, 2), (4, 6, 3), (4, 6, 4), (4, 6, 5), (4, 6, 6), (5, 1, 1), (5, 1, 2), (5, 1, 3), (5, 1, 4), (5, 1, 5), (5, 1, 6), (5, 2, 1), (5, 2, 2), (5, 2, 3), (5, 2, 4), (5, 2, 5), (5, 2, 6), (5, 3, 1), (5, 3, 2), (5, 3, 3), (5, 3, 4), (5, 3, 5), (5, 3, 6), (5, 4, 1), (5, 4, 2), (5, 4, 3), (5, 4, 4), (5, 4, 5), (5, 4, 6), (5, 5, 1), (5, 5, 2), (5, 5, 3), (5, 5, 4), (5, 5, 5), (5, 5, 6), (5, 6, 1), (5, 6, 2), (5, 6, 3), (5, 6, 4), (5, 6, 5), (5, 6, 6), (6, 1, 1), (6, 1, 2), (6, 1, 3), (6, 1, 4), (6, 1, 5), (6, 1, 6), (6, 2, 1), (6, 2, 2), (6, 2, 3), (6, 2, 4), (6, 2, 5), (6, 2, 6), (6, 3, 1), (6, 3, 2), (6, 3, 3), (6, 3, 4), (6, 3, 5), (6, 3, 6), (6, 4, 1), (6, 4, 2), (6, 4, 3), (6, 4, 4), (6, 4, 5), (6, 4, 6), (6, 5, 1), (6, 5, 2), (6, 5, 3), (6, 5, 4), (6, 5, 5), (6, 5, 6), (6, 6, 1), (6, 6, 2), (6, 6, 3), (6, 6, 4), (6, 6, 5), (6, 6, 6)]"
     ]
    }
   ],
   "source": [
    "\"\"\"Cartesian product\"\"\"\n",
    "import itertools\n",
    "x = [1, 2, 3, 4, 5, 6]\n",
    "prod = [p for p in itertools.product(x, repeat=3)]\n",
    "print(len(prod))\n",
    "print(prod, end='')"
   ]
  },
  {
   "cell_type": "code",
   "execution_count": 130,
   "metadata": {},
   "outputs": [],
   "source": [
    "\"\"\"Given an array of numbner 1 to a, find a non-descending sequence of length b, repetition allowed\"\"\"\n",
    "def non_desc0(a, b):\n",
    "    ans = [[i] for i in a]\n",
    "    for i in range(1, b):\n",
    "        # create a new list to store the extended sequence\n",
    "        new = []\n",
    "        for arr in ans:\n",
    "            # extension with repeated element\n",
    "            for i in range(1, len(arr)+1):\n",
    "                left = arr[:i]\n",
    "                new_rep = left[-1] \n",
    "                right = arr[i:]\n",
    "                new.append(left +[new_rep] + right)\n",
    "            # extension with new element\n",
    "            last = arr[-1]\n",
    "            for x in a[last:]:\n",
    "                new.append(arr+[x])\n",
    "        # remove duplicates\n",
    "        print(i, len(new))\n",
    "        new = [list(x) for x in set(tuple(x) for x in new)]\n",
    "        print(i, len(new))\n",
    "        # update answer\n",
    "        ans = new\n",
    "    return ans"
   ]
  },
  {
   "cell_type": "code",
   "execution_count": 131,
   "metadata": {},
   "outputs": [],
   "source": [
    "# no need to remove duplicates\n",
    "def non_desc(a, b):\n",
    "    ans = [[i] for i in a]\n",
    "    for i in range(1, b):\n",
    "        # create a new list to store the extended sequence\n",
    "        new = []\n",
    "        for arr in ans:\n",
    "            # extension with repeated element\n",
    "            for i in range(i, len(arr)+1):\n",
    "                left = arr[:i]\n",
    "                new_rep = left[-1] \n",
    "                right = arr[i:]\n",
    "                new.append(left +[new_rep] + right)\n",
    "            # extension with new element\n",
    "            last = arr[-1]\n",
    "            for x in a[last:]:\n",
    "                new.append(arr+[x])\n",
    "        # update answer\n",
    "        ans = new\n",
    "    return ans"
   ]
  },
  {
   "cell_type": "code",
   "execution_count": 144,
   "metadata": {},
   "outputs": [
    {
     "name": "stdout",
     "output_type": "stream",
     "text": [
      "1 21\n",
      "1 21\n",
      "2 77\n",
      "2 56\n",
      "56\n",
      "56\n",
      "[[1, 1, 1], [1, 1, 2], [1, 1, 3], [1, 1, 4], [1, 1, 5], [1, 1, 6], [1, 2, 2], [1, 2, 3], [1, 2, 4], [1, 2, 5], [1, 2, 6], [1, 3, 3], [1, 3, 4], [1, 3, 5], [1, 3, 6], [1, 4, 4], [1, 4, 5], [1, 4, 6], [1, 5, 5], [1, 5, 6], [1, 6, 6], [2, 2, 2], [2, 2, 3], [2, 2, 4], [2, 2, 5], [2, 2, 6], [2, 3, 3], [2, 3, 4], [2, 3, 5], [2, 3, 6], [2, 4, 4], [2, 4, 5], [2, 4, 6], [2, 5, 5], [2, 5, 6], [2, 6, 6], [3, 3, 3], [3, 3, 4], [3, 3, 5], [3, 3, 6], [3, 4, 4], [3, 4, 5], [3, 4, 6], [3, 5, 5], [3, 5, 6], [3, 6, 6], [4, 4, 4], [4, 4, 5], [4, 4, 6], [4, 5, 5], [4, 5, 6], [4, 6, 6], [5, 5, 5], [5, 5, 6], [5, 6, 6], [6, 6, 6]]\n",
      "[[1, 1, 1], [1, 1, 2], [1, 1, 3], [1, 1, 4], [1, 1, 5], [1, 1, 6], [1, 2, 2], [1, 2, 3], [1, 2, 4], [1, 2, 5], [1, 2, 6], [1, 3, 3], [1, 3, 4], [1, 3, 5], [1, 3, 6], [1, 4, 4], [1, 4, 5], [1, 4, 6], [1, 5, 5], [1, 5, 6], [1, 6, 6], [2, 2, 2], [2, 2, 3], [2, 2, 4], [2, 2, 5], [2, 2, 6], [2, 3, 3], [2, 3, 4], [2, 3, 5], [2, 3, 6], [2, 4, 4], [2, 4, 5], [2, 4, 6], [2, 5, 5], [2, 5, 6], [2, 6, 6], [3, 3, 3], [3, 3, 4], [3, 3, 5], [3, 3, 6], [3, 4, 4], [3, 4, 5], [3, 4, 6], [3, 5, 5], [3, 5, 6], [3, 6, 6], [4, 4, 4], [4, 4, 5], [4, 4, 6], [4, 5, 5], [4, 5, 6], [4, 6, 6], [5, 5, 5], [5, 5, 6], [5, 6, 6], [6, 6, 6]]"
     ]
    }
   ],
   "source": [
    "x = [1, 2, 3, 4, 5, 6]\n",
    "y = non_desc0(x, 3)\n",
    "y.sort()\n",
    "print(len(y))\n",
    "\n",
    "z = non_desc(x, 3)\n",
    "print(len(z))\n",
    "\n",
    "print(y, end='')\n",
    "print('')\n",
    "print(z, end='')"
   ]
  }
 ],
 "metadata": {
  "kernelspec": {
   "display_name": "Python 3",
   "language": "python",
   "name": "python3"
  },
  "language_info": {
   "codemirror_mode": {
    "name": "ipython",
    "version": 3
   },
   "file_extension": ".py",
   "mimetype": "text/x-python",
   "name": "python",
   "nbconvert_exporter": "python",
   "pygments_lexer": "ipython3",
   "version": "3.8.3"
  }
 },
 "nbformat": 4,
 "nbformat_minor": 4
}
