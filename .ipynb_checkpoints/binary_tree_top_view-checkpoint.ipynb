{
 "cells": [
  {
   "cell_type": "code",
   "execution_count": 1,
   "metadata": {},
   "outputs": [],
   "source": [
    "class BiTreeNode:\n",
    "    def __init__(self, data):\n",
    "        self.data = data\n",
    "        self.lchild = None # left child\n",
    "        self.rchild = None # right child"
   ]
  },
  {
   "cell_type": "code",
   "execution_count": 2,
   "metadata": {},
   "outputs": [],
   "source": [
    "# create some nodes\n",
    "a = BiTreeNode('A')\n",
    "b = BiTreeNode('B')\n",
    "c = BiTreeNode('C')\n",
    "d = BiTreeNode('D')\n",
    "e = BiTreeNode('E')\n",
    "f = BiTreeNode('F')\n",
    "g = BiTreeNode('G')\n",
    "h = BiTreeNode('H')\n",
    "i = BiTreeNode('I')\n",
    "j = BiTreeNode('J')\n",
    "k = BiTreeNode('K')\n",
    "l = BiTreeNode('L')"
   ]
  },
  {
   "cell_type": "code",
   "execution_count": 13,
   "metadata": {},
   "outputs": [],
   "source": [
    "# connect the nodes to build a tree\n",
    "a.lchild = b\n",
    "a.rchild = c\n",
    "b.lchild = d\n",
    "b.rchild = e\n",
    "d.lchild = l\n",
    "c.lchild = f\n",
    "c.rchild = g\n",
    "f.lchild = h\n",
    "f.rchild = i\n",
    "i.rchild = j\n",
    "j.rchild = k"
   ]
  },
  {
   "cell_type": "code",
   "execution_count": 4,
   "metadata": {},
   "outputs": [],
   "source": [
    "\"\"\"travesal\"\"\"\n",
    "# pre_order\n",
    "def pre_order(root):\n",
    "    if root:\n",
    "        print(root.data, end=', ')\n",
    "        pre_order(root.lchild)\n",
    "        pre_order(root.rchild)"
   ]
  },
  {
   "cell_type": "code",
   "execution_count": 9,
   "metadata": {},
   "outputs": [],
   "source": [
    "def in_order(root):\n",
    "    if root:\n",
    "        in_order(root.lchild)\n",
    "        print(root.data, end=', ')\n",
    "        in_order(root.rchild)"
   ]
  },
  {
   "cell_type": "code",
   "execution_count": 10,
   "metadata": {},
   "outputs": [],
   "source": [
    "def post_order(root):\n",
    "    if root:\n",
    "        post_order(root.lchild)\n",
    "        post_order(root.rchild)\n",
    "        print(root.data, end=', ')"
   ]
  },
  {
   "cell_type": "code",
   "execution_count": 11,
   "metadata": {},
   "outputs": [],
   "source": [
    "from collections import deque\n",
    "\n",
    "def level_order(root):\n",
    "    queue = deque()\n",
    "    queue.append(root)\n",
    "    while len(queue) > 0: # as long as the queue is not empty\n",
    "        node = queue.popleft() # left pop the current root\n",
    "        print(node.data, end=', ')\n",
    "        if node.lchild: # add the left child\n",
    "            queue.append(node.lchild)\n",
    "        if node.rchild: # add the right child\n",
    "            queue.append(node.rchild)"
   ]
  },
  {
   "cell_type": "code",
   "execution_count": 14,
   "metadata": {},
   "outputs": [
    {
     "name": "stdout",
     "output_type": "stream",
     "text": [
      "A, B, D, L, E, C, F, H, I, J, K, G,  \n",
      "L, D, B, E, A, H, F, I, J, K, C, G,  \n",
      "L, D, E, B, H, K, J, I, F, G, C, A,  \n",
      "A, B, C, D, E, F, G, L, H, I, J, K, "
     ]
    }
   ],
   "source": [
    "pre_order(a)\n",
    "print(' ')\n",
    "in_order(a)\n",
    "print(' ')\n",
    "post_order(a)\n",
    "print(' ')\n",
    "level_order(a)"
   ]
  },
  {
   "cell_type": "code",
   "execution_count": 20,
   "metadata": {},
   "outputs": [],
   "source": [
    "def topView(root):\n",
    "    #Write your code here\n",
    "    queue = [[root, 0]]\n",
    "    nodes = []\n",
    "    while len(queue):        \n",
    "        node = queue[0][0]\n",
    "        parent_dist = queue[0][1]\n",
    "        if node.lchild:\n",
    "            queue.append([node.lchild, parent_dist - 1])\n",
    "        if node.rchild:\n",
    "            queue.append([node.rchild, parent_dist + 1])\n",
    "        nodes.append([node.data, parent_dist])\n",
    "        queue = queue[1:]\n",
    "    nodes.sort(key= lambda x: x[1])\n",
    "#     m = -500\n",
    "#     for i in range(len(nodes)):\n",
    "#         if nodes[i][1] > m:\n",
    "#             print(nodes[i][0], end=' ')\n",
    "#             m = nodes[i][1]\n",
    "\n",
    "    m = nodes[0][1]\n",
    "    print(nodes[0][0], end=' ')\n",
    "    for i in range(1, len(nodes)):\n",
    "        if nodes[i][1] > m:\n",
    "            print(nodes[i][0], end=' ')\n",
    "            m = nodes[i][1]"
   ]
  },
  {
   "cell_type": "code",
   "execution_count": 21,
   "metadata": {},
   "outputs": [
    {
     "name": "stdout",
     "output_type": "stream",
     "text": [
      "L D B A C G K "
     ]
    }
   ],
   "source": [
    "topView(a)"
   ]
  }
 ],
 "metadata": {
  "kernelspec": {
   "display_name": "Python 3",
   "language": "python",
   "name": "python3"
  },
  "language_info": {
   "codemirror_mode": {
    "name": "ipython",
    "version": 3
   },
   "file_extension": ".py",
   "mimetype": "text/x-python",
   "name": "python",
   "nbconvert_exporter": "python",
   "pygments_lexer": "ipython3",
   "version": "3.8.3"
  }
 },
 "nbformat": 4,
 "nbformat_minor": 4
}
