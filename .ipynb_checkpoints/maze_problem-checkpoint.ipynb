{
 "cells": [
  {
   "cell_type": "code",
   "execution_count": 95,
   "metadata": {},
   "outputs": [
    {
     "data": {
      "text/plain": [
       "[[1, 1, 1, 1, 1, 1, 1, 1, 1, 1],\n",
       " [1, 0, 0, 1, 0, 0, 0, 1, 0, 1],\n",
       " [1, 0, 0, 1, 0, 0, 0, 1, 0, 1],\n",
       " [1, 0, 0, 0, 0, 1, 1, 0, 0, 1],\n",
       " [1, 0, 1, 1, 1, 0, 0, 0, 0, 1],\n",
       " [1, 0, 0, 0, 1, 0, 0, 0, 0, 1],\n",
       " [1, 0, 1, 0, 0, 0, 1, 0, 0, 1],\n",
       " [1, 0, 1, 1, 1, 0, 1, 1, 0, 1],\n",
       " [1, 1, 0, 0, 0, 0, 0, 0, 0, 1],\n",
       " [1, 1, 1, 1, 1, 1, 1, 1, 1, 1]]"
      ]
     },
     "execution_count": 95,
     "metadata": {},
     "output_type": "execute_result"
    }
   ],
   "source": [
    "maze = [\n",
    "    [1, 1, 1, 1, 1, 1, 1, 1, 1, 1],\n",
    "    [1, 0, 0, 1, 0, 0, 0, 1, 0, 1],\n",
    "    [1, 0, 0, 1, 0, 0, 0, 1, 0, 1],\n",
    "    [1, 0, 0, 0, 0, 1, 1, 0, 0, 1],\n",
    "    [1, 0, 1, 1, 1, 0, 0, 0, 0, 1],\n",
    "    [1, 0, 0, 0, 1, 0, 0, 0, 0, 1],\n",
    "    [1, 0, 1, 0, 0, 0, 1, 0, 0, 1],\n",
    "    [1, 0, 1, 1, 1, 0, 1, 1, 0, 1],\n",
    "    [1, 1, 0, 0, 0, 0, 0, 0, 0, 1],\n",
    "    [1, 1, 1, 1, 1, 1, 1, 1, 1, 1]\n",
    "]\n",
    "maze"
   ]
  },
  {
   "cell_type": "code",
   "execution_count": 4,
   "metadata": {},
   "outputs": [],
   "source": [
    "dirs = [\n",
    "    lambda x, y: (x+1, y),\n",
    "    lambda x, y: (x-1, y),\n",
    "    lambda x, y: (x, y-1),\n",
    "    lambda x, y: (x, y+1)\n",
    "]"
   ]
  },
  {
   "cell_type": "code",
   "execution_count": 107,
   "metadata": {},
   "outputs": [],
   "source": [
    "def maze_path_stack(maze, x1, y1, x2, y2): # entrance at (x1, y1), exit at (x2, y2)\n",
    "    new_maze =[row[:] for row in maze] # or: new_maze = copy.deepcopy(maze) so the original maze is not changed\n",
    "    stack = [] # each element in the stack is an coordinate(xi, yi)\n",
    "    stack.append((x1, y1))\n",
    "    \n",
    "    while len(stack) > 0:\n",
    "        cur_node = stack[-1] \n",
    "        if cur_node[0] == x2 and cur_node[1] == y2: # reach the exit\n",
    "            for p in stack[:-1]:\n",
    "                print(p, end=\"->\")\n",
    "            print(stack[-1])\n",
    "            return True\n",
    "        \n",
    "        # if current node is not the exit\n",
    "        for dir in dirs:\n",
    "            next_node = dir(cur_node[0], cur_node[1])\n",
    "            # if next node is accessible\n",
    "            if new_maze[next_node[0]][next_node[1]] == 0:\n",
    "                stack.append(next_node) # add the location to the pptential path\n",
    "                new_maze[next_node[0]][next_node[1]] = 2 # label the location as passed\n",
    "                break        \n",
    "        else: # executes after the loop completes normally -> the loop did not encounter a break statement: no direction accessible -> this is a dead end\n",
    "            new_maze[next_node[0]][next_node[1]] = 2\n",
    "            stack.pop()\n",
    "            \n",
    "    else: # the condition in while is False: the stack is empty\n",
    "        print('No path found')\n",
    "        return False"
   ]
  },
  {
   "cell_type": "code",
   "execution_count": 106,
   "metadata": {},
   "outputs": [
    {
     "name": "stdout",
     "output_type": "stream",
     "text": [
      "(3, 2)->(2, 2)->(3, 2)->(3, 1)->(4, 1)->(5, 1)->(5, 2)->(5, 3)->(6, 3)->(6, 4)->(6, 5)->(7, 5)->(8, 5)->(8, 6)->(8, 7)->(8, 8)\n"
     ]
    },
    {
     "data": {
      "text/plain": [
       "True"
      ]
     },
     "execution_count": 106,
     "metadata": {},
     "output_type": "execute_result"
    }
   ],
   "source": [
    "maze_path_stack(maze, 3, 2, 8, 8)"
   ]
  },
  {
   "cell_type": "code",
   "execution_count": 109,
   "metadata": {},
   "outputs": [],
   "source": [
    "def print_r(path):\n",
    "    cur_node = path[-1]\n",
    "    real_path = []\n",
    "    \n",
    "    while cur_node[2] != -1:\n",
    "        real_path.append(cur_node[:2])\n",
    "        cur_node = path[cur_node[2]]\n",
    "        \n",
    "    real_path.append(cur_node[:2]) # entrance \n",
    "    real_path.reverse()\n",
    "    for p in real_path[:-1]:\n",
    "        print(p, end=\"->\")\n",
    "    print(real_path[-1])"
   ]
  },
  {
   "cell_type": "code",
   "execution_count": 150,
   "metadata": {},
   "outputs": [],
   "source": [
    "from collections import deque\n",
    "\n",
    "def math_path_queue(maze, x1, y1, x2, y2):\n",
    "    new_maze =[row[:] for row in maze] \n",
    "    queue = deque()\n",
    "    queue.append((x1, y1, -1))\n",
    "    path = []\n",
    "    while len(queue) > 0:\n",
    "        cur_node = queue.popleft()\n",
    "        path.append(cur_node)\n",
    "        if cur_node[0] == x2 and cur_node[1] == y2: # reach the exit\n",
    "#             print([i[0] for i in path])\n",
    "#             print([i[1] for i in path])\n",
    "#             print([i[2] for i in path])\n",
    "#            print(len(path))\n",
    "            print_r(path)\n",
    "            return True\n",
    "        # if current node is not the exit\n",
    "        for dir in dirs:\n",
    "            next_node = dir(cur_node[0], cur_node[1])\n",
    "            if new_maze[next_node[0]][next_node[1]] == 0:\n",
    "                queue.append((next_node[0], next_node[1], len(path)-1)) # add accessible location to the queue, and wits prior location\n",
    "                new_maze[next_node[0]][next_node[1]] = 2 # label the location as passed\n",
    "    \n",
    "    else: # the condition in while is False: the queue is empty\n",
    "        print('No path found')\n",
    "        return False    "
   ]
  },
  {
   "cell_type": "code",
   "execution_count": 153,
   "metadata": {},
   "outputs": [
    {
     "name": "stdout",
     "output_type": "stream",
     "text": [
      "(3, 3)->(3, 2)->(3, 1)->(4, 1)->(5, 1)->(5, 2)->(5, 3)->(6, 3)->(6, 4)->(6, 5)->(7, 5)->(8, 5)->(8, 6)->(8, 7)->(8, 8)\n"
     ]
    },
    {
     "data": {
      "text/plain": [
       "[[1, 1, 1, 1, 1, 1, 1, 1, 1, 1],\n",
       " [1, 0, 0, 1, 0, 0, 0, 1, 0, 1],\n",
       " [1, 0, 0, 1, 0, 0, 0, 1, 0, 1],\n",
       " [1, 0, 0, 0, 0, 1, 1, 0, 0, 1],\n",
       " [1, 0, 1, 1, 1, 0, 0, 0, 0, 1],\n",
       " [1, 0, 0, 0, 1, 0, 0, 0, 0, 1],\n",
       " [1, 0, 1, 0, 0, 0, 1, 0, 0, 1],\n",
       " [1, 0, 1, 1, 1, 0, 1, 1, 0, 1],\n",
       " [1, 1, 0, 0, 0, 0, 0, 0, 0, 1],\n",
       " [1, 1, 1, 1, 1, 1, 1, 1, 1, 1]]"
      ]
     },
     "execution_count": 153,
     "metadata": {},
     "output_type": "execute_result"
    }
   ],
   "source": [
    "math_path_queue(maze,3,3,8,8)\n",
    "maze"
   ]
  },
  {
   "cell_type": "code",
   "execution_count": 102,
   "metadata": {},
   "outputs": [
    {
     "name": "stdout",
     "output_type": "stream",
     "text": [
      "['x', 2, 3] ['x', 2, 3] [1, 2, 3] [1, 2, 3]\n",
      "['x', 2, 3] ['x', 2, 3] ['y', 2, 3] [1, 2, 3]\n",
      "['x', 2, 3] ['x', 2, 3] ['y', 2, 3] ['z', 2, 3]\n",
      "['y', 2, 3, 'A']\n",
      "['x', 2, 3] ['x', 2, 3] ['y', 2, 3] ['z', 2, 3]\n",
      "['z', 2, 3, 'B']\n",
      "['x', 2, 3] ['x', 2, 3] ['y', 2, 3] ['z', 2, 3]\n",
      "['z', 2, 3, 'B']\n",
      "['x', 2, 3] ['x', 2, 3] ['y', 2, 3] ['z', 2, 3, 'B']\n"
     ]
    }
   ],
   "source": [
    "\"\"\"Copy a list without changing it when modify the new list\"\"\"\n",
    "# for 1d list y = x[:] or y = x.copy\n",
    "# this won't work for a 2d list\n",
    "# import copy y = copy.deepcopy(x)\n",
    "# or: y = [z[:] for z in x]\n",
    "a  = [1, 2, 3]\n",
    "b = a\n",
    "c = a.copy()\n",
    "d = a[:]\n",
    "\n",
    "b[0] ='x'\n",
    "print(a, b, c, d)\n",
    "\n",
    "c[0] = 'y'\n",
    "print(a, b, c, d)\n",
    "\n",
    "d[0] = 'z'\n",
    "print(a, b, c, d)\n",
    "\n",
    "def myfunc1(li):\n",
    "    newli = li.copy()\n",
    "    newli.append('A')\n",
    "    print(newli)\n",
    "    \n",
    "def myfunc2(li):\n",
    "    newli = li\n",
    "    newli.append('B')\n",
    "    print(newli)\n",
    "\n",
    "myfunc1(c)    \n",
    "print(a, b, c, d)\n",
    "\n",
    "myfunc2(d.copy())    \n",
    "print(a, b, c, d)\n",
    "\n",
    "myfunc2(d)    \n",
    "print(a, b, c, d)"
   ]
  }
 ],
 "metadata": {
  "kernelspec": {
   "display_name": "Python 3",
   "language": "python",
   "name": "python3"
  },
  "language_info": {
   "codemirror_mode": {
    "name": "ipython",
    "version": 3
   },
   "file_extension": ".py",
   "mimetype": "text/x-python",
   "name": "python",
   "nbconvert_exporter": "python",
   "pygments_lexer": "ipython3",
   "version": "3.8.3"
  }
 },
 "nbformat": 4,
 "nbformat_minor": 4
}
