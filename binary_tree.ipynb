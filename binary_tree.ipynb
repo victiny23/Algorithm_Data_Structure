{
 "cells": [
  {
   "cell_type": "code",
   "execution_count": 1,
   "metadata": {},
   "outputs": [],
   "source": [
    "class BiTreeNode:\n",
    "    def __init__(self, data):\n",
    "        self.data = data\n",
    "        self.lchild = None # left child\n",
    "        self.rchild = None # right child"
   ]
  },
  {
   "cell_type": "code",
   "execution_count": 2,
   "metadata": {},
   "outputs": [],
   "source": [
    "# create some nodes\n",
    "a = BiTreeNode('A')\n",
    "b = BiTreeNode('B')\n",
    "c = BiTreeNode('C')\n",
    "d = BiTreeNode('D')\n",
    "e = BiTreeNode('E')\n",
    "f = BiTreeNode('F')\n",
    "g = BiTreeNode('G')"
   ]
  },
  {
   "cell_type": "code",
   "execution_count": 3,
   "metadata": {},
   "outputs": [],
   "source": [
    "# connect the nodes to build a tree\n",
    "e.lchild = a\n",
    "e.rchild = g\n",
    "a.rchild = c\n",
    "c.lchild = b\n",
    "c.rchild = d\n",
    "g.rchild = f"
   ]
  },
  {
   "cell_type": "code",
   "execution_count": 8,
   "metadata": {},
   "outputs": [],
   "source": [
    "\"\"\"travesal\"\"\"\n",
    "# pre_order\n",
    "def pre_order(root):\n",
    "    if root:\n",
    "        print(root.data, end=', ')\n",
    "        pre_order(root.lchild)\n",
    "        pre_order(root.rchild)"
   ]
  },
  {
   "cell_type": "code",
   "execution_count": 13,
   "metadata": {},
   "outputs": [],
   "source": [
    "def in_order(root):\n",
    "    if root:\n",
    "        in_order(root.lchild)\n",
    "        print(root.data, end=' * ')\n",
    "        in_order(root.rchild)"
   ]
  },
  {
   "cell_type": "code",
   "execution_count": 19,
   "metadata": {},
   "outputs": [],
   "source": [
    "def post_order(root):\n",
    "    if root:\n",
    "        post_order(root.lchild)\n",
    "        post_order(root.rchild)\n",
    "        print(root.data, end=' - ')"
   ]
  },
  {
   "cell_type": "code",
   "execution_count": 22,
   "metadata": {},
   "outputs": [],
   "source": [
    "from collections import deque\n",
    "\n",
    "def level_order(root):\n",
    "    queue = deque()\n",
    "    queue.append(root)\n",
    "    while len(queue) > 0: # as long as the queue is not empty\n",
    "        node = queue.popleft() # left pop the current root\n",
    "        print(node.data, end=' + ')\n",
    "        if node.lchild: # add the left child\n",
    "            queue.append(node.lchild)\n",
    "        if node.rchild: # add the right child\n",
    "            queue.append(node.rchild)"
   ]
  },
  {
   "cell_type": "code",
   "execution_count": 9,
   "metadata": {},
   "outputs": [
    {
     "name": "stdout",
     "output_type": "stream",
     "text": [
      "E, A, C, B, D, G, F, "
     ]
    }
   ],
   "source": [
    "pre_order(e)"
   ]
  },
  {
   "cell_type": "code",
   "execution_count": 14,
   "metadata": {},
   "outputs": [
    {
     "name": "stdout",
     "output_type": "stream",
     "text": [
      "A * B * C * D * E * G * F * "
     ]
    }
   ],
   "source": [
    "in_order(e)"
   ]
  },
  {
   "cell_type": "code",
   "execution_count": 20,
   "metadata": {},
   "outputs": [
    {
     "name": "stdout",
     "output_type": "stream",
     "text": [
      "B - D - C - A - F - G - E - "
     ]
    }
   ],
   "source": [
    "post_order(e)"
   ]
  },
  {
   "cell_type": "code",
   "execution_count": 23,
   "metadata": {},
   "outputs": [
    {
     "name": "stdout",
     "output_type": "stream",
     "text": [
      "E + A + G + C + F + B + D + "
     ]
    }
   ],
   "source": [
    "level_order(e)"
   ]
  },
  {
   "cell_type": "code",
   "execution_count": 25,
   "metadata": {},
   "outputs": [
    {
     "name": "stdout",
     "output_type": "stream",
     "text": [
      "A, C, B, D, A * B * C * D * B - D - C - A - A + C + B + D + "
     ]
    }
   ],
   "source": [
    "# can be applied to sub_tree\n",
    "pre_order(a)\n",
    "in_order(a)\n",
    "post_order(a)\n",
    "level_order(a)"
   ]
  }
 ],
 "metadata": {
  "kernelspec": {
   "display_name": "Python 3",
   "language": "python",
   "name": "python3"
  },
  "language_info": {
   "codemirror_mode": {
    "name": "ipython",
    "version": 3
   },
   "file_extension": ".py",
   "mimetype": "text/x-python",
   "name": "python",
   "nbconvert_exporter": "python",
   "pygments_lexer": "ipython3",
   "version": "3.8.3"
  }
 },
 "nbformat": 4,
 "nbformat_minor": 4
}
