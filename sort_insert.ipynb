{
 "cells": [
  {
   "cell_type": "code",
   "execution_count": 17,
   "metadata": {},
   "outputs": [],
   "source": [
    "# consider ith element and store in temp\n",
    "# on the left: sorted with len(sorted) = i-1, on the right: to_sort\n",
    "# compare from right (j=i-1) to left(j=0)\n",
    "# if list[j] > temp, move it to the right by 1\n",
    "# until list[j] < temp, insert temp at list[j+1]\n",
    "def insert_sort(list):\n",
    "    for i in range(1, len(list)): # ith card received\n",
    "        temp = list[i]\n",
    "        j = i-1 # last card in the hand\n",
    "        while j >= 0 and list[j] > temp: # >= 0 so li[0] can alsoe be moved right if necessary (when li[0]> temp)\n",
    "            list[j+1] = list[j]\n",
    "            j = j-1\n",
    "        list[j+1] = temp\n",
    "        print(list)"
   ]
  },
  {
   "cell_type": "code",
   "execution_count": 18,
   "metadata": {},
   "outputs": [
    {
     "name": "stdout",
     "output_type": "stream",
     "text": [
      "[4, 15, 16, 7, 17, 10, 9, 5, 8, 17]\n",
      "[4, 15, 16, 7, 17, 10, 9, 5, 8, 17]\n",
      "[4, 15, 16, 7, 17, 10, 9, 5, 8, 17]\n",
      "[4, 7, 15, 16, 17, 10, 9, 5, 8, 17]\n",
      "[4, 7, 15, 16, 17, 10, 9, 5, 8, 17]\n",
      "[4, 7, 10, 15, 16, 17, 9, 5, 8, 17]\n",
      "[4, 7, 9, 10, 15, 16, 17, 5, 8, 17]\n",
      "[4, 5, 7, 9, 10, 15, 16, 17, 8, 17]\n",
      "[4, 5, 7, 8, 9, 10, 15, 16, 17, 17]\n",
      "[4, 5, 7, 8, 9, 10, 15, 16, 17, 17]\n"
     ]
    }
   ],
   "source": [
    "import numpy as np\n",
    "np.random.seed(5)\n",
    "la = list(np.random.randint(1, 20, 10))\n",
    "print(la)\n",
    "insert_sort(la)"
   ]
  }
 ],
 "metadata": {
  "kernelspec": {
   "display_name": "Python 3",
   "language": "python",
   "name": "python3"
  },
  "language_info": {
   "codemirror_mode": {
    "name": "ipython",
    "version": 3
   },
   "file_extension": ".py",
   "mimetype": "text/x-python",
   "name": "python",
   "nbconvert_exporter": "python",
   "pygments_lexer": "ipython3",
   "version": "3.8.3"
  }
 },
 "nbformat": 4,
 "nbformat_minor": 4
}
