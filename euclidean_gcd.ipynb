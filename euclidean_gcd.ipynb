{
 "cells": [
  {
   "cell_type": "code",
   "execution_count": 1,
   "metadata": {},
   "outputs": [],
   "source": [
    "# recursion\n",
    "def gcd(a, b):  # greatest common divisor\n",
    "    if b == 0:\n",
    "        return a\n",
    "    else:\n",
    "        return gcd(b, a%b)"
   ]
  },
  {
   "cell_type": "code",
   "execution_count": 6,
   "metadata": {},
   "outputs": [],
   "source": [
    "# no recursion\n",
    "def gcd2(a, b):\n",
    "    while b > 0:\n",
    "        r = a%b\n",
    "        a = b\n",
    "        b = r\n",
    "    return a"
   ]
  },
  {
   "cell_type": "code",
   "execution_count": 7,
   "metadata": {},
   "outputs": [
    {
     "name": "stdout",
     "output_type": "stream",
     "text": [
      "33\n",
      "33\n"
     ]
    }
   ],
   "source": [
    "print(gcd(363, 66))\n",
    "print(gcd2(363, 66))"
   ]
  },
  {
   "cell_type": "code",
   "execution_count": 29,
   "metadata": {},
   "outputs": [],
   "source": [
    "# fraction calculation\n",
    "class Fraction:\n",
    "    def __init__(self, a, b):\n",
    "        self.a = a\n",
    "        self.b = b\n",
    "        x = self.gcd(a, b)\n",
    "        self.a /= x\n",
    "        self.b /= x\n",
    "        \n",
    "    def gcd(self, a, b):\n",
    "        while b > 0:\n",
    "            r = a%b\n",
    "            a = b\n",
    "            b = r\n",
    "        return a\n",
    "    \n",
    "    def __str__(self):\n",
    "        return \"%d/%d\" % (self.a, self.b) if self.b>1 else str(int(self.a))\n",
    "    \n",
    "    # least common multiple\n",
    "    def lcm(self, a, b): \n",
    "        x = gcd(a, b)\n",
    "        return a*b/x\n",
    "    \n",
    "    def __add__(self, other):\n",
    "        a = self.a\n",
    "        b = self.b\n",
    "        c = other.a\n",
    "        d = other.b\n",
    "        numerator = a*self.lcm(b, d)/d + c*self.lcm(b, d)/b\n",
    "        denominator = self.lcm(b, d)\n",
    "        return Fraction(numerator, denominator)"
   ]
  },
  {
   "cell_type": "code",
   "execution_count": 25,
   "metadata": {},
   "outputs": [
    {
     "name": "stdout",
     "output_type": "stream",
     "text": [
      "3/5\n",
      "3/8\n",
      "3\n"
     ]
    }
   ],
   "source": [
    "a = Fraction(3, 5)\n",
    "b = Fraction(3, 8)\n",
    "c = Fraction(3, 1)\n",
    "print(a)\n",
    "print(b)\n",
    "print(c)"
   ]
  },
  {
   "cell_type": "code",
   "execution_count": 26,
   "metadata": {},
   "outputs": [
    {
     "name": "stdout",
     "output_type": "stream",
     "text": [
      "39/40\n",
      "2\n"
     ]
    }
   ],
   "source": [
    "print(a+b)\n",
    "print(Fraction(1,3)+Fraction(5,3))"
   ]
  }
 ],
 "metadata": {
  "kernelspec": {
   "display_name": "Python 3",
   "language": "python",
   "name": "python3"
  },
  "language_info": {
   "codemirror_mode": {
    "name": "ipython",
    "version": 3
   },
   "file_extension": ".py",
   "mimetype": "text/x-python",
   "name": "python",
   "nbconvert_exporter": "python",
   "pygments_lexer": "ipython3",
   "version": "3.8.3"
  }
 },
 "nbformat": 4,
 "nbformat_minor": 4
}
