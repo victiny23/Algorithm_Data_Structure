{
 "cells": [
  {
   "cell_type": "code",
   "execution_count": 1,
   "metadata": {},
   "outputs": [],
   "source": [
    "class Node:\n",
    "    def __init__(self, name, type='dir'):\n",
    "        self.name = name\n",
    "        self.type = type # 'directory' or 'file'\n",
    "        self.children = []\n",
    "        self.parent = None\n",
    "        \n",
    "    def __str__(self):\n",
    "        return self.name"
   ]
  },
  {
   "cell_type": "code",
   "execution_count": 41,
   "metadata": {},
   "outputs": [],
   "source": [
    "class FileSystemTree:\n",
    "    def __init__(self):\n",
    "        self.root = Node('/')\n",
    "        self.now = self.root # current level points to the root at initialization\n",
    "        \n",
    "    def make_dir(self, name):\n",
    "        # name ends with '/'\n",
    "        if name[-1] != '/':\n",
    "            name += '/'\n",
    "        node = Node(name)\n",
    "        self.now.children.append(node) # add the new directory to the list of children directory\n",
    "        node.parent = self.now\n",
    "        \n",
    "    def ls(self):\n",
    "        return self.now.children\n",
    "    \n",
    "    def cd(self, name):\n",
    "        if name[-1] != '/':\n",
    "            name += '/'\n",
    "        for child in self.now.children:\n",
    "            if child.name == name:\n",
    "                self.now = child # move to the child directory as the new current level\n",
    "                break\n",
    "        else:\n",
    "            raise ValueError('invalid directory')"
   ]
  },
  {
   "cell_type": "code",
   "execution_count": 44,
   "metadata": {},
   "outputs": [
    {
     "name": "stdout",
     "output_type": "stream",
     "text": [
      "var/\n",
      "\n",
      "var/\n",
      "var/\n",
      "bin/\n",
      "bin/\n",
      "usr/\n",
      "usr/\n",
      "\n",
      "True\n",
      "\n",
      "/\n",
      "[<__main__.Node object at 0x10fafba60>, <__main__.Node object at 0x10fafb310>, <__main__.Node object at 0x10fa61e50>]\n",
      "['var/', 'bin/', 'usr/']\n",
      "[<__main__.Node object at 0x10fa78d00>]\n"
     ]
    }
   ],
   "source": [
    "tree = FileSystemTree()\n",
    "tree.make_dir('var/')\n",
    "print(tree.root.children[0])\n",
    "print('')\n",
    "\n",
    "tree.make_dir('bin/')\n",
    "tree.make_dir('usr/')\n",
    "for folder in tree.root.children:\n",
    "    print(folder)\n",
    "    print(folder.name)\n",
    "print('')\n",
    "\n",
    "print(tree.root == tree.now)\n",
    "print('')\n",
    "\n",
    "print(tree.now.name)\n",
    "print(tree.ls())\n",
    "ls_folders = []\n",
    "for folder in tree.ls():\n",
    "    ls_folders.append(folder.name)\n",
    "print(ls_folders)\n",
    "    \n",
    "tree.cd('bin/')\n",
    "tree.make_dir('python/')\n",
    "\n",
    "print(tree.ls())"
   ]
  }
 ],
 "metadata": {
  "kernelspec": {
   "display_name": "Python 3",
   "language": "python",
   "name": "python3"
  },
  "language_info": {
   "codemirror_mode": {
    "name": "ipython",
    "version": 3
   },
   "file_extension": ".py",
   "mimetype": "text/x-python",
   "name": "python",
   "nbconvert_exporter": "python",
   "pygments_lexer": "ipython3",
   "version": "3.8.3"
  }
 },
 "nbformat": 4,
 "nbformat_minor": 4
}
