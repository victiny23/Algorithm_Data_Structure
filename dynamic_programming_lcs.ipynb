{
 "cells": [
  {
   "cell_type": "code",
   "execution_count": 2,
   "metadata": {},
   "outputs": [],
   "source": [
    "\"\"\"Longest Common Subsequence: can be discontuned\"\"\"\n",
    "def lcs_length(x, y):\n",
    "    m = len(x)\n",
    "    n = len(y)\n",
    "    # create the match matrix: (m+1)*(n+1)\n",
    "    c = [[0 for _ in range(n+1)] for _ in range(m+1)]\n",
    "    for i in range(1, m+1):\n",
    "        for j in range(1, n+1):\n",
    "            if x[i-1] == y[j-1]: # Xi matches Yj, from top left\n",
    "                c[i][j] = c[i-1][j-1] + 1\n",
    "            else:\n",
    "                c[i][j] = max(c[i-1][j], c[i][j-1]) # Xi does not match Yj, from left or top\n",
    "    for _ in c:\n",
    "        print(_)\n",
    "    return c[m][n]"
   ]
  },
  {
   "cell_type": "code",
   "execution_count": 41,
   "metadata": {},
   "outputs": [
    {
     "name": "stdout",
     "output_type": "stream",
     "text": [
      "[0, 0, 0, 0, 0, 0, 0]\n",
      "[0, 0, 0, 0, 1, 1, 1]\n",
      "[0, 1, 1, 1, 1, 2, 2]\n",
      "[0, 1, 1, 2, 2, 2, 2]\n",
      "[0, 1, 1, 2, 2, 3, 3]\n",
      "[0, 1, 2, 2, 2, 3, 3]\n",
      "[0, 1, 2, 2, 3, 3, 4]\n",
      "[0, 1, 2, 2, 3, 4, 4]\n",
      "4\n"
     ]
    }
   ],
   "source": [
    "lcs_len = lcs_length('ABCBDAB', 'BDCABA')\n",
    "print(lcs_len)"
   ]
  },
  {
   "cell_type": "code",
   "execution_count": 4,
   "metadata": {},
   "outputs": [
    {
     "name": "stdout",
     "output_type": "stream",
     "text": [
      "[0, 0, 0, 0, 0, 0]\n",
      "[0, 1, 1, 1, 1, 1]\n",
      "[0, 1, 1, 2, 2, 2]\n",
      "[0, 1, 1, 2, 3, 3]\n",
      "[0, 1, 2, 2, 3, 3]\n",
      "[0, 1, 2, 3, 3, 4]\n"
     ]
    },
    {
     "data": {
      "text/plain": [
       "4"
      ]
     },
     "execution_count": 4,
     "metadata": {},
     "output_type": "execute_result"
    }
   ],
   "source": [
    "s = 'bbbab'\n",
    "lcs_length(s, s[::-1])"
   ]
  },
  {
   "cell_type": "code",
   "execution_count": 45,
   "metadata": {},
   "outputs": [],
   "source": [
    "def lcs(x, y):\n",
    "    m = len(x)\n",
    "    n = len(y)\n",
    "    # create the match matrix: (m+1)*(n+1)\n",
    "    c = [[0 for _ in range(n+1)] for _ in range(m+1)]\n",
    "    b = [['0' for _ in range(n+1)] for _ in range(m+1)]\n",
    "    for i in range(1, m+1):\n",
    "        for j in range(1, n+1):\n",
    "            if x[i-1] == y[j-1]: # Xi matches Yj, from top left\n",
    "                c[i][j] = c[i-1][j-1] + 1\n",
    "                b[i][j] = '↖'\n",
    "            elif c[i-1][j] > c[i][j-1]: # Xi does not match Yj, from top\n",
    "                c[i][j] = c[i-1][j]\n",
    "                b[i][j] = '↑'\n",
    "            else: # Xi does not match Yj, from left\n",
    "                c[i][j] = c[i][j-1]\n",
    "                b[i][j] = '←'\n",
    "    return c[m][n], b"
   ]
  },
  {
   "cell_type": "code",
   "execution_count": 46,
   "metadata": {},
   "outputs": [
    {
     "name": "stdout",
     "output_type": "stream",
     "text": [
      "4\n",
      "['0', '0', '0', '0', '0', '0', '0']\n",
      "['0', '←', '←', '←', '↖', '←', '↖']\n",
      "['0', '↖', '←', '←', '←', '↖', '←']\n",
      "['0', '↑', '←', '↖', '←', '←', '←']\n",
      "['0', '↖', '←', '↑', '←', '↖', '←']\n",
      "['0', '↑', '↖', '←', '←', '↑', '←']\n",
      "['0', '↑', '↑', '←', '↖', '←', '↖']\n",
      "['0', '↖', '↑', '←', '↑', '↖', '←']\n"
     ]
    }
   ],
   "source": [
    "c, b = lcs('ABCBDAB', 'BDCABA')\n",
    "print(c)\n",
    "for _ in b:\n",
    "    print(_)"
   ]
  },
  {
   "cell_type": "code",
   "execution_count": 59,
   "metadata": {},
   "outputs": [],
   "source": [
    "def lcs_traceback(x, y):\n",
    "    c, b = lcs(x, y)\n",
    "    m, n  = len(x), len(y)\n",
    "    s = []\n",
    "    while m > 0 and n > 0:\n",
    "        if b[m][n] == '↖': # from top left\n",
    "            s.append(x[m-1])\n",
    "            m -= 1\n",
    "            n -= 1\n",
    "        elif b[m][n] == '↑': # from top\n",
    "            m -= 1\n",
    "        else: # from left\n",
    "            n -= 1\n",
    "    return ''.join(reversed(s))"
   ]
  },
  {
   "cell_type": "code",
   "execution_count": 60,
   "metadata": {},
   "outputs": [
    {
     "name": "stdout",
     "output_type": "stream",
     "text": [
      "BDAB\n"
     ]
    }
   ],
   "source": [
    "print(lcs_traceback('ABCBDAB', 'BDCABA'))"
   ]
  },
  {
   "cell_type": "code",
   "execution_count": 1,
   "metadata": {},
   "outputs": [
    {
     "data": {
      "text/plain": [
       "'948eGjL'"
      ]
     },
     "execution_count": 1,
     "metadata": {},
     "output_type": "execute_result"
    }
   ],
   "source": [
    "\"\"\"Longest Common Substring: has to be continuous\"\"\"\n",
    "def LCS( str1 , str2 ):\n",
    "    # write code here\n",
    "    l1, l2 = len(str1), len(str2)\n",
    "    # curr length\n",
    "    dp = [[0 for _ in range(l2+1)] for _ in range(l1+1)]\n",
    "    # max length\n",
    "    dpl = 0\n",
    "    # coordinates of lcs tail\n",
    "    xt, yt = 0, 0\n",
    "    res = []\n",
    "    \n",
    "    for i in range(1, l1+1):\n",
    "        for j in range(1, l2+1):\n",
    "            if str1[i-1] == str2[j-1]:\n",
    "                dp[i][j] = dp[i-1][j-1]+1\n",
    "                if dp[i][j] > dpl:\n",
    "                    dpl = dp[i][j]\n",
    "                    xt, yt = i, j\n",
    "            else:\n",
    "                dp[i][j] = 0\n",
    "        \n",
    "    while xt > 0 and yt > 0 and dp[xt][yt]>0:\n",
    "        res.append(str1[xt-1])\n",
    "        xt -= 1\n",
    "        yt -= 1\n",
    "    \n",
    "    return ''.join(res[::-1])   \n",
    "    \n",
    "str1, str2 = \"2LQ74WK8Ld0x7d8FP8l61pD7Wsz1E9xOMp920hM948eGjL9Kb5KJt80\",\"U08U29zzuodz16CBZ8xfpmmn5SKD80smJbK83F2T37JRqYfE76vh6hrE451uFQ100ye9hog1Y52LDk0L52SuD948eGjLz0htzd5YF9J1Y6oI7562z4T2\"\n",
    "\n",
    "LCS(str1, str2)"
   ]
  }
 ],
 "metadata": {
  "kernelspec": {
   "display_name": "Python 3",
   "language": "python",
   "name": "python3"
  },
  "language_info": {
   "codemirror_mode": {
    "name": "ipython",
    "version": 3
   },
   "file_extension": ".py",
   "mimetype": "text/x-python",
   "name": "python",
   "nbconvert_exporter": "python",
   "pygments_lexer": "ipython3",
   "version": "3.8.3"
  }
 },
 "nbformat": 4,
 "nbformat_minor": 4
}
