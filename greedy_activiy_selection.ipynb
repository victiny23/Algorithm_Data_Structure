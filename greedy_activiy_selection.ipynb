{
 "cells": [
  {
   "cell_type": "code",
   "execution_count": null,
   "metadata": {},
   "outputs": [],
   "source": [
    "\"\"\"\n",
    "Assume there exist n activities with each of them being represented by a start time si and finish time fi.\n",
    "Two activities i and j are said to be non-conflicting if si ≥ fj or sj ≥ fi. \n",
    "The activity selection problem consists in finding the maximal solution set (S) of non-conflicting activities, \n",
    "or more precisely there must exist no solution set S' such that |S'| > |S| in the case that multiple maximal solutions have equal sizes.\n",
    "\"\"\""
   ]
  },
  {
   "cell_type": "code",
   "execution_count": null,
   "metadata": {},
   "outputs": [],
   "source": [
    "\"\"\"\n",
    "Can be solved with greedy algorithm:\n",
    "the activity that finishes first is always a part of the optimal solution\n",
    "\n",
    "proof: let a be the acvtivity finishes first, b be the activity that finishes first in the optimal sol;ution\n",
    "(1) if a = b, prblem solved\n",
    "(2) if a != b, as a finishes ealier than b, b in the optimal solution can be replaced by a, resulting in no time conflict with other activities\n",
    "    this gives at least the same number of activities as the optimal solution\n",
    "    but the remaining time maight be further optimized for a better solution\n",
    "\"\"\""
   ]
  },
  {
   "cell_type": "code",
   "execution_count": 2,
   "metadata": {},
   "outputs": [
    {
     "data": {
      "text/plain": [
       "[(1, 4),\n",
       " (3, 5),\n",
       " (0, 6),\n",
       " (5, 7),\n",
       " (3, 9),\n",
       " (5, 9),\n",
       " (8, 11),\n",
       " (8, 12),\n",
       " (2, 14),\n",
       " (2, 14),\n",
       " (12, 16)]"
      ]
     },
     "execution_count": 2,
     "metadata": {},
     "output_type": "execute_result"
    }
   ],
   "source": [
    "activities =[(8, 12), (3, 5), (12, 16), (0, 6), (3, 9), (1, 4), (5, 7), (2, 14), (8, 11), (2, 14), (5, 9)]\n",
    "# sort the activities' finishing time\n",
    "activities.sort(key=lambda x: x[1])\n",
    "activities"
   ]
  },
  {
   "cell_type": "code",
   "execution_count": 3,
   "metadata": {},
   "outputs": [],
   "source": [
    "def activity_selection(a):\n",
    "    sel = [a[0]]\n",
    "    for i in range(1, len(a)):\n",
    "        if a[i][0] > sel[-1][1]:\n",
    "            sel.append(a[i])\n",
    "    return sel"
   ]
  },
  {
   "cell_type": "code",
   "execution_count": 4,
   "metadata": {},
   "outputs": [
    {
     "data": {
      "text/plain": [
       "[(1, 4), (5, 7), (8, 11), (12, 16)]"
      ]
     },
     "execution_count": 4,
     "metadata": {},
     "output_type": "execute_result"
    }
   ],
   "source": [
    "activity_selection(activities)"
   ]
  }
 ],
 "metadata": {
  "kernelspec": {
   "display_name": "Python 3",
   "language": "python",
   "name": "python3"
  },
  "language_info": {
   "codemirror_mode": {
    "name": "ipython",
    "version": 3
   },
   "file_extension": ".py",
   "mimetype": "text/x-python",
   "name": "python",
   "nbconvert_exporter": "python",
   "pygments_lexer": "ipython3",
   "version": "3.8.3"
  }
 },
 "nbformat": 4,
 "nbformat_minor": 4
}
