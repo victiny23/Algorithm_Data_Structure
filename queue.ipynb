{
 "cells": [
  {
   "cell_type": "code",
   "execution_count": 10,
   "metadata": {},
   "outputs": [],
   "source": [
    "class Queue:\n",
    "    def __init__(self, size=100):\n",
    "        self.queue = [ 0 for _ in range(size)] # pre-allocated queue\n",
    "        self.size = size\n",
    "        self.rear = 0 # rear pointer\n",
    "        self.front = 0 # front pointer\n",
    "    \n",
    "    def push(self, element): \n",
    "        if not self.is_full():\n",
    "            self.rear = (self.rear + 1) % self.size # add element from index 1, the front pointer points to the position prior to the 1st element\n",
    "            self.queue[self.rear] = element # the rear pointer points to the last element\n",
    "        else:\n",
    "            return IndexError('Queue is full.')\n",
    "        \n",
    "    def pop(self):\n",
    "        if not self.is_empty():\n",
    "            self.front = (self.front + 1) % self.size # move front pointer so it points to the 1st element\n",
    "            return self.queue[self.front] \n",
    "        else:\n",
    "            raise IndexError('Queue is empty.')\n",
    "    \n",
    "    def is_empty(self):\n",
    "        return self.front == self.rear\n",
    "    \n",
    "    def is_full(self):\n",
    "        return (self.rear + 1) % self.size == self.front # the front pointer points to an empty position when the queue is full, to differentiate from empty"
   ]
  },
  {
   "cell_type": "code",
   "execution_count": 14,
   "metadata": {},
   "outputs": [
    {
     "name": "stdout",
     "output_type": "stream",
     "text": [
      "0, 1, 2, 3, 4, 5, 6, 7, 8, "
     ]
    }
   ],
   "source": [
    "\"\"\"attention: the elements allowed in a queue is size - 1\"\"\"\n",
    "q = Queue(10)\n",
    "for i in range(10):\n",
    "    q.push(i)\n",
    "    \n",
    "while not q.is_empty():\n",
    "    print(q.pop(), end=', ')"
   ]
  }
 ],
 "metadata": {
  "kernelspec": {
   "display_name": "Python 3",
   "language": "python",
   "name": "python3"
  },
  "language_info": {
   "codemirror_mode": {
    "name": "ipython",
    "version": 3
   },
   "file_extension": ".py",
   "mimetype": "text/x-python",
   "name": "python",
   "nbconvert_exporter": "python",
   "pygments_lexer": "ipython3",
   "version": "3.8.3"
  }
 },
 "nbformat": 4,
 "nbformat_minor": 4
}
