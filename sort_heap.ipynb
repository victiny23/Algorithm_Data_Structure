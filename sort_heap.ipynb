{
 "cells": [
  {
   "cell_type": "code",
   "execution_count": 9,
   "metadata": {},
   "outputs": [],
   "source": [
    "# heap descending from top to bottom\n",
    "def sift(li, low, high):\n",
    "    \"\"\"\n",
    "    :param li: a list \n",
    "    :param low: the root node of the heap\n",
    "    :param high: the position of the last element on the heap\n",
    "    \"\"\"\n",
    "    i = low # i point to the root node\n",
    "    j = 2 *i + 1 # j begins as the bleft child\n",
    "    tmp = li[low] # store the heap top\n",
    "    while j <= high: # as long as there is a number at j\n",
    "        if j+1 <= high and li[j] < li[j+1]: # if there is a right child, and the right child is greater tha the left child, \n",
    "            j += 1 # let j point to the right child\n",
    "        if tmp < li[j]: # if the value of heap top is samller than the child node (the greater child)\n",
    "            li[i] = li[j] # move the value at the child node up\n",
    "            i = j # i moves to the next layer\n",
    "            j = 2*i + 1 # find the new child node(j) of the new parent node(i)\n",
    "        else: # if the value of the heap top is greater than the child, take the parent position \n",
    "            li[i] = tmp\n",
    "            break\n",
    "    # if j is out of bounds, put value of heap top at the end\n",
    "    li[i] = tmp"
   ]
  },
  {
   "cell_type": "code",
   "execution_count": 16,
   "metadata": {},
   "outputs": [],
   "source": [
    "def heap_sort(li):\n",
    "    n =len(li)\n",
    "    # 1: build the heap\n",
    "    for i in range(n//2-1, -1, -1): # the last node is n-1, the last parent node is (n-1-1)//2 = (n//2-1), bottom-up from the last baprent node to the heap top\n",
    "        sift(li, i, n-1) # sift the sub-heap\n",
    "    print(li)\n",
    "    # 2: output the number:\n",
    "    for i in range(n-1, -1, -1): # i point to the last node\n",
    "        li[0], li[i] = li[i], li[0]\n",
    "        # operate to gurantte the li[n-i] is a heap\n",
    "        sift(li, 0, i-1) # i is the new high, as i is the newly outputed number\n",
    "    \"\"\"because we first output the top (largest element) from the heap and store it at the end of the list, it returns a ascending list\"\"\""
   ]
  },
  {
   "cell_type": "code",
   "execution_count": 24,
   "metadata": {},
   "outputs": [
    {
     "name": "stdout",
     "output_type": "stream",
     "text": [
      "[88, 3, 78, 39, 57, 60, 90, 72, 63, 52, 79, 13, 69, 36, 95, 93, 83, 5, 81, 21, 89, 80, 82, 61, 65, 71, 18, 12, 59, 23, 29, 58, 1, 9, 10, 41, 87, 43, 73, 35, 0, 84, 32, 99, 27, 68, 26, 46, 77, 74, 47, 40, 8, 91, 51, 97, 2, 24, 33, 85, 14, 49, 86, 16, 54, 94, 55, 37, 6, 19, 96, 42, 50, 15, 56, 28, 76, 70, 64, 38, 48, 75, 25, 53, 45, 62, 98, 20, 30, 22, 34, 67, 31, 92, 4, 11, 66, 17, 44, 7]\n"
     ]
    }
   ],
   "source": [
    "import random\n",
    "li = [i for i in range(100)]\n",
    "random.shuffle(li)\n",
    "print(li)"
   ]
  },
  {
   "cell_type": "code",
   "execution_count": 15,
   "metadata": {},
   "outputs": [
    {
     "name": "stdout",
     "output_type": "stream",
     "text": [
      "[99, 9, 91, 27, 79, 61, 44, 86, 89, 54, 73, 25, 69, 66, 94, 14, 10, 28, 97, 57, 67, 85, 34, 35, 64, 40, 49, 93, 80, 95, 37, 43, 3, 38, 87, 22, 16, 23, 76, 11, 68, 50, 17, 6, 77, 15, 92, 7, 59, 4, 39, 62, 70, 90, 46, 24, 41, 75, 1, 96, 56, 30, 32, 33, 88, 65, 2, 52, 58, 74, 98, 21, 5, 84, 13, 8, 36, 82, 12, 26, 19, 72, 83, 20, 71, 18, 60, 48, 63, 0, 47, 45, 31, 51, 55, 29, 53, 78, 81, 42]\n",
      "[99, 98, 96, 97, 92, 90, 95, 88, 89, 83, 85, 81, 70, 93, 94, 65, 87, 84, 82, 72, 71, 79, 73, 78, 64, 62, 69, 66, 80, 91, 37, 43, 27, 58, 86, 22, 28, 36, 76, 26, 68, 67, 60, 63, 77, 45, 55, 53, 59, 42, 39, 61, 40, 49, 46, 24, 41, 75, 1, 44, 56, 30, 32, 33, 14, 3, 2, 52, 38, 74, 10, 21, 5, 16, 13, 8, 23, 9, 12, 11, 19, 57, 54, 20, 50, 18, 17, 48, 6, 0, 47, 15, 31, 51, 34, 29, 7, 35, 25, 4]\n",
      "[0, 1, 2, 3, 4, 5, 6, 7, 8, 9, 10, 11, 12, 13, 14, 15, 16, 17, 18, 19, 20, 21, 22, 23, 24, 25, 26, 27, 28, 29, 30, 31, 32, 33, 34, 35, 36, 37, 38, 39, 40, 41, 42, 43, 44, 45, 46, 47, 48, 49, 50, 51, 52, 53, 54, 55, 56, 57, 58, 59, 60, 61, 62, 63, 64, 65, 66, 67, 68, 69, 70, 71, 72, 73, 74, 75, 76, 77, 78, 79, 80, 81, 82, 83, 84, 85, 86, 87, 88, 89, 90, 91, 92, 93, 94, 95, 96, 97, 98, 99]\n"
     ]
    }
   ],
   "source": [
    "# heap_sort\n",
    "random.shuffle(li)\n",
    "print(li)\n",
    "heap_sort(li)\n",
    "print(li)"
   ]
  },
  {
   "cell_type": "code",
   "execution_count": 25,
   "metadata": {},
   "outputs": [
    {
     "name": "stdout",
     "output_type": "stream",
     "text": [
      "[20, 83, 11, 67, 51, 53, 80, 82, 93, 27, 74, 75, 29, 68, 10, 5, 61, 91, 41, 38, 35, 48, 19, 31, 63, 1, 6, 9, 37, 65, 95, 23, 52, 8, 85, 77, 32, 15, 84, 59, 43, 58, 39, 33, 71, 40, 17, 55, 69, 87, 16, 30, 99, 46, 36, 7, 25, 26, 54, 88, 18, 86, 60, 57, 79, 22, 96, 50, 98, 0, 3, 14, 70, 90, 94, 81, 12, 34, 28, 76, 72, 42, 62, 2, 13, 21, 45, 78, 49, 73, 92, 64, 97, 24, 47, 44, 4, 56, 89, 66]\n",
      "[0, 2, 1, 3, 13, 4, 7, 5, 12, 20, 17, 11, 6, 9, 10, 22, 8, 14, 15, 38, 21, 33, 19, 31, 16, 29, 36, 25, 26, 18, 60, 23, 52, 50, 61, 70, 32, 41, 28, 59, 42, 27, 39, 48, 71, 40, 24, 44, 56, 66, 63, 30, 99, 46, 53, 68, 80, 37, 54, 88, 65, 86, 95, 57, 79, 83, 96, 67, 98, 85, 82, 77, 91, 90, 94, 81, 93, 34, 84, 76, 72, 43, 62, 58, 35, 51, 45, 78, 49, 73, 92, 64, 97, 74, 47, 75, 55, 69, 89, 87]\n"
     ]
    }
   ],
   "source": [
    "\"\"\"package heapq for heap_sort\"\"\"\n",
    "import heapq\n",
    "random.shuffle(li)\n",
    "print(li)\n",
    "# bulid the heap, ascending heap \n",
    "heapq.heapify(li)\n",
    "print(li)"
   ]
  },
  {
   "cell_type": "code",
   "execution_count": 26,
   "metadata": {},
   "outputs": [
    {
     "name": "stdout",
     "output_type": "stream",
     "text": [
      "0, 1, 2, 3, 4, 5, 6, 7, 8, 9, 10, 11, 12, 13, 14, 15, 16, 17, 18, 19, 20, 21, 22, 23, 24, 25, 26, 27, 28, 29, 30, 31, 32, 33, 34, 35, 36, 37, 38, 39, 40, 41, 42, 43, 44, 45, 46, 47, 48, 49, 50, 51, 52, 53, 54, 55, 56, 57, 58, 59, 60, 61, 62, 63, 64, 65, 66, 67, 68, 69, 70, 71, 72, 73, 74, 75, 76, 77, 78, 79, 80, 81, 82, 83, 84, 85, 86, 87, 88, 89, 90, 91, 92, 93, 94, 95, 96, 97, 98, 99, "
     ]
    }
   ],
   "source": [
    "# sort with heappop\n",
    "#random.shuffle(li)\n",
    "#print(li)\n",
    "for i  in range(len(li)):\n",
    "    print(heapq.heappop(li), end=', ')"
   ]
  }
 ],
 "metadata": {
  "kernelspec": {
   "display_name": "Python 3",
   "language": "python",
   "name": "python3"
  },
  "language_info": {
   "codemirror_mode": {
    "name": "ipython",
    "version": 3
   },
   "file_extension": ".py",
   "mimetype": "text/x-python",
   "name": "python",
   "nbconvert_exporter": "python",
   "pygments_lexer": "ipython3",
   "version": "3.8.3"
  }
 },
 "nbformat": 4,
 "nbformat_minor": 4
}
