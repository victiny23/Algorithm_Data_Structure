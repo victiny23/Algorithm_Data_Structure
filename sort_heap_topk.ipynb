{
 "cells": [
  {
   "cell_type": "code",
   "execution_count": 9,
   "metadata": {},
   "outputs": [],
   "source": [
    "def sift(li, low, high):\n",
    "    i = low\n",
    "    j = 2 * i + 1\n",
    "    tmp = li[low]\n",
    "    while j <= high:\n",
    "        if j+1 <= high and li[j] > li[j+1]:\n",
    "            j += 1\n",
    "        if tmp > li[j]:\n",
    "            li[i] = li[j]\n",
    "            i = j\n",
    "            j = 2 * i + 1\n",
    "        else:\n",
    "            li[i] = tmp\n",
    "            break\n",
    "    li[i] = tmp"
   ]
  },
  {
   "cell_type": "code",
   "execution_count": 2,
   "metadata": {},
   "outputs": [],
   "source": [
    "def heap_sort(li):\n",
    "    n = len(li)\n",
    "    for i in range(n//2-1, -1, -1):\n",
    "        sift(li, i, n-1)\n",
    "    for i in range(n-1, -1, -1):\n",
    "        li[0], li[i] = li[i], li[0]\n",
    "        sift(li, 0, i-1)"
   ]
  },
  {
   "cell_type": "code",
   "execution_count": 10,
   "metadata": {},
   "outputs": [
    {
     "name": "stdout",
     "output_type": "stream",
     "text": [
      "[9, 98, 43, 45, 8, 35, 63, 81, 4, 74, 44, 91, 51, 21, 58, 53, 80, 93, 90, 5, 79, 99, 73, 88, 1, 40, 16, 26, 3, 55, 96, 28, 47, 69, 68, 78, 87, 19, 6, 7, 76, 54, 11, 39, 56, 27, 30, 95, 72, 32, 60, 25, 92, 65, 48, 34, 61, 62, 23, 64, 49, 67, 2, 83, 94, 85, 70, 77, 14, 46, 37, 89, 84, 75, 15, 0, 59, 66, 17, 97, 52, 10, 71, 13, 20, 36, 33, 12, 86, 38, 41, 24, 29, 82, 42, 22, 50, 31, 18, 57]\n",
      "[0, 4, 1, 6, 5, 16, 2, 14, 9, 7, 12, 18, 25, 3, 49, 28, 37, 15, 17, 8, 11, 38, 24, 22, 32, 40, 48, 26, 21, 55, 58, 53, 47, 69, 46, 78, 75, 19, 45, 52, 10, 13, 33, 39, 41, 27, 30, 35, 31, 57, 60, 43, 92, 65, 51, 34, 61, 62, 23, 64, 63, 67, 96, 83, 94, 85, 70, 77, 80, 81, 68, 89, 84, 93, 87, 90, 59, 66, 98, 97, 74, 76, 71, 54, 20, 36, 79, 99, 86, 56, 44, 73, 29, 82, 42, 95, 50, 88, 72, 91]\n",
      "[99, 98, 97, 96, 95, 94, 93, 92, 91, 90, 89, 88, 87, 86, 85, 84, 83, 82, 81, 80, 79, 78, 77, 76, 75, 74, 73, 72, 71, 70, 69, 68, 67, 66, 65, 64, 63, 62, 61, 60, 59, 58, 57, 56, 55, 54, 53, 52, 51, 50, 49, 48, 47, 46, 45, 44, 43, 42, 41, 40, 39, 38, 37, 36, 35, 34, 33, 32, 31, 30, 29, 28, 27, 26, 25, 24, 23, 22, 21, 20, 19, 18, 17, 16, 15, 14, 13, 12, 11, 10, 9, 8, 7, 6, 5, 4, 3, 2, 1, 0]\n"
     ]
    }
   ],
   "source": [
    "# test the heap_sort function\n",
    "import random\n",
    "li = [i for i in range(100)]\n",
    "random.shuffle(li)\n",
    "print(li)\n",
    "heap_sort(li)\n",
    "print(li)"
   ]
  },
  {
   "cell_type": "code",
   "execution_count": 48,
   "metadata": {},
   "outputs": [],
   "source": [
    "\"\"\"top k problem\"\"\"\n",
    "def topk(li, k):\n",
    "    n =len(li)\n",
    "    window = li[:k]\n",
    "    # 1. build the heap\n",
    "    for i in range(k//2-1, -1, -1):\n",
    "        sift(window, i, k-1)\n",
    "    # 2. traversal\n",
    "    for i  in range(k, n):\n",
    "        if li[i] > window[0]:\n",
    "            window[0] = li[i]\n",
    "            sift(window, 0, k-1)\n",
    "    # 3. output\n",
    "    for i in range(k-1, -1, -1):\n",
    "        window[0], window[i] = window[i], window[0]\n",
    "        sift(window, 0, i-1)\n",
    "    return window"
   ]
  },
  {
   "cell_type": "code",
   "execution_count": 49,
   "metadata": {},
   "outputs": [
    {
     "name": "stdout",
     "output_type": "stream",
     "text": [
      "[0, 1, 2, 3, 4, 5, 6, 7, 8, 9, 10, 11, 12, 13, 14, 15, 16, 17, 18, 19, 20, 21, 22, 23, 24, 25, 26, 27, 28, 29, 30, 31, 32, 33, 34, 35, 36, 37, 38, 39, 40, 41, 42, 43, 44, 45, 46, 47, 48, 49, 50, 51, 52, 53, 54, 55, 56, 57, 58, 59, 60, 61, 62, 63, 64, 65, 66, 67, 68, 69, 70, 71, 72, 73, 74, 75, 76, 77, 78, 79, 80, 81, 82, 83, 84, 85, 86, 87, 88, 89, 90, 91, 92, 93, 94, 95, 96, 97, 98, 99]\n"
     ]
    },
    {
     "data": {
      "text/plain": [
       "[99, 98, 97, 96, 95, 94, 93, 92, 91, 90]"
      ]
     },
     "execution_count": 49,
     "metadata": {},
     "output_type": "execute_result"
    }
   ],
   "source": [
    "random.shuffle(li)\n",
    "li.sort()\n",
    "print(li)\n",
    "topk(li, 10)"
   ]
  }
 ],
 "metadata": {
  "kernelspec": {
   "display_name": "Python 3",
   "language": "python",
   "name": "python3"
  },
  "language_info": {
   "codemirror_mode": {
    "name": "ipython",
    "version": 3
   },
   "file_extension": ".py",
   "mimetype": "text/x-python",
   "name": "python",
   "nbconvert_exporter": "python",
   "pygments_lexer": "ipython3",
   "version": "3.8.3"
  }
 },
 "nbformat": 4,
 "nbformat_minor": 4
}
