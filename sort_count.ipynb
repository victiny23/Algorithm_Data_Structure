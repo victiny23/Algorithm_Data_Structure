{
 "cells": [
  {
   "cell_type": "code",
   "execution_count": 125,
   "metadata": {},
   "outputs": [],
   "source": [
    "def count_sort(li, max_count=200):\n",
    "    count = [0 for _ in range(max_count+1)]\n",
    "    for v in li:\n",
    "        count[v] += 1\n",
    "    li.clear()\n",
    "    for i, val in enumerate(count):\n",
    "        for j in range(val):\n",
    "            li.append(i)"
   ]
  },
  {
   "cell_type": "code",
   "execution_count": 74,
   "metadata": {},
   "outputs": [
    {
     "name": "stdout",
     "output_type": "stream",
     "text": [
      "[3, 9, 4, 5, 6, 9, 4, 9, 9, 7]\n"
     ]
    }
   ],
   "source": [
    "import random\n",
    "li = [random.randint(0,10) for i in range(10)]\n",
    "print(li)"
   ]
  },
  {
   "cell_type": "code",
   "execution_count": 108,
   "metadata": {},
   "outputs": [],
   "source": [
    "\"\"\"finding the median using count sort\"\"\"\n",
    "def count_sort1(li):\n",
    "    count = [0 for _ in range(11)]\n",
    "    for v in li:\n",
    "        count[v] += 1\n",
    "    return count\n",
    "\n",
    "def count_med(count, li_len):\n",
    "    cnt = 0\n",
    "    if li_len%2 == 1:\n",
    "        for i, v in enumerate(count):\n",
    "            for j in range(v):\n",
    "                # print(cnt)\n",
    "                if cnt < li_len//2:\n",
    "                    cnt += 1    \n",
    "                else:\n",
    "                    return i\n",
    "    else:\n",
    "        cnt1, cnt2 = 0, -1\n",
    "        for i, v in enumerate(count):\n",
    "            for j in range(v):\n",
    "                if cnt1 < li_len//2:\n",
    "                    cnt1 += 1\n",
    "                    cnt2 += 1\n",
    "                if cnt2 <  li_len//2 and cnt1 == li_len//2:\n",
    "                    m1 = i\n",
    "                    cnt2 += 1\n",
    "                    continue\n",
    "                if cnt2 == li_len//2:\n",
    "                    m2 = i\n",
    "                    print(m1, m2)\n",
    "                    return (m1+m2)/2        "
   ]
  },
  {
   "cell_type": "code",
   "execution_count": 105,
   "metadata": {},
   "outputs": [
    {
     "name": "stdout",
     "output_type": "stream",
     "text": [
      "[3, 4, 4, 5, 6, 7, 9, 9, 9, 9]\n"
     ]
    }
   ],
   "source": [
    "li = count_sort(li)\n",
    "print(li)"
   ]
  },
  {
   "cell_type": "code",
   "execution_count": 109,
   "metadata": {},
   "outputs": [
    {
     "name": "stdout",
     "output_type": "stream",
     "text": [
      "[5, 9, 9, 4, 7, 3, 9, 4, 9, 6]\n",
      "[0, 0, 0, 1, 2, 1, 1, 1, 0, 4, 0]\n"
     ]
    }
   ],
   "source": [
    "random.shuffle(li)\n",
    "print(li)\n",
    "lic = count_sort1(li)\n",
    "print(lic)"
   ]
  },
  {
   "cell_type": "code",
   "execution_count": 112,
   "metadata": {},
   "outputs": [
    {
     "name": "stdout",
     "output_type": "stream",
     "text": [
      "3 4\n"
     ]
    },
    {
     "data": {
      "text/plain": [
       "3.5"
      ]
     },
     "execution_count": 112,
     "metadata": {},
     "output_type": "execute_result"
    }
   ],
   "source": [
    "lic = count_sort1([1,2,3,4,5,6])\n",
    "count_med(lic, 6)"
   ]
  }
 ],
 "metadata": {
  "kernelspec": {
   "display_name": "Python 3",
   "language": "python",
   "name": "python3"
  },
  "language_info": {
   "codemirror_mode": {
    "name": "ipython",
    "version": 3
   },
   "file_extension": ".py",
   "mimetype": "text/x-python",
   "name": "python",
   "nbconvert_exporter": "python",
   "pygments_lexer": "ipython3",
   "version": "3.8.3"
  }
 },
 "nbformat": 4,
 "nbformat_minor": 4
}
