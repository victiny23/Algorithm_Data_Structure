{
 "cells": [
  {
   "cell_type": "code",
   "execution_count": 9,
   "metadata": {},
   "outputs": [
    {
     "data": {
      "text/plain": [
       "[0, 0, 0, 0, 0, 0, 0, 0, 0, 0]"
      ]
     },
     "execution_count": 9,
     "metadata": {},
     "output_type": "execute_result"
    }
   ],
   "source": [
    "a = [0]*10\n",
    "a"
   ]
  },
  {
   "cell_type": "code",
   "execution_count": 28,
   "metadata": {},
   "outputs": [],
   "source": [
    "arr = [1, 2, 2, 4, 1, 2, 4]"
   ]
  },
  {
   "cell_type": "code",
   "execution_count": 35,
   "metadata": {},
   "outputs": [],
   "source": [
    "def countTriplets(arr, r):\n",
    "        count = 0\n",
    "        dict = {}\n",
    "        dictPairs = {}\n",
    "\n",
    "        for i in reversed(arr):\n",
    "                if i*r in dictPairs:\n",
    "                        count += dictPairs[i*r]\n",
    "                if i*r in dict:\n",
    "                        dictPairs[i] = dictPairs.get(i, 0) + dict[i*r]\n",
    "\n",
    "                dict[i] = dict.get(i, 0) + 1\n",
    "                print('dict',dict)\n",
    "                print('dictPairs', dictPairs)\n",
    "        \n",
    "        return count"
   ]
  },
  {
   "cell_type": "code",
   "execution_count": 36,
   "metadata": {},
   "outputs": [
    {
     "name": "stdout",
     "output_type": "stream",
     "text": [
      "dict {4: 1}\n",
      "dictPairs {}\n",
      "dict {4: 1, 2: 1}\n",
      "dictPairs {2: 1}\n",
      "dict {4: 1, 2: 1, 1: 1}\n",
      "dictPairs {2: 1, 1: 1}\n",
      "dict {4: 2, 2: 1, 1: 1}\n",
      "dictPairs {2: 1, 1: 1}\n",
      "dict {4: 2, 2: 2, 1: 1}\n",
      "dictPairs {2: 3, 1: 1}\n",
      "dict {4: 2, 2: 3, 1: 1}\n",
      "dictPairs {2: 5, 1: 1}\n",
      "dict {4: 2, 2: 3, 1: 2}\n",
      "dictPairs {2: 5, 1: 4}\n"
     ]
    },
    {
     "data": {
      "text/plain": [
       "6"
      ]
     },
     "execution_count": 36,
     "metadata": {},
     "output_type": "execute_result"
    }
   ],
   "source": [
    "countTriplets(arr, 2)"
   ]
  },
  {
   "cell_type": "code",
   "execution_count": 58,
   "metadata": {},
   "outputs": [],
   "source": [
    "from collections import defaultdict\n",
    "lookup = dict()\n",
    "freqs = defaultdict(set)\n",
    "value = 10    "
   ]
  },
  {
   "cell_type": "code",
   "execution_count": 52,
   "metadata": {},
   "outputs": [
    {
     "data": {
      "text/plain": [
       "{}"
      ]
     },
     "execution_count": 52,
     "metadata": {},
     "output_type": "execute_result"
    }
   ],
   "source": [
    "lookup"
   ]
  },
  {
   "cell_type": "code",
   "execution_count": 59,
   "metadata": {},
   "outputs": [
    {
     "data": {
      "text/plain": [
       "defaultdict(set, {})"
      ]
     },
     "execution_count": 59,
     "metadata": {},
     "output_type": "execute_result"
    }
   ],
   "source": [
    "freqs"
   ]
  },
  {
   "cell_type": "code",
   "execution_count": 60,
   "metadata": {},
   "outputs": [
    {
     "data": {
      "text/plain": [
       "0"
      ]
     },
     "execution_count": 60,
     "metadata": {},
     "output_type": "execute_result"
    }
   ],
   "source": [
    "freq = lookup.get(value, 0)\n",
    "freq"
   ]
  },
  {
   "cell_type": "code",
   "execution_count": 61,
   "metadata": {},
   "outputs": [
    {
     "data": {
      "text/plain": [
       "defaultdict(set, {0: set()})"
      ]
     },
     "execution_count": 61,
     "metadata": {},
     "output_type": "execute_result"
    }
   ],
   "source": [
    "freqs[freq].discard(value)\n",
    "freqs"
   ]
  },
  {
   "cell_type": "code",
   "execution_count": 63,
   "metadata": {},
   "outputs": [
    {
     "data": {
      "text/plain": [
       "defaultdict(set, {0: set(), 1: {10}})"
      ]
     },
     "execution_count": 63,
     "metadata": {},
     "output_type": "execute_result"
    }
   ],
   "source": [
    "freqs[freq + 1].add(value)\n",
    "freqs"
   ]
  },
  {
   "cell_type": "code",
   "execution_count": 64,
   "metadata": {},
   "outputs": [
    {
     "data": {
      "text/plain": [
       "0"
      ]
     },
     "execution_count": 64,
     "metadata": {},
     "output_type": "execute_result"
    }
   ],
   "source": [
    "value = 20\n",
    "freq = lookup.get(value, 0)\n",
    "freq"
   ]
  },
  {
   "cell_type": "code",
   "execution_count": 65,
   "metadata": {},
   "outputs": [
    {
     "data": {
      "text/plain": [
       "defaultdict(set, {0: set(), 1: {10}})"
      ]
     },
     "execution_count": 65,
     "metadata": {},
     "output_type": "execute_result"
    }
   ],
   "source": [
    "freqs[freq].discard(value)\n",
    "freqs"
   ]
  },
  {
   "cell_type": "code",
   "execution_count": 66,
   "metadata": {},
   "outputs": [
    {
     "data": {
      "text/plain": [
       "defaultdict(set, {0: set(), 1: {10, 20}})"
      ]
     },
     "execution_count": 66,
     "metadata": {},
     "output_type": "execute_result"
    }
   ],
   "source": [
    "freqs[freq + 1].add(value)\n",
    "freqs"
   ]
  },
  {
   "cell_type": "code",
   "execution_count": 67,
   "metadata": {},
   "outputs": [
    {
     "data": {
      "text/plain": [
       "0"
      ]
     },
     "execution_count": 67,
     "metadata": {},
     "output_type": "execute_result"
    }
   ],
   "source": [
    "value = 10\n",
    "freq = lookup.get(value, 0)\n",
    "freq"
   ]
  },
  {
   "cell_type": "code",
   "execution_count": null,
   "metadata": {},
   "outputs": [],
   "source": [
    "def freqQuery(queries):\n",
    "    dic = {}\n",
    "    type3 = []\n",
    "    for row in queries:\n",
    "        if row[0] == 1:\n",
    "            dic[row[1]] = dic.get(row[1], 0) + 1\n",
    "            # print(dic)\n",
    "        elif row[0] == 2:\n",
    "            dic[row[1]] = dic.get(row[1], 0) - 1\n",
    "            if dic[row[1]] < 1:\n",
    "                del dic[row[1]]\n",
    "        else:\n",
    "            # print(dic)\n",
    "            if row[1] in dic.values():\n",
    "                type3.append(1)\n",
    "            else:\n",
    "                type3.append(0)\n",
    "    return type3"
   ]
  }
 ],
 "metadata": {
  "kernelspec": {
   "display_name": "Python 3",
   "language": "python",
   "name": "python3"
  },
  "language_info": {
   "codemirror_mode": {
    "name": "ipython",
    "version": 3
   },
   "file_extension": ".py",
   "mimetype": "text/x-python",
   "name": "python",
   "nbconvert_exporter": "python",
   "pygments_lexer": "ipython3",
   "version": "3.8.3"
  }
 },
 "nbformat": 4,
 "nbformat_minor": 4
}
