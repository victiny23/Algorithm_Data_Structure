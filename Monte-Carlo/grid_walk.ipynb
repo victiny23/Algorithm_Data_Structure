{
 "cells": [
  {
   "cell_type": "markdown",
   "metadata": {},
   "source": [
    "Monte-Carlo \t \t \n",
    "Try again\n",
    "Brilli the ant is trying to get from point AA to point BB in a grid. The coordinates of point AA is (1,1)(1,1) (this is top left corner), and the coordinates of point BB is (n,n)(n,n) (this is bottom right corner, nn is the size of the grid).\n",
    "\n",
    "Once Brilli starts moving, there are four options, it can go left, right, up or down (no diagonal movement allowed). If any of these four options satisfy the following:\n",
    "\n",
    "The new point should still be within the boundaries of the n \\times nn×n grid\n",
    "The new point should not be visited previously.\n",
    "If PP is the probability of Brilli the ant reaching point BB for a 6 \\times 66×6 grid, use Monte Carlo simulation to compute PP. Pick the answer closest to PP in value."
   ]
  },
  {
   "cell_type": "code",
   "execution_count": null,
   "metadata": {},
   "outputs": [],
   "source": [
    "import random\n",
    "cnt = 0\n",
    "for i in range(10000):\n",
    "    grid = [[0] * 6 for i in range(6)]\n",
    "    grid[0][0] = 1\n",
    "    x, y = 0, 0\n",
    "    open = True\n",
    "    while 0 <= x < 6 and 0 <= y < 6 and open:\n",
    "        available = []\n",
    "        if x - 1 >= 0 and not grid[x-1][y]:\n",
    "            available.append((x-1, y))\n",
    "        if x + 1 < 6 and not grid[x+1][y]:\n",
    "            available.append((x+1, y))\n",
    "        if y - 1 >= 0 and not grid[x][y-1]:\n",
    "            available.append((x, y-1))\n",
    "        if y + 1 < 6 and not grid[x][y+1]:\n",
    "            available.append((x, y+1))\n",
    "        if not available:\n",
    "            open = False\n",
    "            break\n",
    "#         if len(available) == 1:\n",
    "#             num = 0\n",
    "#         else:\n",
    "        num = random.randint(0, len(available)-1)\n",
    "#         print('available:', available)\n",
    "#         print(x)\n",
    "        x = available[num][0]\n",
    "        y = available[num][1]\n",
    "        grid[available[num][0]][available[num][1]] = 1\n",
    "#         print(grid)\n",
    "        if grid[5][5] == 1:\n",
    "            cnt += 1\n",
    "            break\n",
    "print(cnt)    "
   ]
  }
 ],
 "metadata": {
  "kernelspec": {
   "display_name": "Python 3",
   "language": "python",
   "name": "python3"
  },
  "language_info": {
   "codemirror_mode": {
    "name": "ipython",
    "version": 3
   },
   "file_extension": ".py",
   "mimetype": "text/x-python",
   "name": "python",
   "nbconvert_exporter": "python",
   "pygments_lexer": "ipython3",
   "version": "3.8.3"
  }
 },
 "nbformat": 4,
 "nbformat_minor": 4
}
