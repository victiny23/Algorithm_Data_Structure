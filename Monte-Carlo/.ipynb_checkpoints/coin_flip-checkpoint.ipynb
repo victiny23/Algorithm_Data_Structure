{
 "cells": [
  {
   "cell_type": "markdown",
   "metadata": {},
   "source": [
    "Monte-Carlo \t \t \n",
    "\n",
    "Write a function that uses a Monte Carlo simulation to find the probability of a run of 4 consecutive tails out of ten flips of a fair coin, and then returns that probability.\n",
    "\n",
    "What is the first number after the decimal point of the output value?\n",
    "\n",
    "Details and Assumptions\n",
    "\n",
    "Assume that 10,000 trials are sufficient to provide an accurate answer."
   ]
  },
  {
   "cell_type": "code",
   "execution_count": 3,
   "metadata": {},
   "outputs": [
    {
     "name": "stdout",
     "output_type": "stream",
     "text": [
      "2527\n"
     ]
    }
   ],
   "source": [
    "import random\n",
    "\n",
    "cnt = 0\n",
    "\n",
    "for i in range(10000):\n",
    "    res = [random.randint(0,1) for _ in range(10)]\n",
    "    for j in range(7):\n",
    "        if not res[j] and not res[j+1] and not res[j+2] and not res[j+3]:\n",
    "            cnt += 1\n",
    "            break\n",
    "print(cnt)"
   ]
  }
 ],
 "metadata": {
  "kernelspec": {
   "display_name": "Python 3",
   "language": "python",
   "name": "python3"
  },
  "language_info": {
   "codemirror_mode": {
    "name": "ipython",
    "version": 3
   },
   "file_extension": ".py",
   "mimetype": "text/x-python",
   "name": "python",
   "nbconvert_exporter": "python",
   "pygments_lexer": "ipython3",
   "version": "3.8.3"
  }
 },
 "nbformat": 4,
 "nbformat_minor": 4
}
