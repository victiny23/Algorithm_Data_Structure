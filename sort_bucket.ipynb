{
 "cells": [
  {
   "cell_type": "code",
   "execution_count": 12,
   "metadata": {},
   "outputs": [],
   "source": [
    "def bucket_sort(li, n=100, max_num=10000):\n",
    "    buckets = [[]for _ in range(n)] # create n buckets\n",
    "    for val in li:\n",
    "        i = min(val // (max_num//n), n-1) # i for where val goes, max_num to the last bucket\n",
    "        buckets[i].append(val) # send val to ith bucket\n",
    "        # keep values within bucket in order\n",
    "        for j in range(len(buckets[i])-1, 0, -1): \n",
    "            if buckets[i][j] < buckets[i][j-1]:\n",
    "                buckets[i][j], buckets[i][j-1] = buckets[i][j-1], buckets[i][j]\n",
    "            else:\n",
    "                break\n",
    "    sorted_li = []\n",
    "#     # This ends with list in list, including empty list when there is empty bucket     \n",
    "#     for bucket in buckets:\n",
    "#         sorted_li.append(bucket)\n",
    "\n",
    "#     # use\n",
    "#     for bucket in buckets:\n",
    "#         for ele in bucket:\n",
    "#             sorted_li.append(ele)\n",
    "            \n",
    "    # or\n",
    "    for bucket in buckets:\n",
    "        sorted_li.extend(bucket)\n",
    "\n",
    "            \n",
    "    return sorted_li"
   ]
  },
  {
   "cell_type": "code",
   "execution_count": 13,
   "metadata": {},
   "outputs": [
    {
     "name": "stdout",
     "output_type": "stream",
     "text": [
      "[8190, 2354, 8993, 6178, 7520, 9649, 2916, 2105, 6126, 3065, 9040, 5156, 2262, 2293, 309, 7536, 7925, 3448, 7995, 9216, 8038, 8074, 1545, 6291, 7551, 6179, 6661, 9251, 7473, 679, 1889, 6726, 6486, 5232, 1306, 6811, 8667, 9237, 3116, 5755, 3524, 6328, 1324, 4098, 6730, 7527, 368, 5245, 6733, 9560, 6279, 5266, 7587, 3502, 3166, 3948, 8036, 8848, 7170, 7411, 1114, 6917, 4901, 5954, 4163, 3987, 8821, 113, 4701, 7693, 8788, 5996, 1058, 7143, 7116, 7930, 9147, 1347, 104, 2196, 789, 8419, 29, 1368, 2544, 1016, 9919, 4689, 1066, 4253, 2132, 1115, 119, 5891, 605, 3329, 5951, 7138, 9237, 3076]\n",
      "[29, 104, 113, 119, 309, 368, 605, 679, 789, 1016, 1058, 1066, 1114, 1115, 1306, 1324, 1347, 1368, 1545, 1889, 2105, 2132, 2196, 2262, 2293, 2354, 2544, 2916, 3065, 3076, 3116, 3166, 3329, 3448, 3502, 3524, 3948, 3987, 4098, 4163, 4253, 4689, 4701, 4901, 5156, 5232, 5245, 5266, 5755, 5891, 5951, 5954, 5996, 6126, 6178, 6179, 6279, 6291, 6328, 6486, 6661, 6726, 6730, 6733, 6811, 6917, 7116, 7138, 7143, 7170, 7411, 7473, 7520, 7527, 7536, 7551, 7587, 7693, 7925, 7930, 7995, 8036, 8038, 8074, 8190, 8419, 8667, 8788, 8821, 8848, 8993, 9040, 9147, 9216, 9237, 9237, 9251, 9560, 9649, 9919]\n"
     ]
    }
   ],
   "source": [
    "import random\n",
    "li = [random.randint(0, 10000) for i in range(100)]\n",
    "print(li)\n",
    "li = bucket_sort(li)\n",
    "print(li)"
   ]
  }
 ],
 "metadata": {
  "kernelspec": {
   "display_name": "Python 3",
   "language": "python",
   "name": "python3"
  },
  "language_info": {
   "codemirror_mode": {
    "name": "ipython",
    "version": 3
   },
   "file_extension": ".py",
   "mimetype": "text/x-python",
   "name": "python",
   "nbconvert_exporter": "python",
   "pygments_lexer": "ipython3",
   "version": "3.8.3"
  }
 },
 "nbformat": 4,
 "nbformat_minor": 4
}
