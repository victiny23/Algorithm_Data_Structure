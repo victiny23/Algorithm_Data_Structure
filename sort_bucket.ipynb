{
 "cells": [
  {
   "cell_type": "code",
   "execution_count": 10,
   "metadata": {},
   "outputs": [],
   "source": [
    "def bucket_sort(li, n=100, max_num=10000):\n",
    "    buckets = [[]for _ in range(n)] # create n buckets\n",
    "    for val in li:\n",
    "        i = min(val // (max_num//n), n-1) # i for where val goes, max_num to the last bucket\n",
    "        buckets[i].append(val) # send val to ith bucket\n",
    "        # keep values within bucket in order\n",
    "        for j in range(len(buckets[i])-1, 0, -1): \n",
    "            if buckets[i][j] < buckets[i][j-1]:\n",
    "                buckets[i][j], buckets[i][j-1] = buckets[i][j-1], buckets[i][j]\n",
    "            else:\n",
    "                break\n",
    "    sorted_li = []\n",
    "    for bucket in buckets:\n",
    "        for ele in bucket:\n",
    "            sorted_li.append(ele)\n",
    "\n",
    "#     This ends with list in list, including empty list when there is empty bucket     \n",
    "#     for bucket in buckets:\n",
    "#         sorted_li.append(bucket)\n",
    "            \n",
    "    return sorted_li"
   ]
  },
  {
   "cell_type": "code",
   "execution_count": 11,
   "metadata": {},
   "outputs": [
    {
     "name": "stdout",
     "output_type": "stream",
     "text": [
      "[318, 3325, 8882, 6396, 5208, 6891, 924, 7611, 4083, 9378, 68, 4646, 1595, 7050, 5918, 7527, 6019, 5205, 5361, 6316, 1685, 5361, 985, 6832, 269, 5962, 9960, 6534, 5925, 6255, 9143, 3058, 8329, 8469, 9113, 5592, 3302, 2683, 9434, 1694, 6760, 3734, 4756, 3805, 5368, 3127, 1278, 2691, 5850, 6288, 6545, 2417, 9107, 4411, 2368, 4914, 5975, 3593, 1344, 1322, 3355, 6692, 2487, 3882, 5950, 5362, 7627, 1510, 4054, 9379, 267, 8308, 4267, 5266, 5633, 19, 7669, 5592, 1359, 3083, 8947, 7663, 6498, 7609, 6103, 5414, 5270, 8554, 6410, 8302, 8735, 1578, 6704, 9077, 5547, 4524, 4550, 3177, 9587, 7621]\n",
      "[19, 68, 267, 269, 318, 924, 985, 1278, 1322, 1344, 1359, 1510, 1578, 1595, 1685, 1694, 2368, 2417, 2487, 2683, 2691, 3058, 3083, 3127, 3177, 3302, 3325, 3355, 3593, 3734, 3805, 3882, 4054, 4083, 4267, 4411, 4524, 4550, 4646, 4756, 4914, 5205, 5208, 5266, 5270, 5361, 5361, 5362, 5368, 5414, 5547, 5592, 5592, 5633, 5850, 5918, 5925, 5950, 5962, 5975, 6019, 6103, 6255, 6288, 6316, 6396, 6410, 6498, 6534, 6545, 6692, 6704, 6760, 6832, 6891, 7050, 7527, 7609, 7611, 7621, 7627, 7663, 7669, 8302, 8308, 8329, 8469, 8554, 8735, 8882, 8947, 9077, 9107, 9113, 9143, 9378, 9379, 9434, 9587, 9960]\n"
     ]
    }
   ],
   "source": [
    "import random\n",
    "li = [random.randint(0, 10000) for i in range(100)]\n",
    "print(li)\n",
    "li = bucket_sort(li)\n",
    "print(li)"
   ]
  }
 ],
 "metadata": {
  "kernelspec": {
   "display_name": "Python 3",
   "language": "python",
   "name": "python3"
  },
  "language_info": {
   "codemirror_mode": {
    "name": "ipython",
    "version": 3
   },
   "file_extension": ".py",
   "mimetype": "text/x-python",
   "name": "python",
   "nbconvert_exporter": "python",
   "pygments_lexer": "ipython3",
   "version": "3.8.3"
  }
 },
 "nbformat": 4,
 "nbformat_minor": 4
}
