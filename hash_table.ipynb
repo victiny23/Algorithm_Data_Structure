{
 "cells": [
  {
   "cell_type": "code",
   "execution_count": 18,
   "metadata": {},
   "outputs": [],
   "source": [
    "class LinkList:\n",
    "    class Node:\n",
    "        def __init__(self, item=None):\n",
    "            self.item = item\n",
    "            self.next = None\n",
    "    \n",
    "    # return the current node and point to the next node\n",
    "    class LinkListIterator: \n",
    "        def __init__(self, node):\n",
    "            self.node = node\n",
    "        def __next__(self):\n",
    "            if self.node:\n",
    "                cur_node = self.node\n",
    "                self.node = cur_node.next\n",
    "                return cur_node.item\n",
    "            else:\n",
    "                raise StopIteration\n",
    "        def __iter__(self):\n",
    "            return self\n",
    "    \n",
    "    def __init__(self, iterable=None):\n",
    "        self.head = None\n",
    "        self.tail = None\n",
    "        if iterable:\n",
    "            self.extend(iterable)\n",
    "            \n",
    "    def append(self, obj):\n",
    "        s = LinkList.Node(obj)\n",
    "        if not self.head:\n",
    "            self.head = s\n",
    "            self.tail = s\n",
    "        else:\n",
    "            self.tail.next = s\n",
    "            self.tail = s\n",
    "    \n",
    "    def extend(self, iterable):\n",
    "        for obj in iterabel:\n",
    "            self.append(obj)\n",
    "    \n",
    "    def find(self, obj):\n",
    "        for n in self:\n",
    "            if n == obj:\n",
    "                return True\n",
    "        return False\n",
    "    \n",
    "    def __iter__(self):\n",
    "        return self.LinkListIterator(self.head)\n",
    "    \n",
    "    def __repr__(self):\n",
    "        return \"<<\" + \", \".join(map(str, self)) + \">>\""
   ]
  },
  {
   "cell_type": "code",
   "execution_count": null,
   "metadata": {},
   "outputs": [],
   "source": [
    "class HashTable:\n",
    "    def __init__(self, size=101):\n",
    "        self.size = size\n",
    "        self.T = [LinkList() for i in range(self.size)] # create an empty linked list for each location allocated\n",
    "        \n",
    "    # hash function\n",
    "    def h(self, k):\n",
    "        return k % self.size # use mod to map k to a key / location in the table\n",
    "    \n",
    "    def insert(self, k):\n",
    "        i = self.h(k)\n",
    "        if self.find(k):\n",
    "            print('Duplicated insertion')\n",
    "        else:\n",
    "            self.T[i].append(k)\n",
    "            \n",
    "    def find(self, k):\n",
    "        i = self.h(k)\n",
    "        return self.T[i].find(k)"
   ]
  },
  {
   "cell_type": "code",
   "execution_count": 19,
   "metadata": {},
   "outputs": [
    {
     "name": "stdout",
     "output_type": "stream",
     "text": [
      "<<0>>, <<1, 102>>, <<>>, <<3>>, <<>>, <<>>, <<>>, <<>>, <<>>, <<>>, <<>>, <<>>, <<>>, <<>>, <<>>, <<>>, <<>>, <<>>, <<>>, <<>>, <<>>, <<>>, <<>>, <<>>, <<>>, <<>>, <<>>, <<>>, <<>>, <<>>, <<>>, <<>>, <<>>, <<>>, <<>>, <<>>, <<>>, <<>>, <<>>, <<>>, <<>>, <<>>, <<>>, <<>>, <<>>, <<>>, <<>>, <<>>, <<>>, <<>>, <<>>, <<>>, <<>>, <<>>, <<>>, <<>>, <<>>, <<>>, <<>>, <<>>, <<>>, <<>>, <<>>, <<>>, <<>>, <<>>, <<>>, <<>>, <<>>, <<>>, <<>>, <<>>, <<>>, <<>>, <<>>, <<>>, <<>>, <<>>, <<>>, <<>>, <<>>, <<>>, <<>>, <<>>, <<>>, <<>>, <<>>, <<>>, <<>>, <<>>, <<>>, <<>>, <<>>, <<>>, <<>>, <<>>, <<>>, <<>>, <<>>, <<>>, <<>>\n"
     ]
    }
   ],
   "source": [
    "ht =HashTable()\n",
    "ht.insert(0)\n",
    "ht.insert(1)\n",
    "ht.insert(3)\n",
    "ht.insert(102)\n",
    "print(', '.join(map(str, ht.T)))"
   ]
  },
  {
   "cell_type": "code",
   "execution_count": 20,
   "metadata": {},
   "outputs": [
    {
     "name": "stdout",
     "output_type": "stream",
     "text": [
      "True\n",
      "True\n",
      "False\n"
     ]
    }
   ],
   "source": [
    "print(ht.find(102))\n",
    "print(ht.find(3))\n",
    "print(ht.find(5))"
   ]
  },
  {
   "cell_type": "code",
   "execution_count": 21,
   "metadata": {},
   "outputs": [
    {
     "data": {
      "text/plain": [
       "<<1, 102>>"
      ]
     },
     "execution_count": 21,
     "metadata": {},
     "output_type": "execute_result"
    }
   ],
   "source": [
    "ht.T[1]"
   ]
  },
  {
   "cell_type": "code",
   "execution_count": 22,
   "metadata": {},
   "outputs": [
    {
     "data": {
      "text/plain": [
       "True"
      ]
     },
     "execution_count": 22,
     "metadata": {},
     "output_type": "execute_result"
    }
   ],
   "source": [
    "ht.T[1].find(102)"
   ]
  }
 ],
 "metadata": {
  "kernelspec": {
   "display_name": "Python 3",
   "language": "python",
   "name": "python3"
  },
  "language_info": {
   "codemirror_mode": {
    "name": "ipython",
    "version": 3
   },
   "file_extension": ".py",
   "mimetype": "text/x-python",
   "name": "python",
   "nbconvert_exporter": "python",
   "pygments_lexer": "ipython3",
   "version": "3.8.3"
  }
 },
 "nbformat": 4,
 "nbformat_minor": 4
}
