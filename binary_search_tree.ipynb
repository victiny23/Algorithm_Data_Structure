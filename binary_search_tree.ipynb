{
 "cells": [
  {
   "cell_type": "code",
   "execution_count": 2,
   "metadata": {},
   "outputs": [],
   "source": [
    "class BiTreeNode:\n",
    "    def __init__(self, data):\n",
    "        self.data = data\n",
    "        self.lchild = None # left child\n",
    "        self.rchild = None # right child\n",
    "        self.parent = None # parent"
   ]
  },
  {
   "cell_type": "code",
   "execution_count": 3,
   "metadata": {},
   "outputs": [],
   "source": [
    "from collections import deque"
   ]
  },
  {
   "cell_type": "code",
   "execution_count": 22,
   "metadata": {},
   "outputs": [],
   "source": [
    "class BST:\n",
    "    # initialize by inserting elements if an array is given\n",
    "    def __init__(self, li=None):\n",
    "        self.root = None\n",
    "        if li:\n",
    "            for val in li:\n",
    "                self.insert_no_rec(val)\n",
    "    \n",
    "    # insertion\n",
    "    def insert(self, node, val):\n",
    "        if not node: # node is None -> insert a node\n",
    "            node = BiTreeNode(val)\n",
    "        elif val < node.data:\n",
    "            node.lchild = self.insert(no.lchild, val)  # with successful insertion (when node.lchild is None) -> new node created as node.lchild\n",
    "            node.lchild.parent = node\n",
    "        elif val > node.data:\n",
    "            node.rchild = self.insert(node.rchild, val) # with successful insertion (when node.rchild is None) -> new node created as node.rchild\n",
    "            node.rchild.parent = node\n",
    "        return node\n",
    "    \n",
    "    def insert_no_rec(self, val):\n",
    "        p = self.root\n",
    "        if not p: # p is None -> insert a node\n",
    "            self.root = BiTreeNode(val)\n",
    "            return\n",
    "        while True:\n",
    "            if val < p.data:\n",
    "                if p.lchild: # left child exists -> p points to the next layer\n",
    "                    p = p.lchild\n",
    "                else: # left child does not exist -> find the position to insert\n",
    "                    p.lchild = BiTreeNode(val)\n",
    "                    p.lchild.parent = p\n",
    "                    return\n",
    "            elif val > p.data:\n",
    "                if p.rchild: # right child exists -> p points to the next layer\n",
    "                    p = p.rchild\n",
    "                else: # right child does not exist -> find the position to insert\n",
    "                    p.rchild = BiTreeNode(val)\n",
    "                    p.rchild.parent = p\n",
    "                    return\n",
    "            else:\n",
    "                return\n",
    "            \n",
    "    def pre_order(self, root):\n",
    "        if root:\n",
    "            print(root.data, end=', ')\n",
    "            self.pre_order(root.lchild)\n",
    "            self.pre_order(root.rchild)\n",
    "                \n",
    "    def in_order(self, root):\n",
    "        if root:\n",
    "            self.in_order(root.lchild)\n",
    "            print(root.data, end=', ')\n",
    "            self.in_order(root.rchild)\n",
    "                \n",
    "    def post_order(self, root):\n",
    "        if root:\n",
    "            self.post_order(root.lchild)\n",
    "            self.post_order(root.rchild)\n",
    "            print(root.data, end=', ')\n",
    "            \n",
    "    def list_in_order(self, root):\n",
    "        if not root:\n",
    "            return []\n",
    "        else:\n",
    "            left = self.list_in_order(root.lchild)\n",
    "            right = self.list_in_order(root.rchild)\n",
    "            return left + [root.data] + right\n",
    "                \n",
    "    def level_order(self, root):\n",
    "        queue = deque()\n",
    "        queue.append(root)\n",
    "        while len(queue):\n",
    "            node = queue.popleft()\n",
    "            print(node.data, end=', ')\n",
    "            if node.lchild:\n",
    "                queue.append(node.lchild)\n",
    "            if node.rchild:\n",
    "                queue.append(node.rchild)\n",
    "                \n",
    "    # query            \n",
    "    def query(self, node, val):\n",
    "        if not node: # tree is now empty\n",
    "            return None\n",
    "        elif val < node.data:\n",
    "            return self.query(node.lchild, val)\n",
    "        elif val > node.data:\n",
    "            return self.query(node.rchild, val)\n",
    "        else:\n",
    "            return node\n",
    "        \n",
    "    def query_no_rec(self, val):\n",
    "        p = self.root # p points to the root\n",
    "        while p:\n",
    "            if val < p.data:\n",
    "                p = p.lchild # p points to the sub_tree with left child as root for query\n",
    "            elif val > p.data:\n",
    "                p = p.rchild # p points to the sub_tree with right child as root for query\n",
    "            else:\n",
    "                return p\n",
    "        return None # p is None -> current sub_tree is empty -> val not found\n",
    "    \n",
    "    # deletion\n",
    "    # the node to delete has no child\n",
    "    def __remove_node_no_child(self,node):\n",
    "        if not node.parent: # node is the root\n",
    "            self.root = None\n",
    "        elif node == node.parent.lchild: # node is the left child\n",
    "            node.parent.lchild = None\n",
    "        else: # node is the right child \n",
    "            node.parent.rchild = None\n",
    "    \n",
    "    # the node to delete has only left child\n",
    "    def __remove_node_only_lchild(self, node):\n",
    "        if not node.parent: # node is the root\n",
    "            self.root = node.lchild\n",
    "            node.lchild.parent = None\n",
    "        elif node == node.parent.lchild: # node is the left child\n",
    "            node.parent.lchild = node.lchild\n",
    "            node.lchild.parent = node.parent\n",
    "        else: # node is the right child\n",
    "            node.parent.rchild = node.lchild\n",
    "            node.lchild.parent = node.parent\n",
    "            \n",
    "    # the node to delete has only right child\n",
    "    def __remove_node_only_rchild(self, node):\n",
    "        if not node.parent: # node is the root\n",
    "            self.root = node.rchild\n",
    "            node.rchild.parent = None\n",
    "        elif node == node.parent.lchild: # node is the left child\n",
    "            node.parent.lchild = node.rchild\n",
    "            node.rchild.parent = node.parent\n",
    "        else: # node is the right child\n",
    "            node.parent.rchild = node.rchild\n",
    "            node.rchild.parent = node.parent\n",
    "    \n",
    "    # query -> find the node to delete + delete\n",
    "    def delete(self, val):\n",
    "        if self.root: # the tree is not empty\n",
    "            node = self.query_no_rec(val)\n",
    "            if not node: # the value is not found\n",
    "                return False\n",
    "            # the node with the value given is found\n",
    "            if not node.lchild and not node.rchild: # the node has no child\n",
    "                self.__remove_node_no_child(node)\n",
    "            elif not node.rchild: # node only has left child\n",
    "                self.__remove_node_only_lchild(node)\n",
    "            elif not node.lchild: # node only has right child\n",
    "                self.__remove_node_only_rchild(node)\n",
    "            else: # node has both lchild and rchild\n",
    "                min_node = node.rchild\n",
    "                while min_node.lchild:\n",
    "                    min_node = min_node.lchild # find the minimum of the right sub_tree, now min_node has no left child\n",
    "                node.data = min_node.data # replace the value of the node with the minimum of the right sub_tree\n",
    "                # remove the min node\n",
    "                if min_node.rchild: # min_node only has right child\n",
    "                    self.__remove_node_only_rchild(min_node)\n",
    "                else: # min_node has no child\n",
    "                    self.__remove_node_no_child(min_node)\n",
    "                    \n",
    "    def get_height(self, root):\n",
    "        if not root:\n",
    "            return 0\n",
    "        else:\n",
    "            if not root.lchild and not root.rchild: # leaf node\n",
    "                return 1\n",
    "            elif not root.rchild: # no right child\n",
    "                return 1 + self.get_height(root.lchild)\n",
    "            elif not root.lchild: # no left child\n",
    "                return 1 + self.get_height(root.rchild)\n",
    "            else:\n",
    "                return 1 + max(self.get_height(root.lchild), self.get_height(root.rchild))\n",
    "            \n",
    "    def get_height_no_rec(self):\n",
    "        root = self.root\n",
    "        if not root:\n",
    "            return 0\n",
    "        else:\n",
    "            queue = deque()\n",
    "            queue.append(root)\n",
    "            height = 0\n",
    "            while len(queue):\n",
    "                height += 1\n",
    "                level_size = len(queue)\n",
    "                for i in range(level_size):\n",
    "                    node = queue.popleft()\n",
    "                    if node.lchild:\n",
    "                        queue.append(node.lchild)\n",
    "                    if node.rchild:\n",
    "                        queue.append(node.rchild)\n",
    "            return height\n",
    "   \n",
    "    # find the lowest common ancestor\n",
    "    def lca(self, node, v1, v2):\n",
    "        p = node\n",
    "        if v1 == p.data or v2 == p.data:\n",
    "            return p\n",
    "        if v1 < v2:\n",
    "            if v1 < p.data and v2 > p.data:\n",
    "                return p\n",
    "            elif v1 > p.data:\n",
    "                return self.lca(p.rchild, v1, v2)\n",
    "            else:\n",
    "                return self.lca(p.lchild, v1, v2)\n",
    "        else:\n",
    "            return self.lca(node, v2, v1)  \n",
    "        \n",
    "    def lca2(self, node, v1, v2):\n",
    "        p = node\n",
    "        if v1 < p.data and v2 < p.data:\n",
    "            return self.lca2(p.lchild, v1, v2)\n",
    "        elif v1 > p.data and v2 > p.data:\n",
    "            return self.lca2(p.rchild, v1, v2)\n",
    "        else:\n",
    "            return p\n",
    "        \n",
    "    # check if a binary tree is a binary search tree\n",
    "    def check_bst(self, node):\n",
    "        lo = [] # a list to store results of in-order traversal\n",
    "        def _io(node, lo):\n",
    "            if node:\n",
    "                _io(node.lchild, lo)\n",
    "                lo.append(node.data)\n",
    "                _io(node.rchild, lo)\n",
    "        _io(node, lo)\n",
    "        print(lo)\n",
    "        \n",
    "        for i in range(1, len(lo)):\n",
    "            if lo[i] <= lo[i-1]:\n",
    "                return False\n",
    "        return True           \n",
    "    \n",
    "    # find the kth largest node\n",
    "    def k_largest(self, root, k):\n",
    "        li = self.list_in_order(root)\n",
    "        return li[-k]\n",
    "    # with early exit, save time from irrelevant recursion\n",
    "    def k_largest_ee(self, root, k):\n",
    "        def _in_order(root):\n",
    "            if not root:\n",
    "                return\n",
    "            _in_order(root.rchild)   \n",
    "            self.k -= 1\n",
    "            if self.k == 0:\n",
    "                self.res = root.data\n",
    "                return\n",
    "            _in_order(root.lchild)\n",
    "        \n",
    "        self.k = k\n",
    "        _in_order(root)\n",
    "        return self.res"
   ]
  },
  {
   "cell_type": "code",
   "execution_count": 30,
   "metadata": {},
   "outputs": [],
   "source": [
    "# check if a list of different numbers could be an output from post_order travesal of a BST\n",
    "def verifyPostorder(postorder):\n",
    "        \"\"\"\n",
    "        :type postorder: List[int]\n",
    "        :rtype: bool\n",
    "        \"\"\"\n",
    "        if not len(postorder):\n",
    "            return True\n",
    "        root = postorder.pop()\n",
    "        left = []\n",
    "        right = []\n",
    "        while len(postorder):\n",
    "            x = postorder[-1]\n",
    "            if x > root:\n",
    "                right.append(postorder.pop())\n",
    "            else:\n",
    "                break\n",
    "        right = right[::-1]\n",
    "        left = postorder\n",
    "        for val in left:\n",
    "            if val > root:\n",
    "                return False\n",
    "        return verifyPostorder(left) and verifyPostorder(right)"
   ]
  },
  {
   "cell_type": "code",
   "execution_count": 40,
   "metadata": {},
   "outputs": [
    {
     "name": "stdout",
     "output_type": "stream",
     "text": [
      "42, 31, 16, 3, 2, 1, 0, 9, 8, 4, 5, 6, 7, 14, 13, 10, 12, 11, 15, 18, 17, 19, 22, 20, 21, 27, 24, 23, 26, 25, 30, 28, 29, 33, 32, 37, 36, 35, 34, 39, 38, 41, 40, 64, 45, 43, 44, 56, 50, 46, 47, 49, 48, 52, 51, 55, 54, 53, 62, 58, 57, 61, 60, 59, 63, 87, 71, 66, 65, 70, 68, 67, 69, 73, 72, 86, 76, 75, 74, 82, 81, 79, 78, 77, 80, 83, 84, 85, 93, 89, 88, 90, 92, 91, 96, 94, 95, 98, 97, 99, \n",
      "0, 1, 2, 3, 4, 5, 6, 7, 8, 9, 10, 11, 12, 13, 14, 15, 16, 17, 18, 19, 20, 21, 22, 23, 24, 25, 26, 27, 28, 29, 30, 31, 32, 33, 34, 35, 36, 37, 38, 39, 40, 41, 42, 43, 44, 45, 46, 47, 48, 49, 50, 51, 52, 53, 54, 55, 56, 57, 58, 59, 60, 61, 62, 63, 64, 65, 66, 67, 68, 69, 70, 71, 72, 73, 74, 75, 76, 77, 78, 79, 80, 81, 82, 83, 84, 85, 86, 87, 88, 89, 90, 91, 92, 93, 94, 95, 96, 97, 98, 99, \n",
      "0, 1, 2, 7, 6, 5, 4, 8, 11, 12, 10, 13, 15, 14, 9, 3, 17, 21, 20, 23, 25, 26, 24, 29, 28, 30, 27, 22, 19, 18, 16, 32, 34, 35, 36, 38, 40, 41, 39, 37, 33, 31, 44, 43, 48, 49, 47, 46, 51, 53, 54, 55, 52, 50, 57, 59, 60, 61, 58, 63, 62, 56, 45, 65, 67, 69, 68, 70, 66, 72, 74, 75, 77, 78, 80, 79, 81, 85, 84, 83, 82, 76, 86, 73, 71, 88, 91, 92, 90, 89, 95, 94, 97, 99, 98, 96, 93, 87, 64, 42, \n",
      "42, 31, 64, 16, 33, 45, 87, 3, 18, 32, 37, 43, 56, 71, 93, 2, 9, 17, 19, 36, 39, 44, 50, 62, 66, 73, 89, 96, 1, 8, 14, 22, 35, 38, 41, 46, 52, 58, 63, 65, 70, 72, 86, 88, 90, 94, 98, 0, 4, 13, 15, 20, 27, 34, 40, 47, 51, 55, 57, 61, 68, 76, 92, 95, 97, 99, 5, 10, 21, 24, 30, 49, 54, 60, 67, 69, 75, 82, 91, 6, 12, 23, 26, 28, 48, 53, 59, 74, 81, 83, 7, 11, 25, 29, 79, 84, 78, 80, 85, 77, \n",
      "<__main__.BiTreeNode object at 0x10b974af0>\n",
      "42\n",
      "45\n"
     ]
    }
   ],
   "source": [
    "import random\n",
    "li = list(range(100))\n",
    "random.shuffle(li)\n",
    "\n",
    "# create a tree with li\n",
    "my_bstree = BST(li)\n",
    "\n",
    "# travesal\n",
    "my_bstree.pre_order(my_bstree.root)\n",
    "print('')\n",
    "\n",
    "\"\"\"travesal with in_order gives the tree with sorted value\"\"\"\n",
    "my_bstree.in_order(my_bstree.root)\n",
    "print('')\n",
    "\n",
    "my_bstree.post_order(my_bstree.root)\n",
    "print('')\n",
    "\n",
    "my_bstree.level_order(my_bstree.root)\n",
    "print('')\n",
    "\n",
    "print(my_bstree.root)\n",
    "print(my_bstree.root.data)\n",
    "print(my_bstree.root.rchild.lchild.data)"
   ]
  },
  {
   "cell_type": "code",
   "execution_count": 41,
   "metadata": {},
   "outputs": [
    {
     "data": {
      "text/plain": [
       "<__main__.BiTreeNode at 0x10b950b50>"
      ]
     },
     "execution_count": 41,
     "metadata": {},
     "output_type": "execute_result"
    }
   ],
   "source": [
    "my_bstree.query(my_bstree.root, 44)"
   ]
  },
  {
   "cell_type": "code",
   "execution_count": 43,
   "metadata": {},
   "outputs": [
    {
     "data": {
      "text/plain": [
       "<__main__.BiTreeNode at 0x10b9501f0>"
      ]
     },
     "execution_count": 43,
     "metadata": {},
     "output_type": "execute_result"
    }
   ],
   "source": [
    "my_bstree.query_no_rec(24)"
   ]
  },
  {
   "cell_type": "code",
   "execution_count": 45,
   "metadata": {},
   "outputs": [
    {
     "name": "stdout",
     "output_type": "stream",
     "text": [
      "None\n"
     ]
    }
   ],
   "source": [
    "print(my_bstree.query_no_rec(3.5))"
   ]
  },
  {
   "cell_type": "code",
   "execution_count": 53,
   "metadata": {},
   "outputs": [
    {
     "name": "stdout",
     "output_type": "stream",
     "text": [
      "1, 2, 3, 4, 5, 6, 7, 8, 9, \n",
      "1, 2, 4, 5, 6, 7, 8, 9, \n",
      "1, 2, 4, 5, 7, 8, 9, \n",
      "1, 2, 4, 5, 7, 8, 9, "
     ]
    }
   ],
   "source": [
    "tree = BST([1, 4, 3, 5, 2, 6, 9, 8, 7])\n",
    "tree.in_order(tree.root)\n",
    "print('')\n",
    "\n",
    "tree.delete(3)\n",
    "tree.in_order(tree.root)\n",
    "print('')\n",
    "\n",
    "tree.delete(6)\n",
    "tree.in_order(tree.root)\n",
    "print('')\n",
    "\n",
    "tree.delete(-1)\n",
    "tree.in_order(tree.root)"
   ]
  },
  {
   "cell_type": "code",
   "execution_count": 75,
   "metadata": {},
   "outputs": [
    {
     "name": "stdout",
     "output_type": "stream",
     "text": [
      "4\n",
      "4\n",
      "[98, 16, 70, 30, 62, 94, 81, 75, 32, 25, 15, 65, 99, 8, 31, 55, 85, 35, 17, 37, 67, 23, 43, 59, 36, 68, 42, 54, 74, 20, 58, 12, 53, 0, 64, 61, 78, 9, 18, 91, 41, 39, 69, 84, 56, 95, 52, 26, 45, 57, 63, 34, 50, 21, 10, 60, 93, 4, 27, 2, 48, 71, 40, 80, 44, 3, 46, 47, 51, 19, 86, 76, 77, 72, 97, 90, 24, 38, 49, 1, 83, 5, 66, 82, 13, 96, 7, 11, 79, 33, 14, 89, 22, 73, 92, 6, 28, 87, 29, 88]\n",
      "18\n",
      "18\n"
     ]
    }
   ],
   "source": [
    "tree = BST([3, 5, 2, 1, 4, 6, 7])\n",
    "print(tree.get_height(tree.root))\n",
    "print(tree.get_height_no_rec())\n",
    "\n",
    "li = list(range(100))\n",
    "random.shuffle(li)\n",
    "print(li)\n",
    "tree = BST(li)\n",
    "print(tree.get_height(tree.root))\n",
    "print(tree.get_height_no_rec())"
   ]
  },
  {
   "cell_type": "code",
   "execution_count": 95,
   "metadata": {},
   "outputs": [
    {
     "name": "stdout",
     "output_type": "stream",
     "text": [
      "3, 2, 5, 1, 4, 6, 0, 7, \n",
      "3\n",
      "5\n"
     ]
    }
   ],
   "source": [
    "tree = BST([3, 5, 2, 1, 4, 6, 7, 0])\n",
    "tree.level_order(tree.root)\n",
    "print('')\n",
    "print(tree.lca(tree.root, 0, 5).data)\n",
    "print(tree.lca2(tree.root, 6, 4).data)"
   ]
  },
  {
   "cell_type": "code",
   "execution_count": 5,
   "metadata": {},
   "outputs": [
    {
     "name": "stdout",
     "output_type": "stream",
     "text": [
      "[0, 1, 2, 3, 4, 5, 6, 7]\n"
     ]
    },
    {
     "data": {
      "text/plain": [
       "True"
      ]
     },
     "execution_count": 5,
     "metadata": {},
     "output_type": "execute_result"
    }
   ],
   "source": [
    "tree = BST([3, 5, 2, 1, 4, 6, 7, 0])\n",
    "tree.check_bst(tree.root)"
   ]
  },
  {
   "cell_type": "code",
   "execution_count": 25,
   "metadata": {},
   "outputs": [
    {
     "data": {
      "text/plain": [
       "6"
      ]
     },
     "execution_count": 25,
     "metadata": {},
     "output_type": "execute_result"
    }
   ],
   "source": [
    "tree = BST([3, 5, 2, 1, 4, 6, 7, 0])\n",
    "tree.k_largest(tree.root, 5)\n",
    "tree.k_largest_ee(tree.root, 2)"
   ]
  },
  {
   "cell_type": "code",
   "execution_count": 33,
   "metadata": {},
   "outputs": [
    {
     "data": {
      "text/plain": [
       "False"
      ]
     },
     "execution_count": 33,
     "metadata": {},
     "output_type": "execute_result"
    }
   ],
   "source": [
    "verifyPostorder([1, 3, 2, 6, 5])\n",
    "verifyPostorder([1, 6, 3, 2, 5])"
   ]
  }
 ],
 "metadata": {
  "kernelspec": {
   "display_name": "Python 3",
   "language": "python",
   "name": "python3"
  },
  "language_info": {
   "codemirror_mode": {
    "name": "ipython",
    "version": 3
   },
   "file_extension": ".py",
   "mimetype": "text/x-python",
   "name": "python",
   "nbconvert_exporter": "python",
   "pygments_lexer": "ipython3",
   "version": "3.8.3"
  }
 },
 "nbformat": 4,
 "nbformat_minor": 4
}
