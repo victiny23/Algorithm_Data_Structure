{
 "cells": [
  {
   "cell_type": "code",
   "execution_count": 8,
   "metadata": {},
   "outputs": [],
   "source": [
    "# requires extra space for a new list\n",
    "def select_sort_simple(list):\n",
    "    lnew = []\n",
    "    while len(list) > 0:  # or: for i in range(len(list)):\n",
    "        list_min = min(list)\n",
    "        lnew.append(list_min)\n",
    "        list.remove(list_min)\n",
    "        print(lnew)\n",
    "    return lnew"
   ]
  },
  {
   "cell_type": "code",
   "execution_count": 10,
   "metadata": {},
   "outputs": [
    {
     "name": "stdout",
     "output_type": "stream",
     "text": [
      "[9, 16, 14, 9, 12, 19, 12, 9, 8, 3]\n",
      "[3]\n",
      "[3, 8]\n",
      "[3, 8, 9]\n",
      "[3, 8, 9, 9]\n",
      "[3, 8, 9, 9, 9]\n",
      "[3, 8, 9, 9, 9, 12]\n",
      "[3, 8, 9, 9, 9, 12, 12]\n",
      "[3, 8, 9, 9, 9, 12, 12, 14]\n",
      "[3, 8, 9, 9, 9, 12, 12, 14, 16]\n",
      "[3, 8, 9, 9, 9, 12, 12, 14, 16, 19]\n"
     ]
    },
    {
     "data": {
      "text/plain": [
       "[3, 8, 9, 9, 9, 12, 12, 14, 16, 19]"
      ]
     },
     "execution_count": 10,
     "metadata": {},
     "output_type": "execute_result"
    }
   ],
   "source": [
    "import numpy as np\n",
    "np.random.seed(2)\n",
    "la = list(np.random.randint(1, 20, 10))\n",
    "print(la)\n",
    "select_sort_simple(la)"
   ]
  },
  {
   "cell_type": "code",
   "execution_count": 24,
   "metadata": {},
   "outputs": [],
   "source": [
    "# no extra space required\n",
    "def select_sort(list):\n",
    "    for i in range(len(list)-1): # ith round of selection\n",
    "        min_loc = i\n",
    "        # the list is devided into sorted and to_sort\n",
    "        # find the min in to_sort\n",
    "        # add min to the tail of sorted\n",
    "        # use the loc of the min to store the head of to_sort at the begining of this round\n",
    "        # len(sorted)+1, len(to_sort)-1 \n",
    "        for j in range(i+1, len(list)):\n",
    "            if list[j] < list[min_loc]:\n",
    "                min_loc = j\n",
    "        list[i], list[min_loc] = list[min_loc], list[i]\n",
    "        print(list)            "
   ]
  },
  {
   "cell_type": "code",
   "execution_count": 25,
   "metadata": {},
   "outputs": [
    {
     "name": "stdout",
     "output_type": "stream",
     "text": [
      "[9, 16, 14, 9, 12, 19, 12, 9, 8, 3]\n",
      "[3, 16, 14, 9, 12, 19, 12, 9, 8, 9]\n",
      "[3, 8, 14, 9, 12, 19, 12, 9, 16, 9]\n",
      "[3, 8, 9, 14, 12, 19, 12, 9, 16, 9]\n",
      "[3, 8, 9, 9, 12, 19, 12, 14, 16, 9]\n",
      "[3, 8, 9, 9, 9, 19, 12, 14, 16, 12]\n",
      "[3, 8, 9, 9, 9, 12, 19, 14, 16, 12]\n",
      "[3, 8, 9, 9, 9, 12, 12, 14, 16, 19]\n",
      "[3, 8, 9, 9, 9, 12, 12, 14, 16, 19]\n",
      "[3, 8, 9, 9, 9, 12, 12, 14, 16, 19]\n"
     ]
    }
   ],
   "source": [
    "np.random.seed(2)\n",
    "la = list(np.random.randint(1, 20, 10))\n",
    "print(la)\n",
    "select_sort(la)"
   ]
  }
 ],
 "metadata": {
  "kernelspec": {
   "display_name": "Python 3",
   "language": "python",
   "name": "python3"
  },
  "language_info": {
   "codemirror_mode": {
    "name": "ipython",
    "version": 3
   },
   "file_extension": ".py",
   "mimetype": "text/x-python",
   "name": "python",
   "nbconvert_exporter": "python",
   "pygments_lexer": "ipython3",
   "version": "3.8.3"
  }
 },
 "nbformat": 4,
 "nbformat_minor": 4
}
