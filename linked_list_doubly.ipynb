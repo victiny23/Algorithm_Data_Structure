{
 "cells": [
  {
   "cell_type": "code",
   "execution_count": 1,
   "metadata": {},
   "outputs": [],
   "source": [
    "class Node():\n",
    "    def __init__(self, item=None):\n",
    "        self.item = item\n",
    "        self.next = None\n",
    "        self.prior = None"
   ]
  },
  {
   "cell_type": "code",
   "execution_count": 2,
   "metadata": {},
   "outputs": [],
   "source": [
    "li = ['a', 'b', 'c', 'e', 'f']"
   ]
  },
  {
   "cell_type": "code",
   "execution_count": 3,
   "metadata": {},
   "outputs": [],
   "source": [
    "def create_d_linklist_head(li):\n",
    "    head = Node(li[0])\n",
    "    for element in li[1:]:\n",
    "        node = Node(element)\n",
    "        node.next = head\n",
    "        head.prior = node\n",
    "        head = node\n",
    "    return head"
   ]
  },
  {
   "cell_type": "code",
   "execution_count": 4,
   "metadata": {},
   "outputs": [],
   "source": [
    "def create_d_linklist_tail(li):\n",
    "    head = Node(li[0])\n",
    "    tail = head\n",
    "    for element in li[1:]:\n",
    "        node = Node(element)\n",
    "        tail.next = node\n",
    "        node.prior = tail\n",
    "        tail = node\n",
    "    return head"
   ]
  },
  {
   "cell_type": "code",
   "execution_count": 5,
   "metadata": {},
   "outputs": [],
   "source": [
    "# traverse of a linked list\n",
    "def print_linklist_forward(lk):\n",
    "    while lk:\n",
    "        print(lk.item, end=',')\n",
    "        lk = lk.next\n",
    "    print('\\n')"
   ]
  },
  {
   "cell_type": "code",
   "execution_count": 6,
   "metadata": {},
   "outputs": [],
   "source": [
    "# traverse of a linked list\n",
    "def print_linklist_backward(lk):\n",
    "    while lk.next:\n",
    "        lk = lk.next\n",
    "    while lk:\n",
    "        print(lk.item, end=',')\n",
    "        lk = lk.prior\n",
    "    print('\\n')"
   ]
  },
  {
   "cell_type": "code",
   "execution_count": 7,
   "metadata": {},
   "outputs": [
    {
     "name": "stdout",
     "output_type": "stream",
     "text": [
      "f,e,c,b,a,\n",
      "\n",
      "a,b,c,e,f,\n",
      "\n"
     ]
    }
   ],
   "source": [
    "lk_h = create_d_linklist_head(li)\n",
    "lk_t = create_d_linklist_tail(li)\n",
    "print_linklist_forward(lk_h)\n",
    "print_linklist_backward(lk_h)"
   ]
  },
  {
   "cell_type": "code",
   "execution_count": 8,
   "metadata": {},
   "outputs": [
    {
     "name": "stdout",
     "output_type": "stream",
     "text": [
      "a,b,c,e,f,\n",
      "\n",
      "f,e,c,b,a,\n",
      "\n"
     ]
    }
   ],
   "source": [
    "print_linklist_forward(lk_t)\n",
    "print_linklist_backward(lk_t)"
   ]
  },
  {
   "cell_type": "code",
   "execution_count": 16,
   "metadata": {},
   "outputs": [],
   "source": [
    "# reverse a linked list:\n",
    "def rev_d_linklist(h):\n",
    "    h2 = Node(h.item)\n",
    "    current = h.next\n",
    "    while current:\n",
    "        node = Node(current.item)\n",
    "        node.next = h2\n",
    "        h2.prior = node\n",
    "        h2 = node\n",
    "        current = current.next\n",
    "    return h2"
   ]
  },
  {
   "cell_type": "code",
   "execution_count": 17,
   "metadata": {},
   "outputs": [
    {
     "name": "stdout",
     "output_type": "stream",
     "text": [
      "f,e,c,b,a,\n",
      "\n",
      "a,b,c,e,f,\n",
      "\n"
     ]
    }
   ],
   "source": [
    "lk_h_r = rev_d_linklist(lk_h)\n",
    "print_linklist_forward(lk_h)\n",
    "print_linklist_forward(lk_h_r)"
   ]
  },
  {
   "cell_type": "code",
   "execution_count": 18,
   "metadata": {},
   "outputs": [],
   "source": [
    "def reverse(head): \n",
    "    prev = None\n",
    "    current = head\n",
    "    while current:\n",
    "        _next = current.next\n",
    "        current.next = prev\n",
    "        if prev:\n",
    "            prev.prior = current\n",
    "        prev = current\n",
    "        current = _next\n",
    "    return prev"
   ]
  },
  {
   "cell_type": "code",
   "execution_count": 20,
   "metadata": {},
   "outputs": [
    {
     "name": "stdout",
     "output_type": "stream",
     "text": [
      "a,b,c,e,f,\n",
      "\n",
      "f,e,c,b,a,\n",
      "\n"
     ]
    }
   ],
   "source": [
    "lk_t_r = rev_d_linklist(lk_t)\n",
    "print_linklist_forward(lk_t)\n",
    "print_linklist_forward(lk_t_r)"
   ]
  }
 ],
 "metadata": {
  "kernelspec": {
   "display_name": "Python 3",
   "language": "python",
   "name": "python3"
  },
  "language_info": {
   "codemirror_mode": {
    "name": "ipython",
    "version": 3
   },
   "file_extension": ".py",
   "mimetype": "text/x-python",
   "name": "python",
   "nbconvert_exporter": "python",
   "pygments_lexer": "ipython3",
   "version": "3.8.3"
  }
 },
 "nbformat": 4,
 "nbformat_minor": 4
}
