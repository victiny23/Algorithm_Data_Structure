{
 "cells": [
  {
   "cell_type": "code",
   "execution_count": 1,
   "metadata": {},
   "outputs": [],
   "source": [
    "class Stack:\n",
    "    def __init__(self):\n",
    "        self.stack = []\n",
    "        \n",
    "    def push(self, element):\n",
    "        self.stack.append(element)\n",
    "    \n",
    "    def pop(self):\n",
    "        if len(self.stack) > 0:\n",
    "            return self.stack.pop()\n",
    "        else:\n",
    "            return None\n",
    "    \n",
    "    def get_top(self):\n",
    "        if len(self.stack) > 0:\n",
    "            return self.stack[-1]\n",
    "        else:\n",
    "            return None\n",
    "        \n",
    "    def is_empty(self):\n",
    "        return len(self.stack) == 0"
   ]
  },
  {
   "cell_type": "code",
   "execution_count": 6,
   "metadata": {},
   "outputs": [],
   "source": [
    "def brack_match(s):\n",
    "    match = {'}':'{', ']':'[', ')':'('}\n",
    "    stack = Stack()\n",
    "    for ch in s:\n",
    "        if ch in {'{', '[', '('}:\n",
    "            stack.push(ch)\n",
    "        else:\n",
    "            if stack.is_empty():\n",
    "                return False\n",
    "            elif stack.get_top() == match[ch]:\n",
    "                stack.pop()\n",
    "            else:  # stack[-1] does not match ch\n",
    "                return False\n",
    "    if stack.is_empty():\n",
    "        return True\n",
    "    else:\n",
    "        return False"
   ]
  },
  {
   "cell_type": "code",
   "execution_count": 7,
   "metadata": {},
   "outputs": [
    {
     "name": "stdout",
     "output_type": "stream",
     "text": [
      "True\n",
      "False\n"
     ]
    }
   ],
   "source": [
    "print(brack_match('[{()}(){()}[]({}){}]'))\n",
    "print(brack_match('[{)]'))"
   ]
  }
 ],
 "metadata": {
  "kernelspec": {
   "display_name": "Python 3",
   "language": "python",
   "name": "python3"
  },
  "language_info": {
   "codemirror_mode": {
    "name": "ipython",
    "version": 3
   },
   "file_extension": ".py",
   "mimetype": "text/x-python",
   "name": "python",
   "nbconvert_exporter": "python",
   "pygments_lexer": "ipython3",
   "version": "3.8.3"
  }
 },
 "nbformat": 4,
 "nbformat_minor": 4
}
